{
 "cells": [
  {
   "cell_type": "markdown",
   "id": "4ef85f4d",
   "metadata": {},
   "source": [
    "# Assignemnt_7"
   ]
  },
  {
   "cell_type": "markdown",
   "id": "e1cd5d2a",
   "metadata": {},
   "source": [
    "Q1. **Write a Python Program to find sum of Array ?**"
   ]
  },
  {
   "cell_type": "code",
   "execution_count": 1,
   "id": "80009042",
   "metadata": {},
   "outputs": [],
   "source": [
    "arr=[1,2,3,4,9]\n",
    "def sumar(arr):\n",
    "    sum=0\n",
    "    for i in arr:\n",
    "        sum+=i\n",
    "    return sum"
   ]
  },
  {
   "cell_type": "code",
   "execution_count": 2,
   "id": "b4157d13",
   "metadata": {},
   "outputs": [
    {
     "data": {
      "text/plain": [
       "19"
      ]
     },
     "execution_count": 2,
     "metadata": {},
     "output_type": "execute_result"
    }
   ],
   "source": [
    "sumar(arr)"
   ]
  },
  {
   "cell_type": "code",
   "execution_count": 3,
   "id": "a754e72a",
   "metadata": {},
   "outputs": [
    {
     "data": {
      "text/plain": [
       "261"
      ]
     },
     "execution_count": 3,
     "metadata": {},
     "output_type": "execute_result"
    }
   ],
   "source": [
    "arr=[54,74,75,58]\n",
    "sumar(arr)"
   ]
  },
  {
   "cell_type": "markdown",
   "id": "1e3e02d4",
   "metadata": {},
   "source": [
    "Q2. Write a Python Program to find Largest element in an Array ?"
   ]
  },
  {
   "cell_type": "code",
   "execution_count": 4,
   "id": "c4dad2c6",
   "metadata": {},
   "outputs": [
    {
     "name": "stdout",
     "output_type": "stream",
     "text": [
      "89\n"
     ]
    }
   ],
   "source": [
    "arr = [10, 89, 9, 56, 4, 80, 8]\n",
    "\n",
    "maxi = arr[0]\n",
    "\n",
    "for i in range(len(arr)):\n",
    "    if arr[i] > maxi: maxi = arr[i]\n",
    "        \n",
    "print (maxi)"
   ]
  },
  {
   "cell_type": "markdown",
   "id": "935ab583",
   "metadata": {},
   "source": [
    "Q3. **Write a Python Program for array rotation ?**"
   ]
  },
  {
   "cell_type": "code",
   "execution_count": 5,
   "id": "afd71efc",
   "metadata": {},
   "outputs": [
    {
     "name": "stdout",
     "output_type": "stream",
     "text": [
      "Array after left rotation is:  [3, 4, 5, 6, 7, 1, 2]\n"
     ]
    }
   ],
   "source": [
    "def rotateArray(arr, n, d):\n",
    "    temp = []\n",
    "    i = 0\n",
    "    while (i < d):\n",
    "        temp.append(arr[i])\n",
    "        i = i + 1\n",
    "    i = 0\n",
    "    while (d < n):\n",
    "        arr[i] = arr[d]\n",
    "        i = i + 1\n",
    "        d = d + 1\n",
    "    arr[:] = arr[: i] + temp\n",
    "    return arr\n",
    " \n",
    "arr = [1, 2, 3, 4, 5, 6, 7]\n",
    "print(\"Array after left rotation is: \", end=' ')\n",
    "print(rotateArray(arr, len(arr), 2))"
   ]
  },
  {
   "cell_type": "markdown",
   "id": "978cdcea",
   "metadata": {},
   "source": [
    "Q4. **Write a Python Program to Split the array and add the first part to the end ?**"
   ]
  },
  {
   "cell_type": "code",
   "execution_count": 6,
   "id": "0221e654",
   "metadata": {},
   "outputs": [
    {
     "name": "stdout",
     "output_type": "stream",
     "text": [
      "15 16 50 36 15 40 "
     ]
    }
   ],
   "source": [
    "def SplitArray(arr, n, k):\n",
    "\tfor i in range(0, k):\n",
    "\t\tx = arr[0]\n",
    "\t\tfor j in range(0, n-1):\n",
    "\t\t\tarr[j] = arr[j + 1]\n",
    "\t\t\n",
    "\t\tarr[n-1] = x\t\t\n",
    "arr = [15, 40, 15, 16, 50, 36]\n",
    "n = len(arr)\n",
    "position = 2\n",
    "SplitArray(arr, n, position)\n",
    "for i in range(0, n):\n",
    "\tprint(arr[i], end = ' ')"
   ]
  },
  {
   "cell_type": "markdown",
   "id": "3abf097f",
   "metadata": {},
   "source": [
    "Q5.  **Write a Python Program to check if given array is Monotonic ?**"
   ]
  },
  {
   "cell_type": "code",
   "execution_count": 7,
   "id": "2b688aaa",
   "metadata": {},
   "outputs": [
    {
     "name": "stdout",
     "output_type": "stream",
     "text": [
      "Enter the Array: 12,13,45,2\n",
      "Array (12, 13, 45, 2) is Not Monotonic\n",
      "Enter the Array: 1,4,6,8,9\n",
      "Array (1, 4, 6, 8, 9) is Monotonic\n"
     ]
    }
   ],
   "source": [
    "def checkMonotonic():\n",
    "    in_arr = eval(input(\"Enter the Array: \"))\n",
    "    if(all(in_arr[i]<=in_arr[i+1] for i in range(len(in_arr)-1)) or all(in_arr[i]>=in_arr[i+1] for i in range(len(in_arr)-1))):\n",
    "        print(f'Array {in_arr} is Monotonic')\n",
    "    else:\n",
    "        print(f'Array {in_arr} is Not Monotonic')\n",
    "\n",
    "checkMonotonic()\n",
    "checkMonotonic()"
   ]
  },
  {
   "cell_type": "code",
   "execution_count": null,
   "id": "e321b86e",
   "metadata": {},
   "outputs": [],
   "source": []
  }
 ],
 "metadata": {
  "kernelspec": {
   "display_name": "Python 3 (ipykernel)",
   "language": "python",
   "name": "python3"
  },
  "language_info": {
   "codemirror_mode": {
    "name": "ipython",
    "version": 3
   },
   "file_extension": ".py",
   "mimetype": "text/x-python",
   "name": "python",
   "nbconvert_exporter": "python",
   "pygments_lexer": "ipython3",
   "version": "3.9.7"
  }
 },
 "nbformat": 4,
 "nbformat_minor": 5
}
