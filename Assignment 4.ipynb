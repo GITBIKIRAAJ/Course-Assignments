{
 "cells": [
  {
   "cell_type": "markdown",
   "id": "db253680",
   "metadata": {},
   "source": [
    "# Assignment 4 Solutions"
   ]
  },
  {
   "cell_type": "markdown",
   "id": "a1add8e0",
   "metadata": {},
   "source": [
    "Q.1- **What exactly is [ ]?**"
   ]
  },
  {
   "cell_type": "markdown",
   "id": "32a0f04e",
   "metadata": {},
   "source": [
    "Ans- The above bracket represents a empty list"
   ]
  },
  {
   "cell_type": "markdown",
   "id": "9c07defc",
   "metadata": {},
   "source": [
    "Q.2- **In a list of values stored in a variable called spam, how would you assign the value 'hello' as the third value? (Assume [2, 4, 6, 8, 10] are in spam.)**"
   ]
  },
  {
   "cell_type": "code",
   "execution_count": 3,
   "id": "b825c0d5",
   "metadata": {},
   "outputs": [
    {
     "name": "stdout",
     "output_type": "stream",
     "text": [
      "[2, 4, 6, 8, 10]\n",
      "[2, 4, 'hello', 8, 10]\n"
     ]
    }
   ],
   "source": [
    "spam= [2, 4, 6, 8, 10] \n",
    "print(spam)\n",
    "spam[2]='hello'\n",
    "print(spam)"
   ]
  },
  {
   "cell_type": "markdown",
   "id": "e9f9f73e",
   "metadata": {},
   "source": [
    "**Let&#39;s pretend the spam includes the list [&#39;a&#39;, &#39;b&#39;, &#39;c&#39;, &#39;d&#39;]**\n",
    "\n",
    "Q.3- **What is the value of spam[int(int('3'*2)/11)] ?**"
   ]
  },
  {
   "cell_type": "code",
   "execution_count": 4,
   "id": "ad18e3a5",
   "metadata": {},
   "outputs": [
    {
     "name": "stdout",
     "output_type": "stream",
     "text": [
      "d\n"
     ]
    }
   ],
   "source": [
    "spam=['a', 'b', 'c', 'd']\n",
    "#spam[int(int('3'*2)/11)]\n",
    "#int('3'*2)=int(33)\n",
    "#spam[int(33)/11]= 3\n",
    "print(spam[3])"
   ]
  },
  {
   "cell_type": "markdown",
   "id": "b57cf9d4",
   "metadata": {},
   "source": [
    "Q.4- **What is the value of spam[-1]?**"
   ]
  },
  {
   "cell_type": "code",
   "execution_count": 5,
   "id": "42aff32c",
   "metadata": {},
   "outputs": [
    {
     "data": {
      "text/plain": [
       "'d'"
      ]
     },
     "execution_count": 5,
     "metadata": {},
     "output_type": "execute_result"
    }
   ],
   "source": [
    "spam[-1]"
   ]
  },
  {
   "cell_type": "markdown",
   "id": "8ff13f8c",
   "metadata": {},
   "source": [
    "Q.5 - **What is the value of spam[:2]?**"
   ]
  },
  {
   "cell_type": "code",
   "execution_count": 6,
   "id": "f36ab66a",
   "metadata": {},
   "outputs": [
    {
     "data": {
      "text/plain": [
       "['a', 'b']"
      ]
     },
     "execution_count": 6,
     "metadata": {},
     "output_type": "execute_result"
    }
   ],
   "source": [
    "spam[:2]"
   ]
  },
  {
   "cell_type": "markdown",
   "id": "1682b6e4",
   "metadata": {},
   "source": [
    "**Let&#39;s pretend bacon has the list [3.14, &#39;cat,&#39; 11, &#39;cat,&#39; True] for the next three questions**"
   ]
  },
  {
   "cell_type": "code",
   "execution_count": 8,
   "id": "37920f33",
   "metadata": {},
   "outputs": [],
   "source": [
    "bacon= [3.14, 'cat', 11, 'cat', True]"
   ]
  },
  {
   "cell_type": "markdown",
   "id": "d544101b",
   "metadata": {},
   "source": [
    "Q.6- **What is the value of bacon.index('cat')?**"
   ]
  },
  {
   "cell_type": "code",
   "execution_count": 13,
   "id": "7f147e1a",
   "metadata": {},
   "outputs": [
    {
     "name": "stdout",
     "output_type": "stream",
     "text": [
      "index of cat in bacon is: 1\n"
     ]
    }
   ],
   "source": [
    "bacon.index('cat')\n",
    "print(f'index of cat in bacon is:',bacon.index('cat'))"
   ]
  },
  {
   "cell_type": "markdown",
   "id": "151220cc",
   "metadata": {},
   "source": [
    "Q.7- **How does bacon.append(99) change the look of the list value in bacon?**"
   ]
  },
  {
   "cell_type": "code",
   "execution_count": 16,
   "id": "8b44e015",
   "metadata": {},
   "outputs": [
    {
     "name": "stdout",
     "output_type": "stream",
     "text": [
      "[3.14, 'cat', 11, 'cat', True, 99, 99, 99]\n"
     ]
    }
   ],
   "source": [
    "bacon.append(99)\n",
    "print(bacon) #append 3 times"
   ]
  },
  {
   "cell_type": "markdown",
   "id": "4d819f32",
   "metadata": {},
   "source": [
    "Q.8- **How does bacon.remove('cat') change the look of the list in bacon?**"
   ]
  },
  {
   "cell_type": "code",
   "execution_count": 17,
   "id": "d2f0178f",
   "metadata": {},
   "outputs": [
    {
     "name": "stdout",
     "output_type": "stream",
     "text": [
      "[3.14, 11, 'cat', True, 99, 99, 99]\n"
     ]
    }
   ],
   "source": [
    "bacon.remove('cat')\n",
    "print(bacon)\n",
    "#index number 1 cat removed but index no.3 cat is there"
   ]
  },
  {
   "cell_type": "markdown",
   "id": "27316ba8",
   "metadata": {},
   "source": [
    "Q.9- **what are the list concatenation and list replication operations?**"
   ]
  },
  {
   "cell_type": "code",
   "execution_count": 21,
   "id": "7946ae79",
   "metadata": {},
   "outputs": [
    {
     "name": "stdout",
     "output_type": "stream",
     "text": [
      "concatenation is: [1, 2, 3, 'biki', 4, 5, 'raaj']\n",
      "replication :[1, 2, 3, 'biki', 1, 2, 3, 'biki']\n"
     ]
    }
   ],
   "source": [
    "l1=[1,2,3,'biki']\n",
    "l2=[4,5,'raaj']\n",
    "l=l1+l2   \n",
    "print(f'concatenation is: {l}')\n",
    "l3= l1*2\n",
    "print(f'replication :{l3}')"
   ]
  },
  {
   "cell_type": "markdown",
   "id": "545da27a",
   "metadata": {},
   "source": [
    "Q.10- **what is the difference between the list method append() and insert()?**"
   ]
  },
  {
   "cell_type": "markdown",
   "id": "35a5f012",
   "metadata": {},
   "source": [
    "**Answer:-**\n",
    "Append- Variable will add always at the end of list <br>\n",
    "insert -Varibale can be add as per index"
   ]
  },
  {
   "cell_type": "markdown",
   "id": "44ffbe6b",
   "metadata": {},
   "source": [
    "Q.11- **What are the two methods for removing items from a list?**"
   ]
  },
  {
   "cell_type": "markdown",
   "id": "12a35eb1",
   "metadata": {},
   "source": [
    "Answer- <br>\n",
    "1- list.remove       *(it remove elemenet value wise) <br>\n",
    "2- list.pop          *(it remove elemenet index wise)"
   ]
  },
  {
   "cell_type": "code",
   "execution_count": 22,
   "id": "a53f050a",
   "metadata": {},
   "outputs": [
    {
     "name": "stdout",
     "output_type": "stream",
     "text": [
      "[1, 3]\n"
     ]
    }
   ],
   "source": [
    "l1=[1,2,3,'biki']\n",
    "l1.remove('biki') # element 'biki' removed\n",
    "l1.pop(1) # index 1 is 2 removed\n",
    "print(l1)"
   ]
  },
  {
   "cell_type": "markdown",
   "id": "8488c2f8",
   "metadata": {},
   "source": [
    "Q.12- **Describe how list values and string values are identical**"
   ]
  },
  {
   "cell_type": "markdown",
   "id": "ed843c88",
   "metadata": {},
   "source": [
    "**Answers:-** <br>\n",
    "- Both lists and strings can be passed to len() function\n",
    "- Can be concatenated or replicated\n",
    "- We can use index and slicing operation\n",
    "- Can be used with the in and not in operators"
   ]
  },
  {
   "cell_type": "markdown",
   "id": "3b2f4d7e",
   "metadata": {},
   "source": [
    "Q.13- **What&#39;s the difference between tuples and lists?**"
   ]
  },
  {
   "cell_type": "markdown",
   "id": "49e08a00",
   "metadata": {},
   "source": [
    "**Answers:-** <br>\n",
    "- List is mutable where tuple is not\n",
    "- Lists consume more memory where tuple consume less as compared to list\n",
    "- Lists have several built-in methods where tuple is less\n",
    "- The list is better for performing operations, such as insertion and deletion, Tuple data type is appropriate for accessing the elements\n",
    "- List-> [], tuple-> ()"
   ]
  },
  {
   "cell_type": "markdown",
   "id": "a00a6951",
   "metadata": {},
   "source": [
    "Q.14- **How do you type a tuple value that only contains the integer 42?**"
   ]
  },
  {
   "cell_type": "code",
   "execution_count": 24,
   "id": "d2f9077f",
   "metadata": {},
   "outputs": [
    {
     "name": "stdout",
     "output_type": "stream",
     "text": [
      "(42,)\n",
      "<class 'tuple'>\n"
     ]
    }
   ],
   "source": [
    "#Ans-\n",
    "tuple= (42,)\n",
    "print(tuple)\n",
    "print(type(tuple))"
   ]
  },
  {
   "cell_type": "markdown",
   "id": "4381a1b3",
   "metadata": {},
   "source": [
    "Q. 15- **How do you get a list value&#39;s tuple form? How do you get a tuple value&#39;s list form?**"
   ]
  },
  {
   "cell_type": "code",
   "execution_count": 25,
   "id": "53e2b34e",
   "metadata": {},
   "outputs": [
    {
     "name": "stdout",
     "output_type": "stream",
     "text": [
      "[1, 2, 3]\n"
     ]
    }
   ],
   "source": [
    "t=(1,2,3) #it is tuple\n",
    "tp=list(t)\n",
    "print(tp)"
   ]
  },
  {
   "cell_type": "code",
   "execution_count": null,
   "id": "fa33f9fe",
   "metadata": {},
   "outputs": [],
   "source": [
    "l=[4,5,6]\n",
    "tuple (l)"
   ]
  },
  {
   "cell_type": "markdown",
   "id": "6a0a6113",
   "metadata": {},
   "source": [
    "Q.16- **Variables that \"contain\" list values are not necessarily lists themselves. Instead, what do they contain?**"
   ]
  },
  {
   "cell_type": "markdown",
   "id": "1031bce3",
   "metadata": {},
   "source": [
    "**Ans-**: They contain references to list values."
   ]
  },
  {
   "cell_type": "markdown",
   "id": "ecb2e4f1",
   "metadata": {},
   "source": [
    "Q.17- **How do you distinguish between copy.copy() and copy.deepcopy()?**"
   ]
  },
  {
   "cell_type": "code",
   "execution_count": 34,
   "id": "4ef3e8ae",
   "metadata": {},
   "outputs": [
    {
     "data": {
      "text/plain": [
       "[1, 2, 3, 4, 'test', 7, 8, 9]"
      ]
     },
     "execution_count": 34,
     "metadata": {},
     "output_type": "execute_result"
    }
   ],
   "source": [
    "import copy\n",
    "l= [1,2,3,4,'test',7,8,9]\n",
    "l2=copy.copy(l)\n",
    "l2"
   ]
  },
  {
   "cell_type": "code",
   "execution_count": 35,
   "id": "7de3419c",
   "metadata": {},
   "outputs": [
    {
     "data": {
      "text/plain": [
       "[1, 2, 3, 4, 'test', 7, 8, 9]"
      ]
     },
     "execution_count": 35,
     "metadata": {},
     "output_type": "execute_result"
    }
   ],
   "source": [
    "l3= copy.deepcopy(l)\n",
    "l3"
   ]
  },
  {
   "cell_type": "markdown",
   "id": "75b39b7d",
   "metadata": {},
   "source": [
    " copy.deepcopy () function is more subtle as it copies even the nested objects recursively. Although copy.deepcopy () is slightly slower than copy.copy (), it’s safer to use if you don’t know whether the list being copied contains other lists"
   ]
  },
  {
   "cell_type": "code",
   "execution_count": null,
   "id": "481f008c",
   "metadata": {},
   "outputs": [],
   "source": []
  }
 ],
 "metadata": {
  "kernelspec": {
   "display_name": "Python 3 (ipykernel)",
   "language": "python",
   "name": "python3"
  },
  "language_info": {
   "codemirror_mode": {
    "name": "ipython",
    "version": 3
   },
   "file_extension": ".py",
   "mimetype": "text/x-python",
   "name": "python",
   "nbconvert_exporter": "python",
   "pygments_lexer": "ipython3",
   "version": "3.9.7"
  }
 },
 "nbformat": 4,
 "nbformat_minor": 5
}
