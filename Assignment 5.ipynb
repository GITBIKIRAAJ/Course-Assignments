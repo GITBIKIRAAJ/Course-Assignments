{
 "cells": [
  {
   "cell_type": "markdown",
   "id": "cc0e43fa",
   "metadata": {},
   "source": [
    "# Assignment 5 Solutions"
   ]
  },
  {
   "cell_type": "markdown",
   "id": "57970cd9",
   "metadata": {},
   "source": [
    "Q.1 - **What does an empty dictionary's code look like?**"
   ]
  },
  {
   "cell_type": "code",
   "execution_count": 1,
   "id": "e462b70c",
   "metadata": {},
   "outputs": [
    {
     "data": {
      "text/plain": [
       "0"
      ]
     },
     "execution_count": 1,
     "metadata": {},
     "output_type": "execute_result"
    }
   ],
   "source": [
    "emptydict= {}\n",
    "emptyDict= dict()\n",
    "type(emptyDict)\n",
    "len(emptydict)"
   ]
  },
  {
   "cell_type": "markdown",
   "id": "bb7e3b96",
   "metadata": {},
   "source": [
    "Q.2- **what is the value of dictionary value with key 'foo' and the value 42 ?** <br>\n",
    "\n",
    "Ans- dictionary= {\"foo\":42}"
   ]
  },
  {
   "cell_type": "markdown",
   "id": "623b6658",
   "metadata": {},
   "source": [
    "Q.3- **What is the most significant distinction between a dictionary and a list?**"
   ]
  },
  {
   "cell_type": "markdown",
   "id": "20ea1d91",
   "metadata": {},
   "source": [
    "- List is a collection of index values pairs | Dictionary is a hashed structure of key and value pairs\n",
    "- The indices of list are integers starting from 0 | The keys of dictionary can be of any data type\n",
    "- The elements are accessed via indices| Accessed via key,value\n",
    "- The elements are accessed via indices | dictinary elements are not ordered"
   ]
  },
  {
   "cell_type": "markdown",
   "id": "cd9828c2",
   "metadata": {},
   "source": [
    "Q.4- **What happens if you try to access spam ['foo'] if spam is {'bar':100} ?**\n",
    "\n",
    "Key error will raise because there is no key as 'foo'"
   ]
  },
  {
   "cell_type": "code",
   "execution_count": 2,
   "id": "182234e5",
   "metadata": {},
   "outputs": [
    {
     "ename": "KeyError",
     "evalue": "'foo'",
     "output_type": "error",
     "traceback": [
      "\u001b[1;31m---------------------------------------------------------------------------\u001b[0m",
      "\u001b[1;31mKeyError\u001b[0m                                  Traceback (most recent call last)",
      "\u001b[1;32m~\\AppData\\Local\\Temp/ipykernel_48156/2653115869.py\u001b[0m in \u001b[0;36m<module>\u001b[1;34m\u001b[0m\n\u001b[0;32m      1\u001b[0m \u001b[0mspam\u001b[0m\u001b[1;33m=\u001b[0m \u001b[1;33m{\u001b[0m\u001b[1;34m'bar'\u001b[0m\u001b[1;33m:\u001b[0m\u001b[1;36m100\u001b[0m\u001b[1;33m}\u001b[0m\u001b[1;33m\u001b[0m\u001b[1;33m\u001b[0m\u001b[0m\n\u001b[1;32m----> 2\u001b[1;33m \u001b[0mspam\u001b[0m\u001b[1;33m[\u001b[0m\u001b[1;34m'foo'\u001b[0m\u001b[1;33m]\u001b[0m\u001b[1;33m\u001b[0m\u001b[1;33m\u001b[0m\u001b[0m\n\u001b[0m",
      "\u001b[1;31mKeyError\u001b[0m: 'foo'"
     ]
    }
   ],
   "source": [
    "spam= {'bar':100}\n",
    "spam['foo']"
   ]
  },
  {
   "cell_type": "markdown",
   "id": "e00c8a0b",
   "metadata": {},
   "source": [
    "Q.5- **if a dictionary is stored in spam,what is the difference between the expressions 'cat' in spam and 'cat' in spam.keys()?**"
   ]
  },
  {
   "cell_type": "markdown",
   "id": "5e09fbab",
   "metadata": {},
   "source": [
    "Ans- There is no difference . spam.keys()- All keys of that dictionary will show, spam['cat'] - values will show for 'cat'"
   ]
  },
  {
   "cell_type": "markdown",
   "id": "d0b77855",
   "metadata": {},
   "source": [
    "Q.6- **if a dictionary is stored in spam,what is the difference between the expressions 'cat' in spam and 'cat' in spam.values() ?**"
   ]
  },
  {
   "cell_type": "markdown",
   "id": "67f6c40d",
   "metadata": {},
   "source": [
    "Ans- 'cat' in spam checks whether there is a 'cat' key in the dictionary, while 'cat' in spam.values() checks whether there is a value 'cat' for one of the keys in spam.\n",
    "\n"
   ]
  },
  {
   "cell_type": "markdown",
   "id": "046ecb67",
   "metadata": {},
   "source": [
    "Q.7- **what is a shortcut for the following code ?**\n",
    "\n",
    "if 'color' not in spam: <br>\n",
    "    spam['color'] ='black'"
   ]
  },
  {
   "cell_type": "code",
   "execution_count": 4,
   "id": "a04152c7",
   "metadata": {},
   "outputs": [
    {
     "name": "stdout",
     "output_type": "stream",
     "text": [
      "black\n"
     ]
    }
   ],
   "source": [
    "#Answer-\n",
    "\n",
    "if 'color' not in spam: \n",
    "    spam['color'] ='black'\n",
    "\n",
    "print(spam.setdefault('color','black')) #shortcut"
   ]
  },
  {
   "cell_type": "markdown",
   "id": "cd105f1e",
   "metadata": {},
   "source": [
    "Q.8 - **How do you 'pretty print' dictionary values using which modules and function ?**"
   ]
  },
  {
   "cell_type": "code",
   "execution_count": 5,
   "id": "fd8b26f4",
   "metadata": {},
   "outputs": [
    {
     "name": "stdout",
     "output_type": "stream",
     "text": [
      "[{'Name': 'Raaj', 'Age': '25', 'work': {'Job': 'Data scientist', 'salary': '1500000'}}, {'Name': 'Biki', 'Age': '23', 'work': {'Job': 'Data engineer', 'salary': '1000000'}}, {'Name': 'Piya', 'Age': '22', 'work': {'Job': 'Data Analyst', 'salary': '750000'}}]\n"
     ]
    }
   ],
   "source": [
    "dict1 = [\n",
    "  {'Name': 'Raaj', 'Age': '25', 'work': {'Job':'Data scientist', 'salary': '1500000'}},\n",
    "  {'Name': 'Biki', 'Age': '23', 'work': {'Job':'Data engineer', 'salary': '1000000'}},\n",
    "  {'Name': 'Piya', 'Age': '22', 'work': {'Job':'Data Analyst', 'salary': '750000'}}]\n",
    "print(dict1) #normal print"
   ]
  },
  {
   "cell_type": "code",
   "execution_count": 6,
   "id": "a50e50b3",
   "metadata": {},
   "outputs": [
    {
     "name": "stdout",
     "output_type": "stream",
     "text": [
      "[{'Age': '25',\n",
      "  'Name': 'Raaj',\n",
      "  'work': {'Job': 'Data scientist', 'salary': '1500000'}},\n",
      " {'Age': '23',\n",
      "  'Name': 'Biki',\n",
      "  'work': {'Job': 'Data engineer', 'salary': '1000000'}},\n",
      " {'Age': '22',\n",
      "  'Name': 'Piya',\n",
      "  'work': {'Job': 'Data Analyst', 'salary': '750000'}}]\n"
     ]
    }
   ],
   "source": [
    "import pprint #impost pretty print 1st\n",
    "pprint.pprint(dict1)"
   ]
  },
  {
   "cell_type": "code",
   "execution_count": null,
   "id": "8355d3e1",
   "metadata": {},
   "outputs": [],
   "source": []
  }
 ],
 "metadata": {
  "kernelspec": {
   "display_name": "Python 3 (ipykernel)",
   "language": "python",
   "name": "python3"
  },
  "language_info": {
   "codemirror_mode": {
    "name": "ipython",
    "version": 3
   },
   "file_extension": ".py",
   "mimetype": "text/x-python",
   "name": "python",
   "nbconvert_exporter": "python",
   "pygments_lexer": "ipython3",
   "version": "3.9.7"
  }
 },
 "nbformat": 4,
 "nbformat_minor": 5
}
