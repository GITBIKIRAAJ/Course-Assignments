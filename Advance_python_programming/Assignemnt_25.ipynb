{
 "cells": [
  {
   "cell_type": "markdown",
   "id": "2969a80a",
   "metadata": {},
   "source": [
    "Q1. **What is the distinction between a numpy array and a pandas data frame? Is there a way to convert between the two if there is ?**"
   ]
  },
  {
   "cell_type": "markdown",
   "id": "5d711702",
   "metadata": {},
   "source": [
    "**Ans**:\n",
    "\n",
    "`Numpy Ndarray` provides a lot of convenient and optimized methods for performing several mathematical operations on `vectors`.\n",
    "\n",
    "Pandas Dataframe is an in-memory 2-dimensional tabular representation of data. In simpler words, it can be seen as a spreadsheet having rows and columns.\n",
    "\n",
    "Conversion : `Dataframe=pandas.DataFrame(array)`"
   ]
  },
  {
   "cell_type": "markdown",
   "id": "6ebcb7e4",
   "metadata": {},
   "source": [
    "Q2. **Identify some of the plotting techniques that are used to produce a stock-market chart ?**"
   ]
  },
  {
   "cell_type": "markdown",
   "id": "e91bce11",
   "metadata": {},
   "source": [
    "**Ans**:\n",
    "\n",
    "**Line plot**: A line plot is a graphical representation of data in which the values of the data are plotted along a number line. In a stock-market chart, a line plot is often used to show the price of a stock over time.\n",
    "\n",
    "**Candlestick plot**: A candlestick plot is a graphical representation of stock data that shows the open, high, low, and close prices for a stock over a given time period. Candlestick plots are often used to visualize the price action of a stock and can provide valuable insights into market sentiment and trends.\n",
    "\n",
    "**Volume plot**: A volume plot is a graphical representation of the number of shares of a stock that are traded over a given time period. In a stock-market chart, a volume plot is often used to show the activity level of a stock and can provide valuable insights into the supply and demand dynamics of the market.\n",
    "\n",
    "**Moving average plot**: A moving average plot is a graphical representation of the average price of a stock over a given time period. In a stock-market chart, moving averages are often used to smooth out short-term price fluctuations and identify long-term trends.\n",
    "\n",
    "**Indicator plot**: Indicator plots are graphical representations of technical indicators, which are mathematical calculations based on stock price and volume data. In a stock-market chart, indicator plots are often used to identify trends, overbought/oversold conditions, and other patterns that may not be immediately visible from the price and volume data alone."
   ]
  },
  {
   "cell_type": "markdown",
   "id": "cc72b877",
   "metadata": {},
   "source": [
    "Q3. **Why is it essential to print a legend on a stock market chart ?**\n",
    "\n",
    "**Ans**: Legend will help us in comparing different stocks in a stock market chart. Each plot of a Stock chart has a legend, its items representing the series on the plot. In addition, the legend displays information about the points that are currently hovered over or, if none are hovered over, about the last points shown on the plot. The text of a legend item includes the name of a series and, depending on the series type, the value or values of the current or last point. The legend title, enabled by default, shows the current or last date (X-value)."
   ]
  },
  {
   "cell_type": "markdown",
   "id": "d5ba6848",
   "metadata": {},
   "source": [
    "Q4. **What is the best way to limit the length of a pandas data frame to less than a year ?**\n",
    "\n",
    "**Ans:** To limit the length of a pandas data frame to less than a year, you can use the tail() function to select the rows from the data frame that correspond to the desired time period. The tail() function returns the last n rows of the data frame, where n is the number of rows you want to select.\n",
    "\n",
    "For example ......"
   ]
  },
  {
   "cell_type": "code",
   "execution_count": 3,
   "id": "b16b228d",
   "metadata": {},
   "outputs": [
    {
     "data": {
      "text/html": [
       "<div>\n",
       "<style scoped>\n",
       "    .dataframe tbody tr th:only-of-type {\n",
       "        vertical-align: middle;\n",
       "    }\n",
       "\n",
       "    .dataframe tbody tr th {\n",
       "        vertical-align: top;\n",
       "    }\n",
       "\n",
       "    .dataframe thead th {\n",
       "        text-align: right;\n",
       "    }\n",
       "</style>\n",
       "<table border=\"1\" class=\"dataframe\">\n",
       "  <thead>\n",
       "    <tr style=\"text-align: right;\">\n",
       "      <th></th>\n",
       "      <th>Date</th>\n",
       "      <th>Price</th>\n",
       "    </tr>\n",
       "  </thead>\n",
       "  <tbody>\n",
       "    <tr>\n",
       "      <th>0</th>\n",
       "      <td>2020-01-01</td>\n",
       "      <td>100</td>\n",
       "    </tr>\n",
       "    <tr>\n",
       "      <th>1</th>\n",
       "      <td>2020-01-02</td>\n",
       "      <td>101</td>\n",
       "    </tr>\n",
       "    <tr>\n",
       "      <th>2</th>\n",
       "      <td>2020-01-03</td>\n",
       "      <td>102</td>\n",
       "    </tr>\n",
       "    <tr>\n",
       "      <th>3</th>\n",
       "      <td>2020-01-04</td>\n",
       "      <td>103</td>\n",
       "    </tr>\n",
       "    <tr>\n",
       "      <th>4</th>\n",
       "      <td>2020-01-05</td>\n",
       "      <td>104</td>\n",
       "    </tr>\n",
       "  </tbody>\n",
       "</table>\n",
       "</div>"
      ],
      "text/plain": [
       "         Date  Price\n",
       "0  2020-01-01    100\n",
       "1  2020-01-02    101\n",
       "2  2020-01-03    102\n",
       "3  2020-01-04    103\n",
       "4  2020-01-05    104"
      ]
     },
     "execution_count": 3,
     "metadata": {},
     "output_type": "execute_result"
    }
   ],
   "source": [
    "import pandas as pd\n",
    "\n",
    "df = pd.DataFrame({'Date': ['2020-01-01', '2020-01-02', '2020-01-03', '2020-01-04', '2020-01-05'],\n",
    "                   'Price': [100, 101, 102, 103, 104]})\n",
    "\n",
    "df= df.tail(365)\n",
    "\n",
    "df"
   ]
  },
  {
   "cell_type": "code",
   "execution_count": null,
   "id": "a7e995bd",
   "metadata": {},
   "outputs": [],
   "source": [
    "import datetime\n",
    "\n",
    "# Get the current date\n",
    "now = datetime.datetime.now()\n",
    "\n",
    "# Select rows from the data frame that correspond to the last 6 months\n",
    "df = df[df['Date'] >= now - pd.Timedelta(6, 'M')]\n"
   ]
  },
  {
   "cell_type": "markdown",
   "id": "2e2747f6",
   "metadata": {},
   "source": [
    "Q5. **What is the definition of a 180-day moving average ?**"
   ]
  },
  {
   "cell_type": "markdown",
   "id": "6390aafb",
   "metadata": {},
   "source": [
    "**Ans**:\n",
    "A 180-day moving average is a statistical calculation that is used to smooth out short-term fluctuations in data and identify long-term trends. It is calculated by taking the average of the data over a rolling window of 180 days."
   ]
  },
  {
   "cell_type": "code",
   "execution_count": null,
   "id": "041cef47",
   "metadata": {},
   "outputs": [],
   "source": []
  }
 ],
 "metadata": {
  "kernelspec": {
   "display_name": "Python 3 (ipykernel)",
   "language": "python",
   "name": "python3"
  },
  "language_info": {
   "codemirror_mode": {
    "name": "ipython",
    "version": 3
   },
   "file_extension": ".py",
   "mimetype": "text/x-python",
   "name": "python",
   "nbconvert_exporter": "python",
   "pygments_lexer": "ipython3",
   "version": "3.9.7"
  }
 },
 "nbformat": 4,
 "nbformat_minor": 5
}
