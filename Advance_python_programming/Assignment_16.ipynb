{
 "cells": [
  {
   "cell_type": "markdown",
   "id": "7a84d9bf",
   "metadata": {},
   "source": [
    "Q1. **What is the benefit of regular expressions?**"
   ]
  },
  {
   "cell_type": "markdown",
   "id": "1332c075",
   "metadata": {},
   "source": [
    "**Ans:**Regular expressions (`regex`) are a powerful tool for matching and manipulating text. They are widely used in a variety of applications, including text processing, data validation, and data extraction.\n",
    "\n",
    "There are several benefits of using regular expressions:\n",
    "\n",
    "- **Efficiency**: Regular expressions can be used to search for and match specific patterns in text, which can be much faster and more efficient than using string manipulation functions or looping through the text character by character.\n",
    "\n",
    "- **Flexibility**: Regular expressions can be used to match a wide variety of patterns, including complex patterns that may be difficult to match using other methods. This makes them very flexible and versatile.\n",
    "\n",
    "- **Readability**: Regular expressions are often more concise and easier to read than other methods of text manipulation, especially when dealing with complex patterns. This can make them easier to write and maintain.\n",
    "\n",
    "- **Reusability**: Regular expressions can be stored in variables and reused in multiple places, which can make your code more modular and easier to maintain.\n",
    "\n",
    "- **Portability**: Regular expressions are supported by many programming languages and tools, so you can use them in a variety of different contexts."
   ]
  },
  {
   "cell_type": "markdown",
   "id": "809579ed",
   "metadata": {},
   "source": [
    "Q2. **Describe the difference between the effects of \"(ab)c+\" and \"a(bc)+\" Which of these, if any, is the unqualified pattern \"abc+\"?**"
   ]
  },
  {
   "cell_type": "markdown",
   "id": "97ebc6b3",
   "metadata": {},
   "source": [
    "**Ans**:The difference between both these patterns is that in `(ab)c+` `ab` is a group whereas in `a(bc)+` `bc` is a group. Capturing groups are a way to treat multiple characters as a single unit. They are created by placing the characters to be grouped inside a set of parentheses"
   ]
  },
  {
   "cell_type": "markdown",
   "id": "5399dc5d",
   "metadata": {},
   "source": [
    "Q3. **How much do you need to use the following sentence while using regular expressions?**"
   ]
  },
  {
   "cell_type": "markdown",
   "id": "2d3cae5f",
   "metadata": {},
   "source": [
    "`import re` statement always has to be imported before using regular expressions. In a program, we need to import this once so that we can use Regular Expressions subsequently."
   ]
  },
  {
   "cell_type": "markdown",
   "id": "eedbae4b",
   "metadata": {},
   "source": [
    "Q4. **Which characters have special significance in square brackets when expressing a range, and under what circumstances?**"
   ]
  },
  {
   "cell_type": "markdown",
   "id": "7865a250",
   "metadata": {},
   "source": [
    "Ans:\n",
    "In square brackets, the `-` character is used to express a range of characters. The characters on either side of the `-` define the start and end of the range.\n"
   ]
  },
  {
   "cell_type": "code",
   "execution_count": 4,
   "id": "280511d9",
   "metadata": {},
   "outputs": [],
   "source": [
    "#[A-Z]\n",
    "#This above expression will match any lowercase letter from a to z."
   ]
  },
  {
   "cell_type": "markdown",
   "id": "d47fca8b",
   "metadata": {},
   "source": [
    "`^`: When placed at the start of a square bracket expression, the ^ character negates the expression. For example, `[^a-z]` matches any character that is not a lowercase letter.\n",
    "\n",
    "`\\`: The \\ character is used to escape characters that have special meaning in square bracket expressions. For example, `[\\^a]` matches the characters `^` and a.\n",
    "\n",
    "`]`: The ] character is used to match the end of a square bracket expression. For example, `[abc]` matches the characters a, b, and c."
   ]
  },
  {
   "cell_type": "markdown",
   "id": "9cc2f88d",
   "metadata": {},
   "source": [
    "Q5. How does compiling a regular-expression object benefit you?"
   ]
  },
  {
   "cell_type": "markdown",
   "id": "494377d7",
   "metadata": {},
   "source": [
    "**Ans**:  We can Combine a regular expression pattern into pattern Objects which can be used for pattern matching. It also helps to search a pattern again without rewriting it."
   ]
  },
  {
   "cell_type": "markdown",
   "id": "a590d278",
   "metadata": {},
   "source": [
    "Q6. **What are some examples of how to use the match object returned by re.match and re.search?**"
   ]
  },
  {
   "cell_type": "markdown",
   "id": "422a7768",
   "metadata": {},
   "source": [
    "**Ans::**\n",
    "The `re.search()` and `re.match()` both are functions of re module in python. These functions are very efficient and fast for searching in strings. The function searches for some substring in a string and returns a match object if found, else it returns none."
   ]
  },
  {
   "cell_type": "code",
   "execution_count": 6,
   "id": "5c56c684",
   "metadata": {},
   "outputs": [
    {
     "name": "stdout",
     "output_type": "stream",
     "text": [
      "<re.Match object; span=(27, 34), match='iNeuron'>\n",
      "None\n",
      "<re.Match object; span=(34, 41), match='iNeuron'>\n",
      "None\n"
     ]
    }
   ],
   "source": [
    "import re\n",
    "Substring ='iNeuron' \n",
    "String1 ='We are learning regex with iNeuron. Regex is very useful for string matching. It is fast too.' \n",
    "String2 ='string We are learning regex with iNeuron. Regex is very useful for string matching. It is fast too.'\n",
    "print(re.search(Substring, String1, re.IGNORECASE))\n",
    "print(re.match(Substring, String1, re.IGNORECASE))\n",
    "print(re.search(Substring, String2, re.IGNORECASE))\n",
    "print(re.match(Substring, String2, re.IGNORECASE))"
   ]
  },
  {
   "cell_type": "markdown",
   "id": "2b6b0b1e",
   "metadata": {},
   "source": [
    "Q7. **What is the difference between using a vertical bar (|) as an alteration and using square brackets as a character set?**"
   ]
  },
  {
   "cell_type": "markdown",
   "id": "a72031cf",
   "metadata": {},
   "source": [
    "**Ans**:\n",
    "When `|` used then patterns searches for or option. i.e `|` means it searches as or< in the searched string. The first occurance of matched string will be returned as the Match Object. Using Character set in square Brackets searches for all the character set in the square bracket and if match is found, it returns it."
   ]
  },
  {
   "cell_type": "markdown",
   "id": "68b2a01d",
   "metadata": {},
   "source": [
    "Q8. **In regular-expression search patterns, why is it necessary to use the raw-string indicator (r)? In replacement strings?**"
   ]
  },
  {
   "cell_type": "markdown",
   "id": "9de14359",
   "metadata": {},
   "source": [
    "In Python, the raw string indicator `(r)` is used to create raw string literals, which are strings that treat backslashes `(\\)` as literal characters rather than escape characters.\n",
    "\n",
    "In regular-expression search patterns, the raw string indicator is often used to avoid having to escape special characters that are used in the pattern. For example, the following regular expression searches for the string `\\bword\\b`:"
   ]
  },
  {
   "cell_type": "code",
   "execution_count": 7,
   "id": "147857a2",
   "metadata": {},
   "outputs": [
    {
     "name": "stdout",
     "output_type": "stream",
     "text": [
      "This is a test string with the replacement replacement in it.\n"
     ]
    }
   ],
   "source": [
    "import re\n",
    "\n",
    "pattern = r'\\bword\\b'\n",
    "replacement = r'replacement'\n",
    "\n",
    "string = 'This is a test string with the word word in it.'\n",
    "\n",
    "new_string = re.sub(pattern, replacement, string)\n",
    "\n",
    "print(new_string)  # Output: This is a test string with the replacement replacement in it.\n"
   ]
  },
  {
   "cell_type": "code",
   "execution_count": null,
   "id": "edcf730a",
   "metadata": {},
   "outputs": [],
   "source": []
  }
 ],
 "metadata": {
  "kernelspec": {
   "display_name": "Python 3 (ipykernel)",
   "language": "python",
   "name": "python3"
  },
  "language_info": {
   "codemirror_mode": {
    "name": "ipython",
    "version": 3
   },
   "file_extension": ".py",
   "mimetype": "text/x-python",
   "name": "python",
   "nbconvert_exporter": "python",
   "pygments_lexer": "ipython3",
   "version": "3.9.7"
  }
 },
 "nbformat": 4,
 "nbformat_minor": 5
}
