{
 "cells": [
  {
   "cell_type": "markdown",
   "id": "13811c7c",
   "metadata": {},
   "source": [
    "### Q1. What is the relationship between classes and modules?"
   ]
  },
  {
   "cell_type": "markdown",
   "id": "006ef0b2",
   "metadata": {},
   "source": [
    "**Ans**:Modules cannot be instantiated like classes. In many of the programming languages, classes and modules play a vital role. Classes are often considered as the blueprint of objects.\n",
    "<br>\n",
    "Where Module is used to reuse a given piece of code inside another program.It is a file containg different claas,method,functions etc."
   ]
  },
  {
   "cell_type": "markdown",
   "id": "9222b8d0",
   "metadata": {},
   "source": [
    "### Q2. How do you make instances and classes?"
   ]
  },
  {
   "cell_type": "markdown",
   "id": "93ddb30e",
   "metadata": {},
   "source": [
    "__Ans:__ For creating a class instance. we call a class by its name and pass the arguments which its **__ init __** method accepts.<br>"
   ]
  },
  {
   "cell_type": "markdown",
   "id": "2230ada8",
   "metadata": {},
   "source": [
    "_Example_: Biranchi = employee('Male',50000000), Here Biranchi is an instance of class employee with attriubutes 'Male' and 50000000 <br>\n",
    "\n",
    "Whereas for creating a class, we use the _Class_ keyword. Class keyword is followed by classname and semicolon.\n",
    "\n",
    "Example: Here Employee is a class created with class keyword with arguments gender and salary.\n",
    "\n",
    "class Employee: def **__ init __** (self, gender,salary): self.gender = gender self.salary = salary"
   ]
  },
  {
   "cell_type": "markdown",
   "id": "4be7ae32",
   "metadata": {},
   "source": [
    "### Q3. Where and how should be class attributes created?"
   ]
  },
  {
   "cell_type": "markdown",
   "id": "bf2aa07f",
   "metadata": {},
   "source": [
    "__Ans__:\n",
    "A class attribute is shared by all instances of the class. To define a class attribute, you place it outside of the **__ init __ ()** method.<br>\n",
    "Use class_name.class_attribute or object_name.class_attribute to access the value of the class_attribute."
   ]
  },
  {
   "cell_type": "code",
   "execution_count": 4,
   "id": "b7133665",
   "metadata": {},
   "outputs": [],
   "source": [
    "class Circle:\n",
    "    def __init__(self, radius):\n",
    "        self.pi = 3.14159\n",
    "        self.radius = radius\n",
    "\n",
    "    def area(self):\n",
    "        return self.pi * self.radius**2\n",
    "\n",
    "    def circumference(self):\n",
    "        return 2*self.pi * self.radius"
   ]
  },
  {
   "cell_type": "markdown",
   "id": "a6946c06",
   "metadata": {},
   "source": [
    "The Circle class has two attributes **pi and radius**. It also has two methods that calculate the **area and circumference** of a circle."
   ]
  },
  {
   "cell_type": "markdown",
   "id": "553e3671",
   "metadata": {},
   "source": [
    "### Q4. Where and how are instance attributes created?"
   ]
  },
  {
   "cell_type": "markdown",
   "id": "b29ceb9c",
   "metadata": {},
   "source": [
    "**Ans:** <br>\n",
    "Here is the intances of the class Circle<br>\n",
    "\n",
    "Instances attributes are passed to the class when an object of the class is created. Unlike class attributes, instance attributes are not shared by all objects of the classs. Instead each object maintains its own copy of instance attributes at object level whereas incase of class attributes, all instances of class refer to a single copy. Usually instance attributes are defined within the __ init __ method of class. <br>\n",
    "<br>\n",
    "c1 = Circle(10) #c1 is the object of Circle"
   ]
  },
  {
   "cell_type": "markdown",
   "id": "e883bfb5",
   "metadata": {},
   "source": [
    "### Q5. What does the term \"self\" in a Python class mean?"
   ]
  },
  {
   "cell_type": "markdown",
   "id": "22e24e36",
   "metadata": {},
   "source": [
    "**Ans**: <br>\n",
    "**self** represents the instance of the class (it represents the object itself). By using the “self” keyword we can access the attributes and methods of the class with in the class in python. It binds the attributes with the given arguments."
   ]
  },
  {
   "cell_type": "markdown",
   "id": "042987b6",
   "metadata": {},
   "source": [
    "### Q6. How does a Python class handle operator overloading?"
   ]
  },
  {
   "cell_type": "markdown",
   "id": "3e041aeb",
   "metadata": {},
   "source": [
    "**Ans**<br>\n",
    "Operator overloading in a class *__* is a mapping to a Python language operator (for example, operator +, –, *, etc.) of a corresponding method in order to call the code of that method when using the overloaded operator."
   ]
  },
  {
   "cell_type": "markdown",
   "id": "6f1d1d4a",
   "metadata": {},
   "source": [
    "__Example__: Magic methods for basic arithmetic operators are:\n",
    "\n",
    "+ -> __ add __()\n",
    "- -> __ sub __()\n",
    "* -> __ mul __()\n",
    "/ -> __ div __()"
   ]
  },
  {
   "cell_type": "code",
   "execution_count": 7,
   "id": "68c193b7",
   "metadata": {},
   "outputs": [
    {
     "name": "stdout",
     "output_type": "stream",
     "text": [
      "The total Salary in the job is 150000\n"
     ]
    }
   ],
   "source": [
    "class salary:\n",
    "    def __init__(self,job):\n",
    "        self.job = job\n",
    "    def __add__(self,other):\n",
    "        return self.job + other.job\n",
    "s1 = salary(50000)\n",
    "s2 = salary(100000)\n",
    "print(f'The total Salary in the job is {s1+s2}')"
   ]
  },
  {
   "cell_type": "markdown",
   "id": "257d2c96",
   "metadata": {},
   "source": [
    "### Q7 When do you consider allowing operator overloading of your classes?"
   ]
  },
  {
   "cell_type": "markdown",
   "id": "379a8f60",
   "metadata": {},
   "source": [
    "For example, the + operator will perform arithmetic **addition on two numbers, merge two lists, or concatenate two strings**. This feature in Python that allows the same operator to have different meaning according to the context is called operator overloading."
   ]
  },
  {
   "cell_type": "code",
   "execution_count": 8,
   "id": "2078bb71",
   "metadata": {},
   "outputs": [
    {
     "name": "stdout",
     "output_type": "stream",
     "text": [
      "3\n",
      "BikiRaaj\n",
      "2\n",
      "RaajRaaj\n"
     ]
    }
   ],
   "source": [
    "print(1 + 2)\n",
    " \n",
    "# concatenate two strings\n",
    "print(\"Biki\"+\"Raaj\")\n",
    " \n",
    "# Product two numbers\n",
    "print(1* 2)\n",
    " \n",
    "# Repeat the String\n",
    "print(\"Raaj\"*2)"
   ]
  },
  {
   "cell_type": "markdown",
   "id": "1d194f68",
   "metadata": {},
   "source": [
    "### Q4. What is the most popular form of operator overloading?"
   ]
  },
  {
   "cell_type": "markdown",
   "id": "44bb58bf",
   "metadata": {},
   "source": [
    "The most frequent & important of operator overloading by adding up **‘+’**, where it can be used for the usual addition and also for combining two different strings."
   ]
  },
  {
   "cell_type": "code",
   "execution_count": 9,
   "id": "9ff2b986",
   "metadata": {},
   "outputs": [
    {
     "name": "stdout",
     "output_type": "stream",
     "text": [
      "Sum -> 30\n",
      "String Concatenation -> Biki Raaj\n"
     ]
    }
   ],
   "source": [
    "class Number:\n",
    "    def __init__(self,a):\n",
    "        self.a = a\n",
    "    def __add__(self,o):\n",
    "        return self.a+o.a\n",
    "obj1 = Number(10)\n",
    "obj2 = Number(20)\n",
    "obj3 = Number('Biki')\n",
    "obj4 = Number(' Raaj')\n",
    "print(f'Sum -> {obj1+obj2}')\n",
    "print(f'String Concatenation -> {obj3+obj4}')"
   ]
  },
  {
   "cell_type": "markdown",
   "id": "63bca365",
   "metadata": {},
   "source": [
    "### Q9.What are the two most important concepts to grasp in order to comprehend Python OOP code?"
   ]
  },
  {
   "cell_type": "markdown",
   "id": "5079bf05",
   "metadata": {},
   "source": [
    "**Classes and objects** are the two most important concepts to grasp in order to comprehend python OOP code as more formally objects are entities that represent instances of general abstract concept called class.\n",
    "\n",
    "Types of opp Concept...\n",
    "\n",
    "1. Inheritence\n",
    "2. Abstraction\n",
    "3. Polymorphism\n",
    "4. Encapsulation"
   ]
  },
  {
   "cell_type": "code",
   "execution_count": null,
   "id": "26c530e5",
   "metadata": {},
   "outputs": [],
   "source": []
  }
 ],
 "metadata": {
  "kernelspec": {
   "display_name": "Python 3 (ipykernel)",
   "language": "python",
   "name": "python3"
  },
  "language_info": {
   "codemirror_mode": {
    "name": "ipython",
    "version": 3
   },
   "file_extension": ".py",
   "mimetype": "text/x-python",
   "name": "python",
   "nbconvert_exporter": "python",
   "pygments_lexer": "ipython3",
   "version": "3.9.7"
  }
 },
 "nbformat": 4,
 "nbformat_minor": 5
}
