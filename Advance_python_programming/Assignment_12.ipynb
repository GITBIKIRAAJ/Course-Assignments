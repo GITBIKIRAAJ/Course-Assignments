{
 "cells": [
  {
   "cell_type": "markdown",
   "id": "6651792e",
   "metadata": {},
   "source": [
    "Q1. **Does assigning a value to a string's indexed character violate Python's string immutability ?**"
   ]
  },
  {
   "cell_type": "markdown",
   "id": "8dc7374c",
   "metadata": {},
   "source": [
    "**Answers**:Strings are immutable, we can't change the indexed character"
   ]
  },
  {
   "cell_type": "code",
   "execution_count": 1,
   "id": "b9be4801",
   "metadata": {},
   "outputs": [
    {
     "ename": "TypeError",
     "evalue": "'str' object does not support item assignment",
     "output_type": "error",
     "traceback": [
      "\u001b[1;31m---------------------------------------------------------------------------\u001b[0m",
      "\u001b[1;31mTypeError\u001b[0m                                 Traceback (most recent call last)",
      "\u001b[1;32m~\\AppData\\Local\\Temp/ipykernel_66848/3025194089.py\u001b[0m in \u001b[0;36m<module>\u001b[1;34m\u001b[0m\n\u001b[0;32m      1\u001b[0m \u001b[0mName\u001b[0m\u001b[1;33m=\u001b[0m \u001b[1;34m\"Hello world\"\u001b[0m\u001b[1;33m\u001b[0m\u001b[1;33m\u001b[0m\u001b[0m\n\u001b[0;32m      2\u001b[0m \u001b[0mName\u001b[0m\u001b[1;33m[\u001b[0m\u001b[1;36m1\u001b[0m\u001b[1;33m]\u001b[0m\u001b[1;33m\u001b[0m\u001b[1;33m\u001b[0m\u001b[0m\n\u001b[1;32m----> 3\u001b[1;33m \u001b[0mName\u001b[0m\u001b[1;33m[\u001b[0m\u001b[1;36m1\u001b[0m\u001b[1;33m]\u001b[0m\u001b[1;33m=\u001b[0m \u001b[1;34m'a'\u001b[0m\u001b[1;33m\u001b[0m\u001b[1;33m\u001b[0m\u001b[0m\n\u001b[0m",
      "\u001b[1;31mTypeError\u001b[0m: 'str' object does not support item assignment"
     ]
    }
   ],
   "source": [
    "Name= \"Hello world\"\n",
    "Name[1]\n",
    "Name[1]= 'a'"
   ]
  },
  {
   "cell_type": "markdown",
   "id": "c1088631",
   "metadata": {},
   "source": [
    "So in the above excample it showing string doesnot support assignemnt beacause of its imutability nature"
   ]
  },
  {
   "cell_type": "markdown",
   "id": "88fcad4e",
   "metadata": {},
   "source": [
    "Q2.  **Does using the += operator to concatenate strings violate Python's string immutability? Why or why not ?**"
   ]
  },
  {
   "cell_type": "markdown",
   "id": "4901e2d3",
   "metadata": {},
   "source": [
    "`+=` operator is used to concatenate strings. It does not violate Python’s string immutability Property because doing so creates a new association with data and variable."
   ]
  },
  {
   "cell_type": "code",
   "execution_count": 3,
   "id": "84f7ffed",
   "metadata": {},
   "outputs": [
    {
     "name": "stdout",
     "output_type": "stream",
     "text": [
      "2296597693680\n",
      "2296677345392\n"
     ]
    }
   ],
   "source": [
    "#example\n",
    "str_1 = 'a'\n",
    "print(id(str_1))\n",
    "str_1 += 'b'\n",
    "print(id(str_1))"
   ]
  },
  {
   "cell_type": "markdown",
   "id": "7c23e272",
   "metadata": {},
   "source": [
    "Q3.  **In Python, how many different ways are there to index a character?**"
   ]
  },
  {
   "cell_type": "markdown",
   "id": "72e10e3f",
   "metadata": {},
   "source": [
    "In PyIn Python, there are two main ways to index a character in a string: using the square brackets notation(slicing) and using the str.`__getitem__()` method.\n",
    "\n",
    "Here are some examples of how you can use these methods to index a character in a string:-"
   ]
  },
  {
   "cell_type": "code",
   "execution_count": 5,
   "id": "96b1bedd",
   "metadata": {},
   "outputs": [],
   "source": [
    "string = \"Hello, world!\"\n",
    "\n",
    "# Index a character using the square brackets notation\n",
    "char = string[0]  # char will be \"H\"\n",
    "\n",
    "# Index a character using the __getitem__() method\n",
    "char = string.__getitem__(0)  # char will be \"H\"\n",
    "char1= string[-13] #-ve indexing"
   ]
  },
  {
   "cell_type": "markdown",
   "id": "690921f3",
   "metadata": {},
   "source": [
    "Q4. **What is the relationship between indexing and slicing?**"
   ]
  },
  {
   "cell_type": "markdown",
   "id": "c5373d2f",
   "metadata": {},
   "source": [
    "**Ans**: We can access elements of sequence datatypes by using slicing and indexing. Indexing is used to obtaining individual element while slicing for sequence of elements."
   ]
  },
  {
   "cell_type": "code",
   "execution_count": 6,
   "id": "38722e78",
   "metadata": {},
   "outputs": [
    {
     "data": {
      "text/plain": [
       "'H'"
      ]
     },
     "execution_count": 6,
     "metadata": {},
     "output_type": "execute_result"
    }
   ],
   "source": [
    "string = \"Hello, world!\"\n",
    "\n",
    "char= string[0] # indexing\n",
    "char"
   ]
  },
  {
   "cell_type": "code",
   "execution_count": 12,
   "id": "9398aade",
   "metadata": {},
   "outputs": [
    {
     "data": {
      "text/plain": [
       "'Hello'"
      ]
     },
     "execution_count": 12,
     "metadata": {},
     "output_type": "execute_result"
    }
   ],
   "source": [
    "char_new= string[:5] #slicing\n",
    "char_new"
   ]
  },
  {
   "cell_type": "markdown",
   "id": "2488ea80",
   "metadata": {},
   "source": [
    "Q5. **What is an indexed character's exact data type? What is the data form of a slicing-generated substring?**"
   ]
  },
  {
   "cell_type": "code",
   "execution_count": 13,
   "id": "1ed11d8e",
   "metadata": {},
   "outputs": [
    {
     "name": "stdout",
     "output_type": "stream",
     "text": [
      "<class 'str'>\n",
      "<class 'str'>\n"
     ]
    }
   ],
   "source": [
    "#Both the indexed and  sliced substrings datatype will be string only \n",
    "\n",
    "#from the above example\n",
    "\n",
    "print(type(char))\n",
    "print(type(char_new))"
   ]
  },
  {
   "cell_type": "markdown",
   "id": "4c8eaaaa",
   "metadata": {},
   "source": [
    "Q6. **What is the relationship between string and character \"types\" in Python?**"
   ]
  },
  {
   "cell_type": "markdown",
   "id": "9ad5fac1",
   "metadata": {},
   "source": [
    "**Ans:** strings in Python are arrays of bytes representing unicode characters. However, Python does not have a character data type, a single character is simply a string with a length of 1. Square brackets can be used to access elements of the string."
   ]
  },
  {
   "cell_type": "markdown",
   "id": "6e0660a1",
   "metadata": {},
   "source": [
    "Q7. **Identify at least two operators & one method that allow you to combine one or more smaller strings to create a larger string ?**"
   ]
  },
  {
   "cell_type": "markdown",
   "id": "e85db150",
   "metadata": {},
   "source": [
    "`+`, `+=` and `*` allow to combine one or more smaller strings to create a larger string. .join() method joins element of iterable type like list and tuple to get a combined string."
   ]
  },
  {
   "cell_type": "code",
   "execution_count": 17,
   "id": "0e87f5d5",
   "metadata": {},
   "outputs": [
    {
     "name": "stdout",
     "output_type": "stream",
     "text": [
      "Datascience\n"
     ]
    }
   ],
   "source": [
    "st= 'Data'\n",
    "st1='science'\n",
    "print(st + st1)"
   ]
  },
  {
   "cell_type": "code",
   "execution_count": 18,
   "id": "a41014aa",
   "metadata": {},
   "outputs": [
    {
     "data": {
      "text/plain": [
       "'DataData'"
      ]
     },
     "execution_count": 18,
     "metadata": {},
     "output_type": "execute_result"
    }
   ],
   "source": [
    "st*2"
   ]
  },
  {
   "cell_type": "code",
   "execution_count": 19,
   "id": "4fee2da4",
   "metadata": {},
   "outputs": [
    {
     "name": "stdout",
     "output_type": "stream",
     "text": [
      "DataArtificial inteligence\n"
     ]
    }
   ],
   "source": [
    "st+= 'Artificial inteligence'\n",
    "\n",
    "print(st)"
   ]
  },
  {
   "cell_type": "code",
   "execution_count": 20,
   "id": "9fb79065",
   "metadata": {},
   "outputs": [
    {
     "name": "stdout",
     "output_type": "stream",
     "text": [
      "D A T A\n"
     ]
    }
   ],
   "source": [
    "print(' '.join(['D','A','T','A']))"
   ]
  },
  {
   "cell_type": "markdown",
   "id": "0f508c34",
   "metadata": {},
   "source": [
    "Q8. **What is the benefit of first checking the target string with in or not in before using the index method to find a substring ?**"
   ]
  },
  {
   "cell_type": "code",
   "execution_count": 22,
   "id": "3ee43e81",
   "metadata": {},
   "outputs": [
    {
     "ename": "ValueError",
     "evalue": "substring not found",
     "output_type": "error",
     "traceback": [
      "\u001b[1;31m---------------------------------------------------------------------------\u001b[0m",
      "\u001b[1;31mValueError\u001b[0m                                Traceback (most recent call last)",
      "\u001b[1;32m~\\AppData\\Local\\Temp/ipykernel_66848/996626657.py\u001b[0m in \u001b[0;36m<module>\u001b[1;34m\u001b[0m\n\u001b[0;32m      3\u001b[0m \u001b[1;31m# Example:\u001b[0m\u001b[1;33m\u001b[0m\u001b[1;33m\u001b[0m\u001b[0m\n\u001b[0;32m      4\u001b[0m \u001b[0min_string\u001b[0m \u001b[1;33m=\u001b[0m \u001b[1;34m\"ineuron\"\u001b[0m\u001b[1;33m\u001b[0m\u001b[1;33m\u001b[0m\u001b[0m\n\u001b[1;32m----> 5\u001b[1;33m \u001b[0min_string\u001b[0m\u001b[1;33m.\u001b[0m\u001b[0mindex\u001b[0m\u001b[1;33m(\u001b[0m\u001b[1;34m'x'\u001b[0m\u001b[1;33m)\u001b[0m \u001b[1;31m# Raises ValueError\u001b[0m\u001b[1;33m\u001b[0m\u001b[1;33m\u001b[0m\u001b[0m\n\u001b[0m",
      "\u001b[1;31mValueError\u001b[0m: substring not found"
     ]
    }
   ],
   "source": [
    "# **Answers:**\n",
    "# Checking the target string with in or not Operators before using the index method to find a substring just helps confirming availability of substring and thus avoid raising of ValueError.\n",
    "# Example:\n",
    "in_string = \"ineuron\"\n",
    "in_string.index('x') # Raises ValueError\n"
   ]
  },
  {
   "cell_type": "code",
   "execution_count": 23,
   "id": "f6b7aa7b",
   "metadata": {},
   "outputs": [
    {
     "data": {
      "text/plain": [
       "3"
      ]
     },
     "execution_count": 23,
     "metadata": {},
     "output_type": "execute_result"
    }
   ],
   "source": [
    "in_string.index('u') # 3"
   ]
  },
  {
   "cell_type": "markdown",
   "id": "f19895e7",
   "metadata": {},
   "source": [
    "Q9. **Which operators and built-in string methods produce simple Boolean (true/false) results?**"
   ]
  },
  {
   "cell_type": "markdown",
   "id": "fe7af3a8",
   "metadata": {},
   "source": [
    "**Ans:** The String Operators and built-in methods to Produce Simple Boolean (True/False) Results are:\n",
    "\n",
    "- in\n",
    "- not\n",
    "- isalpha()\n",
    "- isalnum()\n",
    "- isdecimal()\n",
    "- isdigit()\n",
    "- islower()\n",
    "- isnumeric()\n",
    "- isprintable()\n",
    "- isspace()\n",
    "- istitle()"
   ]
  },
  {
   "cell_type": "code",
   "execution_count": null,
   "id": "db2f1379",
   "metadata": {},
   "outputs": [],
   "source": []
  }
 ],
 "metadata": {
  "kernelspec": {
   "display_name": "Python 3 (ipykernel)",
   "language": "python",
   "name": "python3"
  },
  "language_info": {
   "codemirror_mode": {
    "name": "ipython",
    "version": 3
   },
   "file_extension": ".py",
   "mimetype": "text/x-python",
   "name": "python",
   "nbconvert_exporter": "python",
   "pygments_lexer": "ipython3",
   "version": "3.9.7"
  }
 },
 "nbformat": 4,
 "nbformat_minor": 5
}
