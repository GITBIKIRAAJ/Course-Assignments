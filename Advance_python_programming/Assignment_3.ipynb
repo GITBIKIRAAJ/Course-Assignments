{
 "cells": [
  {
   "cell_type": "markdown",
   "id": "cdc47d08",
   "metadata": {},
   "source": [
    "### Q3. What is the concept of an abstract superclass?"
   ]
  },
  {
   "cell_type": "markdown",
   "id": "24d92946",
   "metadata": {},
   "source": [
    "**Ans**: An abstract class/superclass can be considered as a blueprint for other classes. It allows US to create a set of methods that must be created within any child classes built from the abstract class. A class which contains one or more abstract methods is called an abstract class Whereas an abstract method is a method that has a declaration but does not have an implementation"
   ]
  },
  {
   "cell_type": "code",
   "execution_count": 1,
   "id": "a9812ee8",
   "metadata": {},
   "outputs": [],
   "source": [
    "from abc import ABC, abstractmethod\n",
    "\n",
    "class Employee(ABC):\n",
    "    def __init__(self, first_name, last_name):\n",
    "        self.first_name = first_name\n",
    "        self.last_name = last_name\n",
    "\n",
    "    @property\n",
    "    def full_name(self):\n",
    "        return f\"{self.first_name} {self.last_name}\"\n",
    "\n",
    "    @abstractmethod\n",
    "    def get_salary(self):\n",
    "        pass\n"
   ]
  },
  {
   "cell_type": "markdown",
   "id": "42fc50e9",
   "metadata": {},
   "source": [
    "### Q2 What happens when a class statement's top level contains a basic assignment statement?"
   ]
  },
  {
   "cell_type": "markdown",
   "id": "cdf574a9",
   "metadata": {},
   "source": [
    "**Ans**:\n",
    "When a Class statement's top level contains a basic assignment statement, it is usually treated as a class attribute or class level variable where as assignment statements inside methods are treated as instance attributes or local attributes.\n",
    "<br>\n",
    "<br>\n",
    "When an instance of a class is created, a single copy of class attributes is maintained and shared to all instances of class where as each instance object maintains its own copy of instance variables."
   ]
  },
  {
   "cell_type": "code",
   "execution_count": 4,
   "id": "5a376a0f",
   "metadata": {},
   "outputs": [
    {
     "data": {
      "text/plain": [
       "'Raaj'"
      ]
     },
     "execution_count": 4,
     "metadata": {},
     "output_type": "execute_result"
    }
   ],
   "source": [
    "class employee:\n",
    "    jon = 'Data science' # class attribute\n",
    "    def __init__(self,name,gender):\n",
    "        self.name = name # instance attributes\n",
    "        self.gender = gender\n",
    "e= employee(\"Raaj\",\"Male\")\n",
    "e.name"
   ]
  },
  {
   "cell_type": "markdown",
   "id": "4ac337a4",
   "metadata": {},
   "source": [
    "### Q3. Why does a class need to manually call a superclass's init method?"
   ]
  },
  {
   "cell_type": "markdown",
   "id": "9d137115",
   "metadata": {},
   "source": [
    "**Ans**: The main purpose of it is to enable you to call a method from the parent when you have provided an override to that method within the child class. As a simple example let's say the parent class has a method called do_work and then you end up defining a new do_work method inside of the child class (which overrides the parent one). \n",
    "\n",
    "If you for some reason wanted to call the method that was defined in the parent class you could not just type do_work() as that would tell Python to call the method defined within the child class. To clarify that you want the method defined in the parent class you would use super(). So the call would become super().do_work()"
   ]
  },
  {
   "cell_type": "code",
   "execution_count": 14,
   "id": "4cfa00c3",
   "metadata": {},
   "outputs": [
    {
     "name": "stdout",
     "output_type": "stream",
     "text": [
      "{'name': 'Raaj', 'age': 25, 'Gender': 'Male', 'salary': 300000}\n"
     ]
    }
   ],
   "source": [
    "# example\n",
    "class HumanBeing:\n",
    "    def __init__(self,name,age,Gender):\n",
    "        self.name = name\n",
    "        self.age = age \n",
    "        self.Gender= Gender\n",
    "class Employee(HumanBeing):\n",
    "    def __init__(self,name,age,Gender,salary):\n",
    "        super().__init__(name,age,Gender)\n",
    "        self.salary = salary\n",
    "emp = Employee('Raaj',25,'Male',300000)\n",
    "print(emp.__dict__)"
   ]
  },
  {
   "cell_type": "markdown",
   "id": "c3b923d6",
   "metadata": {},
   "source": [
    "### Q3. How can you augment, instead of completely replacing, an inherited method?"
   ]
  },
  {
   "cell_type": "markdown",
   "id": "43de7663",
   "metadata": {},
   "source": [
    "**super()** method can be used to augment, instead of completely replacing, an inherited method.\n",
    "\n",
    "In the above example I have used Super() class to augement instead of replacement"
   ]
  },
  {
   "cell_type": "markdown",
   "id": "9ea7dd03",
   "metadata": {},
   "source": [
    "### Q5. How is the local scope of a class different from that of a function?"
   ]
  },
  {
   "cell_type": "markdown",
   "id": "cd35450b",
   "metadata": {},
   "source": [
    "**Ans:** A Variable which is defined inside a function is local to that function. It is accesible from the point at which it is defined until the end of the function, and exists for as long as the function is existing.\n",
    "\n",
    "Similary a variable inside of a class also has a local variable scope. Variables which are defined in the class body outside all methods are called as class level variables or class attributes. \n",
    "\n",
    "They can be referenced by their bare names within the same scope, but they can also be accessed from outside this scope if we use the attribute access operator (.) on a class or an instance of the class."
   ]
  },
  {
   "cell_type": "code",
   "execution_count": 17,
   "id": "116ca930",
   "metadata": {},
   "outputs": [
    {
     "name": "stdout",
     "output_type": "stream",
     "text": [
      "you're name is Bikiraaj\n",
      "------------------------------\n",
      "HomeSapiens\n",
      "HomeSapiens\n"
     ]
    }
   ],
   "source": [
    "#example\n",
    "def hello(name):\n",
    "    name = name\n",
    "    print(f'you\\'re name is {name}')\n",
    "hello('Bikiraaj') #access the local variable of the function\n",
    "print('-'*30)\n",
    "\n",
    "#class local variable\n",
    "\n",
    "class Person:\n",
    "    species = \"HomeSapiens\"\n",
    "    def __init__(self):\n",
    "        pass\n",
    "print(Person.species) # Accessing species using class name\n",
    "Human = Person()\n",
    "print(Human.species) # Accessing species using instance of class"
   ]
  },
  {
   "cell_type": "code",
   "execution_count": null,
   "id": "8226e486",
   "metadata": {},
   "outputs": [],
   "source": []
  }
 ],
 "metadata": {
  "kernelspec": {
   "display_name": "Python 3 (ipykernel)",
   "language": "python",
   "name": "python3"
  },
  "language_info": {
   "codemirror_mode": {
    "name": "ipython",
    "version": 3
   },
   "file_extension": ".py",
   "mimetype": "text/x-python",
   "name": "python",
   "nbconvert_exporter": "python",
   "pygments_lexer": "ipython3",
   "version": "3.9.7"
  }
 },
 "nbformat": 4,
 "nbformat_minor": 5
}
