{
 "cells": [
  {
   "cell_type": "markdown",
   "id": "a967e7af",
   "metadata": {},
   "source": [
    "### Q1. What are the new features added in Python 3.8 version?"
   ]
  },
  {
   "cell_type": "markdown",
   "id": "7c7f4c72",
   "metadata": {},
   "source": [
    "**Answer**:\n",
    " \n",
    "`Python 3.8` is a major release of Python, and it includes a number of new features and improvements. Some of the notable new features in Python 3.8 include:\n",
    "\n",
    "`Assignment expressions`: Python 3.8 introduces a new syntax for assignment expressions, which allow you to use the := operator to assign a value to a variable as part of an expression. This can make it easier to write concise and readable code, especially when working with complex expressions or when using list comprehensions or generator expressions.\n",
    "\n",
    "`Positional-only parameters`: Python 3.8 introduces a new syntax for defining positional-only parameters in functions, which allows you to specify that some parameters can only be passed using their position, and not using keyword arguments. This can be useful for improving the readability and maintainability of your code, especially when you want to discourage the use of certain keyword arguments.\n",
    "\n",
    "`Typing enhancements`: Python 3.8 includes a number of improvements to the typing module, including the ability to specify the types of variables in function annotations, and the ability to use the Union and Literal types to define more flexible and expressive type hints.\n",
    "\n",
    "`f-strings improvements`: Python 3.8 includes a number of improvements to f-strings, including the ability to use the = sign to specify a minimum width for the formatted value, and the ability to use the !a, !s, and !r conversion specifiers to specify the representation of the value.\n",
    "\n",
    "`Performance improvements`: Python 3.8 includes a number of performance improvements, including faster dictionary and set operations, faster string concatenation and formatting, and faster attribute access.\n",
    "\n",
    "There are many other new features and improvements in Python 3.8, and it is worth exploring the documentation to learn more about what is new in this release.\n",
    "\n",
    "\n",
    "\n"
   ]
  },
  {
   "cell_type": "markdown",
   "id": "f2975947",
   "metadata": {},
   "source": [
    "### Q2. What is monkey patching in Python?"
   ]
  },
  {
   "cell_type": "markdown",
   "id": "2567ea02",
   "metadata": {},
   "source": [
    "**Ans**: In Python, the term monkey patch refers to making dynamic (or run-time) modifications to a class or module. In Python, we can actually change the behavior of code at run-time."
   ]
  },
  {
   "cell_type": "code",
   "execution_count": 1,
   "id": "9f9539cc",
   "metadata": {},
   "outputs": [
    {
     "name": "stdout",
     "output_type": "stream",
     "text": [
      "monkey_f() is being called\n"
     ]
    }
   ],
   "source": [
    "class A:\n",
    "    def func(self):\n",
    "        print(\"func() is being called\")\n",
    "\n",
    "def monkey_func(self):\n",
    "    print(\"monkey_f() is being called\")\n",
    "\n",
    "A.func = monkey_func\n",
    "some_object = A()\n",
    "some_object.func()"
   ]
  },
  {
   "cell_type": "markdown",
   "id": "bf6597a1",
   "metadata": {},
   "source": [
    "### Q3. What is the difference between a shallow copy and deep copy?"
   ]
  },
  {
   "cell_type": "markdown",
   "id": "291d80a3",
   "metadata": {},
   "source": [
    "**Ans**:\n",
    "\n",
    "The Differences between a Shallow Copy and deep copy are as follows:\n",
    "\n",
    "When an object is copied using `copy()`, it is called shallow copy as changes made in copied object will also make corresponding changes in original object, because both the objects will be referencing same address location.\n",
    "\n",
    "When an object is copied using `deepcopy()`, it is called deep copy as changes made in copied object will not make corresponding changes in original object, because both the objects will not be referencing same address location."
   ]
  },
  {
   "cell_type": "code",
   "execution_count": 2,
   "id": "b72dd489",
   "metadata": {},
   "outputs": [
    {
     "name": "stdout",
     "output_type": "stream",
     "text": [
      "Original Elements of each List\n",
      "[1, 2, [3, 4, 5], 6, 8]\n",
      "[1, 2, [3, 4, 5], 6, 8]\n",
      "[1, 2, [3, 4, 5], 6, 8]\n",
      "New Elements of each List\n",
      "[1, 2, [3, 4, 5], 6, 20]\n",
      "[10, 2, [3, 4, 5], 6, 8]\n",
      "[1, 2, [3, 4, 5], 6, 20]\n"
     ]
    }
   ],
   "source": [
    "from copy import deepcopy, copy\n",
    "l_one = [1,2,[3,4,5],6,8]\n",
    "l_two = deepcopy(l_one)\n",
    "l_three = l_one\n",
    "print(f'Original Elements of each List\\n{l_one}\\n{l_two}\\n{l_three}')\n",
    "l_two[0] = 10\n",
    "l_three[-1] = 20\n",
    "print(f'New Elements of each List\\n{l_one}\\n{l_two}\\n{l_three}')"
   ]
  },
  {
   "cell_type": "markdown",
   "id": "d3fd945d",
   "metadata": {},
   "source": [
    "### Q4. What is the maximum possible length of an identifier?"
   ]
  },
  {
   "cell_type": "markdown",
   "id": "73cbed54",
   "metadata": {},
   "source": [
    "**Ans:** In Python, the highest possible length of an identifier is `80 characters`. Python is a high level programming language. It’s also a complex form and a collector of waste.\n",
    "\n",
    "- Python, particularly when combined with identifiers, is case-sensitive.\n",
    "- When writing or using identifiers in Python, it has a maximum of 80 characters.\n",
    "- Unlikely, Python gives the identifiers unlimited length.\n",
    "- However, the layout of `PEP-8` prevents the user from breaking the rules and includes a 80-character limit."
   ]
  },
  {
   "cell_type": "markdown",
   "id": "e9d8ac8f",
   "metadata": {},
   "source": [
    "### Q5. What is generator comprehension?\n",
    "\n",
    "**Ans**: A generator comprehension is a single-line specification for defining a generator in Python.\n",
    "\n",
    "- It is absolutely essential to learn this syntax in order to write simple and readable code.\n",
    "- Generator comprehension uses round bracket unlike square bracket in list comprehension.\n",
    "- The generator yields one item at a time and generates item only when in demand. Whereas, in a list comprehension, Python reserves memory for the whole list. Thus we can say that the generator expressions are memory efficient than the lists."
   ]
  },
  {
   "cell_type": "code",
   "execution_count": null,
   "id": "5fa15925",
   "metadata": {},
   "outputs": [],
   "source": []
  }
 ],
 "metadata": {
  "kernelspec": {
   "display_name": "Python 3 (ipykernel)",
   "language": "python",
   "name": "python3"
  },
  "language_info": {
   "codemirror_mode": {
    "name": "ipython",
    "version": 3
   },
   "file_extension": ".py",
   "mimetype": "text/x-python",
   "name": "python",
   "nbconvert_exporter": "python",
   "pygments_lexer": "ipython3",
   "version": "3.9.7"
  }
 },
 "nbformat": 4,
 "nbformat_minor": 5
}
