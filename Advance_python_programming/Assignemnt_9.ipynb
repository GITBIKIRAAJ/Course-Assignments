{
 "cells": [
  {
   "cell_type": "markdown",
   "id": "322e948e",
   "metadata": {},
   "source": [
    "Q1.  **In Python 3.X, what are the names and functions of string object types?**"
   ]
  },
  {
   "cell_type": "code",
   "execution_count": 2,
   "id": "5de4c342",
   "metadata": {},
   "outputs": [
    {
     "name": "stdout",
     "output_type": "stream",
     "text": [
      "True\n",
      "True\n",
      "False\n",
      "('\"I could eat ', 'bananas', ' all day, bananas are my favorite fruit\"')\n",
      "('\"I could eat bananas all day, ', 'bananas', ' are my favorite fruit\"')\n",
      "True\n",
      "17\n",
      "9\n",
      "6\n",
      "t\n",
      "A\n",
      "['Ineuron ', ' Full Stack ', ' Data Science ', ' Course ']\n",
      "Finding nemo\n",
      "DATAPIPELINES\n",
      "mlops\n",
      "doloris jane umbridge\n",
      "Data science    Data Analyst\n",
      "5\n",
      "6\n",
      "2\n",
      "['i', 'euro', '']\n",
      "['i', 'euro', '']\n",
      "Math \n",
      " Data\n",
      "EDA\n",
      "eXPLORATORY dATA aNALYSIS\n",
      "Iris_flower_Dataset\n",
      "Hello Pam!\n",
      "Hello Pam!\n",
      "I2euro2\n",
      "b'Natural Language Processing'\n",
      "Nemo      \n",
      "      Nemo\n",
      "   Nemo   \n",
      "00000Hello\n"
     ]
    }
   ],
   "source": [
    "#Here is the string based functions\n",
    "\n",
    "print('632'.isdecimal())\n",
    "print('Datascience'.isalnum())\n",
    "print('Ineuron Full Stack data science'.istitle())\n",
    "print('\"I could eat bananas all day, bananas are my favorite fruit\"'.partition('bananas'))\n",
    "print('\"I could eat bananas all day, bananas are my favorite fruit\"'.rpartition('bananas'))\n",
    "print('GeeksForFreaks'.isidentifier())\n",
    "print(len('Linear Regression'))\n",
    "print('Data Analytics'.index('y'))\n",
    "print('Ineuron'.rindex('n'))\n",
    "print(max('Data_Scientist'))\n",
    "print(min('Data_Analyst'))\n",
    "print('Ineuron \\n Full Stack \\n Data Science \\n Course '.splitlines())\n",
    "print('finding nemo'.capitalize())\n",
    "print('datapipelines'.upper())\n",
    "print('MLOPS'.lower())\n",
    "print('Doloris Jane Umbridge'.casefold())\n",
    "print('Data science\\tData Analyst'.expandtabs(8))\n",
    "print('Biranchi'.find('c'))\n",
    "print('Ineuron'.rfind('n'))\n",
    "print('Transformers'.count('s'))\n",
    "print('ineuron'.split('n'))\n",
    "print('ineuron'.rsplit('n'))\n",
    "print(' Math '.lstrip())\n",
    "print(' Data  '.rstrip())\n",
    "print(' EDA '.strip())\n",
    "print('Exploratory Data Analysis'.swapcase())\n",
    "print('_'.join(['Iris','flower','Dataset']))\n",
    "\n",
    "mydict = {83:  80}\n",
    "print(\"Hello Sam!\".translate(mydict))\n",
    "\n",
    "txt = \"Hello Sam!\"\n",
    "mytable = txt.maketrans(\"S\", \"P\")\n",
    "print(txt.translate(mytable))\n",
    "\n",
    "print('Ineuron'.replace('n','2'))\n",
    "print('Natural Language Processing'.encode())\n",
    "print('Nemo'.ljust(10))\n",
    "print('Nemo'.rjust(10))\n",
    "print('Nemo'.center(10))\n",
    "print('Hello'.zfill(10))"
   ]
  },
  {
   "cell_type": "markdown",
   "id": "3974822a",
   "metadata": {},
   "source": [
    "Q2. **How do the string forms in Python 3.X vary in terms of operations?**"
   ]
  },
  {
   "cell_type": "markdown",
   "id": "3d591a21",
   "metadata": {},
   "source": [
    "**Answer**:\n",
    "\n",
    "In Python 3.x, there are two types of strings: **byte strings and Unicode strings**. Byte strings are sequences of bytes, and are represented using the bytes type. Unicode strings are sequences of Unicode characters, and are represented using the str type.\n",
    "\n",
    "One key difference between byte strings and Unicode strings is that byte strings are immutable, while Unicode strings are mutable. This means that you cannot modify the contents of a byte string, but you can modify the contents of a Unicode string.\n",
    "\n",
    "Another difference between byte strings and Unicode strings is the way they are encoded and decoded. Byte strings are typically encoded using a specific encoding, such as UTF-8 or ASCII, when they are stored or transmitted. Unicode strings, on the other hand, do not need to be encoded, because they are already Unicode characters.\n",
    "\n",
    "Here are some examples of operations that are different between byte strings and Unicode strings in Python:\n",
    "\n",
    "Concatenation: You can concatenate byte strings using the + operator, but you cannot concatenate Unicode strings using the + operator. Instead, you must use the + operator on Unicode strings.\n",
    "\n",
    "Slicing: You can slice byte strings using the [start:end] notation, but you cannot slice Unicode strings using this notation. Instead, you must use the [start:end:step] notation for Unicode strings.\n",
    "\n",
    "Comparison: You can compare byte strings using the == operator, but you cannot compare Unicode strings using this operator. Instead, you must use the == operator on Unicode strings."
   ]
  },
  {
   "cell_type": "markdown",
   "id": "7dc6e10d",
   "metadata": {},
   "source": [
    "Q3. **In Python 3.X, how do you put non-ASCII Unicode characters in a string?**"
   ]
  },
  {
   "cell_type": "markdown",
   "id": "b28ef8a1",
   "metadata": {},
   "source": [
    "**Answer**: In Python 3.x, you can put non-ASCII Unicode characters in a string by using the str type and specifying the Unicode character using the \\u escape sequence."
   ]
  },
  {
   "cell_type": "code",
   "execution_count": 3,
   "id": "ba8feb58",
   "metadata": {},
   "outputs": [
    {
     "name": "stdout",
     "output_type": "stream",
     "text": [
      "The cost is €10.\n",
      "I saw a 🐍 in the garden.\n"
     ]
    }
   ],
   "source": [
    "s = \"The cost is \\u20ac10.\"\n",
    "print(s)\n",
    "\n",
    "s = \"I saw a \\U0001F40D in the garden.\"\n",
    "print(s)\n"
   ]
  },
  {
   "cell_type": "markdown",
   "id": "a8a7777f",
   "metadata": {},
   "source": [
    "--> Keep in mind that you can only use the \\u and \\U escape sequences within Unicode strings (strings of type str). If you try to use these escape sequences within a byte string (a string of type bytes), you will get a syntax error"
   ]
  },
  {
   "cell_type": "markdown",
   "id": "a894dd1f",
   "metadata": {},
   "source": [
    "Q4. **In Python 3.X, what are the key differences between text-mode and binary-mode files?**"
   ]
  },
  {
   "cell_type": "markdown",
   "id": "92a1ccc1",
   "metadata": {},
   "source": [
    "**Answer**:\n",
    "In Python 3.x, there are two modes in which you can open a file: text mode and binary mode. The mode in which you open a file determines how Python reads and writes data to the file.\n",
    "\n",
    "Here are the key differences between text-mode and binary-mode files in Python 3.x:\n",
    "\n",
    "`Encoding`: When you open a file in text mode, Python assumes that the file is encoded using a specific encoding, such as UTF-8 or ASCII. It will automatically decode the file's contents when you read from the file, and it will automatically encode the data when you write to the file. When you open a file in binary mode, Python does not make any assumptions about the file's encoding, and it reads and writes the file's contents as a sequence of bytes without any modification.\n",
    "\n",
    "`Line endings`: When you open a file in text mode, Python will automatically handle line endings for you. It will convert line endings in the file to the appropriate line ending for the current platform when you read from the file, and it will convert line endings in your data to the appropriate line ending for the file when you write to the file. When you open a file in binary mode, Python does not make any changes to the line endings, and you are responsible for handling line endings yourself.\n",
    "\n",
    "`Type of data`: When you open a file in text mode, Python reads and writes Unicode strings (of type str). When you open a file in binary mode, Python reads and writes byte strings (of type bytes).\n",
    "\n",
    "In general, you should use text mode when you are working with text files that contain human-readable data, and you should use binary mode when you are working with binary files, such as images or audio files.\n",
    "\n",
    "It is also worth noting that Python 3.x uses Unicode strings by default, so you do not need to specify the encoding when you read or write strings to files or other external sources. However, if you need to work with byte strings (for example, when reading or writing binary data), you can use the bytes type and the b'' syntax to create and manipulate byte strings in Python."
   ]
  },
  {
   "cell_type": "markdown",
   "id": "c56badac",
   "metadata": {},
   "source": [
    "Q5. **How can you interpret a Unicode text file containing text encoded in a different encoding than your platform's default?**"
   ]
  },
  {
   "cell_type": "markdown",
   "id": "f2bade6a",
   "metadata": {},
   "source": [
    "**Answer**: Use of encode() and decode() method can be used to you interpret a Unicode text file containing text encoded in a different encoding than your platform's default, by default encoding parameter is UTF-8\n",
    "\n"
   ]
  },
  {
   "cell_type": "markdown",
   "id": "2125cef7",
   "metadata": {},
   "source": [
    "Q6. **What is the best way to make a Unicode text file in a particular encoding format?**\n",
    "\n",
    "**Ans**: Use str.encode() and file.write() to make a Unicode text file in a particular encoding format, default encoding format is UTF-18.\n",
    "\n",
    "Call str.encode(encoding) with encoding set to utf8 to encode str.\n",
    "Call open(file, mode) to open a file with mode set to wb . wb writes to files in binary mode & preserves UTF-8format.\n",
    "Call file.write(data) to write data to the file."
   ]
  },
  {
   "cell_type": "code",
   "execution_count": 4,
   "id": "8e577784",
   "metadata": {},
   "outputs": [
    {
     "name": "stdout",
     "output_type": "stream",
     "text": [
      "b'\\xd1\\x83\\xd0\\xbb\\xd1\\x8b\\xd0\\xb1\\xd0\\xb0\\xd1\\x82\\xd1\\x8c\\xd1\\x81\\xd1\\x8f \\xd0\\x92\\xd0\\xbb\\xd0\\xb0\\xd0\\xb4\\xd0\\xb8\\xd0\\xbc\\xd0\\xb8\\xd1\\x80 \\xd0\\x9f\\xd1\\x83\\xd1\\x82\\xd0\\xb8\\xd0\\xbd'\n",
      "\n",
      "b'\\xd1\\x83\\xd0\\xbb\\xd1\\x8b\\xd0\\xb1\\xd0\\xb0\\xd1\\x82\\xd1\\x8c\\xd1\\x81\\xd1\\x8f \\xd0\\x92\\xd0\\xbb\\xd0\\xb0\\xd0\\xb4\\xd0\\xb8\\xd0\\xbc\\xd0\\xb8\\xd1\\x80 \\xd0\\x9f\\xd1\\x83\\xd1\\x82\\xd0\\xb8\\xd0\\xbd'\n"
     ]
    }
   ],
   "source": [
    "unicode_text = u\"улыбаться Владимир Путин\"\n",
    "encoded_unicode_text = unicode_text.encode(\"utf-8\")\n",
    "print(encoded_unicode_text,end=\"\\n\\n\")\n",
    "\n",
    "w_file = open(\"w_file.txt\",\"wb\")\n",
    "w_file.write(encoded_unicode_text)\n",
    "w_file.close()\n",
    "\n",
    "r_file = open(\"w_file.txt\",\"rb\")\n",
    "data = r_file.read()\n",
    "print(data)"
   ]
  },
  {
   "cell_type": "markdown",
   "id": "b6203df3",
   "metadata": {},
   "source": [
    "Q7. **What qualifies ASCII text as a form of Unicode text?**"
   ]
  },
  {
   "cell_type": "markdown",
   "id": "ba006976",
   "metadata": {},
   "source": [
    "**Answer**: Unicode represents most written languages in the world. ASCII has its equivalent in Unicode. The difference between `ASCII` and `Unicode` is that ASCII represents lowercase letters `(a-z)`, uppercase letters `(A-Z)`, digits (0–9) and symbols such as punctuation marks while Unicode represents letters of English, Arabic, Greek etc. mathematical symbols, historical scripts, emoji covering a wide range of characters than ASCII."
   ]
  },
  {
   "cell_type": "markdown",
   "id": "979ded78",
   "metadata": {},
   "source": [
    "Q8. **How much of an effect does the change in string types in Python 3.X have on your code?**"
   ]
  },
  {
   "cell_type": "markdown",
   "id": "d43b7f92",
   "metadata": {},
   "source": [
    "**Answer**:\n",
    "\n",
    "In Python 3, the way that strings are represented and handled has changed significantly compared to Python 2. This can have a significant effect on your code if you are using Python 3 and you have written code that depends on the specific string handling behavior of Python 2.\n",
    "\n",
    "-->One of the most notable changes in Python 3 is that the str type now represents Unicode strings, rather than ASCII or bytes. This means that you can use Unicode characters directly in str objects, and you can use the str.encode() and str.decode() methods to handle bytes and ASCII strings.\n",
    "\n",
    "--> Another change in Python 3 is that the bytes type has been introduced to represent a sequence of bytes. You can use the bytes type to handle binary data, and you can use the bytes.decode() method to convert a bytes object to a str object.\n",
    "\n",
    "If you have code that relies on the specific string handling behavior of Python 2, you may need to make some changes to your code in order to make it work correctly in Python 3. This can include updating your code to use the str and bytes types appropriately, and using the appropriate methods to encode and decode strings and bytes."
   ]
  },
  {
   "cell_type": "code",
   "execution_count": null,
   "id": "5e49cfbe",
   "metadata": {},
   "outputs": [],
   "source": []
  }
 ],
 "metadata": {
  "kernelspec": {
   "display_name": "Python 3 (ipykernel)",
   "language": "python",
   "name": "python3"
  },
  "language_info": {
   "codemirror_mode": {
    "name": "ipython",
    "version": 3
   },
   "file_extension": ".py",
   "mimetype": "text/x-python",
   "name": "python",
   "nbconvert_exporter": "python",
   "pygments_lexer": "ipython3",
   "version": "3.9.7"
  }
 },
 "nbformat": 4,
 "nbformat_minor": 5
}
