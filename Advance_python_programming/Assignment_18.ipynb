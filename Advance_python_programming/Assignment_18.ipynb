{
 "cells": [
  {
   "cell_type": "markdown",
   "id": "d22e610e",
   "metadata": {},
   "source": [
    "### Q.1 Describe the differences between text and binary files in a single paragraph"
   ]
  },
  {
   "cell_type": "markdown",
   "id": "ac7beb39",
   "metadata": {},
   "source": [
    "**Ans**: The differences between Text Files and Binary Files are:\n",
    "\n",
    "Text files are special subset of binary files that are used to store human readable characters as a rich text document or plain text document. Text files also store data in sequential bytes but bits in text file represents characters. where as Binary files are those typical files that store data in the form of sequence of bytes grouped into eight bits or sometimes sixteen bits. \n",
    "\n",
    "These bits represent custom data and such files can store multiple types of data (images, audio, text, etc) under a single file."
   ]
  },
  {
   "cell_type": "markdown",
   "id": "f8d1aff9",
   "metadata": {},
   "source": [
    "### Q2. What are some scenarios where using text files will be the better option? When would you like to use binary files instead of text files?"
   ]
  },
  {
   "cell_type": "markdown",
   "id": "ed281d7f",
   "metadata": {},
   "source": [
    "**Answer**:\n",
    "\n",
    "Text files and binary files are used for different purposes, and the choice between the two depends on the needs of your application.\n",
    "\n",
    "Text files are files that contain human-readable characters stored in a format that can be read and edited by text editors. They are often used to store data that needs to be read or written by humans or by other programs. Some examples of when you might use text files include:\n",
    "\n",
    "- Storing configuration settings, such as INI files or properties files\n",
    "- Storing data in a human-readable format, such as CSV files or JSON files\n",
    "- Storing log files or other types of records that need to be read and analyzed by humans\n",
    "- On the other hand, binary files are files that contain data stored in a binary format, which is not human-readable. They are often used to store data that needs to be efficiently read or written by a program, or to store large amounts of data that do not need to be read by humans. Some examples of when you might use binary files include:\n",
    "\n",
    "1. Storing large amounts of data that do not need to be read or edited by humans, such as image or audio files\n",
    "2. Storing data in a compact and efficient format, such as serialized objects or compressed data\n",
    "3. Storing data in a format that is not human-readable, but can be efficiently processed by a program, such as executable files or compiled code"
   ]
  },
  {
   "cell_type": "markdown",
   "id": "50192a26",
   "metadata": {},
   "source": [
    "### Q3. What are some of the issues with using binary operations to read and write a Python integer directly to disc?"
   ]
  },
  {
   "cell_type": "markdown",
   "id": "fa8d4c30",
   "metadata": {},
   "source": [
    "**Ans**: When we read or write a python integer using binary operations\n",
    "\n",
    "- Binary operations deal with raw data\n",
    "- One needs to identify how many bytes one would read or write."
   ]
  },
  {
   "cell_type": "markdown",
   "id": "c8f608a0",
   "metadata": {},
   "source": [
    "### Q4. Describe a benefit of using the with keyword instead of explicitly opening a file ?"
   ]
  },
  {
   "cell_type": "markdown",
   "id": "ed82e2ef",
   "metadata": {},
   "source": [
    "**Ans**: \n",
    "Using the **with** keyword to open a file is a good practice because it ensures that the file is properly closed after you are done with it.\n",
    "\n",
    "When you open a file, you create a file object that you can use to read or write to the file. It is important to close the file when you are done with it, because this releases system resources that were used to open the file.\n",
    "\n",
    "If you open a file using the open function, you need to close it manually by calling the close method on the file object. For example:"
   ]
  },
  {
   "cell_type": "code",
   "execution_count": 2,
   "id": "74f45e9f",
   "metadata": {},
   "outputs": [],
   "source": [
    "with open('file.txt', 'w') as file:\n",
    "    file.write('I am doing my assignment')\n",
    "# Read or write to the file\n",
    "file.close()\n"
   ]
  },
  {
   "cell_type": "markdown",
   "id": "5fff08ae",
   "metadata": {},
   "source": [
    "### Q5. Does Python have the trailing newline while reading a line of text? Does Python append a newline when you write a line of text?\n",
    "\n",
    "**Ans**: Yes, Python have the trailing newline while reading a line of text. When we write, a newline has to be provided in python explicitly to append a newline. Hence Python does not append a newline implicitly"
   ]
  },
  {
   "cell_type": "markdown",
   "id": "b69d254e",
   "metadata": {},
   "source": [
    "### Q6. What file operations enable for random-access operation?\n",
    "\n",
    "**Ans**: The file operations enable for random-access operation are `seek()` and `tell()`"
   ]
  },
  {
   "cell_type": "markdown",
   "id": "8510faa0",
   "metadata": {},
   "source": [
    "### Q7. When do you think you'll use the struct package the most?"
   ]
  },
  {
   "cell_type": "markdown",
   "id": "bfee6471",
   "metadata": {},
   "source": [
    "**Ans**:\n",
    "\n",
    "The `struct package` is useful for working with binary data in Go. It allows you to define a structure for the data and then use the Pack and Unpack functions to serialize and deserialize the data.\n",
    "\n",
    "You might use the **struct package** when you need to send or receive data over a network connection, read or write data to a file, or when you need to store data in a compact binary format.\n",
    "\n",
    "**For example**, you might use the struct package to define a structure for a message that you want to send over a network connection. You could then use the Pack function to serialize the message into a byte slice, and the Unpack function to deserialize the byte slice back into a message structure.\n",
    "\n",
    "Overall, you would use the struct package most frequently when you need to work with binary data in Go and want an easy way to serialize and deserialize that data."
   ]
  },
  {
   "cell_type": "markdown",
   "id": "52a931be",
   "metadata": {},
   "source": [
    "### Q8. When is pickling the best option?"
   ]
  },
  {
   "cell_type": "markdown",
   "id": "b4513877",
   "metadata": {},
   "source": [
    "**Ans**:\n",
    "\n",
    "Pickling is best option for creating a new binary file using python. **Pickle in Python** is primarily used in serializing and deserializing a Python object structure. In other words, it’s the process of converting a Python object into a byte stream to store it in a file/database, maintain program state across sessions, or transport data over the network. \n",
    "\n",
    "The pickled byte stream can be used to re-create the original object hierarchy by unpickling the stream. This whole process is similar to object serialization in Java or .Net."
   ]
  },
  {
   "cell_type": "markdown",
   "id": "d1f77606",
   "metadata": {},
   "source": [
    "### Q9. When will it be best to use the shelve package?\n",
    "\n",
    "**Ans**: Shelve package is used to pickle data but treats the entire file as dictionary. A “shelf” is a persistent, dictionary-like object. The difference with “dbm” databases is that the values (not the keys) in a shelf can be essentially arbitrary Python objects — anything that the pickle module can handle. This includes most class instances, recursive data types, and objects containing lots of shared sub-objects. The keys are ordinary strings.\n",
    "\n",
    "**`Syntax: shelve.open(filename, flag='c', protocol=None, writeback=False)`**"
   ]
  },
  {
   "cell_type": "markdown",
   "id": "3a59c949",
   "metadata": {},
   "source": [
    "### Q10. What is a special restriction when using the shelve package, as opposed to using other data dictionaries?\n",
    "\n",
    "**Ans**: Only string data type can be used as key in this special dictionary (shelve package) object, whereas any pickle Python object can be used as value."
   ]
  },
  {
   "cell_type": "markdown",
   "id": "e357149e",
   "metadata": {},
   "source": [
    "The `shelve` module in Python is a built-in module that allows you to store data in a persistent way using a dictionary-like interface. The data is stored in a binary file on disk, and the shelve module provides functions for reading and writing the data in this file.\n",
    "\n",
    "One special restriction when using the shelve module is that the keys and values of the data must be pickleable. This means that they must be able to be serialized using the pickle module, which is a part of the Python standard library.\n",
    "\n",
    "For example, you might use the shelve module to store a dictionary of user data, where the keys are user IDs and the values are dictionaries containing information about each user. In this case, the keys (user IDs) and values (dictionaries) must be pickleable in order to be stored using the shelve module.\n",
    "\n",
    "Overall, the main restriction to be aware of when using the shelve module is that the keys and values must be pickleable. If you need to store data that is not pickleable, you may need to use a different method for storing the data persistently"
   ]
  },
  {
   "cell_type": "code",
   "execution_count": null,
   "id": "f8b3a42f",
   "metadata": {},
   "outputs": [],
   "source": []
  }
 ],
 "metadata": {
  "kernelspec": {
   "display_name": "Python 3 (ipykernel)",
   "language": "python",
   "name": "python3"
  },
  "language_info": {
   "codemirror_mode": {
    "name": "ipython",
    "version": 3
   },
   "file_extension": ".py",
   "mimetype": "text/x-python",
   "name": "python",
   "nbconvert_exporter": "python",
   "pygments_lexer": "ipython3",
   "version": "3.9.7"
  }
 },
 "nbformat": 4,
 "nbformat_minor": 5
}
