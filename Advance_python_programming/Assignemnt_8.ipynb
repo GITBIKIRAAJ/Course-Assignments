{
 "cells": [
  {
   "cell_type": "markdown",
   "id": "0aa4c9b6",
   "metadata": {},
   "source": [
    "Q1. **What are the two latest user-defined exception constraints in Python 3.X?**"
   ]
  },
  {
   "cell_type": "markdown",
   "id": "c404146f",
   "metadata": {},
   "source": [
    "**Answer**: **`raise`** and **`assert`** are the two latest user-defined exception constraints in Python 3.X"
   ]
  },
  {
   "cell_type": "markdown",
   "id": "15951923",
   "metadata": {},
   "source": [
    "Q2. **How are class-based exceptions that have been raised matched to handlers?**"
   ]
  },
  {
   "cell_type": "markdown",
   "id": "8340d4a3",
   "metadata": {},
   "source": [
    "Q2. **How are class-based exceptions that have been raised matched to handlers?**"
   ]
  },
  {
   "cell_type": "markdown",
   "id": "870980ee",
   "metadata": {},
   "source": [
    "**Answers**: In Python, a class-based exception is a user-defined exception that is defined using a class. To create a class-based exception, you can define a class that inherits from the built-in Exception class or one of its subclasses"
   ]
  },
  {
   "cell_type": "code",
   "execution_count": 11,
   "id": "8d638bb3",
   "metadata": {},
   "outputs": [
    {
     "name": "stdout",
     "output_type": "stream",
     "text": [
      "This is my custom exception\n"
     ]
    }
   ],
   "source": [
    "class CustomException(Exception):\n",
    "    \"\"\" my custom exception class \"\"\"\n",
    "\n",
    "try:\n",
    "    \n",
    "    raise CustomException('This is my custom exception')\n",
    "except CustomException as ex:\n",
    "    print(ex)"
   ]
  },
  {
   "cell_type": "markdown",
   "id": "096ae3ff",
   "metadata": {},
   "source": [
    "Q3. **Describe two methods for attaching context information to exception artefacts ?**"
   ]
  },
  {
   "cell_type": "markdown",
   "id": "735d7a96",
   "metadata": {},
   "source": [
    "**Answers**: The `process()` method of LoggerAdapter is where the contextual information is added to the logging output. its passes the message and keyword arguments of the logging call, and it passes back modified versions of these to use in the call to the underlying logger.\n",
    "\n",
    "Other method that can be used is `exception()`, Logs a messgae with level ERROR on this logger. The arguments are interpreted as for debug(). Exception info is added to the logging message."
   ]
  },
  {
   "cell_type": "markdown",
   "id": "1736d2f1",
   "metadata": {},
   "source": [
    "Q4. **Describe two methods for specifying the text of an exception object's error message ?**"
   ]
  },
  {
   "cell_type": "markdown",
   "id": "cb6e806c",
   "metadata": {},
   "source": [
    "**Answer**:\n",
    "There are a few different ways to specify the text of an exception object's error message in Python"
   ]
  },
  {
   "cell_type": "code",
   "execution_count": 16,
   "id": "8c4dd989",
   "metadata": {},
   "outputs": [
    {
     "ename": "MyCustomException",
     "evalue": "An error occurred",
     "output_type": "error",
     "traceback": [
      "\u001b[1;31m---------------------------------------------------------------------------\u001b[0m",
      "\u001b[1;31mMyCustomException\u001b[0m                         Traceback (most recent call last)",
      "\u001b[1;32m~\\AppData\\Local\\Temp/ipykernel_19608/1127434126.py\u001b[0m in \u001b[0;36m<module>\u001b[1;34m\u001b[0m\n\u001b[0;32m      3\u001b[0m         \u001b[0mself\u001b[0m\u001b[1;33m.\u001b[0m\u001b[0mmessage\u001b[0m \u001b[1;33m=\u001b[0m \u001b[0mmessage\u001b[0m\u001b[1;33m\u001b[0m\u001b[1;33m\u001b[0m\u001b[0m\n\u001b[0;32m      4\u001b[0m \u001b[1;33m\u001b[0m\u001b[0m\n\u001b[1;32m----> 5\u001b[1;33m \u001b[1;32mraise\u001b[0m \u001b[0mMyCustomException\u001b[0m\u001b[1;33m(\u001b[0m\u001b[1;34m\"An error occurred\"\u001b[0m\u001b[1;33m)\u001b[0m\u001b[1;33m\u001b[0m\u001b[1;33m\u001b[0m\u001b[0m\n\u001b[0m",
      "\u001b[1;31mMyCustomException\u001b[0m: An error occurred"
     ]
    }
   ],
   "source": [
    "class MyCustomException(Exception):\n",
    "    def __init__(self, message):\n",
    "        self.message = message\n",
    "\n",
    "raise MyCustomException(\"An error occurred\")"
   ]
  },
  {
   "cell_type": "markdown",
   "id": "3ab3ff91",
   "metadata": {},
   "source": [
    "In this case, the error message \"An error occurred\" is passed as an argument to the constructor of the MyCustomException class,\n",
    "and it is stored as an attribute of the exception object. You can then access the error message using the message attribute of the exception object.\n",
    "\n",
    "Another way to specify the error message is to override the __str__ method of the exception class. This method is called when the exception object is converted to a string, and it should return the string representation of the exception object. For example:"
   ]
  },
  {
   "cell_type": "code",
   "execution_count": 17,
   "id": "d3241e55",
   "metadata": {},
   "outputs": [
    {
     "ename": "MyCustomException",
     "evalue": "An error occurred",
     "output_type": "error",
     "traceback": [
      "\u001b[1;31m---------------------------------------------------------------------------\u001b[0m",
      "\u001b[1;31mMyCustomException\u001b[0m                         Traceback (most recent call last)",
      "\u001b[1;32m~\\AppData\\Local\\Temp/ipykernel_19608/900546884.py\u001b[0m in \u001b[0;36m<module>\u001b[1;34m\u001b[0m\n\u001b[0;32m      6\u001b[0m         \u001b[1;32mreturn\u001b[0m \u001b[0mself\u001b[0m\u001b[1;33m.\u001b[0m\u001b[0mmessage\u001b[0m\u001b[1;33m\u001b[0m\u001b[1;33m\u001b[0m\u001b[0m\n\u001b[0;32m      7\u001b[0m \u001b[1;33m\u001b[0m\u001b[0m\n\u001b[1;32m----> 8\u001b[1;33m \u001b[1;32mraise\u001b[0m \u001b[0mMyCustomException\u001b[0m\u001b[1;33m(\u001b[0m\u001b[1;34m\"An error occurred\"\u001b[0m\u001b[1;33m)\u001b[0m\u001b[1;33m\u001b[0m\u001b[1;33m\u001b[0m\u001b[0m\n\u001b[0m",
      "\u001b[1;31mMyCustomException\u001b[0m: An error occurred"
     ]
    }
   ],
   "source": [
    "class MyCustomException(Exception):\n",
    "    def __init__(self, message):\n",
    "        self.message = message\n",
    "\n",
    "    def __str__(self):\n",
    "        return self.message\n",
    "\n",
    "raise MyCustomException(\"An error occurred\")"
   ]
  },
  {
   "cell_type": "markdown",
   "id": "9509f19d",
   "metadata": {},
   "source": [
    "Q5. **Why do you no longer use string-based exceptions?**"
   ]
  },
  {
   "cell_type": "markdown",
   "id": "8fe8a9f8",
   "metadata": {},
   "source": [
    "**Answer**:\n",
    "\n",
    "String-based exceptions were a feature of earlier versions of Python (prior to Python 2.5) that allowed you to raise exceptions using a string as the exception type\n",
    "\n",
    "There are a few reasons why **class-based exceptions** are generally preferred over string-based exceptions:\n",
    "\n",
    "1. Class-based exceptions are more flexible\n",
    "2. Class-based exceptions are more robust\n",
    "3. Class-based exceptions are more consistent "
   ]
  },
  {
   "cell_type": "code",
   "execution_count": null,
   "id": "bb60689a",
   "metadata": {},
   "outputs": [],
   "source": []
  }
 ],
 "metadata": {
  "kernelspec": {
   "display_name": "Python 3 (ipykernel)",
   "language": "python",
   "name": "python3"
  },
  "language_info": {
   "codemirror_mode": {
    "name": "ipython",
    "version": 3
   },
   "file_extension": ".py",
   "mimetype": "text/x-python",
   "name": "python",
   "nbconvert_exporter": "python",
   "pygments_lexer": "ipython3",
   "version": "3.9.7"
  }
 },
 "nbformat": 4,
 "nbformat_minor": 5
}
