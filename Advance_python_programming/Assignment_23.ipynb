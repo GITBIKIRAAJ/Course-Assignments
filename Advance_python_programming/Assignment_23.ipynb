{
 "cells": [
  {
   "cell_type": "markdown",
   "id": "457d5a71",
   "metadata": {},
   "source": [
    "Q1. **If you have any, what are your choices for increasing the comparison between different figures on the same graph?**"
   ]
  },
  {
   "cell_type": "code",
   "execution_count": 2,
   "id": "96b59c10",
   "metadata": {},
   "outputs": [
    {
     "data": {
      "image/png": "[encoded data removed]",
      "text/plain": [
       "<Figure size 432x288 with 2 Axes>"
      ]
     },
     "metadata": {
      "needs_background": "light"
     },
     "output_type": "display_data"
    }
   ],
   "source": [
    "import matplotlib.pyplot as plt\n",
    "import numpy as np\n",
    "\n",
    "#plot 1:\n",
    "x = np.array([0, 1, 2, 3,5,7])\n",
    "y = np.array([3, 8, 1, 10,12,15])\n",
    "\n",
    "plt.subplot(1, 2, 1)\n",
    "plt.plot(x,y)\n",
    "\n",
    "#plot 2:\n",
    "x = np.array([0, 1, 2, 3,4,5])\n",
    "y = np.array([10, 20, 30, 40,45,55])\n",
    "\n",
    "plt.subplot(1, 2, 2)\n",
    "plt.plot(x,y)\n",
    "\n",
    "plt.show()"
   ]
  },
  {
   "cell_type": "markdown",
   "id": "103bc6fb",
   "metadata": {},
   "source": [
    "Q2. **Can you explain the benefit of compound interest over a higher rate of interest that does not compound after reading this chapter?**"
   ]
  },
  {
   "cell_type": "markdown",
   "id": "e71a41cf",
   "metadata": {},
   "source": [
    "**Ans**: \n",
    " Compound interest makes a sum of money grow at a faster rate than simple interest,because in addition to earning returns on the money you invest, you also earn returns on those returns at the end of every compounding period, which could be daily, monthly, quarterly or annually."
   ]
  },
  {
   "cell_type": "markdown",
   "id": "d95f03aa",
   "metadata": {},
   "source": [
    "Q3. **What is a histogram, exactly? Name a numpy method for creating such a graph ?**"
   ]
  },
  {
   "cell_type": "markdown",
   "id": "3bae9901",
   "metadata": {},
   "source": [
    "**Ans**: A histogram is a graphical representation of the distribution of a dataset. It is a bar chart that shows the frequency or number of occurrences of each value in the dataset. Histograms are often used to visualize the distribution of `continuous variables, such as measurements or scores`.\n",
    "\n",
    "The numpy package provides a function called `histogram()` that can be used to create a histogram from a dataset. This function returns the histogram bin edges and frequencies, which can then be plotted using a `bar chart`."
   ]
  },
  {
   "cell_type": "code",
   "execution_count": 3,
   "id": "a961dbeb",
   "metadata": {},
   "outputs": [
    {
     "data": {
      "image/png": "[encoded data removed]",
      "text/plain": [
       "<Figure size 432x288 with 1 Axes>"
      ]
     },
     "metadata": {
      "needs_background": "light"
     },
     "output_type": "display_data"
    }
   ],
   "source": [
    "import numpy as np\n",
    "# Generate some random data\n",
    "data = np.random.normal(10, 5, 1000)\n",
    "\n",
    "# Use the numpy histogram function to get the bin edges and frequencies\n",
    "hist, edges = np.histogram(data, bins=10)\n",
    "\n",
    "# Plot the histogram using matplotlib\n",
    "plt.bar(edges[:-1], hist, width=edges[1] - edges[0])\n",
    "plt.show()\n"
   ]
  },
  {
   "cell_type": "markdown",
   "id": "c8054b45",
   "metadata": {},
   "source": [
    "Q4. **If necessary, how do you change the aspect ratios between the X and Y axes ?**\n",
    "\n",
    "**Ans**: We can use figure(figsize=(15,9)) function inside the matplot.pyplot library which we scale down or up the graph."
   ]
  },
  {
   "cell_type": "markdown",
   "id": "331ad5f1",
   "metadata": {},
   "source": [
    "Q5. **Compare and contrast the three types of array multiplication between two numpy arrays: dot product, outer product, and regular multiplication of two numpy arrays ?**"
   ]
  },
  {
   "cell_type": "markdown",
   "id": "d79d7479",
   "metadata": {},
   "source": [
    "**Ans**: \n",
    "The three types of array multiplication between two numpy arrays are:\n",
    "\n",
    "**Dot product**: The dot product (also known as the inner product or scalar product) of two numpy arrays is a scalar value that is obtained by multiplying the corresponding elements of the two arrays and summing the results. The dot product is defined as:\n",
    "\n",
    "`dot_product` = sum(A[i] * B[i])\n",
    "\n",
    "where A and B are the two numpy arrays and i is the index of the element in the arrays.\n",
    "\n",
    "The dot product is a linear algebra operation that is used to measure the similarity between two arrays. It is commonly used in machine learning and statistical analysis.\n",
    "\n",
    "**Outer product**: The outer product (also known as the tensor product) of two numpy arrays is a multi-dimensional array that is obtained by multiplying the elements of the two arrays element-wise. The outer product is defined as:\n",
    "\n",
    "outer_product [i] [j] = A[i] * B[j]\n",
    "\n",
    "where A and B are the two numpy arrays and i and j are the indices of the elements in the arrays.\n",
    "\n",
    "The outer product is a generalization of the dot product and is used to transform two arrays into a higher-dimensional space. It is commonly used in machine learning and signal processing.\n",
    "\n",
    "**Regular multiplication**: Regular multiplication of two numpy arrays is element-wise multiplication, where the elements of the two arrays are multiplied together element-by-element. This is also known as Hadamard multiplication. The regular multiplication of two numpy arrays is defined as:\n",
    "\n",
    "result [i] [j] = A[i] [j] * B[i][j]\n",
    "\n",
    "where A and B are the two numpy arrays and i and j are the indices of the elements in the arrays.\n",
    "\n",
    "Regular multiplication of two numpy arrays is a basic element-wise operation that is commonly used in numerical computing and data analysis."
   ]
  },
  {
   "cell_type": "markdown",
   "id": "30d4a086",
   "metadata": {},
   "source": [
    "Q6. **Before you buy a home, which numpy function will you use to measure your monthly mortgage payment ?**\n"
   ]
  },
  {
   "cell_type": "markdown",
   "id": "07ee82f3",
   "metadata": {},
   "source": [
    "**Ans**:\n",
    "`np.pmt`(rate, nper, pv) function we will be using in order to calculate monthly mortgage payment before you purchase a house.\n",
    "\n",
    "`rate` = The periodic interest rate <br>\n",
    "`nper` = The number of payment periods <br>\n",
    "`pv` = The total value of the mortgage loan"
   ]
  },
  {
   "cell_type": "markdown",
   "id": "e7443c8d",
   "metadata": {},
   "source": [
    "Q7. **Can string data be stored in numpy arrays? If so, list at least one restriction that applies to this data ?**"
   ]
  },
  {
   "cell_type": "markdown",
   "id": "243c1690",
   "metadata": {},
   "source": [
    "Yes, string data can be stored in numpy arrays. The numpy package provides a dtype called str_ that allows you to create arrays of fixed-length strings."
   ]
  },
  {
   "cell_type": "code",
   "execution_count": 4,
   "id": "53b70c2d",
   "metadata": {},
   "outputs": [
    {
     "name": "stdout",
     "output_type": "stream",
     "text": [
      "['hello' 'world']\n"
     ]
    }
   ],
   "source": [
    "import numpy as np\n",
    "\n",
    "# Create a numpy array of fixed-length strings with a length of 10 characters\n",
    "string_array = np.array(['hello', 'world'], dtype='str_')\n",
    "\n",
    "print(string_array)  # Output: ['hello' 'world']\n"
   ]
  },
  {
   "cell_type": "markdown",
   "id": "91655393",
   "metadata": {},
   "source": [
    "__One restriction__ that applies to string data stored in numpy arrays is that the strings must be of a **fixed length**. This means that if you try to allocate a longer string to one of these arrays, the string will be truncated to fit the fixed length of the array"
   ]
  },
  {
   "cell_type": "code",
   "execution_count": 5,
   "id": "751838f0",
   "metadata": {},
   "outputs": [
    {
     "name": "stdout",
     "output_type": "stream",
     "text": [
      "['hello' 'world']\n"
     ]
    }
   ],
   "source": [
    "# Create a numpy array of fixed-length strings with a length of 10 characters\n",
    "string_array = np.array(['hello', 'world'], dtype='str_')\n",
    "\n",
    "# Allocate a longer string to an element in the array\n",
    "string_array[0] = 'hello world'\n",
    "\n",
    "print(string_array)  \n"
   ]
  },
  {
   "cell_type": "code",
   "execution_count": null,
   "id": "e9d9408c",
   "metadata": {},
   "outputs": [],
   "source": []
  }
 ],
 "metadata": {
  "kernelspec": {
   "display_name": "Python 3 (ipykernel)",
   "language": "python",
   "name": "python3"
  },
  "language_info": {
   "codemirror_mode": {
    "name": "ipython",
    "version": 3
   },
   "file_extension": ".py",
   "mimetype": "text/x-python",
   "name": "python",
   "nbconvert_exporter": "python",
   "pygments_lexer": "ipython3",
   "version": "3.9.7"
  }
 },
 "nbformat": 4,
 "nbformat_minor": 5
}
