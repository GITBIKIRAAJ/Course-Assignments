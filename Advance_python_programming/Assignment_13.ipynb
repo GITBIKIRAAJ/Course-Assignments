{
 "cells": [
  {
   "cell_type": "markdown",
   "id": "0878caec",
   "metadata": {},
   "source": [
    "Q1. **Can you create a programme or function that employs both positive and negative indexing? Is there any repercussion if you do so?**"
   ]
  },
  {
   "cell_type": "code",
   "execution_count": 1,
   "id": "c28b37b7",
   "metadata": {},
   "outputs": [
    {
     "name": "stdout",
     "output_type": "stream",
     "text": [
      "Index 0: H\n",
      "Index 1: e\n",
      "Index 2: l\n",
      "Index 3: l\n",
      "Index 4: o\n"
     ]
    }
   ],
   "source": [
    "def print_positive_inex(string):\n",
    "    \"\"\"\n",
    "    print_positive_inex and values of the characters in a string.\n",
    "    \"\"\"\n",
    "    # Iterate over the elements of the string\n",
    "    for i, char in enumerate(string):\n",
    "        # Print the index and value of the character\n",
    "        print(f\"Index {i}: {char}\")\n",
    "\n",
    "# Define a string\n",
    "string = \"Hello\"\n",
    "\n",
    "# Print the indices and values of the characters in the string\n",
    "print_positive_inex(string)\n"
   ]
  },
  {
   "cell_type": "code",
   "execution_count": 2,
   "id": "44d4d87a",
   "metadata": {},
   "outputs": [
    {
     "name": "stdout",
     "output_type": "stream",
     "text": [
      "Index -5: H\n",
      "Index -4: e\n",
      "Index -3: l\n",
      "Index -2: l\n",
      "Index -1: o\n"
     ]
    }
   ],
   "source": [
    "def print_negative_inex(string):\n",
    "    \"\"\"\n",
    "    print_negative_inex and values of the characters in a string.\n",
    "    \"\"\"\n",
    "    # Iterate over the elements of the string\n",
    "    for i, char in enumerate(string):\n",
    "        # Print the index and value of the character\n",
    "        print(f\"Index {i-len(string)}: {char}\")\n",
    "\n",
    "# Define a string\n",
    "string = \"Hello\"\n",
    "\n",
    "# Print the indices and values of the characters in the string\n",
    "print_negative_inex(string)"
   ]
  },
  {
   "cell_type": "markdown",
   "id": "661d21d2",
   "metadata": {},
   "source": [
    "Q2. **What is the most effective way of starting with 1,000 elements in a Python list? Assume that all elements should be set to the same value.**"
   ]
  },
  {
   "cell_type": "code",
   "execution_count": 14,
   "id": "cf648b71",
   "metadata": {},
   "outputs": [
    {
     "name": "stdout",
     "output_type": "stream",
     "text": [
      "[1, 1, 1, 1, 1, 1, 1, 1, 1, 1, 1, 1, 1, 1, 1, 1, 1, 1, 1, 1, 1, 1, 1, 1, 1, 1, 1, 1, 1, 1, 1, 1, 1, 1, 1, 1, 1, 1, 1, 1, 1, 1, 1, 1, 1, 1, 1, 1, 1, 1, 1, 1, 1, 1, 1, 1, 1, 1, 1, 1, 1, 1, 1, 1, 1, 1, 1, 1, 1, 1, 1, 1, 1, 1, 1, 1, 1, 1, 1, 1, 1, 1, 1, 1, 1, 1, 1, 1, 1, 1, 1, 1, 1, 1, 1, 1, 1, 1, 1, 1, 1, 1, 1, 1, 1, 1, 1, 1, 1, 1, 1, 1, 1, 1, 1, 1, 1, 1, 1, 1, 1, 1, 1, 1, 1, 1, 1, 1, 1, 1, 1, 1, 1, 1, 1, 1, 1, 1, 1, 1, 1, 1, 1, 1, 1, 1, 1, 1, 1, 1, 1, 1, 1, 1, 1, 1, 1, 1, 1, 1, 1, 1, 1, 1, 1, 1, 1, 1, 1, 1, 1, 1, 1, 1, 1, 1, 1, 1, 1, 1, 1, 1, 1, 1, 1, 1, 1, 1, 1, 1, 1, 1, 1, 1, 1, 1, 1, 1, 1, 1, 1, 1, 1, 1, 1, 1, 1, 1, 1, 1, 1, 1, 1, 1, 1, 1, 1, 1, 1, 1, 1, 1, 1, 1, 1, 1, 1, 1, 1, 1, 1, 1, 1, 1, 1, 1, 1, 1, 1, 1, 1, 1, 1, 1, 1, 1, 1, 1, 1, 1, 1, 1, 1, 1, 1, 1, 1, 1, 1, 1, 1, 1, 1, 1, 1, 1, 1, 1, 1, 1, 1, 1, 1, 1, 1, 1, 1, 1, 1, 1, 1, 1, 1, 1, 1, 1, 1, 1, 1, 1, 1, 1, 1, 1, 1, 1, 1, 1, 1, 1, 1, 1, 1, 1, 1, 1, 1, 1, 1, 1, 1, 1, 1, 1, 1, 1, 1, 1, 1, 1, 1, 1, 1, 1, 1, 1, 1, 1, 1, 1, 1, 1, 1, 1, 1, 1, 1, 1, 1, 1, 1, 1, 1, 1, 1, 1, 1, 1, 1, 1, 1, 1, 1, 1, 1, 1, 1, 1, 1, 1, 1, 1, 1, 1, 1, 1, 1, 1, 1, 1, 1, 1, 1, 1, 1, 1, 1, 1, 1, 1, 1, 1, 1, 1, 1, 1, 1, 1, 1, 1, 1, 1, 1, 1, 1, 1, 1, 1, 1, 1, 1, 1, 1, 1, 1, 1, 1, 1, 1, 1, 1, 1, 1, 1, 1, 1, 1, 1, 1, 1, 1, 1, 1, 1, 1, 1, 1, 1, 1, 1, 1, 1, 1, 1, 1, 1, 1, 1, 1, 1, 1, 1, 1, 1, 1, 1, 1, 1, 1, 1, 1, 1, 1, 1, 1, 1, 1, 1, 1, 1, 1, 1, 1, 1, 1, 1, 1, 1, 1, 1, 1, 1, 1, 1, 1, 1, 1, 1, 1, 1, 1, 1, 1, 1, 1, 1, 1, 1, 1, 1, 1, 1, 1, 1, 1, 1, 1, 1, 1, 1, 1, 1, 1, 1, 1, 1, 1, 1, 1, 1, 1, 1, 1, 1, 1, 1, 1, 1, 1, 1, 1, 1, 1, 1, 1, 1, 1, 1, 1, 1, 1, 1, 1, 1, 1, 1, 1, 1, 1, 1, 1, 1, 1, 1, 1, 1, 1, 1, 1, 1, 1, 1, 1, 1, 1, 1, 1, 1, 1, 1, 1, 1, 1, 1, 1, 1, 1, 1, 1, 1, 1, 1, 1, 1, 1, 1, 1, 1, 1, 1, 1, 1, 1, 1, 1, 1, 1, 1, 1, 1, 1, 1, 1, 1, 1, 1, 1, 1, 1, 1, 1, 1, 1, 1, 1, 1, 1, 1, 1, 1, 1, 1, 1, 1, 1, 1, 1, 1, 1, 1, 1, 1, 1, 1, 1, 1, 1, 1, 1, 1, 1, 1, 1, 1, 1, 1, 1, 1, 1, 1, 1, 1, 1, 1, 1, 1, 1, 1, 1, 1, 1, 1, 1, 1, 1, 1, 1, 1, 1, 1, 1, 1, 1, 1, 1, 1, 1, 1, 1, 1, 1, 1, 1, 1, 1, 1, 1, 1, 1, 1, 1, 1, 1, 1, 1, 1, 1, 1, 1, 1, 1, 1, 1, 1, 1, 1, 1, 1, 1, 1, 1, 1, 1, 1, 1, 1, 1, 1, 1, 1, 1, 1, 1, 1, 1, 1, 1, 1, 1, 1, 1, 1, 1, 1, 1, 1, 1, 1, 1, 1, 1, 1, 1, 1, 1, 1, 1, 1, 1, 1, 1, 1, 1, 1, 1, 1, 1, 1, 1, 1, 1, 1, 1, 1, 1, 1, 1, 1, 1, 1, 1, 1, 1, 1, 1, 1, 1, 1, 1, 1, 1, 1, 1, 1, 1, 1, 1, 1, 1, 1, 1, 1, 1, 1, 1, 1, 1, 1, 1, 1, 1, 1, 1, 1, 1, 1, 1, 1, 1, 1, 1, 1, 1, 1, 1, 1, 1, 1, 1, 1, 1, 1, 1, 1, 1, 1, 1, 1, 1, 1, 1, 1, 1, 1, 1, 1, 1, 1, 1, 1, 1, 1, 1, 1, 1, 1, 1, 1, 1, 1, 1, 1, 1, 1, 1, 1, 1, 1, 1, 1, 1, 1, 1, 1, 1, 1, 1, 1, 1, 1, 1, 1, 1, 1, 1, 1, 1, 1, 1, 1, 1, 1, 1, 1, 1, 1, 1, 1, 1, 1, 1, 1, 1, 1, 1, 1, 1, 1, 1, 1, 1, 1, 1, 1, 1, 1, 1, 1, 1, 1, 1, 1, 1, 1, 1, 1, 1, 1, 1, 1, 1, 1, 1, 1, 1, 1, 1, 1, 1, 1, 1, 1, 1, 1, 1, 1, 1, 1, 1, 1, 1, 1, 1, 1, 1, 1, 1, 1, 1, 1, 1, 1, 1, 1, 1, 1, 1, 1, 1, 1, 1, 1, 1, 1, 1, 1, 1, 1, 1, 1, 1, 1, 1, 1, 1, 1, 1, 1, 1, 1, 1, 1, 1, 1, 1, 1, 1, 1, 1, 1, 1, 1, 1, 1, 1, 1, 1, 1, 1, 1, 1, 1, 1, 1, 1, 1, 1, 1, 1, 1]\n"
     ]
    }
   ],
   "source": [
    "lst_2 = [1 for i in range(1000)] #fastest way to print\n",
    "print(lst_2)"
   ]
  },
  {
   "cell_type": "markdown",
   "id": "da9dc9b7",
   "metadata": {},
   "source": [
    "Q3. **How do you slice a list to get any other part while missing the rest? (For example, suppose you want to make a new list with the elements first, third, fifth, seventh, and so on.**"
   ]
  },
  {
   "cell_type": "code",
   "execution_count": 16,
   "id": "f2b85c2e",
   "metadata": {},
   "outputs": [
    {
     "name": "stdout",
     "output_type": "stream",
     "text": [
      "my_list -> [1, 2, 3, 4, 5, 6, 7, 8, 9, 10, 11, 12, 13, 14]\n",
      "sliced_list -> [1, 3, 5, 7, 9, 11, 13]\n"
     ]
    }
   ],
   "source": [
    "my_list = [x for x in range(1,15)]\n",
    "print(f'my_list -> {my_list}')\n",
    "sliced_list = my_list[::2]\n",
    "print(f'sliced_list -> {sliced_list}')"
   ]
  },
  {
   "cell_type": "markdown",
   "id": "c0bed050",
   "metadata": {},
   "source": [
    "Q4. **Explain the distinctions between indexing and slicing ?**"
   ]
  },
  {
   "cell_type": "code",
   "execution_count": 17,
   "id": "08d9b42a",
   "metadata": {},
   "outputs": [
    {
     "name": "stdout",
     "output_type": "stream",
     "text": [
      "my_list -> [2, 4, 6, 8, 10, 12, 14, 16, 18, 20, 22, 24, 26, 28, 30, 32, 34, 36, 38, 40, 42, 44, 46, 48, 50, 52, 54, 56, 58]\n",
      "Example of indexing -> (4, 12)\n",
      "Example of slicing -> [4, 6, 8, 10]\n"
     ]
    }
   ],
   "source": [
    "my_list = [x*2 for x in range(1,30)]\n",
    "print(f'my_list -> {my_list}')\n",
    "print(f'Example of indexing -> {my_list[1], my_list[5]}')\n",
    "print(f'Example of slicing -> {my_list[1:5]}')"
   ]
  },
  {
   "cell_type": "markdown",
   "id": "ca10dec9",
   "metadata": {},
   "source": [
    "Q5. **What happens if one of the slicing expression's indexes is out of range?**"
   ]
  },
  {
   "cell_type": "markdown",
   "id": "76a6d60f",
   "metadata": {},
   "source": [
    "If one of the slicing expression's indexes is out of range, Python will handle it by clamping the index to the valid range of indices for the sequence.\n",
    "\n",
    "For example, if you try to slice a string using an index that is larger than the length of the string, Python will clamp the index to the length of the string."
   ]
  },
  {
   "cell_type": "code",
   "execution_count": 18,
   "id": "7477bfc7",
   "metadata": {},
   "outputs": [
    {
     "name": "stdout",
     "output_type": "stream",
     "text": [
      "\n"
     ]
    }
   ],
   "source": [
    "# Define a string\n",
    "string = \"Hello, world!\"\n",
    "\n",
    "# Try to slice the string using an index that is out of range\n",
    "sliced_string = string[20:]\n",
    "\n",
    "print(sliced_string)  # Output: \"\"\n"
   ]
  },
  {
   "cell_type": "markdown",
   "id": "ad96d569",
   "metadata": {},
   "source": [
    "Q6. **If you pass a list to a function, and if you want the function to be able to change the values of the list—so that the list is different after the function returns—what action should you do?**"
   ]
  },
  {
   "cell_type": "markdown",
   "id": "2e287ec1",
   "metadata": {},
   "source": [
    "**Ans**: Always use return statement, if we want the see the changes in the input list."
   ]
  },
  {
   "cell_type": "code",
   "execution_count": 19,
   "id": "894b09be",
   "metadata": {},
   "outputs": [
    {
     "name": "stdout",
     "output_type": "stream",
     "text": [
      "[1, 2, 3, 4, 5, 6, 200]\n"
     ]
    }
   ],
   "source": [
    "my_list = [1,2,3,4,5,6]\n",
    "def modify_list(in_list):\n",
    "    in_list.append(200)\n",
    "    return in_list\n",
    "print(modify_list(my_list))"
   ]
  },
  {
   "cell_type": "markdown",
   "id": "4a61046e",
   "metadata": {},
   "source": [
    "Q7. **What is the concept of an unbalanced matrix?**"
   ]
  },
  {
   "cell_type": "markdown",
   "id": "61db3521",
   "metadata": {},
   "source": [
    "An unbalanced matrix is a matrix that is not square, meaning it has a different number of rows and columns. A matrix is square if it has the same number of rows and columns.\n",
    "\n",
    "For example, the following matrix is unbalanced:"
   ]
  },
  {
   "cell_type": "markdown",
   "id": "61423147",
   "metadata": {},
   "source": [
    "1 2 3\n",
    "4 5 6\n",
    " its not  a balanced matrix where\n",
    "\n",
    "1 2\n",
    "3 4\n",
    "it is abalanced matrix"
   ]
  },
  {
   "cell_type": "markdown",
   "id": "e09b467a",
   "metadata": {},
   "source": [
    "Q8. **Why is it necessary to use either list comprehension or a loop to create arbitrarily large matrices?**"
   ]
  },
  {
   "cell_type": "markdown",
   "id": "bb5859ca",
   "metadata": {},
   "source": [
    "List comprehension or a Loop helps creation of large matrices easy. it also helps to implemeent and avoid manual errors. It also makes reading code easy. Also lot of time for manual feeding is reduced."
   ]
  },
  {
   "cell_type": "code",
   "execution_count": null,
   "id": "b4aa7b95",
   "metadata": {},
   "outputs": [],
   "source": []
  }
 ],
 "metadata": {
  "kernelspec": {
   "display_name": "Python 3 (ipykernel)",
   "language": "python",
   "name": "python3"
  },
  "language_info": {
   "codemirror_mode": {
    "name": "ipython",
    "version": 3
   },
   "file_extension": ".py",
   "mimetype": "text/x-python",
   "name": "python",
   "nbconvert_exporter": "python",
   "pygments_lexer": "ipython3",
   "version": "3.9.7"
  }
 },
 "nbformat": 4,
 "nbformat_minor": 5
}
