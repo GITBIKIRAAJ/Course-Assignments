{
 "cells": [
  {
   "cell_type": "markdown",
   "id": "66f44469",
   "metadata": {},
   "source": [
    "### Q 1. What is the meaning of multiple inheritance?"
   ]
  },
  {
   "cell_type": "markdown",
   "id": "a8189b86",
   "metadata": {},
   "source": [
    "**Ans:**\n",
    "When a class is derived from more than one base class it is called multiple Inheritance. The derived class inherits all the features of the base class."
   ]
  },
  {
   "cell_type": "code",
   "execution_count": 2,
   "id": "ebbede57",
   "metadata": {},
   "outputs": [
    {
     "name": "stdout",
     "output_type": "stream",
     "text": [
      "In Class2\n"
     ]
    }
   ],
   "source": [
    "class Class1:\n",
    "    def m(self):\n",
    "        print(\"In Class1\") \n",
    "class New (Class1):\n",
    "    def m(self):\n",
    "        print(\"In Class2\")\n",
    "        \n",
    "class New_1(New):\n",
    "    pass  \n",
    "     \n",
    "obj = New_1()\n",
    "obj.m()"
   ]
  },
  {
   "cell_type": "markdown",
   "id": "154b3ede",
   "metadata": {},
   "source": [
    "### Q2. What is the concept of delegation?"
   ]
  },
  {
   "cell_type": "markdown",
   "id": "1659de4e",
   "metadata": {},
   "source": [
    "**Ans**:\n",
    "__Delegation__ provides a proxy object for any class that we want on top of the main class. It is like a wrapper to our class so that we can access limited resources of the main class. <br>\n",
    "\n",
    "It wraps the object of main class into a smaller object with limited access <br>\n",
    "\n",
    "In simple terms, Delegation means that we can include an instance of another class as an instance variable, and forward messages to the instance. <br>"
   ]
  },
  {
   "cell_type": "code",
   "execution_count": 6,
   "id": "ee32b9cc",
   "metadata": {},
   "outputs": [
    {
     "data": {
      "text/plain": [
       "'Warpping the class'"
      ]
     },
     "execution_count": 6,
     "metadata": {},
     "output_type": "execute_result"
    }
   ],
   "source": [
    "class Main_class:\n",
    "    def __init__(self):\n",
    "         self.Child_class = Child_class()\n",
    "\n",
    "    def take_out_the_trash(self):\n",
    "        return self.Child_class.take_out_the_trash()\n",
    "        \n",
    "class Child_class:\n",
    "    def take_out_the_trash(self):\n",
    "        return \"Warpping the class\"\n",
    "\n",
    "# Then everywhere in our code...\n",
    "Main = Main_class()\n",
    "Main.take_out_the_trash()"
   ]
  },
  {
   "cell_type": "markdown",
   "id": "3eccdecb",
   "metadata": {},
   "source": [
    "### Q3.  What is the concept of composition?"
   ]
  },
  {
   "cell_type": "markdown",
   "id": "3865aee3",
   "metadata": {},
   "source": [
    "__Ans:__\n",
    "- Composition is the process of combining objects into a single object.\n",
    "- The idea behind composition is that you can create an object from two or more existing objects. \n",
    "- This allows us to reuse code and reduce complexity. \n"
   ]
  },
  {
   "cell_type": "code",
   "execution_count": 7,
   "id": "a61e3b2f",
   "metadata": {},
   "outputs": [
    {
     "name": "stdout",
     "output_type": "stream",
     "text": [
      "Total Salary : 21600\n"
     ]
    }
   ],
   "source": [
    "class Salary:\n",
    "    def __init__(self,pay):\n",
    "        self.pay = pay\n",
    "    def get_total(self):\n",
    "        return self.pay*12\n",
    "    \n",
    "class Employee:\n",
    "    def __init__(self,pay,bonus):\n",
    "        self.pay = pay\n",
    "        self.bonus = bonus\n",
    "        self.obj_salary = Salary(self.pay)\n",
    "    def annual_salary(self):\n",
    "        return f'Total Salary : {str(self.obj_salary.get_total())}'\n",
    "\n",
    "obj_emp = Employee(1800,1500)\n",
    "print(obj_emp.annual_salary())\n"
   ]
  },
  {
   "cell_type": "markdown",
   "id": "0d1472ae",
   "metadata": {},
   "source": [
    "### Q4. What are bound methods and how do we use them?"
   ]
  },
  {
   "cell_type": "markdown",
   "id": "a71d003f",
   "metadata": {},
   "source": [
    "__Ans__: <br>\n",
    "A bound method is the one which is dependent on the instance of the class as the first argument. It passes the instance as the first argument which is used to access the variables and functions. In Python 3 and newer versions of python, all functions in the class are by default bound methods"
   ]
  },
  {
   "cell_type": "code",
   "execution_count": 8,
   "id": "bd9d2006",
   "metadata": {},
   "outputs": [
    {
     "name": "stdout",
     "output_type": "stream",
     "text": [
      "Car1 gears before calling change_gears() =  5\n",
      "Gears after calling change_gears() =  6\n",
      "<bound method Car.change_gears of <class '__main__.Car'>>\n"
     ]
    }
   ],
   "source": [
    "class Car:\n",
    "    # Car class created\n",
    "    gears = 5\n",
    "  \n",
    "    # a class method to change the number of gears \n",
    "    @classmethod\n",
    "    def change_gears(cls, gears):\n",
    "        cls.gears = gears\n",
    "  \n",
    "  \n",
    "# instance of class Car created\n",
    "Car1 = Car()\n",
    "  \n",
    "  \n",
    "print(\"Car1 gears before calling change_gears() = \", Car1.gears)\n",
    "Car1.change_gears(6) \n",
    "print(\"Gears after calling change_gears() = \", Car1.gears)\n",
    "  \n",
    "# bound method\n",
    "print(Car1.change_gears)"
   ]
  },
  {
   "cell_type": "markdown",
   "id": "68d4df2f",
   "metadata": {},
   "source": [
    "### Q5. What is the purpose of pseudoprivate attributes?"
   ]
  },
  {
   "cell_type": "markdown",
   "id": "8fff3de6",
   "metadata": {},
   "source": [
    "__Ans__: <br>\n",
    "Pseudoprivate attributes are also useful in larger frameworks or tools, both to avoid introducing new method names that might accidentally hide definitions elsewhere in the class tree and to reduce the chance of internal methods being replaced by names defined lower in the tree. If a method is intended for use only within a class that may be mixed into other classes, the double underscore prefix ensures that the method won't interfere with other names in the tree, especially in multiple-inheritance scenarios\n",
    "\n",
    "Pseudoprivate names also prevent subclasses from accidentally redefining the internal method's names,"
   ]
  },
  {
   "cell_type": "code",
   "execution_count": 9,
   "id": "75416a6c",
   "metadata": {},
   "outputs": [],
   "source": [
    "class Super:\n",
    "    def method(self): # A real application method\n",
    "        pass\n",
    "class Tool:\n",
    "    def _method(self): # becomes _Tool_method\n",
    "        pass\n",
    "    def other(self): # uses internal method\n",
    "        self._method()\n",
    "class Subl(Tool,Super):\n",
    "    def actions(self):\n",
    "        self.method()\n",
    "class Sub2(Tool):\n",
    "    def __init__(self):\n",
    "        self.method = 10"
   ]
  },
  {
   "cell_type": "code",
   "execution_count": null,
   "id": "82984603",
   "metadata": {},
   "outputs": [],
   "source": []
  }
 ],
 "metadata": {
  "kernelspec": {
   "display_name": "Python 3 (ipykernel)",
   "language": "python",
   "name": "python3"
  },
  "language_info": {
   "codemirror_mode": {
    "name": "ipython",
    "version": 3
   },
   "file_extension": ".py",
   "mimetype": "text/x-python",
   "name": "python",
   "nbconvert_exporter": "python",
   "pygments_lexer": "ipython3",
   "version": "3.9.7"
  }
 },
 "nbformat": 4,
 "nbformat_minor": 5
}
