{
 "cells": [
  {
   "cell_type": "markdown",
   "id": "bd736a2e",
   "metadata": {},
   "source": [
    "### Q1. Define the relationship between a class and its instances. Is it a one-to-one or a one-to-many partnership, for example?"
   ]
  },
  {
   "cell_type": "markdown",
   "id": "64206fab",
   "metadata": {},
   "source": [
    "**Answer**:\n",
    "In `object-oriented programming`, a class is a template or blueprint for creating objects. An object is an instance of a class, and it represents a specific instance of the class.\n",
    "\n",
    "The relationship between a class and its instances is a one-to-many relationship. This means that a single class can have multiple instances, but each instance belongs to only one class.\n",
    "\n",
    "For example, consider a `class called Person`, which has attributes such as `name, age, and gender`. If you create three instances of the Person class, each instance will represent a specific person with their own name, age, and gender. The three instances are separate objects, but they are all instances of the same Person class.\n",
    "\n",
    "In this way, a class can be thought of as a type or category of objects, and the instances are specific examples of that type. The class defines the behavior and characteristics of its instances, but the instances can have their own unique attribute values"
   ]
  },
  {
   "cell_type": "markdown",
   "id": "db38c1f0",
   "metadata": {},
   "source": [
    "### Q2. What kind of data is held only in an instance?"
   ]
  },
  {
   "cell_type": "markdown",
   "id": "79551a13",
   "metadata": {},
   "source": [
    "**Answer**\n",
    "\n",
    "Data that is held only in an instance is called instance data or instance state. This data is specific to the instance and is not shared with other instances of the same class.\n",
    "\n",
    "For example, consider a class called **Person**, which has attributes such as name, age, and gender. If you create three instances of the Person class, each instance will have its own unique values for the name, age, and gender attributes. The name, age, and gender of each person are specific to that instance and are not shared with the other instances.\n",
    "\n",
    "Instance data is stored in the `instance's attributes`, which are also known as `instance variables`. The values of these attributes are specific to the instance and are not shared with other instances of the same class."
   ]
  },
  {
   "cell_type": "markdown",
   "id": "2b8fde77",
   "metadata": {},
   "source": [
    "### Q3. What kind of knowledge is stored in a class?\n",
    "\n",
    "**Ans**: Class creates a user-defined data structure, which holds its own data members and member functions, which can be accessed and used by creating an instance of that class. A class is like a blueprint for an object. Class is a logical entity which does not exist in real world Or we can say that class is a blueprint to create objects of similiar types. A class does not take space in memory. \n",
    "\n",
    "Examples:-fruits,furniture,vehicles etc."
   ]
  },
  {
   "cell_type": "markdown",
   "id": "aeddfaf2",
   "metadata": {},
   "source": [
    "### Q4. What exactly is a method, and how is it different from a regular function?"
   ]
  },
  {
   "cell_type": "markdown",
   "id": "9c43a182",
   "metadata": {},
   "source": [
    "**Ans**: The methods with a class can be used to access the insatnce variables of its instance. So,the object's state can be modified by its method. Function can't access the attributes of an instance of a class or can't modify the state of the object. A function is independent, whereas a method is a function linked with an object. Explicit data is passed on to a function, \n",
    "\n",
    "whereas a method completely passes the object on which it was called in the program. A method is Object-oriented programming while a function has standalone functionality"
   ]
  },
  {
   "cell_type": "markdown",
   "id": "ca997152",
   "metadata": {},
   "source": [
    "### Q5. Is inheritance supported in Python, and if so, what is the syntax?\n",
    "\n",
    "**Ans**: Yes,Python supports inheritance. The Types of Inheritence Supported by Python are:\n",
    "\n",
    "1. Simple Inheritence\n",
    "2. Multiple Inheritence\n",
    "3. Multilevel lInheritence\n",
    "4. Hybrid Inheritence\n",
    "5. Hierracial Inheritence"
   ]
  },
  {
   "cell_type": "code",
   "execution_count": 1,
   "id": "b5c7f41e",
   "metadata": {},
   "outputs": [],
   "source": [
    "class Person:\n",
    "    def __init__(self, fname, lname,age):\n",
    "        self.first_name = fname\n",
    "        self.last_name = lname\n",
    "        self.age=age\n",
    "class Student(Person):\n",
    "    pass"
   ]
  },
  {
   "cell_type": "markdown",
   "id": "d2132ff5",
   "metadata": {},
   "source": [
    "### Q6. How much encapsulation (making instance or class variables private) does Python support?"
   ]
  },
  {
   "cell_type": "markdown",
   "id": "23f4f383",
   "metadata": {},
   "source": [
    "**Ans**:\n",
    "\n",
    "In Python, **encapsulation** refers to the practice of protecting the internal data and behavior of an object from outside access or modification. Encapsulation helps to ensure the integrity of the object's data and behavior, and it can be achieved by making instance or class **variables private**.\n",
    "\n",
    "Python does not have a strict notion of private variables like some other programming languages. Instead, Python uses a naming convention to indicate that a variable should be treated as private. If a variable name is prefixed with an underscore (e.g., _private_var), it is considered to be a private variable and should not be accessed or modified directly from outside the class.\n",
    "\n",
    "While this naming convention is not enforced by the Python interpreter, it is generally considered good programming practice to follow it in order to indicate that a variable should be treated as private.\n",
    "\n",
    "Overall, Python supports encapsulation through the use of a naming convention to indicate private variables, although this is not enforced by the interpreter. It is up to the programmer to follow this convention in order to achieve encapsulation."
   ]
  },
  {
   "cell_type": "markdown",
   "id": "bb79c252",
   "metadata": {},
   "source": [
    "### Q7. How do you distinguish between a class variable and an instance variable?\n",
    "\n",
    "**Ans**: The Class Attribute is available to all the instance objects of that class whereas Instance Attributes are accessible only to the object or Instance of that class.\n",
    "\n",
    "A single copy of Class attributes is maintained by pvm at the class level Whereas different copies of instance attributes are maintained by pvm at objects/instance level."
   ]
  },
  {
   "cell_type": "markdown",
   "id": "28a689dd",
   "metadata": {},
   "source": [
    "### Q8. When, if ever, can self be included in a class's method definitions?\n",
    "\n",
    "**Ans**: Yes, self can be included in class method definitions to access the instance variables inside class methods."
   ]
  },
  {
   "cell_type": "markdown",
   "id": "e553b587",
   "metadata": {},
   "source": [
    "In Python, the self keyword is used to reference the instance of the class within the body of a class method. It is a convention to use self as the name of the first argument in the definition of a class method, although you can use any other name as long as you consistently use the same name within the method."
   ]
  },
  {
   "cell_type": "code",
   "execution_count": 2,
   "id": "37a6b3db",
   "metadata": {},
   "outputs": [
    {
     "name": "stdout",
     "output_type": "stream",
     "text": [
      "10\n"
     ]
    }
   ],
   "source": [
    "class MyClass:\n",
    "    def __init__(self, value):\n",
    "        self.value = value\n",
    "\n",
    "    def print_value(self):\n",
    "        print(self.value)\n",
    "\n",
    "# Create an instance of the MyClass class\n",
    "obj = MyClass(10)\n",
    "\n",
    "# Call the print_value method on the object\n",
    "obj.print_value() \n"
   ]
  },
  {
   "cell_type": "markdown",
   "id": "37a4e562",
   "metadata": {},
   "source": [
    "In the example above, the `__init__` method is the constructor for the MyClass class. It is called when an instance of the class is created, and it initializes the value attribute of the instance with the value passed as an argument. The print_value method is a regular instance method that prints the value of the value attribute of the instance."
   ]
  },
  {
   "cell_type": "markdown",
   "id": "53b84ee4",
   "metadata": {},
   "source": [
    "### Q9. What is the difference between the `__add__` and the `__radd__ `methods ?"
   ]
  },
  {
   "cell_type": "markdown",
   "id": "c5206a3b",
   "metadata": {},
   "source": [
    "**Answer** :\n",
    "\n",
    "In Python, the `__add__` method is a special method that is called when the + operator is used to add two objects of a class. It is a part of the magic method protocol, which is a set of special methods that allow you to define the behavior of various operators and built-in functions when applied to objects of your class"
   ]
  },
  {
   "cell_type": "code",
   "execution_count": 3,
   "id": "17f836d4",
   "metadata": {},
   "outputs": [],
   "source": [
    "class Complex:\n",
    "    def __init__(self, real, imag):\n",
    "        self.real = real\n",
    "        self.imag = imag\n",
    "\n",
    "    def __add__(self, other):\n",
    "        return Complex(self.real + other.real, self.imag + other.imag)\n"
   ]
  },
  {
   "cell_type": "markdown",
   "id": "8c79cad8",
   "metadata": {},
   "source": [
    "The `__radd__` method is similar to the `__add__` method, but it is called when the object on the right side of the `+` operator does not have an implementation of the `__add__` method and the object on the left side does. It has the following signature:\n",
    "\n",
    "The other argument is the object that is being added to the object on which the + operator is called. The `__radd__` method should return a new object that is the result of adding the two objects."
   ]
  },
  {
   "cell_type": "code",
   "execution_count": 4,
   "id": "75a17b4c",
   "metadata": {},
   "outputs": [],
   "source": [
    "class Point:\n",
    "    def __init__(self, x, y):\n",
    "        self.x = x\n",
    "        self.y = y\n",
    "\n",
    "    def __radd__(self, other):\n",
    "        return Point(self.x + other, self.y + other)\n"
   ]
  },
  {
   "cell_type": "markdown",
   "id": "f7d8d337",
   "metadata": {},
   "source": [
    "It is important to note that the **`__add__`** and **`__radd__`** methods are just two of many magic methods that allow you to define the behavior of various operators and built-in functions when applied to objects of your class. You can find a list of all the magic methods in the Python documentation."
   ]
  },
  {
   "cell_type": "markdown",
   "id": "c3bc44fa",
   "metadata": {},
   "source": [
    "### Q10. When is it necessary to use a reflection method? When do you not need it, even though you support the operation in question?"
   ]
  },
  {
   "cell_type": "markdown",
   "id": "53b49c4a",
   "metadata": {},
   "source": [
    "**Answer**\n",
    "\n",
    "Reflection refers to the ability for code to be able to examine attributes about objects that might be passed as parameters to a function. For example, if we write type(obj) then Python will return an object which represents the type of obj. Using reflection, we can write one recursive reverse function that will work for strings, lists, and any other sequence that supports slicing and concatenation. If an obj is a reference to a string, then Python will return the str type object. Further, if we write str() we get a string which is the empty string. In other words, writing str() is the same thing as writing “”. Likewise, writing list() is the same thing as writing []."
   ]
  },
  {
   "cell_type": "code",
   "execution_count": 5,
   "id": "32f1c715",
   "metadata": {},
   "outputs": [
    {
     "name": "stdout",
     "output_type": "stream",
     "text": [
      "x is not callable\n",
      "y is callable\n"
     ]
    }
   ],
   "source": [
    "x = 9\n",
    "\n",
    "def testfunction():\n",
    "    print(\"Test\")\n",
    "   \n",
    "y = testfunction\n",
    "\n",
    "if (callable(x)):\n",
    "    print(\"x is callable\")\n",
    "else:\n",
    "    print(\"x is not callable\")\n",
    "\n",
    "if (callable(y)):\n",
    "    print(\"y is callable\")\n",
    "else:\n",
    "    print(\"y is not callable\")"
   ]
  },
  {
   "cell_type": "markdown",
   "id": "d60e26cb",
   "metadata": {},
   "source": [
    "### Q11. What is the __iadd__ method called?\n",
    "\n",
    "***Ans**: `__iadd__` method is called when we use implementation like `a+=b` which is `a.__iadd__(b)`"
   ]
  },
  {
   "cell_type": "markdown",
   "id": "08233467",
   "metadata": {},
   "source": [
    "### Q12. Is the `_ _init_ _` method inherited by subclasses? What do you do if you need to customize its behavior within a subclass ?\n",
    "\n",
    "Ans: Yes, `__init__` method will be inherited by subclasses. If we want to customize its behaviour within a subclass, we can use `super()` method."
   ]
  },
  {
   "cell_type": "code",
   "execution_count": null,
   "id": "e23ba937",
   "metadata": {},
   "outputs": [],
   "source": []
  }
 ],
 "metadata": {
  "kernelspec": {
   "display_name": "Python 3 (ipykernel)",
   "language": "python",
   "name": "python3"
  },
  "language_info": {
   "codemirror_mode": {
    "name": "ipython",
    "version": 3
   },
   "file_extension": ".py",
   "mimetype": "text/x-python",
   "name": "python",
   "nbconvert_exporter": "python",
   "pygments_lexer": "ipython3",
   "version": "3.9.7"
  }
 },
 "nbformat": 4,
 "nbformat_minor": 5
}
