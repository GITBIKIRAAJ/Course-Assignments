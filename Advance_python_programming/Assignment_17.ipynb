{
 "cells": [
  {
   "cell_type": "markdown",
   "id": "910c4829",
   "metadata": {},
   "source": [
    "#### Q1. Explain the difference between greedy and non-greedy syntax with visual terms in as few words as possible. What is the bare minimum effort required to transform a greedy pattern into a non-greedy one? What characters or characters can you introduce or change?\n",
    "\n",
    "**Ans**: The Main difference between Greedy and Non Greedy Match Syntax is that the Greedy Match will try to match as many repetitions of the quantified pattern as possible Whereas the Non Greedy Match will try to match as few repetitions of the quantified pattern as possible so that it still can match the pattern in the given string"
   ]
  },
  {
   "cell_type": "code",
   "execution_count": 2,
   "id": "9c727f6c",
   "metadata": {},
   "outputs": [
    {
     "name": "stdout",
     "output_type": "stream",
     "text": [
      "\"Bikiraaj\"\n",
      "\"btn\"\n"
     ]
    }
   ],
   "source": [
    "import re\n",
    "\n",
    "s = '<button type=\"Bikiraaj\" class=\"btn\">Send</button>'\n",
    "\n",
    "pattern = '\".+?\"'\n",
    "matches = re.finditer(pattern, s)\n",
    "\n",
    "for match in matches:\n",
    "    print(match.group())\n"
   ]
  },
  {
   "cell_type": "markdown",
   "id": "e19ba0f5",
   "metadata": {},
   "source": [
    "- Non-greedy quantifiers match their preceding elements as little as possible to return the smallest possible match.\n",
    "- Add a question mark (?) to a quantifier to turn it into a non-greedy quantifier."
   ]
  },
  {
   "cell_type": "markdown",
   "id": "30dcda96",
   "metadata": {},
   "source": [
    "#### Q2. When exactly does greedy versus non-greedy make a difference? What if you're looking for a non-greedy match but the only one available is greedy?\n",
    "\n",
    "**Ans**: The Greedy Match will try to match as many repetitions of the quantified pattern as possible. The ***Non Greedy Match*** will try to match as few repetitions of the quantified pattern as possible. If only Non Greedy Match is available, we can use other filtering or pattern matching methods of regex and further identify the required pattern."
   ]
  },
  {
   "cell_type": "markdown",
   "id": "328659c3",
   "metadata": {},
   "source": [
    "### Q3. In a simple match of a string, which looks only for one match and does not do any replacement, is the use of a nontagged group likely to make any practical difference?\n",
    "\n",
    "**Ans**: In this Case, the Non-Tagged Group will not make any difference. This is shown below:"
   ]
  },
  {
   "cell_type": "code",
   "execution_count": 3,
   "id": "a6f47e66",
   "metadata": {},
   "outputs": [
    {
     "name": "stdout",
     "output_type": "stream",
     "text": [
      "Phone number found -> 977\n",
      "Phone number found -> 977\n"
     ]
    }
   ],
   "source": [
    "import re\n",
    "phoneNumRegex = re.compile(r'\\d\\d\\d')\n",
    "num = phoneNumRegex.search('My number is 977-65-600-17.')\n",
    "print(f'Phone number found -> {num.group()}') # Non Tagged group\n",
    "print(f'Phone number found -> {num.group(0)}') # Tagged Group"
   ]
  },
  {
   "cell_type": "markdown",
   "id": "7eb10217",
   "metadata": {},
   "source": [
    "### Q4. Describe a scenario in which using a nontagged category would have a significant impact on the program's outcomes ?\n",
    "\n",
    "**Ans**: Here in the below Code Snippet . decimal is not tagged or captured. Hence, it will be useful in scenarios where the separator of value in a string is of no use and we need to capture only the values."
   ]
  },
  {
   "cell_type": "code",
   "execution_count": 4,
   "id": "ece64e44",
   "metadata": {},
   "outputs": [
    {
     "data": {
      "text/plain": [
       "('546', '798')"
      ]
     },
     "execution_count": 4,
     "metadata": {},
     "output_type": "execute_result"
    }
   ],
   "source": [
    "import re\n",
    "text='546.798'\n",
    "pattern=r'(\\d+)(?:.)(\\d+)'\n",
    "regobj=re.compile(pattern)\n",
    "matobj=regobj.search(text)\n",
    "matobj.groups()"
   ]
  },
  {
   "cell_type": "markdown",
   "id": "ebaea5b2",
   "metadata": {},
   "source": [
    "### Q5. Unlike a normal regex pattern, a look-ahead condition does not consume the characters it examines. Describe a situation in which this could make a difference in the results of your programme ?\n",
    "\n",
    "**Ans**: While counting the number of multiple lines or mutiple sentences in a string, the positive look ahead makes a difference, without which we will not be able to get the correct count of lines or sentences in a string."
   ]
  },
  {
   "cell_type": "markdown",
   "id": "75d5a1d6",
   "metadata": {},
   "source": [
    "### Q6.  In standard expressions, what is the difference between positive look-ahead and negative look-ahead ?\n",
    "\n",
    "**Ans**: Positive Look-ahead allows to add a condition for what follows. Negative Lookahead is similar, but it looks behind. That is, it allows to match a pattern only if there’s something before it.\n",
    "\n",
    "`Syntax Positive Look-Ahead: X(?=Y) Syntax Negative Look-Ahead: X(?!Y)`"
   ]
  },
  {
   "cell_type": "code",
   "execution_count": 6,
   "id": "e744d1b1",
   "metadata": {},
   "outputs": [
    {
     "name": "stdout",
     "output_type": "stream",
     "text": [
      "6\n"
     ]
    }
   ],
   "source": [
    "import re\n",
    "\n",
    "s = '1 Python is about 6 feet long'\n",
    "pattern = '\\d+(?=\\s*feet)'\n",
    "\n",
    "matches = re.finditer(pattern,s)\n",
    "for match in matches:\n",
    "    print(match.group())"
   ]
  },
  {
   "cell_type": "code",
   "execution_count": 7,
   "id": "47d356ee",
   "metadata": {},
   "outputs": [
    {
     "name": "stdout",
     "output_type": "stream",
     "text": [
      "1\n"
     ]
    }
   ],
   "source": [
    "s = '1 Python is about 6 feet long'\n",
    "pattern = '\\d+(?!\\s*feet)'\n",
    "\n",
    "matches = re.finditer(pattern,s)\n",
    "for match in matches:\n",
    "    print(match.group())"
   ]
  },
  {
   "cell_type": "markdown",
   "id": "a205cd2c",
   "metadata": {},
   "source": [
    "### Q7. What is the benefit of referring to groups by name rather than by number in a standard expression?\n",
    "\n",
    "**Ans**: The advantage to named groups is that it adds readability and understandability to the code, so that you can easily see what part of a regular expression match is being referenced.\n",
    "\n",
    "In a regular expression, groups are denoted by enclosing a portion of the pattern in parentheses. You can then refer to these groups by number in your code. For example, the first group is referred to as \\1, the second group is \\2, and so on."
   ]
  },
  {
   "cell_type": "code",
   "execution_count": 8,
   "id": "237e3b03",
   "metadata": {
    "collapsed": true
   },
   "outputs": [
    {
     "ename": "SyntaxError",
     "evalue": "invalid syntax (Temp/ipykernel_30216/3859428921.py, line 1)",
     "output_type": "error",
     "traceback": [
      "\u001b[1;36m  File \u001b[1;32m\"C:\\Users\\bmaha\\AppData\\Local\\Temp/ipykernel_30216/3859428921.py\"\u001b[1;36m, line \u001b[1;32m1\u001b[0m\n\u001b[1;33m    (?P<time>((?P<hour>\\d\\d):(?P<minute>\\d\\d)) (?P<am_pm>am|pm))\u001b[0m\n\u001b[1;37m     ^\u001b[0m\n\u001b[1;31mSyntaxError\u001b[0m\u001b[1;31m:\u001b[0m invalid syntax\n"
     ]
    }
   ],
   "source": [
    "(?P<time>((?P<hour>\\d\\d):(?P<minute>\\d\\d)) (?P<am_pm>am|pm))\n"
   ]
  },
  {
   "cell_type": "markdown",
   "id": "d934fcad",
   "metadata": {},
   "source": [
    "Now it is much clearer what each group represents, and it is easier to understand the purpose of the regular expression.\n",
    "\n",
    "Named groups also make it easier to access the captured text, because you can use the group name instead of a group number to refer to the group. For example, in Python you can use the groupdict() method of a Match object to get a dictionary of all the named groups and their captured text."
   ]
  },
  {
   "cell_type": "markdown",
   "id": "7dbb2bfa",
   "metadata": {},
   "source": [
    "### Q8. Can you identify repeated items within a target string using named groups, as in \"The cow jumped over the moon\"?"
   ]
  },
  {
   "cell_type": "code",
   "execution_count": null,
   "id": "e2554fa9",
   "metadata": {},
   "outputs": [],
   "source": [
    "import re\n",
    "text = \"The cow jumped over the moon\"\n",
    "reg=re.compile(r'(?PThe)',re.I)\n",
    "reg.findall(text)\n",
    "\n",
    "(?P<first_the>the) .* (?P<second_the>the)"
   ]
  },
  {
   "cell_type": "markdown",
   "id": "68fac164",
   "metadata": {},
   "source": [
    "### Q9. When parsing a string, what is at least one thing that the Scanner interface does for you that the re.findall feature does not ?\n",
    "\n",
    "**Ans**: `re.findall()` module is used to search for all occurrences that match a given pattern. In contrast, `re.search()` will only return the first occurrence that matches the specified pattern. `re.findall()` will iterate over all the lines of the file and will return all non-overlapping matches of pattern in a single step"
   ]
  },
  {
   "cell_type": "markdown",
   "id": "3a7ac996",
   "metadata": {},
   "source": [
    "### Q10. Does a scanner object have to be named scanner?"
   ]
  },
  {
   "cell_type": "markdown",
   "id": "37a36a16",
   "metadata": {},
   "source": [
    "**Ans**: No, a scanner object does not have to be named \"scanner\". A scanner object is simply a variable that refers to an instance of a scanner class. You can give it any name you like, as long as it follows the rules for naming variables in the programming language you are using.\n",
    "\n",
    "A scanner object is used to break up a string into tokens (smaller pieces of text). The scanner class typically provides methods for reading the next token from the string, as well as methods for checking the type and value of the next token.\n",
    "\n",
    "Here's an example of creating a scanner object in Python:"
   ]
  },
  {
   "cell_type": "code",
   "execution_count": 10,
   "id": "08c12e01",
   "metadata": {},
   "outputs": [
    {
     "name": "stdout",
     "output_type": "stream",
     "text": [
      "The\n",
      "quick\n",
      "brown\n",
      "fox\n",
      "jumps\n",
      "over\n",
      "the\n",
      "lazy\n",
      "dog\n"
     ]
    }
   ],
   "source": [
    "import re\n",
    "\n",
    "# Create a regular expression to match words\n",
    "word_regex = re.compile(r'\\b\\w+\\b')\n",
    "\n",
    "# Create a scanner object to scan a string\n",
    "string = \"The quick brown fox jumps over the lazy dog.\"\n",
    "scanner = word_regex.finditer(string)\n",
    "\n",
    "# Use the scanner object to iterate over the tokens in the string\n",
    "for token in scanner:\n",
    "    print(token.group())\n"
   ]
  },
  {
   "cell_type": "markdown",
   "id": "7f1d40be",
   "metadata": {},
   "source": [
    "In this example, the scanner object is named \"scanner\", but it could have any other name. For example, you could name it \"`my_scanner`\" or \"`tokens`\" instead"
   ]
  },
  {
   "cell_type": "code",
   "execution_count": null,
   "id": "e2019ae6",
   "metadata": {},
   "outputs": [],
   "source": []
  }
 ],
 "metadata": {
  "kernelspec": {
   "display_name": "Python 3 (ipykernel)",
   "language": "python",
   "name": "python3"
  },
  "language_info": {
   "codemirror_mode": {
    "name": "ipython",
    "version": 3
   },
   "file_extension": ".py",
   "mimetype": "text/x-python",
   "name": "python",
   "nbconvert_exporter": "python",
   "pygments_lexer": "ipython3",
   "version": "3.9.7"
  }
 },
 "nbformat": 4,
 "nbformat_minor": 5
}
