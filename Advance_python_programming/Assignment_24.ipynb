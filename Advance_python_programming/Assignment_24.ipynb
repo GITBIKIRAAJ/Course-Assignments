{
 "cells": [
  {
   "cell_type": "markdown",
   "id": "49eccb11",
   "metadata": {},
   "source": [
    "Q1. **Is it permissible to use several import statements to import the same module? What would the goal be? Can you think of a situation where it would be beneficial ?**"
   ]
  },
  {
   "cell_type": "markdown",
   "id": "dd579ef4",
   "metadata": {},
   "source": [
    "**Ans**: Yes, it is permissible to use several import statements to import the same module. It is used in case when we have to import multiple functions from same module."
   ]
  },
  {
   "cell_type": "markdown",
   "id": "cc3d6b34",
   "metadata": {},
   "source": [
    "Q2.**What are some of a module's characteristics? (Name at least one.)**"
   ]
  },
  {
   "cell_type": "markdown",
   "id": "3d74a5ae",
   "metadata": {},
   "source": [
    "- Modules provide a way to organize and *reuse code*. By creating a module, you can define a set of functions, classes, and variables that can be used in multiple programs. This allows you to avoid duplicating code and helps to make your programs more maintainable. <br>\n",
    "\n",
    "- Modules can be imported into other Python programs using the `import` statement <br>\n",
    "\n",
    "- Modules can contain documentation in the form of `docstrings`. A docstring is a string literal that appears as the first statement in a function, class, or module definition\n",
    "\n",
    "some modules are:\n",
    "\n",
    "- math\n",
    "- statistics"
   ]
  },
  {
   "cell_type": "markdown",
   "id": "c72fc4b5",
   "metadata": {},
   "source": [
    "Q3. **Circular importing, such as when two modules import each other, can lead to dependencies and bugs that aren't visible. How can you go about creating a program that avoids mutual importing?**"
   ]
  },
  {
   "cell_type": "markdown",
   "id": "e1e97e6a",
   "metadata": {},
   "source": [
    "**Ans**:\n",
    "\n",
    "Circular importing means importing the two modules in each other. If suppose we are wokring in MOD1.py file and it is importing some function say F2() from some other module say MOD2.PY file or we can do vice-versa. What will happen is: This will give an import error.\n",
    "\n",
    "This is because when we _import F2()_ function from module _MOD2.py_, then this will execute _MOD2.py_ file and in _MOD2.py_ file, there is another statement of importing MOD1.py module.\n",
    "\n",
    "This will result in endless loop. To avoid this error, we can use if `__name__` == `'__main__'`\n",
    "\n",
    "In this function, we can't directly refer to the function in the program. The addition of this sentence avoids the endless loop of the program . We can use an if `name == \"main\"` block to allow or prevent parts of code from being run when the modules are imported. When the Python interpreter reads a file, the name variable is set as main if the module being run, or as the module's name if it is imported"
   ]
  },
  {
   "cell_type": "markdown",
   "id": "9625dd87",
   "metadata": {},
   "source": [
    "Q5. **Why is `__all__` in Python ?**"
   ]
  },
  {
   "cell_type": "markdown",
   "id": "efc95abe",
   "metadata": {},
   "source": [
    "**Ans**:\n",
    "\n",
    "The `__all__` attribute is a list of strings that specifies which names from a module should be imported when the from module `import *` syntax is used. This attribute is used to control the names that are imported when the `*` wildcard is used in an import statement.\n",
    "\n",
    "\n",
    "\n"
   ]
  },
  {
   "cell_type": "markdown",
   "id": "83e94673",
   "metadata": {},
   "source": [
    "Q6.**In what situation is it useful to refer to the __name__ attribute or the string __main_ _ ?**"
   ]
  },
  {
   "cell_type": "markdown",
   "id": "5d87830f",
   "metadata": {},
   "source": [
    "The `__name__` attribute is a built-in variable that contains the name of the current module. It is useful in the following situations:\n",
    "\n",
    "When you are working with a module that you want to be able to run as a script or import into another program, you can use the `__name__` attribute to determine whether the module is being run as a script or being imported as a module.\n"
   ]
  },
  {
   "cell_type": "code",
   "execution_count": 2,
   "id": "7a029f79",
   "metadata": {},
   "outputs": [
    {
     "name": "stdout",
     "output_type": "stream",
     "text": [
      "Running main function\n"
     ]
    }
   ],
   "source": [
    "def main():\n",
    "    print('Running main function')\n",
    "\n",
    "if __name__ == '__main__':\n",
    "    main()\n"
   ]
  },
  {
   "cell_type": "code",
   "execution_count": null,
   "id": "99fb7b06",
   "metadata": {},
   "outputs": [],
   "source": []
  }
 ],
 "metadata": {
  "kernelspec": {
   "display_name": "Python 3 (ipykernel)",
   "language": "python",
   "name": "python3"
  },
  "language_info": {
   "codemirror_mode": {
    "name": "ipython",
    "version": 3
   },
   "file_extension": ".py",
   "mimetype": "text/x-python",
   "name": "python",
   "nbconvert_exporter": "python",
   "pygments_lexer": "ipython3",
   "version": "3.9.7"
  }
 },
 "nbformat": 4,
 "nbformat_minor": 5
}
