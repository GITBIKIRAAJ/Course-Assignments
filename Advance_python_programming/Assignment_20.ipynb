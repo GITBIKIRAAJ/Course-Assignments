{
 "cells": [
  {
   "cell_type": "markdown",
   "id": "775df93d",
   "metadata": {},
   "source": [
    "Q1. **Compare and contrast the float and Decimal classes' benefits and drawbacks ?**"
   ]
  },
  {
   "cell_type": "markdown",
   "id": "2172081f",
   "metadata": {},
   "source": [
    "**Ans**:\n",
    "Both the _**float**_ and _**decimal**_ types store numerical values in Python.\n",
    "\n",
    "We use floats when convenience and speed matter. A float gives us an approximation of the number we declare.\n",
    "\n",
    "We use decimals when precision matters. Decimals can suffer from their own precision issues, but generally, decimals are more precise than floats. The performance difference between float and decimal, with Python 3, is not outlandish, and in my experience, the precision benefits of a decimal outweigh the performance benefits of a float."
   ]
  },
  {
   "cell_type": "markdown",
   "id": "3cc99818",
   "metadata": {},
   "source": [
    "Q2. **Decimal('1.200') and Decimal('1.2') are two objects to consider. In what sense are these the same object? Are these just two ways of representing the exact same value, or do they correspond to different internal states ?**"
   ]
  },
  {
   "cell_type": "markdown",
   "id": "e65fd12d",
   "metadata": {},
   "source": [
    "**Ans**: Both values are same but internal representation at storage Is different. Precsion differs, Decimal('1.200') gives internally `1.200` and Decimal('1.2') gives `1.2.`"
   ]
  },
  {
   "cell_type": "markdown",
   "id": "89d703e1",
   "metadata": {},
   "source": [
    "Q3. **What happens if the equality of Decimal('1.200') and Decimal('1.2') is checked ?**"
   ]
  },
  {
   "cell_type": "markdown",
   "id": "9ebce480",
   "metadata": {},
   "source": [
    "**Ans**: Both values are checked to be equal since they only differ in precision."
   ]
  },
  {
   "cell_type": "markdown",
   "id": "dfd7cd08",
   "metadata": {},
   "source": [
    "If you use the == operator to compare the values of Decimal('1.200') and Decimal('1.2'), the result will be False, as these values are not equal.\n",
    "\n",
    "This is because the Decimal class represents numbers with a fixed precision, and the values 1.200 and 1.2 have different numbers of decimal places.\n",
    "\n",
    "For example:"
   ]
  },
  {
   "cell_type": "code",
   "execution_count": 5,
   "id": "ae3bc577",
   "metadata": {},
   "outputs": [
    {
     "name": "stdout",
     "output_type": "stream",
     "text": [
      "True\n"
     ]
    }
   ],
   "source": [
    "from decimal import Decimal\n",
    "\n",
    "a = Decimal('1.200')\n",
    "b = Decimal('1.2')\n",
    "\n",
    "print(a == b)  \n"
   ]
  },
  {
   "cell_type": "markdown",
   "id": "6871d76b",
   "metadata": {},
   "source": [
    "Q4. **Why is it preferable to start a Decimal object with a string rather than a floating-point value ?**"
   ]
  },
  {
   "cell_type": "markdown",
   "id": "ee7725e3",
   "metadata": {},
   "source": [
    "**Ans**: \n",
    "Floating-point value is converted to Decimal format. Decimal can store float value with absolute precision. But when float value is given as Decimal object,it first has to be converted from floating point value which might already have rounding error.\n",
    "\n",
    "Hence it is preferable to start a Decimal object with a string."
   ]
  },
  {
   "cell_type": "markdown",
   "id": "e02af7ad",
   "metadata": {},
   "source": [
    "Q5. **In an arithmetic phrase, how simple is it to combine Decimal objects with integers ?**\n",
    "\n",
    "Ans: we can do it by using the phrase `Decimal()`"
   ]
  },
  {
   "cell_type": "markdown",
   "id": "8746acef",
   "metadata": {},
   "source": [
    "Q6. **Can Decimal objects and floating-point values be combined easily ?**"
   ]
  },
  {
   "cell_type": "markdown",
   "id": "03c30193",
   "metadata": {},
   "source": [
    "**Ans**: No, it is not possible to combine Decimal objects and floating-point values in Python. \n",
    "The data type need to same then addition can be possible."
   ]
  },
  {
   "cell_type": "code",
   "execution_count": 8,
   "id": "492a3c38",
   "metadata": {},
   "outputs": [
    {
     "name": "stdout",
     "output_type": "stream",
     "text": [
      "3.030000000000000044408920985\n"
     ]
    }
   ],
   "source": [
    "from decimal import Decimal\n",
    "\n",
    "# Convert a Decimal object to a float\n",
    "decimal_value = Decimal('1.23')\n",
    "float_value = Decimal(1.8)\n",
    "\n",
    "# Convert a float to a Decimal object\n",
    "\n",
    "\n",
    "print(float_value + decimal_value )"
   ]
  },
  {
   "cell_type": "markdown",
   "id": "231179d4",
   "metadata": {},
   "source": [
    "Q7. **Using the Fraction class but not the Decimal class, give an example of a quantity that can be expressed with absolute precision ?**"
   ]
  },
  {
   "cell_type": "markdown",
   "id": "f39ef346",
   "metadata": {},
   "source": [
    "**Ans**: Value of 0.5 will be represented as ½."
   ]
  },
  {
   "cell_type": "markdown",
   "id": "75ec07de",
   "metadata": {},
   "source": [
    "Q8. **Consider the following two fraction objects: Fraction(1, 2) and Fraction(1, 2). (5, 10). Is the internal state of these two objects the same? Why do you think that is ?**"
   ]
  },
  {
   "cell_type": "markdown",
   "id": "8727e25c",
   "metadata": {},
   "source": [
    "**Ans**: Both will be reduced to 1/2 at end"
   ]
  },
  {
   "cell_type": "markdown",
   "id": "3a796caf",
   "metadata": {},
   "source": [
    "Q9. **How do the Fraction class and the integer type (int) relate to each other? Containment or inheritance ?**"
   ]
  },
  {
   "cell_type": "markdown",
   "id": "724e98ef",
   "metadata": {},
   "source": [
    "The Fraction class in Python's fractions module is related to the integer type (int) in that it can represent any rational number as a fraction, including integers. However, the Fraction class is not a subclass of the int class and does not inherit from it.\n",
    "\n",
    "Instead, the Fraction class contains an int object to represent the numerator and an int object to represent the denominator of the fraction."
   ]
  },
  {
   "cell_type": "code",
   "execution_count": 12,
   "id": "f5b2afa4",
   "metadata": {},
   "outputs": [
    {
     "name": "stdout",
     "output_type": "stream",
     "text": [
      "5\n",
      "1/4\n",
      "1/3\n"
     ]
    }
   ],
   "source": [
    "from fractions import Fraction\n",
    "\n",
    "# Create a Fraction object from an integer\n",
    "fraction1 = Fraction(5)\n",
    "\n",
    "print(fraction1)  # Output: 5\n",
    "\n",
    "\n",
    "# Create a Fraction object from a floating-point value\n",
    "fraction2 = Fraction(0.25)\n",
    "\n",
    "print(fraction2)  # Output: 1/4\n",
    "\n",
    "# Create a Fraction object from a string representation of a fraction\n",
    "fraction3 = Fraction('1/3')\n",
    "\n",
    "print(fraction3)  # Output: 1/3\n"
   ]
  },
  {
   "cell_type": "code",
   "execution_count": null,
   "id": "95ce3935",
   "metadata": {},
   "outputs": [],
   "source": []
  }
 ],
 "metadata": {
  "kernelspec": {
   "display_name": "Python 3 (ipykernel)",
   "language": "python",
   "name": "python3"
  },
  "language_info": {
   "codemirror_mode": {
    "name": "ipython",
    "version": 3
   },
   "file_extension": ".py",
   "mimetype": "text/x-python",
   "name": "python",
   "nbconvert_exporter": "python",
   "pygments_lexer": "ipython3",
   "version": "3.9.7"
  }
 },
 "nbformat": 4,
 "nbformat_minor": 5
}
