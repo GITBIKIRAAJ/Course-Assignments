{
 "cells": [
  {
   "cell_type": "markdown",
   "id": "c99a1f56",
   "metadata": {},
   "source": [
    "### Q.1 What is the purpose of Python's OOP?"
   ]
  },
  {
   "cell_type": "markdown",
   "id": "f6e7ab87",
   "metadata": {},
   "source": [
    "Python is a multi-paradigm programming language which has been used an object to develop applications using an Object-Oriented approach. <br>\n",
    "\n",
    "An object-oriented paradigm is to design the program using classes and objects. The object is related to real-word entities such as book, house, pencil, etc. The oops concept focuses on writing the reusable code. It is a widespread technique to solve the problem by creating objects. <br>\n",
    "\n",
    "Major principles of object-oriented programming system are given below. <br>\n",
    "\n",
    "* Class\n",
    "* Object\n",
    "* Method\n",
    "* Inheritance\n",
    "* Polymorphism\n",
    "* Data Abstraction\n",
    "* Encapsulation\n",
    "\n",
    "**The main purpose of oops in python language is to bind the data and the functions that work on that together as a single unit so that no other part of the code can access this data**\n",
    "\n",
    "Some Advantages are mentioned below:\n",
    "\n",
    "* It helps to divide our over all program into different small segments and thus making problem solving easy through the use of objects\n",
    "* Helps in easy maintenance and modification of existing program\n",
    "* Multiple instances of an object can be made and explored."
   ]
  },
  {
   "cell_type": "markdown",
   "id": "f4eb86d3",
   "metadata": {},
   "source": [
    "### Q2. Where does an inheritance search look for an attribute?"
   ]
  },
  {
   "cell_type": "markdown",
   "id": "fb3bcf61",
   "metadata": {},
   "source": [
    "Python searches for an attribute in an upward tree of attributes. The first searches for the attribute in its instance and then looks in the class it is generated from, to all super classes listed in its class header."
   ]
  },
  {
   "cell_type": "markdown",
   "id": "fbbae4d6",
   "metadata": {},
   "source": [
    "### Q3. How do you distinguish between a class object and an instance object?"
   ]
  },
  {
   "cell_type": "markdown",
   "id": "791b4efe",
   "metadata": {},
   "source": [
    "A class is a template for creating objects in a program, whereas the object is an instance of a class. A class is a logical entity, while an object is a physical entity. A class does not allocate memory space; on the other hand, an object allocates memory space.\n",
    "\n",
    "* As Classes have no allocated memory. they can't be manipulated. but objects can be manipulated\n",
    "* Seperate memory is allocated for each object whenever an object is created. but for a class this doesnot happens"
   ]
  },
  {
   "cell_type": "markdown",
   "id": "9b0be3fb",
   "metadata": {},
   "source": [
    "### Q4. Q4. What makes the first argument in a class’s method function special?"
   ]
  },
  {
   "cell_type": "markdown",
   "id": "84dda9ee",
   "metadata": {},
   "source": [
    "There are three types of methods in pythod which are:\n",
    "\n",
    "* Instance Methods (object level methods)\n",
    "* Class Methods (class level methods)\n",
    "* Static Methods (general utility methods)\n",
    "* self is the first argument(it is not a keyword) for instance methods. which refers to the object itself\n",
    "* Each function we create in side class starts with def called as Method (not function)"
   ]
  },
  {
   "cell_type": "markdown",
   "id": "7de53587",
   "metadata": {},
   "source": [
    "### Q5. What is the purpose of the init method?"
   ]
  },
  {
   "cell_type": "markdown",
   "id": "f0ba5e15",
   "metadata": {},
   "source": [
    "*__init__* is a reseved method in python classes. It serves the role of a constructor in object oriented terminology. This method is called when an object is created from a class and it allows the class to initialize the attributes of the class"
   ]
  },
  {
   "cell_type": "markdown",
   "id": "8760ea1b",
   "metadata": {},
   "source": [
    "### Q6.  What is the process for creating a class instance?"
   ]
  },
  {
   "cell_type": "markdown",
   "id": "4576079b",
   "metadata": {},
   "source": [
    "To defining a particular type of object. Because Python objects can have both function and data elements, Python classes define what methods can be used to change the state of an object"
   ]
  },
  {
   "cell_type": "code",
   "execution_count": 1,
   "id": "cb228082",
   "metadata": {},
   "outputs": [
    {
     "name": "stdout",
     "output_type": "stream",
     "text": [
      "Wellcome All\n",
      "Employee Name: Bikiraaj \n",
      "Id: 100\n"
     ]
    }
   ],
   "source": [
    "class employee:  \n",
    "    salutation=\"Wellcome All\"   #class instance attribute  \n",
    "      \n",
    "    def __init__(self):         #constructure\n",
    "        self.Name = 'Bikiraaj'      \n",
    "        self.Id = 100     \n",
    "    def display(self):          #class instance method  \n",
    "        print(\"Employee Name: %s \\nId: %d\" %(self.Name, self.Id))      \n",
    "Emp=employee()                    \n",
    "print(Emp.salutation)           #call instance attribute  \n",
    "Emp.display()                   #call instance method \n",
    "        "
   ]
  },
  {
   "cell_type": "markdown",
   "id": "f8cf76e1",
   "metadata": {},
   "source": [
    "### Q7. What is the process for creating a class?"
   ]
  },
  {
   "cell_type": "markdown",
   "id": "56458ec8",
   "metadata": {},
   "source": [
    "class keyword is used to created a class in python. The syntax to create a class in python is given in the Question **6 Answer**"
   ]
  },
  {
   "cell_type": "markdown",
   "id": "08f32e8b",
   "metadata": {},
   "source": [
    "### Q8. How would you define the superclasses of a class?"
   ]
  },
  {
   "cell_type": "markdown",
   "id": "5d37d6b5",
   "metadata": {},
   "source": [
    "A superclass is the class from which many subclasses can be created. The subclasses inherit the characteristics of a superclass. The superclass is also known as the parent class or base class.\n",
    "\n",
    "class Employee(Person): \n",
    "Here child class Employee inherits attributes of the parrent calss/superclass Person "
   ]
  },
  {
   "cell_type": "code",
   "execution_count": null,
   "id": "54342422",
   "metadata": {},
   "outputs": [],
   "source": []
  }
 ],
 "metadata": {
  "kernelspec": {
   "display_name": "Python 3 (ipykernel)",
   "language": "python",
   "name": "python3"
  },
  "language_info": {
   "codemirror_mode": {
    "name": "ipython",
    "version": 3
   },
   "file_extension": ".py",
   "mimetype": "text/x-python",
   "name": "python",
   "nbconvert_exporter": "python",
   "pygments_lexer": "ipython3",
   "version": "3.9.7"
  }
 },
 "nbformat": 4,
 "nbformat_minor": 5
}
