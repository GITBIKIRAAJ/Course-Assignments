{
 "cells": [
  {
   "cell_type": "markdown",
   "id": "8042da23",
   "metadata": {},
   "source": [
    "Q1. **What is the purpose of the try statement?**"
   ]
  },
  {
   "cell_type": "markdown",
   "id": "936085a5",
   "metadata": {},
   "source": [
    "`try` statement is used for exception handling in python. It consists of a block of risky statements which might cause an exception during runtime. If code within try block raises exception, then the exception will be reverted to the corresponding except block when multiple except blocks are present, else it will be reverted to the default except block. In short, try and except in union avoid programs from crashing during runtime due to exceptions"
   ]
  },
  {
   "cell_type": "code",
   "execution_count": 1,
   "id": "2b9fec75",
   "metadata": {},
   "outputs": [
    {
     "name": "stdout",
     "output_type": "stream",
     "text": [
      "Division by Zero is Not Possible\n"
     ]
    }
   ],
   "source": [
    "try:\n",
    "    print(10/0)\n",
    "except ZeroDivisionError:\n",
    "    print('Division by Zero is Not Possible')"
   ]
  },
  {
   "cell_type": "markdown",
   "id": "8ded9218",
   "metadata": {},
   "source": [
    "Q2. __What are the two most popular try statement variations?__"
   ]
  },
  {
   "cell_type": "markdown",
   "id": "3958fc86",
   "metadata": {},
   "source": [
    "Popular try statements\n",
    "- try,except\n",
    "- try,except,finally\n",
    "- try,except,else,finally"
   ]
  },
  {
   "cell_type": "markdown",
   "id": "a43b2c92",
   "metadata": {},
   "source": [
    "Q3. **What is the purpose of the raise statement?**"
   ]
  },
  {
   "cell_type": "markdown",
   "id": "f3435c21",
   "metadata": {},
   "source": [
    "Answers: `raise` statement is used to trigger an exception (error) explicitly, if a certain condition is not as per requirement of programmer. raise statement helps in triggering exception as per programming logic."
   ]
  },
  {
   "cell_type": "markdown",
   "id": "39772f72",
   "metadata": {},
   "source": [
    "Q4. **What does the assert statement do, and what other statement is it like?**"
   ]
  },
  {
   "cell_type": "markdown",
   "id": "06e11c4d",
   "metadata": {},
   "source": [
    "**Answers:** This keyword is used to check if a certain condition is met, and raise an exception if it is not. For example: **`assert`** x > 0, \"x must be positive\""
   ]
  },
  {
   "cell_type": "markdown",
   "id": "70eb36be",
   "metadata": {},
   "source": [
    "Q5. **What is the purpose of the with/as argument, and what other statement is it like?**"
   ]
  },
  {
   "cell_type": "markdown",
   "id": "ba7bf249",
   "metadata": {},
   "source": [
    "`with` statement is used in exception handling to make the code cleaner and much more readable. with statement itself ensures proper acquisition and release of resources. This avoids triggering of exceptions if the file closing is unknowingly forgotten in the code execution."
   ]
  },
  {
   "cell_type": "code",
   "execution_count": null,
   "id": "00beb671",
   "metadata": {},
   "outputs": [],
   "source": [
    "with open('sample_file.txt','w') as file: \n",
    "    file.write('Hello World')"
   ]
  }
 ],
 "metadata": {
  "kernelspec": {
   "display_name": "Python 3 (ipykernel)",
   "language": "python",
   "name": "python3"
  },
  "language_info": {
   "codemirror_mode": {
    "name": "ipython",
    "version": 3
   },
   "file_extension": ".py",
   "mimetype": "text/x-python",
   "name": "python",
   "nbconvert_exporter": "python",
   "pygments_lexer": "ipython3",
   "version": "3.9.7"
  }
 },
 "nbformat": 4,
 "nbformat_minor": 5
}
