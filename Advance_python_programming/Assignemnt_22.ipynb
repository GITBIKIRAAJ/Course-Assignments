{
 "cells": [
  {
   "cell_type": "markdown",
   "id": "4d733d72",
   "metadata": {},
   "source": [
    "Q.1 **What are the benefits of the built-in array package, if any?**"
   ]
  },
  {
   "cell_type": "markdown",
   "id": "ab8812be",
   "metadata": {},
   "source": [
    "The `array` module in Python provides a data structure called an array, which is similar to a *list* but is more efficient for certain operations. The main benefits of the array module are:\n",
    "\n",
    "`Memory efficiency`: The array module uses a more efficient representation for storing data compared to Python's built-in list type. This can be especially useful when working with large datasets, as it can help reduce the amount of memory needed to store the data.\n",
    "\n",
    "`Speed`: The array module is optimized for fast element access and insertion, making it faster than the list type for certain operations such as adding elements to the beginning or end of the array.\n",
    "\n",
    "`Type constraint`: The array module allows you to specify the type of elements that can be stored in the array, which can be useful for ensuring that the array only contains values of a certain type. This can be useful for reducing the risk of runtime errors caused by mixing incompatible types in the array."
   ]
  },
  {
   "cell_type": "code",
   "execution_count": 1,
   "id": "5874678b",
   "metadata": {},
   "outputs": [
    {
     "name": "stdout",
     "output_type": "stream",
     "text": [
      "array('i', [0, 1, 2, 3, 4, 5, 6])\n"
     ]
    }
   ],
   "source": [
    "import array\n",
    "\n",
    "# Create an array of integers\n",
    "int_array = array.array('i', [1, 2, 3, 4, 5])\n",
    "\n",
    "# Append an element to the array\n",
    "int_array.append(6)\n",
    "\n",
    "# Insert an element at the beginning of the array\n",
    "int_array.insert(0, 0)\n",
    "\n",
    "print(int_array)\n"
   ]
  },
  {
   "cell_type": "code",
   "execution_count": 6,
   "id": "7527a42f",
   "metadata": {},
   "outputs": [
    {
     "name": "stdout",
     "output_type": "stream",
     "text": [
      "list size is: 800040\n",
      "arry size is: 400104\n"
     ]
    }
   ],
   "source": [
    "import numpy as np\n",
    "list_l = list(range(0, 100000))\n",
    "\n",
    "arr_list = np.array(list_l)\n",
    "\n",
    "print('list size is:',list_l.__sizeof__())\n",
    "print('arry size is:',arr_list.__sizeof__())"
   ]
  },
  {
   "cell_type": "markdown",
   "id": "30c6f081",
   "metadata": {},
   "source": [
    "Q2. **What are some of the array package's limitations ?**"
   ]
  },
  {
   "cell_type": "markdown",
   "id": "183705e8",
   "metadata": {},
   "source": [
    "**Ans**:\n",
    "The number of elements to be stored in an array should be known in advance.An array is a static structure (which means the array is of fixed size). Once declared the size of the array cannot be modified. The memory which is allocated to it cannot be increased or decreased.\n",
    "\n",
    "Insertion and deletion are quite difficult in an array as the elements are stored in consecutive memory locations and the shifting operation is costly.\n",
    "\n",
    "Allocating more memory than the requirement leads to wastage of memory space and less allocation of memory also leads to a problem"
   ]
  },
  {
   "cell_type": "markdown",
   "id": "6731e974",
   "metadata": {},
   "source": [
    "Q3. **Describe the main differences between the array and numpy packages ?**"
   ]
  },
  {
   "cell_type": "markdown",
   "id": "ceb2db24",
   "metadata": {},
   "source": [
    "The array module and the numpy package are both tools for working with arrays of data in Python. However, there are several key differences between the two:\n",
    "\n",
    "**Data types**: The array module allows you to specify the type of elements that can be stored in the array, while numpy arrays can store elements of any data type.\n",
    "\n",
    "**Performance**: numpy arrays are generally more efficient for numerical operations than array objects, as numpy uses optimized algorithms and data structures for fast computations.\n",
    "\n",
    "**Array dimensions:** numpy arrays can have any number of dimensions, while array objects are limited to one dimension.\n",
    "\n",
    "**Available functions**: The numpy package provides a wide range of functions for performing mathematical operations on arrays, such as element-wise arithmetic, statistical functions, linear algebra operations, and more. The array module does not provide as many functions for working with arrays."
   ]
  },
  {
   "cell_type": "markdown",
   "id": "d96239c0",
   "metadata": {},
   "source": [
    "Q4. **Explain the distinctions between the empty, ones, and zeros functions ?**"
   ]
  },
  {
   "cell_type": "markdown",
   "id": "194e8d9d",
   "metadata": {},
   "source": [
    "**Ans**:The distinctions between the empty, ones, and zero functions are as follows :\n",
    "\n",
    "`Empty function`: An empty function is a function that does not contain any statement within its body. If you try to write a function definition without any statement in python ,it will return an error. To avoid this, we use pass statement. pass is a special statement in Python that does nothing. It only works as a dummy statement.<br>\n",
    "`Ones`: This function returns a new array of given shape and data type, where the element’s value is 1. <br>\n",
    "`Zeros`: This function returns a new array of given shape and data type, where the element’s value is 0."
   ]
  },
  {
   "cell_type": "markdown",
   "id": "0ad3bdde",
   "metadata": {},
   "source": [
    "Q5. **In the fromfunction function, which is used to construct new arrays, what is the role of the callable argument ?**"
   ]
  },
  {
   "cell_type": "markdown",
   "id": "d96ae395",
   "metadata": {},
   "source": [
    "**Ans**:   Its function is to execute the function over each coordinate and the resulting array. The function is called with N parameters, where N is the rank of shape. Each parameter represents the coordinates of the array varying along a specific axis."
   ]
  },
  {
   "cell_type": "markdown",
   "id": "b0a8be3c",
   "metadata": {},
   "source": [
    "Q6. What happens when a numpy array is combined with a single-value operand (a scalar, such as an int or a floating-point value) through addition, as in the expression A + n ?"
   ]
  },
  {
   "cell_type": "markdown",
   "id": "6878a64b",
   "metadata": {},
   "source": [
    "**Ans**: If any scaler value such as integer is added to the numpy array then all the elements inside the array will add that value in it."
   ]
  },
  {
   "cell_type": "markdown",
   "id": "43391a66",
   "metadata": {},
   "source": [
    "Q7. **Can array-to-scalar operations use combined operation-assign operators (such as += or *=)? What is the outcome ?**\n",
    "\n",
    "**Ans**: It will carry out provided operation on all elements of array."
   ]
  },
  {
   "cell_type": "markdown",
   "id": "ff0e60ef",
   "metadata": {},
   "source": [
    "Q8. **Does a numpy array contain fixed-length strings? What happens if you allocate a longer string to one of these arrays ?**"
   ]
  },
  {
   "cell_type": "markdown",
   "id": "cbc4e3a7",
   "metadata": {},
   "source": [
    "Yes, **numpy arrays** can contain fixed-length strings. The numpy package provides a **dtype** called `_str_` that allows you to create arrays of fixed-length strings."
   ]
  },
  {
   "cell_type": "code",
   "execution_count": 7,
   "id": "d35cb716",
   "metadata": {},
   "outputs": [
    {
     "name": "stdout",
     "output_type": "stream",
     "text": [
      "['hello' 'world']\n"
     ]
    }
   ],
   "source": [
    "\n",
    "# Create a numpy array of fixed-length strings with a length of 10 characters\n",
    "string_array = np.array(['hello', 'world'], dtype='str_')\n",
    "\n",
    "print(string_array)  "
   ]
  },
  {
   "cell_type": "markdown",
   "id": "e9ca51a9",
   "metadata": {},
   "source": [
    "Q9. **What happens when you combine two numpy arrays using an operation like addition (+) or multiplication (*)? What are the conditions for combining two numpy arrays ?**\n",
    "\n",
    "**Ans**: It will simply add or multiply element to element at same position."
   ]
  },
  {
   "cell_type": "markdown",
   "id": "eaaacd56",
   "metadata": {},
   "source": [
    "Q10. **What is the best way to use a Boolean array to mask another array ?**\n",
    "\n",
    "**Ans:** The best way to use a Boolean array to mask another array is by Using *masked_where* of numpy package"
   ]
  },
  {
   "cell_type": "markdown",
   "id": "ebd1c595",
   "metadata": {},
   "source": [
    "Q11. **What are three different ways to get the standard deviation of a wide collection of data using both standard Python and its packages? Sort the three of them by how quickly they execute ?**"
   ]
  },
  {
   "cell_type": "markdown",
   "id": "b611e457",
   "metadata": {},
   "source": [
    "**way1**: Using the `statistics` module: The statistics module is part of the Python Standard Library and provides a function called `stdev()` that calculates the standard deviation of a sample. This method is relatively fast, as it uses an efficient algorithm for calculating the standard deviation. "
   ]
  },
  {
   "cell_type": "code",
   "execution_count": 13,
   "id": "9f6b6e76",
   "metadata": {},
   "outputs": [
    {
     "name": "stdout",
     "output_type": "stream",
     "text": [
      "1.5811388300841898\n",
      "Time taken: 0.0022079944610595703\n"
     ]
    }
   ],
   "source": [
    "import time \n",
    "st= time.time()\n",
    "import statistics\n",
    "\n",
    "data = [1, 2, 3, 4, 5]\n",
    "\n",
    "stdev = statistics.stdev(data)\n",
    "\n",
    "print(stdev)\n",
    "end= time.time()\n",
    "t= end-st\n",
    "print('Time taken:',t)"
   ]
  },
  {
   "cell_type": "markdown",
   "id": "f9a27e6f",
   "metadata": {},
   "source": [
    "**way2 **:Using the numpy package: The numpy package provides a function called `std()` that calculates the standard deviation of an array. This method is faster than using the statistics module, as it uses optimized algorithms and data structures for fast computations."
   ]
  },
  {
   "cell_type": "code",
   "execution_count": 16,
   "id": "1a4fa59b",
   "metadata": {},
   "outputs": [
    {
     "name": "stdout",
     "output_type": "stream",
     "text": [
      "1.4142135623730951\n",
      "Time taken: 0.0\n"
     ]
    }
   ],
   "source": [
    "import numpy as np\n",
    "import time \n",
    "st= time.time()\n",
    "data = [1, 2, 3, 4, 5]\n",
    "\n",
    "stdev = np.std(data)\n",
    "\n",
    "print(stdev)  \n",
    "end= time.time()\n",
    "t= end-st\n",
    "print('Time taken:',t)"
   ]
  },
  {
   "cell_type": "markdown",
   "id": "ea5fb938",
   "metadata": {},
   "source": [
    "**way 3**: Using a loop: You can also calculate the standard deviation using a loop, although this method is slower than using the statistics module or the numpy package"
   ]
  },
  {
   "cell_type": "code",
   "execution_count": 15,
   "id": "310964db",
   "metadata": {},
   "outputs": [
    {
     "name": "stdout",
     "output_type": "stream",
     "text": [
      "1.4142135623730951\n",
      "Time taken: 0.0\n"
     ]
    }
   ],
   "source": [
    "import time \n",
    "st= time.time()\n",
    "data = [1, 2, 3, 4, 5]\n",
    "\n",
    "mean = sum(data) / len(data)\n",
    "\n",
    "stdev = 0\n",
    "for x in data:\n",
    "    stdev += (x - mean)**2\n",
    "stdev = (stdev / len(data))**0.5\n",
    "\n",
    "print(stdev)  \n",
    "end= time.time()\n",
    "t= end-st\n",
    "print('Time taken:',t)\n"
   ]
  },
  {
   "cell_type": "markdown",
   "id": "d0e2a671",
   "metadata": {},
   "source": [
    "Q12. **What is the dimensionality of a Boolean mask-generated array ?**"
   ]
  },
  {
   "cell_type": "markdown",
   "id": "7470af83",
   "metadata": {},
   "source": [
    "**Ans**: It will have same dimensionality as input array. Masking comes up when we want to extract, modify, count, or otherwise manipulate values in an array based on some criterion: for example, we might wish to count all values greater than a certain value, or perhaps remove all outliers that are above some threshold. In NumPy, Boolean masking is often the most efficient way to accomplish these types of tasks."
   ]
  },
  {
   "cell_type": "code",
   "execution_count": null,
   "id": "a52be6e6",
   "metadata": {},
   "outputs": [],
   "source": []
  }
 ],
 "metadata": {
  "kernelspec": {
   "display_name": "Python 3 (ipykernel)",
   "language": "python",
   "name": "python3"
  },
  "language_info": {
   "codemirror_mode": {
    "name": "ipython",
    "version": 3
   },
   "file_extension": ".py",
   "mimetype": "text/x-python",
   "name": "python",
   "nbconvert_exporter": "python",
   "pygments_lexer": "ipython3",
   "version": "3.9.7"
  }
 },
 "nbformat": 4,
 "nbformat_minor": 5
}
