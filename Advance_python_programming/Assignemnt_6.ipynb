{
 "cells": [
  {
   "cell_type": "markdown",
   "id": "770d1c4f",
   "metadata": {},
   "source": [
    "### Q1. Describe three applications for exception processing."
   ]
  },
  {
   "cell_type": "markdown",
   "id": "8548ce00",
   "metadata": {},
   "source": [
    "**Ans**: Errors are the problems in a program due to which the program will stop the execution. On the other hand, exceptions are raised when some internal events occur which changes the normal flow of the program. <br>\n",
    "\n",
    "Exception Processing is used in Various Applications. Few examples are: <br>\n",
    "\n",
    "- Checking Appropriate use of input in an application\n",
    "- Checking for Arithmetic exceptions in mathematical executions\n",
    "- Checking File I/O exceptions during File handling"
   ]
  },
  {
   "cell_type": "markdown",
   "id": "5f83440e",
   "metadata": {},
   "source": [
    "### Q2. What happens if you don't do something extra to treat an exception?"
   ]
  },
  {
   "cell_type": "markdown",
   "id": "00adc474",
   "metadata": {},
   "source": [
    "__Ans:__ <b>\n",
    "    \n",
    "If Exceptions are not handled, flow of program will be broken during the run time which might lead to an abnormal termination of the program.You can raise an exception in your own program by using the raise exception statement that will avoid the crash of your program."
   ]
  },
  {
   "cell_type": "markdown",
   "id": "b6f5f096",
   "metadata": {},
   "source": [
    "### Q3. What are your options for recovering from an exception in your script?"
   ]
  },
  {
   "cell_type": "markdown",
   "id": "fe767731",
   "metadata": {},
   "source": [
    "In Python, you can use the **try** and the **except** blocks to handle most of these errors as exceptions all the more gracefully."
   ]
  },
  {
   "cell_type": "code",
   "execution_count": null,
   "id": "362259e7",
   "metadata": {},
   "outputs": [],
   "source": [
    "try:\n",
    "There can be errors in this block\n",
    "    \n",
    "except <error type>:\n",
    "     Do this to handle exception;\n",
    "\t  executed if the try block throws an error\n",
    "    \n",
    "else:\n",
    "    Do this if try block executes successfully without errors\n",
    "   \n",
    "finally:\n",
    "\t# This block is always executed"
   ]
  },
  {
   "cell_type": "markdown",
   "id": "b176b2b5",
   "metadata": {},
   "source": [
    "### Q4. Describe two methods for triggering exceptions in your script ?"
   ]
  },
  {
   "cell_type": "markdown",
   "id": "fb964da6",
   "metadata": {},
   "source": [
    "__Ans:__\n",
    "__raise__ and __assert__ are two methods that can be used to trigger manual exceptions in our script.\n",
    "\n",
    "raise method triggers an exception if condition provided to it turns out to be True.\n",
    "assert will let the program to continue execution if condition provided to it turns out to be True else exception will be raised"
   ]
  },
  {
   "cell_type": "code",
   "execution_count": 1,
   "id": "115509a5",
   "metadata": {},
   "outputs": [
    {
     "ename": "Exception",
     "evalue": "X Value Should not exceed 5 The Provided Value of X is 10",
     "output_type": "error",
     "traceback": [
      "\u001b[1;31m---------------------------------------------------------------------------\u001b[0m",
      "\u001b[1;31mException\u001b[0m                                 Traceback (most recent call last)",
      "\u001b[1;32m~\\AppData\\Local\\Temp/ipykernel_29796/1568445858.py\u001b[0m in \u001b[0;36m<module>\u001b[1;34m\u001b[0m\n\u001b[0;32m      1\u001b[0m \u001b[1;31m# Example of raise\u001b[0m\u001b[1;33m\u001b[0m\u001b[1;33m\u001b[0m\u001b[0m\n\u001b[0;32m      2\u001b[0m \u001b[0mx\u001b[0m \u001b[1;33m=\u001b[0m \u001b[1;36m10\u001b[0m\u001b[1;33m\u001b[0m\u001b[1;33m\u001b[0m\u001b[0m\n\u001b[1;32m----> 3\u001b[1;33m \u001b[1;32mraise\u001b[0m \u001b[0mException\u001b[0m\u001b[1;33m(\u001b[0m\u001b[1;34mf'X Value Should not exceed 5 The Provided Value of X is {x}'\u001b[0m\u001b[1;33m)\u001b[0m\u001b[1;33m\u001b[0m\u001b[1;33m\u001b[0m\u001b[0m\n\u001b[0m",
      "\u001b[1;31mException\u001b[0m: X Value Should not exceed 5 The Provided Value of X is 10"
     ]
    }
   ],
   "source": [
    "# Example of raise\n",
    "x = 10\n",
    "raise Exception(f'X Value Should not exceed 5 The Provided Value of X is {x}')"
   ]
  },
  {
   "cell_type": "code",
   "execution_count": 2,
   "id": "b74ff1e7",
   "metadata": {},
   "outputs": [
    {
     "ename": "AssertionError",
     "evalue": "2 is not equal to 4",
     "output_type": "error",
     "traceback": [
      "\u001b[1;31m---------------------------------------------------------------------------\u001b[0m",
      "\u001b[1;31mAssertionError\u001b[0m                            Traceback (most recent call last)",
      "\u001b[1;32m~\\AppData\\Local\\Temp/ipykernel_29796/2640526208.py\u001b[0m in \u001b[0;36m<module>\u001b[1;34m\u001b[0m\n\u001b[0;32m      1\u001b[0m \u001b[1;31m# Example of assert\u001b[0m\u001b[1;33m\u001b[0m\u001b[1;33m\u001b[0m\u001b[0m\n\u001b[1;32m----> 2\u001b[1;33m \u001b[1;32massert\u001b[0m\u001b[1;33m(\u001b[0m\u001b[1;36m2\u001b[0m\u001b[1;33m==\u001b[0m\u001b[1;36m10\u001b[0m\u001b[1;33m)\u001b[0m\u001b[1;33m,\u001b[0m \u001b[1;34m\"2 is not equal to 4\"\u001b[0m\u001b[1;33m\u001b[0m\u001b[1;33m\u001b[0m\u001b[0m\n\u001b[0m",
      "\u001b[1;31mAssertionError\u001b[0m: 2 is not equal to 4"
     ]
    }
   ],
   "source": [
    "# Example of assert\n",
    "assert(2==10), \"2 is not equal to 4\""
   ]
  },
  {
   "cell_type": "markdown",
   "id": "1773c013",
   "metadata": {},
   "source": [
    "### Q5. Identify two methods for specifying actions to be executed at termination time, regardless of whether or not an exception exists"
   ]
  },
  {
   "cell_type": "markdown",
   "id": "65d2856c",
   "metadata": {},
   "source": [
    "Python Provides **else** and **finally** blocks for specifying actions to be executed at termination time, regardless of whether an exceptions exists or not."
   ]
  },
  {
   "cell_type": "code",
   "execution_count": null,
   "id": "a8c812e5",
   "metadata": {},
   "outputs": [],
   "source": []
  }
 ],
 "metadata": {
  "kernelspec": {
   "display_name": "Python 3 (ipykernel)",
   "language": "python",
   "name": "python3"
  },
  "language_info": {
   "codemirror_mode": {
    "name": "ipython",
    "version": 3
   },
   "file_extension": ".py",
   "mimetype": "text/x-python",
   "name": "python",
   "nbconvert_exporter": "python",
   "pygments_lexer": "ipython3",
   "version": "3.9.7"
  }
 },
 "nbformat": 4,
 "nbformat_minor": 5
}
