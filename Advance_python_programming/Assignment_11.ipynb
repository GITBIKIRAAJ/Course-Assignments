{
 "cells": [
  {
   "cell_type": "markdown",
   "id": "24f48d2f",
   "metadata": {},
   "source": [
    "### Q1. What is the concept of a metaclass?"
   ]
  },
  {
   "cell_type": "markdown",
   "id": "242d841e",
   "metadata": {},
   "source": [
    "In Python, a ***metaclass*** is a class that is used to create a class. When you define a class in Python, the class definition is actually used to create a ***new class object***. This class object is then used to create instances of the class.\n",
    "\n",
    "Metaclasses are a way to customize the process of creating a class. They allow you to define special behavior that is applied when a class is created, such as modifying the attributes of the class or adding new methods to the class.\n",
    "\n",
    "Here is an example of how you might use a metaclass in Python:"
   ]
  },
  {
   "cell_type": "code",
   "execution_count": 2,
   "id": "74a70557",
   "metadata": {},
   "outputs": [
    {
     "name": "stdout",
     "output_type": "stream",
     "text": [
      "bar\n"
     ]
    }
   ],
   "source": [
    "class Meta(type):\n",
    "    def __new__(cls, name, bases, namespace):\n",
    "        # Modify the attributes of the class\n",
    "        namespace['foo'] = 'bar'\n",
    "        return super().__new__(cls, name, bases, namespace)\n",
    "\n",
    "class MyClass(metaclass=Meta):\n",
    "    pass\n",
    "\n",
    "print(MyClass.foo) "
   ]
  },
  {
   "cell_type": "markdown",
   "id": "f767cd2a",
   "metadata": {},
   "source": [
    "**In this example**, the Meta class is a metaclass that is used to create the MyClass class. The **`__new__()`** method of the Meta class is called when the MyClass class is created, and it modifies the attributes of the class by adding a new attribute called foo. When you access the foo attribute of the MyClass class, it returns the value `'bar'`, which was added by the metaclass."
   ]
  },
  {
   "cell_type": "markdown",
   "id": "0ff79022",
   "metadata": {},
   "source": [
    "### Q2. What is the best way to declare a class's metaclass?"
   ]
  },
  {
   "cell_type": "code",
   "execution_count": 3,
   "id": "d4da3899",
   "metadata": {},
   "outputs": [
    {
     "name": "stdout",
     "output_type": "stream",
     "text": [
      "<class 'type'>\n",
      "<class '__main__.meta'>\n"
     ]
    }
   ],
   "source": [
    "#A way to declare a class’ metaclass is by using metaclass keyword in class definition.\n",
    "\n",
    "class meta(type):\n",
    "    pass\n",
    "class class_meta(metaclass=meta):\n",
    "    pass\n",
    "print(type(meta))\n",
    "print(type(class_meta))"
   ]
  },
  {
   "cell_type": "markdown",
   "id": "b54f46c3",
   "metadata": {},
   "source": [
    "### Q3. How do class decorators overlap with metaclasses for handling classes ?"
   ]
  },
  {
   "cell_type": "markdown",
   "id": "fba1259d",
   "metadata": {},
   "source": [
    "**Answer**\n",
    "Anything you can do with a class decorator, you can of course do with a custom metaclasses (just apply the functionality of the \"decorator function\", i.e., the one that takes a class object and modifies it, in the course of the metaclass's `__new__` or `__init__` that make the class object!)."
   ]
  },
  {
   "cell_type": "markdown",
   "id": "c77b4777",
   "metadata": {},
   "source": [
    "### Q4. How do class decorators overlap with metaclasses for handling instances?\n",
    "\n",
    "**Ans**: Anything you can do with a class decorator, you can of course do with a custom metaclass (just apply the functionality of the \"decorator function\", i.e., the one that takes a class object and modifies it, in the course of the metaclass's `__new__` or `__init__` that make the class object!)."
   ]
  },
  {
   "cell_type": "code",
   "execution_count": null,
   "id": "cc09ac2a",
   "metadata": {},
   "outputs": [],
   "source": []
  }
 ],
 "metadata": {
  "kernelspec": {
   "display_name": "Python 3 (ipykernel)",
   "language": "python",
   "name": "python3"
  },
  "language_info": {
   "codemirror_mode": {
    "name": "ipython",
    "version": 3
   },
   "file_extension": ".py",
   "mimetype": "text/x-python",
   "name": "python",
   "nbconvert_exporter": "python",
   "pygments_lexer": "ipython3",
   "version": "3.9.7"
  }
 },
 "nbformat": 4,
 "nbformat_minor": 5
}
