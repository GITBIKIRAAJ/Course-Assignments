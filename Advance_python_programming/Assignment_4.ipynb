{
 "cells": [
  {
   "cell_type": "markdown",
   "id": "eeb2b3fd",
   "metadata": {},
   "source": [
    "### Q1. Which two operator overloading methods can you use in your classes to support iteration?"
   ]
  },
  {
   "cell_type": "markdown",
   "id": "27641816",
   "metadata": {},
   "source": [
    "**Ans**:\n",
    "**__ iter __** and __next__ are the operator overloading methods in python that support iteration and are collectively called iterator protocol.<br>\n",
    "<br>\n",
    "\n",
    "**__ iter __** returns the iterator object and is called at the start of loop in our respective class.\n",
    "**__ next __** is called at each loop increment, it returns the incremented value. Also Stopiteration is raised when there is no value to return."
   ]
  },
  {
   "cell_type": "markdown",
   "id": "6800d92e",
   "metadata": {},
   "source": [
    "### Q2. In what contexts do the two operator overloading methods manage printing?"
   ]
  },
  {
   "cell_type": "markdown",
   "id": "1f56d3f9",
   "metadata": {},
   "source": [
    "**__ str __** and **__ add __** are two operator overloading methods that manage printing."
   ]
  },
  {
   "cell_type": "code",
   "execution_count": 4,
   "id": "69e3b4be",
   "metadata": {},
   "outputs": [],
   "source": [
    "class thirdclass:\n",
    "    def __init__(self, value):\n",
    "        self.data = value\n",
    "    def __add__(self, other):\n",
    "        return thirdclass(self.data + other)\n",
    "    def __str__(self):\n",
    "        return '[thirdclass: %s]'% self.data\n",
    "    def mul(self, other):\n",
    "        self.data *= other"
   ]
  },
  {
   "cell_type": "markdown",
   "id": "cd52b172",
   "metadata": {},
   "source": [
    "### Q3.  In a class, how do you intercept slice operations?"
   ]
  },
  {
   "cell_type": "markdown",
   "id": "6ccbee25",
   "metadata": {},
   "source": [
    "**Ans:** In a class use of slice(), __ getitem __ method is used for intercept slice operation. This slice method is provided with start integer number, stop integer number and step integer number.\n",
    "\n",
    "Example: __ getitem __(slice(start,stop,step))"
   ]
  },
  {
   "cell_type": "markdown",
   "id": "1134f2e2",
   "metadata": {},
   "source": [
    "### Q4. In a class, how do you capture in-place addition?"
   ]
  },
  {
   "cell_type": "markdown",
   "id": "532bdf3d",
   "metadata": {},
   "source": [
    "Ans: x+y is normal addition. Whereas __x+=y__ is inplace addition operation. In this in-place addition **x** itself will store the value of addition. "
   ]
  },
  {
   "cell_type": "code",
   "execution_count": 5,
   "id": "4546e5fe",
   "metadata": {},
   "outputs": [
    {
     "name": "stdout",
     "output_type": "stream",
     "text": [
      "300\n"
     ]
    }
   ],
   "source": [
    "class Book:\n",
    "    def __init__(self,pages):\n",
    "        self.pages = pages\n",
    "    def __iadd__(self,other):\n",
    "        self.pages += other.pages\n",
    "        return self.pages\n",
    "        \n",
    "b1 = Book(100)\n",
    "b2 = Book(200)\n",
    "b1+=b2\n",
    "print(b1)"
   ]
  },
  {
   "cell_type": "markdown",
   "id": "46888b6c",
   "metadata": {},
   "source": [
    "### Q5. When is it appropriate to use operator overloading?"
   ]
  },
  {
   "cell_type": "markdown",
   "id": "0667193a",
   "metadata": {},
   "source": [
    "Ans: Operator overloading is helpful in cases where the operators used for certain types provide semantics related to the domain context and syntactic support as found in the programming language"
   ]
  },
  {
   "cell_type": "code",
   "execution_count": 6,
   "id": "041e3650",
   "metadata": {},
   "outputs": [
    {
     "name": "stdout",
     "output_type": "stream",
     "text": [
      "Total Salary -> 160000\n"
     ]
    }
   ],
   "source": [
    "class Salary:\n",
    "    def __init__(self,salary):\n",
    "        self.salary = salary\n",
    "    def __add__(self,other):\n",
    "        return self.salary+other.salary\n",
    "sal_1 = Salary(70000)\n",
    "sal_2 = Salary(90000)\n",
    "print(f'Total Salary -> {sal_1+sal_2}')"
   ]
  },
  {
   "cell_type": "code",
   "execution_count": null,
   "id": "117b7534",
   "metadata": {},
   "outputs": [],
   "source": []
  }
 ],
 "metadata": {
  "kernelspec": {
   "display_name": "Python 3 (ipykernel)",
   "language": "python",
   "name": "python3"
  },
  "language_info": {
   "codemirror_mode": {
    "name": "ipython",
    "version": 3
   },
   "file_extension": ".py",
   "mimetype": "text/x-python",
   "name": "python",
   "nbconvert_exporter": "python",
   "pygments_lexer": "ipython3",
   "version": "3.9.7"
  }
 },
 "nbformat": 4,
 "nbformat_minor": 5
}
