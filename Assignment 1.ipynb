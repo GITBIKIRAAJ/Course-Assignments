{
 "cells": [
  {
   "cell_type": "markdown",
   "id": "3c0f6400",
   "metadata": {},
   "source": [
    "# Assignment 1 \n",
    "By Biranchi Narayan Maharana"
   ]
  },
  {
   "cell_type": "markdown",
   "id": "590f49b4",
   "metadata": {},
   "source": [
    "Question 1- In the below elements which of them are values or an expression? eg:- values can be\n",
    "integer or string and expressions will be mathematical operators.\n",
    "\n",
    "\"*\", \"hello\", \"-87.8\",\"-\", \"/\",\"+\", \"6\""
   ]
  },
  {
   "cell_type": "markdown",
   "id": "56b616f3",
   "metadata": {},
   "source": [
    "**Answer** <br>\n",
    "Mathematical operators- (*,+,-,/)\n",
    "Expression- (-87.8, hello,6)"
   ]
  },
  {
   "cell_type": "markdown",
   "id": "3c454bed",
   "metadata": {},
   "source": [
    "### 2- What is the difference between string and variable?"
   ]
  },
  {
   "cell_type": "markdown",
   "id": "c78af0d4",
   "metadata": {},
   "source": [
    "#Answer\n",
    "Variables- Variables are symbols that you can use to store data in a program. Variables can be any data, it may be integer,string\n",
    "Example- a,b= 1,2.5 ( Here 1 and 2.5 are variable of a and b respectvely)\n",
    "where;\n",
    "String- String is a data type and group of characters enclosed by single('') or double(\" \") quote.. \n",
    "Example- a= \"Hi\" , b=str(10,20,30)"
   ]
  },
  {
   "cell_type": "markdown",
   "id": "48b385f8",
   "metadata": {},
   "source": [
    "### 3. Describe three different data types"
   ]
  },
  {
   "cell_type": "markdown",
   "id": "07684686",
   "metadata": {},
   "source": [
    "**Numeric Datatypes**: int,complex,float<br>\n",
    "**Sequence datatypes**: List, Tuple, Range <br>\n",
    "**Maping datatypes**: Dictionary<br>\n",
    "**Set datatypes**: set\n"
   ]
  },
  {
   "cell_type": "code",
   "execution_count": 2,
   "id": "6aa7abf3",
   "metadata": {},
   "outputs": [
    {
     "name": "stdout",
     "output_type": "stream",
     "text": [
      "100 <class 'int'>\n",
      "10.4 <class 'float'>\n",
      "[1, 2, 3] <class 'list'>\n",
      "this is a string <class 'str'>\n",
      "{'a': 'b', 'c': 'd'} <class 'dict'>\n"
     ]
    }
   ],
   "source": [
    "a=100\n",
    "print(a,type(a))\n",
    "b=10.4\n",
    "print(b,type(b))\n",
    "l=[1,2,3]\n",
    "print(l,type(l))\n",
    "s=\"this is a string\"\n",
    "print(s,type(s))\n",
    "d={\"a\":\"b\",\"c\":\"d\"}\n",
    "print(d,type(d))\n",
    "s1={1,2,3,3,4,4,5,6,7,6}"
   ]
  },
  {
   "cell_type": "markdown",
   "id": "ff85ee74",
   "metadata": {},
   "source": [
    "### 4.What is an expression made up of? What do all expressions do?"
   ]
  },
  {
   "cell_type": "markdown",
   "id": "8c0a7d23",
   "metadata": {},
   "source": [
    "**Ans**- An expression is a construct made up of variables, operators, and method invocations, which are constructed according to the syntax of the language, that evaluates to a single value."
   ]
  },
  {
   "cell_type": "code",
   "execution_count": 3,
   "id": "1df67480",
   "metadata": {},
   "outputs": [
    {
     "name": "stdout",
     "output_type": "stream",
     "text": [
      "1.0\n"
     ]
    }
   ],
   "source": [
    "Result= 1*5+2-3/2*4\n",
    "print(Result) #Result evaluates the values of the given expression to a single value"
   ]
  },
  {
   "cell_type": "markdown",
   "id": "cdde29a3",
   "metadata": {},
   "source": [
    "### 5. This assignment statements, like spam = 10. What is the difference between an expression and a statement?"
   ]
  },
  {
   "cell_type": "markdown",
   "id": "95ab998e",
   "metadata": {},
   "source": [
    "**Ans** Expression” is a combination of values and functions that are combined and interpreted by the compiler to create a new value, as opposed to a “statement” which is just a standalone unit of execution and doesn't return anything"
   ]
  },
  {
   "cell_type": "markdown",
   "id": "88f3c52e",
   "metadata": {},
   "source": [
    "### 6. After running the following code, what does the variable bacon contain? <br>\n",
    "bacon = 22 <br>\n",
    "bacon + 1"
   ]
  },
  {
   "cell_type": "code",
   "execution_count": 4,
   "id": "f3303661",
   "metadata": {},
   "outputs": [
    {
     "name": "stdout",
     "output_type": "stream",
     "text": [
      "23\n"
     ]
    }
   ],
   "source": [
    "bacon=22\n",
    "bacon= 1+ bacon\n",
    "print(bacon)"
   ]
  },
  {
   "cell_type": "markdown",
   "id": "cc204df9",
   "metadata": {},
   "source": [
    "### 7. What should the values of the following two terms be?<br>\n",
    "'spam' + 'spamspam' <br>\n",
    "'spam' * 3"
   ]
  },
  {
   "cell_type": "code",
   "execution_count": 5,
   "id": "38012022",
   "metadata": {},
   "outputs": [
    {
     "name": "stdout",
     "output_type": "stream",
     "text": [
      "spamspamspam\n",
      "spamspamspam\n"
     ]
    }
   ],
   "source": [
    "print('spam' + 'spamspam') #concatenation\n",
    "print('spam'*3) #multiplication"
   ]
  },
  {
   "cell_type": "markdown",
   "id": "7ff701ef",
   "metadata": {},
   "source": [
    "### 8. Why is eggs a valid variable name while 100 is invalid?"
   ]
  },
  {
   "cell_type": "code",
   "execution_count": 8,
   "id": "105efe1b",
   "metadata": {},
   "outputs": [
    {
     "ename": "SyntaxError",
     "evalue": "cannot assign to literal (Temp/ipykernel_26836/3153574984.py, line 4)",
     "output_type": "error",
     "traceback": [
      "\u001b[1;36m  File \u001b[1;32m\"C:\\Users\\bmaha\\AppData\\Local\\Temp/ipykernel_26836/3153574984.py\"\u001b[1;36m, line \u001b[1;32m4\u001b[0m\n\u001b[1;33m    100=\"hi\"\u001b[0m\n\u001b[1;37m    ^\u001b[0m\n\u001b[1;31mSyntaxError\u001b[0m\u001b[1;31m:\u001b[0m cannot assign to literal\n"
     ]
    }
   ],
   "source": [
    "#A variable can be a Alphabetic or Alpha-Nuemric characters, it can't be a only Numeric\n",
    "eggs= 10 -> Valid\n",
    "eggs= \"hi\" -> Valid\n",
    "100=\"hi\" -> Not valid "
   ]
  },
  {
   "cell_type": "markdown",
   "id": "0f6de725",
   "metadata": {},
   "source": [
    "### 9. What three functions can be used to get the integer,floating-point number,or string version of a value?"
   ]
  },
  {
   "cell_type": "markdown",
   "id": "c6813e18",
   "metadata": {},
   "source": [
    "For Integer,floating,string version -> **int , float, str** function used respectvely"
   ]
  },
  {
   "cell_type": "code",
   "execution_count": 9,
   "id": "301ba13c",
   "metadata": {},
   "outputs": [
    {
     "name": "stdout",
     "output_type": "stream",
     "text": [
      "interger : 5\n",
      "Float : 5.0\n",
      "String: 5\n"
     ]
    }
   ],
   "source": [
    "print(\"interger :\", int(5))\n",
    "print(\"Float :\", float(5))\n",
    "print(\"String:\", str(5))"
   ]
  },
  {
   "cell_type": "markdown",
   "id": "9f84a6a8",
   "metadata": {},
   "source": [
    "### 10. Why does this expression cause an error? how can you fix it? <br>\n",
    "'I have eaten' + 99 + 'burritos.'"
   ]
  },
  {
   "cell_type": "code",
   "execution_count": 11,
   "id": "ca062680",
   "metadata": {},
   "outputs": [
    {
     "ename": "TypeError",
     "evalue": "can only concatenate str (not \"int\") to str",
     "output_type": "error",
     "traceback": [
      "\u001b[1;31m---------------------------------------------------------------------------\u001b[0m",
      "\u001b[1;31mTypeError\u001b[0m                                 Traceback (most recent call last)",
      "\u001b[1;32m~\\AppData\\Local\\Temp/ipykernel_26836/2227501685.py\u001b[0m in \u001b[0;36m<module>\u001b[1;34m\u001b[0m\n\u001b[0;32m      1\u001b[0m \u001b[1;31m# input is here\u001b[0m\u001b[1;33m\u001b[0m\u001b[1;33m\u001b[0m\u001b[0m\n\u001b[1;32m----> 2\u001b[1;33m \u001b[0mprint\u001b[0m\u001b[1;33m(\u001b[0m\u001b[1;34m'I have eaten'\u001b[0m \u001b[1;33m+\u001b[0m \u001b[1;36m99\u001b[0m \u001b[1;33m+\u001b[0m \u001b[1;34m'burritos.'\u001b[0m\u001b[1;33m)\u001b[0m\u001b[1;33m\u001b[0m\u001b[1;33m\u001b[0m\u001b[0m\n\u001b[0m",
      "\u001b[1;31mTypeError\u001b[0m: can only concatenate str (not \"int\") to str"
     ]
    }
   ],
   "source": [
    "# input is here\n",
    "print('I have eaten' + 99 + 'burritos.')"
   ]
  },
  {
   "cell_type": "code",
   "execution_count": 14,
   "id": "e32658f2",
   "metadata": {},
   "outputs": [
    {
     "name": "stdout",
     "output_type": "stream",
     "text": [
      "I have eaten 99 burritos.\n"
     ]
    }
   ],
   "source": [
    "# 99 is not a str, it is a integer, we can't do concatenate integer with string, So we have make 99 as str.\n",
    "#Here is the Answer\n",
    "print('I have eaten ' + str(99) + ' burritos.')"
   ]
  },
  {
   "cell_type": "code",
   "execution_count": null,
   "id": "0bb1e78f",
   "metadata": {},
   "outputs": [],
   "source": []
  }
 ],
 "metadata": {
  "kernelspec": {
   "display_name": "Python 3 (ipykernel)",
   "language": "python",
   "name": "python3"
  },
  "language_info": {
   "codemirror_mode": {
    "name": "ipython",
    "version": 3
   },
   "file_extension": ".py",
   "mimetype": "text/x-python",
   "name": "python",
   "nbconvert_exporter": "python",
   "pygments_lexer": "ipython3",
   "version": "3.9.7"
  }
 },
 "nbformat": 4,
 "nbformat_minor": 5
}
