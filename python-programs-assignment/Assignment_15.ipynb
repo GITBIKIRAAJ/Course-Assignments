{
 "cells": [
  {
   "cell_type": "markdown",
   "id": "564f4c0d",
   "metadata": {},
   "source": [
    "# Assignment_15"
   ]
  },
  {
   "cell_type": "markdown",
   "id": "5940e77e",
   "metadata": {},
   "source": [
    "#### Q.1 Please write a program using generator to print the numbers which can be divisible by 5 and 7 between 0 and n in comma separated form while n is input by console.\n",
    "Example:\n",
    "If the following n is given as input to the program:\n",
    "100 <br>\n",
    "Then, the output of the program should be:\n",
    "0,35,70"
   ]
  },
  {
   "cell_type": "code",
   "execution_count": 5,
   "id": "7ec19fa7",
   "metadata": {},
   "outputs": [
    {
     "name": "stdout",
     "output_type": "stream",
     "text": [
      "0 35 70 "
     ]
    }
   ],
   "source": [
    "def geneartor(n):\n",
    "    for i in range(0,n):\n",
    "        if (i%5==0) and (i%7==0):\n",
    "            yield i  \n",
    "x=geneartor(100)  \n",
    "for i in x:\n",
    "    print(i, end=\" \")"
   ]
  },
  {
   "cell_type": "markdown",
   "id": "d6128f78",
   "metadata": {},
   "source": [
    "#### Q2.Please write a program using generator to print the even numbers between 0 and n in comma separated form while n is input by console ?\n",
    "Example:\n",
    "If the following n is given as input to the program: 10 <br>\n",
    "Then, the output of the program should be: 0,2,4,6,8,10"
   ]
  },
  {
   "cell_type": "code",
   "execution_count": 6,
   "id": "124d62eb",
   "metadata": {},
   "outputs": [
    {
     "name": "stdout",
     "output_type": "stream",
     "text": [
      "0,2,4,6,8 "
     ]
    }
   ],
   "source": [
    "def geneartor(n):\n",
    "    for i in range(0,n):\n",
    "        if i%2==0:\n",
    "            yield i  \n",
    "x=geneartor(10) \n",
    "list=[]\n",
    "for i in x:\n",
    "    list.append(str(i))  \n",
    "print(','.join(list), end=\" \") "
   ]
  },
  {
   "cell_type": "markdown",
   "id": "c2593444",
   "metadata": {},
   "source": [
    "#### Q3. The Fibonacci Sequence is computed based on the following formula below, Please write a program using list comprehension to print the Fibonacci Sequence in comma separated form with a given n input by console ? <br>\n",
    "f(n)=0 if n=0 <br>\n",
    "f(n)=1 if n=1 <br>\n",
    "f(n)=f(n-1)+f(n-2) if n>1"
   ]
  },
  {
   "cell_type": "code",
   "execution_count": 7,
   "id": "2f2b1da9",
   "metadata": {},
   "outputs": [
    {
     "name": "stdout",
     "output_type": "stream",
     "text": [
      "[0, 1, 1, 2, 3, 5, 8, 13, 21, 34]\n"
     ]
    }
   ],
   "source": [
    "def fibmonaci(n):\n",
    "    if n==0:\n",
    "        return n\n",
    "    elif n==1:\n",
    "        return n\n",
    "    else:\n",
    "        return (fibmonaci(n-1)+ fibmonaci(n-2))\n",
    "print([fibmonaci(i) for i in range(10)])"
   ]
  },
  {
   "cell_type": "markdown",
   "id": "a97e9bfa",
   "metadata": {},
   "source": [
    "#### Q4. Assuming that we have some email addresses in the \"username@companyname.com\" format, please write program to print the user name of a given email address. Both user names and company names are composed of letters only ? <br>\n",
    "Example: <br>\n",
    "If the following email address is given as input to the program: john@google.com <br>\n",
    "Then, the output of the program should be: john"
   ]
  },
  {
   "cell_type": "code",
   "execution_count": 8,
   "id": "09bf6609",
   "metadata": {},
   "outputs": [
    {
     "name": "stdout",
     "output_type": "stream",
     "text": [
      "Enter the Gmail:biki@gmail.com\n",
      "The username is biki\n"
     ]
    }
   ],
   "source": [
    "def username():\n",
    "    email= input('Enter the Gmail:')\n",
    "    name=email.split('@')\n",
    "    print(f'The username is {name[0]}')\n",
    "username()"
   ]
  },
  {
   "cell_type": "markdown",
   "id": "b0f46b3d",
   "metadata": {},
   "source": [
    "#### Q5. Define a class named Shape and its subclass Square. The Square class has an init function which takes a length as argument. Both classes have a area function which can print the area of the shape where Shape's area is 0 by default. "
   ]
  },
  {
   "cell_type": "code",
   "execution_count": 9,
   "id": "dc0d3803",
   "metadata": {},
   "outputs": [
    {
     "data": {
      "text/plain": [
       "100"
      ]
     },
     "execution_count": 9,
     "metadata": {},
     "output_type": "execute_result"
    }
   ],
   "source": [
    "class shape:\n",
    "    def area(self):\n",
    "        return 0\n",
    "class sqare(shape):\n",
    "    def __init__(self,length):\n",
    "        super().__init__\n",
    "        self.length=length\n",
    "    def area(self):\n",
    "        return self.length*self.length\n",
    "object= sqare(10)\n",
    "object.area()"
   ]
  },
  {
   "cell_type": "code",
   "execution_count": null,
   "id": "1c877cbb",
   "metadata": {},
   "outputs": [],
   "source": []
  }
 ],
 "metadata": {
  "kernelspec": {
   "display_name": "Python 3 (ipykernel)",
   "language": "python",
   "name": "python3"
  },
  "language_info": {
   "codemirror_mode": {
    "name": "ipython",
    "version": 3
   },
   "file_extension": ".py",
   "mimetype": "text/x-python",
   "name": "python",
   "nbconvert_exporter": "python",
   "pygments_lexer": "ipython3",
   "version": "3.9.7"
  }
 },
 "nbformat": 4,
 "nbformat_minor": 5
}
