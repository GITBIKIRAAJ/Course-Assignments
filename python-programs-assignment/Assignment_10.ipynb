{
 "cells": [
  {
   "cell_type": "markdown",
   "id": "4df69e19",
   "metadata": {},
   "source": [
    "# Assignmnet_10"
   ]
  },
  {
   "cell_type": "markdown",
   "id": "4558e596",
   "metadata": {},
   "source": [
    "Q1. **Write a Python program to find sum of elements in list?**"
   ]
  },
  {
   "cell_type": "code",
   "execution_count": 3,
   "id": "8fe4ca1c",
   "metadata": {},
   "outputs": [
    {
     "name": "stdout",
     "output_type": "stream",
     "text": [
      "203\n"
     ]
    }
   ],
   "source": [
    "l= [1,7,10, 13, 19, 23, 28, 31, 32,39]\n",
    "sum=0\n",
    "for i in l:\n",
    "    sum+= i\n",
    "print(sum)"
   ]
  },
  {
   "cell_type": "markdown",
   "id": "6f9ee653",
   "metadata": {},
   "source": [
    "Q2. **Write a Python program to Multiply all numbers in the list?**"
   ]
  },
  {
   "cell_type": "code",
   "execution_count": 6,
   "id": "8c67234c",
   "metadata": {},
   "outputs": [
    {
     "name": "stdout",
     "output_type": "stream",
     "text": [
      "2730\n"
     ]
    }
   ],
   "source": [
    "l= [7,10, 13, 3]\n",
    "Multiply=1\n",
    "for i in l:\n",
    "    Multiply*= i\n",
    "print(Multiply)"
   ]
  },
  {
   "cell_type": "markdown",
   "id": "26865d46",
   "metadata": {},
   "source": [
    "Q3. **Write a Python Program to find smallest number in the list ?**"
   ]
  },
  {
   "cell_type": "code",
   "execution_count": 8,
   "id": "5b1c7e05",
   "metadata": {},
   "outputs": [
    {
     "name": "stdout",
     "output_type": "stream",
     "text": [
      "smallest number in the list is:  32\n"
     ]
    }
   ],
   "source": [
    "l= [43,54,74,32,53]\n",
    "def smallest_num(l):\n",
    "    for i in l:\n",
    "        smallest_element= sorted(l)[0]\n",
    "    print('smallest number in the list is: ',smallest_element)\n",
    "\n",
    "smallest_num(l)    "
   ]
  },
  {
   "cell_type": "markdown",
   "id": "8d7640a0",
   "metadata": {},
   "source": [
    "Q4. **Write a Python Program to find largest number in the list ?**"
   ]
  },
  {
   "cell_type": "code",
   "execution_count": 10,
   "id": "24c96910",
   "metadata": {},
   "outputs": [
    {
     "name": "stdout",
     "output_type": "stream",
     "text": [
      "largest number in the list is:  74\n"
     ]
    }
   ],
   "source": [
    "l= [43,54,74,32,53]\n",
    "def smallest_num(l):\n",
    "    for i in l:\n",
    "        largest_element= sorted(l)[-1]\n",
    "    print('largest number in the list is: ',largest_element)\n",
    "\n",
    "smallest_num(l) "
   ]
  },
  {
   "cell_type": "markdown",
   "id": "b7fd2630",
   "metadata": {},
   "source": [
    "Q.5 **Write a Python Program to find second largest number in the list ?**"
   ]
  },
  {
   "cell_type": "code",
   "execution_count": 39,
   "id": "3a3d8d2d",
   "metadata": {},
   "outputs": [
    {
     "name": "stdout",
     "output_type": "stream",
     "text": [
      "N_largest_element in the list is:  [74, 54]\n"
     ]
    }
   ],
   "source": [
    "l= [43,54,74,32,53]\n",
    "def smallest_num(l):\n",
    "    for i in l:\n",
    "        N_largest_element= sorted(l,reverse=True)[:-3]\n",
    "    print('N_largest_element in the list is: ',N_largest_element)\n",
    "\n",
    "smallest_num(l) "
   ]
  },
  {
   "cell_type": "markdown",
   "id": "f888bfac",
   "metadata": {},
   "source": [
    "Q6. **Write a Python Program to find even numbers in the list?**"
   ]
  },
  {
   "cell_type": "code",
   "execution_count": 40,
   "id": "1660309a",
   "metadata": {},
   "outputs": [
    {
     "name": "stdout",
     "output_type": "stream",
     "text": [
      "[3, 6, 4, 31, 53, 55, 56, 78, 89, 91, 96]\n",
      "Even numbers is the list l is [6, 4, 56, 78, 96]\n"
     ]
    }
   ],
   "source": [
    "l= [3,6,4,31,53,55,56,78,89,91,96]\n",
    "even=[i for i in l if i%2==0] # assume i is the even\n",
    "print(l)\n",
    "print('Even numbers is the list l is',even)"
   ]
  },
  {
   "cell_type": "markdown",
   "id": "99c62458",
   "metadata": {},
   "source": [
    "Q7.**Write a Python program to print odd numbers in a List?**"
   ]
  },
  {
   "cell_type": "code",
   "execution_count": 47,
   "id": "394794ec",
   "metadata": {},
   "outputs": [
    {
     "name": "stdout",
     "output_type": "stream",
     "text": [
      "[3, 6, 4, 31, 53, 55, 56, 78, 89, 91, 96]\n",
      "Odd numbers is the list l is [3, 31, 53, 55, 89, 91]\n"
     ]
    }
   ],
   "source": [
    "l= [3,6,4,31,53,55,56,78,89,91,96]\n",
    "Odd=[i for i in l if i%2!=0] # assume i is the even\n",
    "print(l)\n",
    "print('Odd numbers is the list l is',Odd)"
   ]
  },
  {
   "cell_type": "markdown",
   "id": "9cca128b",
   "metadata": {},
   "source": [
    "Q8.**Write a Python program to Remove empty List from List?**"
   ]
  },
  {
   "cell_type": "code",
   "execution_count": 51,
   "id": "6bd3d970",
   "metadata": {},
   "outputs": [
    {
     "data": {
      "text/plain": [
       "[3, 6, 4, 31, 91, 96, 23]"
      ]
     },
     "execution_count": 51,
     "metadata": {},
     "output_type": "execute_result"
    }
   ],
   "source": [
    "l= [3,6,4,31,[],91,[],96,[],23]\n",
    "for i in l:\n",
    "    if i==[]:\n",
    "        l.remove(i)\n",
    "l"
   ]
  },
  {
   "cell_type": "markdown",
   "id": "81b6b5cf",
   "metadata": {},
   "source": [
    "Q.9 **Write a Python program to Cloning or Copying a list?**"
   ]
  },
  {
   "cell_type": "code",
   "execution_count": 52,
   "id": "e7b3ec8e",
   "metadata": {},
   "outputs": [
    {
     "data": {
      "text/plain": [
       "[3, 6, 4, 8, 10]"
      ]
     },
     "execution_count": 52,
     "metadata": {},
     "output_type": "execute_result"
    }
   ],
   "source": [
    "s=[3,6,4,8,10]\n",
    "def clone_list(l):\n",
    "    c=l.copy()\n",
    "    return c\n",
    "clone_list=clone_list(s)\n",
    "clone_list"
   ]
  },
  {
   "cell_type": "code",
   "execution_count": 53,
   "id": "9400d736",
   "metadata": {},
   "outputs": [
    {
     "data": {
      "text/plain": [
       "1627929333888"
      ]
     },
     "execution_count": 53,
     "metadata": {},
     "output_type": "execute_result"
    }
   ],
   "source": [
    "id(s)"
   ]
  },
  {
   "cell_type": "code",
   "execution_count": 54,
   "id": "e1cff706",
   "metadata": {},
   "outputs": [
    {
     "data": {
      "text/plain": [
       "1627929350656"
      ]
     },
     "execution_count": 54,
     "metadata": {},
     "output_type": "execute_result"
    }
   ],
   "source": [
    "id(clone_list)"
   ]
  },
  {
   "cell_type": "markdown",
   "id": "a5d95914",
   "metadata": {},
   "source": [
    "Q10. **Write a Python program to Count occurrences of an element in a list?**"
   ]
  },
  {
   "cell_type": "code",
   "execution_count": 56,
   "id": "f780eafb",
   "metadata": {},
   "outputs": [
    {
     "name": "stdout",
     "output_type": "stream",
     "text": [
      "enter the element you want to check the occurrences:2\n",
      "The occurence of 2 is 5 times\n"
     ]
    }
   ],
   "source": [
    "l= [1,2,2,3,4,5,4,5,6,7,8,6,4,2,3,5,2,4,2,8,5,6]\n",
    "n= int(input('enter the element you want to check the occurrences:'))\n",
    "check_occurence= l.count(n)\n",
    "print(f'The occurence of {n} is {check_occurence} times')"
   ]
  },
  {
   "cell_type": "code",
   "execution_count": null,
   "id": "eec710a2",
   "metadata": {},
   "outputs": [],
   "source": []
  }
 ],
 "metadata": {
  "kernelspec": {
   "display_name": "Python 3 (ipykernel)",
   "language": "python",
   "name": "python3"
  },
  "language_info": {
   "codemirror_mode": {
    "name": "ipython",
    "version": 3
   },
   "file_extension": ".py",
   "mimetype": "text/x-python",
   "name": "python",
   "nbconvert_exporter": "python",
   "pygments_lexer": "ipython3",
   "version": "3.9.7"
  }
 },
 "nbformat": 4,
 "nbformat_minor": 5
}
