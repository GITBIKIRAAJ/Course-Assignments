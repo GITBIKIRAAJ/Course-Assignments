{
 "cells": [
  {
   "cell_type": "markdown",
   "id": "80eb62ba",
   "metadata": {},
   "source": [
    "# Assignment_12"
   ]
  },
  {
   "cell_type": "markdown",
   "id": "273f207d",
   "metadata": {},
   "source": [
    "1. **Write a Python program to Extract Unique values dictionary values?**"
   ]
  },
  {
   "cell_type": "code",
   "execution_count": 1,
   "id": "2b5a40b0",
   "metadata": {},
   "outputs": [
    {
     "name": "stdout",
     "output_type": "stream",
     "text": [
      " the unique values in this dict is [{1, 2, 3, 4, 5, 7}]\n"
     ]
    }
   ],
   "source": [
    "dict={'A':[1,2,3],\"B\":[4,5,4,1],\"c\":[2,4,7,5]}\n",
    "unique_values= dict.values()\n",
    "uinque_num= [set(val for values in unique_values for val in values)]\n",
    "print(' the unique values in this dict is',uinque_num)"
   ]
  },
  {
   "cell_type": "markdown",
   "id": "8560f16a",
   "metadata": {},
   "source": [
    "2. **Write a Python program to find the sum of all items in a dictionary?**"
   ]
  },
  {
   "cell_type": "code",
   "execution_count": 2,
   "id": "f6ade32b",
   "metadata": {},
   "outputs": [
    {
     "name": "stdout",
     "output_type": "stream",
     "text": [
      "Sum of All items:  2100\n"
     ]
    }
   ],
   "source": [
    "\n",
    "in_dict = {'A':10,'M':20,'B':30,'G':40,'P':2000}\n",
    "print('Sum of All items: ',sum(in_dict.values()))"
   ]
  },
  {
   "cell_type": "markdown",
   "id": "9441a92b",
   "metadata": {},
   "source": [
    "3. **Write a Python program to Merging two Dictionaries?**"
   ]
  },
  {
   "cell_type": "code",
   "execution_count": 4,
   "id": "4742a746",
   "metadata": {},
   "outputs": [
    {
     "data": {
      "text/plain": [
       "{'A': 'Data Science', 'B': 'Data Analyst'}"
      ]
     },
     "execution_count": 4,
     "metadata": {},
     "output_type": "execute_result"
    }
   ],
   "source": [
    "a={\"A\":\"Data Science\"}\n",
    "b={\"B\":\"Data Analyst\"}\n",
    "a.update(b)\n",
    "a"
   ]
  },
  {
   "cell_type": "markdown",
   "id": "4d3e552b",
   "metadata": {},
   "source": [
    "4. **Write a Python program to convert key-values list to flat dictionary?**"
   ]
  },
  {
   "cell_type": "code",
   "execution_count": 5,
   "id": "a2ea1e0d",
   "metadata": {},
   "outputs": [
    {
     "data": {
      "text/plain": [
       "{'a': 10, 'b': 2, 'c': 4, 't': 7}"
      ]
     },
     "execution_count": 5,
     "metadata": {},
     "output_type": "execute_result"
    }
   ],
   "source": [
    "lis=[('a',10),('b',2),('c',4),('t',7)]\n",
    "dict={}\n",
    "for ele in lis:\n",
    "    dict[ele[0]]=ele[1]\n",
    "dict"
   ]
  },
  {
   "cell_type": "markdown",
   "id": "a8588ed9",
   "metadata": {},
   "source": [
    "5. **Write a Python program to insertion at the beginning in OrderedDict?**"
   ]
  },
  {
   "cell_type": "code",
   "execution_count": 6,
   "id": "2a51896d",
   "metadata": {},
   "outputs": [
    {
     "name": "stdout",
     "output_type": "stream",
     "text": [
      "Original dict :\n",
      "  OrderedDict([('a', '5'), ('b', '9'), ('c', '7')])\n",
      "Insertion at the beginning :\n",
      "  OrderedDict([('c', '7'), ('a', '5'), ('b', '9')])\n"
     ]
    }
   ],
   "source": [
    "from collections import OrderedDict\n",
    "ordered_dict = OrderedDict([('a', '5'), ('b', '9')])\n",
    " \n",
    "# inserting items in starting of dict\n",
    "ordered_dict.update({'c':'7'})\n",
    "print(\"Original dict :\\n \",ordered_dict)\n",
    "ordered_dict.move_to_end('c', last = False)\n",
    "print(\"Insertion at the beginning :\\n \",ordered_dict)"
   ]
  },
  {
   "cell_type": "markdown",
   "id": "e1ab174f",
   "metadata": {},
   "source": [
    "6. **Write a Python program to check order of character in string using OrderedDict()?**"
   ]
  },
  {
   "cell_type": "code",
   "execution_count": 8,
   "id": "3ff0480f",
   "metadata": {},
   "outputs": [
    {
     "name": "stdout",
     "output_type": "stream",
     "text": [
      "{'a': 1000, 'f': 200, 'd': 300, 'c': 400, 'b': 500, 'e': 600}\n",
      "OrderedDict([('a', 1000), ('b', 500), ('c', 400), ('d', 300), ('e', 600), ('f', 200)])\n"
     ]
    }
   ],
   "source": [
    "from collections import OrderedDict\n",
    "\n",
    "initial_list = {'a': 1000, 'f': 200, 'd': 300, 'c': 400, 'b': 500, 'e': 600}\n",
    "print(initial_list)\n",
    "\n",
    "final_list = OrderedDict(sorted(initial_list.items()))\n",
    "print(final_list)"
   ]
  },
  {
   "cell_type": "markdown",
   "id": "2d03998d",
   "metadata": {},
   "source": [
    "7. **Write a Python program to sort Python Dictionaries by Key or Value?**"
   ]
  },
  {
   "cell_type": "code",
   "execution_count": 10,
   "id": "0119f01c",
   "metadata": {},
   "outputs": [
    {
     "name": "stdout",
     "output_type": "stream",
     "text": [
      "[('A', 3), ('B', 2), ('C', 5), ('D', 1)]\n",
      "[('D', 1), ('B', 2), ('A', 3), ('C', 5)]\n"
     ]
    }
   ],
   "source": [
    "dictionary= {\"A\":3,\"B\":2,\"D\":1,\"C\":5}\n",
    "def sort_dict(dictionary,sort_type):\n",
    "    if sort_type == 'key':\n",
    "        print(sorted(dictionary.items(), key=lambda x:x[0], reverse=False))\n",
    "    else:\n",
    "        print(sorted(dictionary.items(), key=lambda x:x[1], reverse=False))\n",
    "        \n",
    "sort_dict(dictionary,'key')        \n",
    "sort_dict(dictionary,'value')"
   ]
  },
  {
   "cell_type": "code",
   "execution_count": null,
   "id": "190fa538",
   "metadata": {},
   "outputs": [],
   "source": []
  }
 ],
 "metadata": {
  "kernelspec": {
   "display_name": "Python 3 (ipykernel)",
   "language": "python",
   "name": "python3"
  },
  "language_info": {
   "codemirror_mode": {
    "name": "ipython",
    "version": 3
   },
   "file_extension": ".py",
   "mimetype": "text/x-python",
   "name": "python",
   "nbconvert_exporter": "python",
   "pygments_lexer": "ipython3",
   "version": "3.9.7"
  }
 },
 "nbformat": 4,
 "nbformat_minor": 5
}
