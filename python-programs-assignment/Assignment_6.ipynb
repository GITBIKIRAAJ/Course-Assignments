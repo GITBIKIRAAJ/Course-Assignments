{
 "cells": [
  {
   "cell_type": "markdown",
   "id": "6f6048ea",
   "metadata": {},
   "source": [
    "# Assignment_6"
   ]
  },
  {
   "cell_type": "markdown",
   "id": "9d4e37cb",
   "metadata": {},
   "source": [
    "Q1. --Write a Python Program to Display Fibonacci Sequence using Recursion ?"
   ]
  },
  {
   "cell_type": "code",
   "execution_count": 2,
   "id": "cd35a69d",
   "metadata": {},
   "outputs": [
    {
     "data": {
      "text/plain": [
       "34"
      ]
     },
     "execution_count": 2,
     "metadata": {},
     "output_type": "execute_result"
    }
   ],
   "source": [
    "def fibonacci(n):\n",
    "    if n==0:\n",
    "        return 0\n",
    "    elif n==1:\n",
    "        return 1\n",
    "    else:\n",
    "        return fibonacci(n-2)+ fibonacci(n-1)\n",
    "fibonacci(9)"
   ]
  },
  {
   "cell_type": "markdown",
   "id": "1ed61ebc",
   "metadata": {},
   "source": [
    "Q2. **Write a Python Program to Find Factorial of a Number using Recursion ?**"
   ]
  },
  {
   "cell_type": "code",
   "execution_count": 3,
   "id": "8a2aaca2",
   "metadata": {},
   "outputs": [],
   "source": [
    "def fac(n):\n",
    "    if n==1:\n",
    "        return 1\n",
    "    else:\n",
    "        return n * fac(n-1)"
   ]
  },
  {
   "cell_type": "code",
   "execution_count": 4,
   "id": "f15f2180",
   "metadata": {},
   "outputs": [
    {
     "data": {
      "text/plain": [
       "362880"
      ]
     },
     "execution_count": 4,
     "metadata": {},
     "output_type": "execute_result"
    }
   ],
   "source": [
    "fac(9)"
   ]
  },
  {
   "cell_type": "markdown",
   "id": "e49a659d",
   "metadata": {},
   "source": [
    "Q3. **Write a Python Program to Calculate your Body Mass Index ?**"
   ]
  },
  {
   "cell_type": "code",
   "execution_count": 5,
   "id": "411de1c1",
   "metadata": {},
   "outputs": [
    {
     "name": "stdout",
     "output_type": "stream",
     "text": [
      "Enter your Weight(kgs): 65\n",
      "Enter your Height(mts): 5.6\n",
      "Your BMI is 0.17857142857142858 and status is Underweight \n"
     ]
    }
   ],
   "source": [
    "def calculateBMI():\n",
    "    weight = eval(input('Enter your Weight(kgs): '))\n",
    "    height = eval(input('Enter your Height(feet): '))\n",
    "    bmi = height/pow(height,2)\n",
    "    if (bmi < 18.5):\n",
    "        result = 'Underweight'\n",
    "    elif (bmi >= 18.5 and calc_bmi < 24.9):\n",
    "        result = 'Healthy'\n",
    "    elif (bmi >= 24.9 and calc_bmi < 30):\n",
    "        result = 'Overweight'\n",
    "    elif (bmi >=30):\n",
    "        result = 'Suffering from Obesity'\n",
    "    print(f'Your BMI is {bmi} and status is {result} ')\n",
    "calculateBMI()"
   ]
  },
  {
   "cell_type": "markdown",
   "id": "43ffbe9f",
   "metadata": {},
   "source": [
    "Q4. **Write a Python Program to Calculate the Natural Logarithm of any Number ?**"
   ]
  },
  {
   "cell_type": "code",
   "execution_count": 6,
   "id": "af9f1d1e",
   "metadata": {},
   "outputs": [],
   "source": [
    "import math\n",
    "def naturallog():\n",
    "    num= eval(input(\"enter number\"))\n",
    "    print(math.log(num))"
   ]
  },
  {
   "cell_type": "code",
   "execution_count": 7,
   "id": "3d7add76",
   "metadata": {},
   "outputs": [
    {
     "name": "stdout",
     "output_type": "stream",
     "text": [
      "enter number2\n",
      "0.6931471805599453\n"
     ]
    }
   ],
   "source": [
    "naturallog()"
   ]
  },
  {
   "cell_type": "markdown",
   "id": "f1829554",
   "metadata": {},
   "source": [
    "Q5. **Write a Python Program for Cube sum of first n Natural Numbers ?**"
   ]
  },
  {
   "cell_type": "code",
   "execution_count": 8,
   "id": "7e611b97",
   "metadata": {},
   "outputs": [],
   "source": [
    "sum=0\n",
    "def findcube(n):\n",
    "    global sum\n",
    "    for i in range(n+1):\n",
    "        sum+= i*i*i\n",
    "    return sum"
   ]
  },
  {
   "cell_type": "code",
   "execution_count": 9,
   "id": "4f2c63e5",
   "metadata": {},
   "outputs": [
    {
     "data": {
      "text/plain": [
       "225"
      ]
     },
     "execution_count": 9,
     "metadata": {},
     "output_type": "execute_result"
    }
   ],
   "source": [
    "findcube(5)"
   ]
  },
  {
   "cell_type": "code",
   "execution_count": null,
   "id": "4bdc4b60",
   "metadata": {},
   "outputs": [],
   "source": []
  }
 ],
 "metadata": {
  "kernelspec": {
   "display_name": "Python 3 (ipykernel)",
   "language": "python",
   "name": "python3"
  },
  "language_info": {
   "codemirror_mode": {
    "name": "ipython",
    "version": 3
   },
   "file_extension": ".py",
   "mimetype": "text/x-python",
   "name": "python",
   "nbconvert_exporter": "python",
   "pygments_lexer": "ipython3",
   "version": "3.9.7"
  }
 },
 "nbformat": 4,
 "nbformat_minor": 5
}
