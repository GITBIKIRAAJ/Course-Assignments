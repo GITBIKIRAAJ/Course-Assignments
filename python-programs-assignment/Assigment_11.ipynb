{
 "cells": [
  {
   "cell_type": "markdown",
   "id": "932ae25e",
   "metadata": {},
   "source": [
    "# Assignemnt_11"
   ]
  },
  {
   "cell_type": "markdown",
   "id": "1b55860e",
   "metadata": {},
   "source": [
    "Q1. **Write a Python program to find words which are greater than given length k?**"
   ]
  },
  {
   "cell_type": "code",
   "execution_count": 1,
   "id": "499e5bba",
   "metadata": {},
   "outputs": [
    {
     "name": "stdout",
     "output_type": "stream",
     "text": [
      "Enter the string:Python program to find words which are greater than given length\n",
      "Enter the word length:5\n",
      "words which are greater than given length k : Python program greater length\n"
     ]
    }
   ],
   "source": [
    "string= input('Enter the string:')\n",
    "k=int(input('Enter the word length:'))\n",
    "Big_words=[word for word in string.split(\" \") if len(word)> k]\n",
    "print(\"words which are greater than given length k :\",\" \".join(Big_words))"
   ]
  },
  {
   "cell_type": "markdown",
   "id": "c322526b",
   "metadata": {},
   "source": [
    "Q2. **Write a Python program for removing i-th character from a string?**"
   ]
  },
  {
   "cell_type": "code",
   "execution_count": 3,
   "id": "1b63357c",
   "metadata": {},
   "outputs": [
    {
     "name": "stdout",
     "output_type": "stream",
     "text": [
      "Enter the string:Bikiraaj\n",
      "which i-th charcter need to remove:7\n"
     ]
    },
    {
     "data": {
      "text/plain": [
       "'Bikiraa'"
      ]
     },
     "execution_count": 3,
     "metadata": {},
     "output_type": "execute_result"
    }
   ],
   "source": [
    "string= input('Enter the string:') #bikiraaj\n",
    "chr_remove= int(input('which i-th charcter need to remove:'))\n",
    "new_string= ''\n",
    "for i in range(len(string)):\n",
    "    if i!=chr_remove:\n",
    "        new_string+= string[i]\n",
    "\n",
    "new_string    "
   ]
  },
  {
   "cell_type": "markdown",
   "id": "65ac066f",
   "metadata": {},
   "source": [
    "Q3. **Write a Python program to split and join a string?**"
   ]
  },
  {
   "cell_type": "code",
   "execution_count": 5,
   "id": "427b6287",
   "metadata": {},
   "outputs": [
    {
     "name": "stdout",
     "output_type": "stream",
     "text": [
      "Enter the string: I am an aspiring Data scientist\n",
      "Split String: ['I', 'am', 'an', 'aspiring', 'Data', 'scientist']\n",
      "Join String: I am an aspiring Data scientist\n"
     ]
    }
   ],
   "source": [
    "def splitJoinString():\n",
    "    string = input('Enter the string: ')\n",
    "    print(f\"Split String: {string.split(' ')}\")\n",
    "    print(f\"Join String: {' '.join(string.split(' '))}\")\n",
    "\n",
    "splitJoinString()"
   ]
  },
  {
   "cell_type": "markdown",
   "id": "5669c3a3",
   "metadata": {},
   "source": [
    "Q4. **Write a Python to check if a given string is binary string or not?**"
   ]
  },
  {
   "cell_type": "code",
   "execution_count": 6,
   "id": "8ea68f42",
   "metadata": {},
   "outputs": [
    {
     "name": "stdout",
     "output_type": "stream",
     "text": [
      "Enter the string: 1234\n",
      "1234 is not a binart string\n"
     ]
    }
   ],
   "source": [
    "def checkBinarystring():\n",
    "    in_string = input('Enter the string: ')\n",
    "    stun = 0\n",
    "    for ele in in_string:\n",
    "        if ele in ['0','1']:\n",
    "            stun = 1\n",
    "            continue\n",
    "        else:\n",
    "            stun = 0\n",
    "            break\n",
    "    statement = 'is a binary string' if stun == 1 else 'is not a binart string' \n",
    "    print(f'{in_string} {statement}')\n",
    "\n",
    "checkBinarystring()\n"
   ]
  },
  {
   "cell_type": "code",
   "execution_count": 7,
   "id": "9c8c9eb5",
   "metadata": {},
   "outputs": [
    {
     "name": "stdout",
     "output_type": "stream",
     "text": [
      "Enter the string: 10101\n",
      "10101 is a binary string\n"
     ]
    }
   ],
   "source": [
    "checkBinarystring()"
   ]
  },
  {
   "cell_type": "markdown",
   "id": "b2757778",
   "metadata": {},
   "source": [
    "Q5. **Write a Python program to find uncommon words from two Strings?**"
   ]
  },
  {
   "cell_type": "code",
   "execution_count": 8,
   "id": "bcbf5fe7",
   "metadata": {},
   "outputs": [
    {
     "name": "stdout",
     "output_type": "stream",
     "text": [
      "Enter the String 1: Data Scientist\n",
      "Enter the String 2: Data Analyst\n",
      "{'Scientist', 'Analyst'}\n"
     ]
    }
   ],
   "source": [
    "def UNcommonWords():\n",
    "    in_string_1 = set(input(\"Enter the String 1: \").split(' '))\n",
    "    in_string_2 = set(input(\"Enter the String 2: \").split(' '))\n",
    "    out_string = (in_string_1.union(in_string_2)).difference(in_string_1.intersection(in_string_2))\n",
    "    print(out_string)\n",
    "\n",
    "UNcommonWords()"
   ]
  },
  {
   "cell_type": "markdown",
   "id": "36b78cd1",
   "metadata": {},
   "source": [
    "Q6. **Write a Python to find all duplicate characters in string?**"
   ]
  },
  {
   "cell_type": "code",
   "execution_count": 13,
   "id": "bca3705f",
   "metadata": {},
   "outputs": [
    {
     "data": {
      "text/plain": [
       "{'a', 'i'}"
      ]
     },
     "execution_count": 13,
     "metadata": {},
     "output_type": "execute_result"
    }
   ],
   "source": [
    "strg= 'Bikiraaj'\n",
    "def duplicate(k):\n",
    "    duplicate_char=[]\n",
    "    for i in k:\n",
    "        if strg.count(i)>1:\n",
    "            duplicate_char.append(i)  \n",
    "    return set(duplicate_char)\n",
    "\n",
    "duplicate(strg)  "
   ]
  },
  {
   "cell_type": "markdown",
   "id": "b6d72e19",
   "metadata": {},
   "source": [
    "Q7. **Write a Python Program to check if a string contains any special character?**"
   ]
  },
  {
   "cell_type": "code",
   "execution_count": 14,
   "id": "3bc221d2",
   "metadata": {},
   "outputs": [
    {
     "name": "stdout",
     "output_type": "stream",
     "text": [
      "Enter the string: I @am a #billionaire!\n",
      "There are 3 Specialal Characters in I @am a #billionaire! which are ['@', '#', '!']\n"
     ]
    }
   ],
   "source": [
    "def checkSpecialChar():\n",
    "    spl_chars = '[@_!#$%^&*()<>?/\\|}{~:]'\n",
    "    string = input('Enter the string: ')\n",
    "    count = 0\n",
    "    char_list = []\n",
    "    for ele in string:\n",
    "        if ele in spl_chars:\n",
    "            char_list.append(ele)\n",
    "            count = count+1\n",
    "    print(f'There are {count} Specialal Characters in {string} which are {char_list}')\n",
    "checkSpecialChar()"
   ]
  },
  {
   "cell_type": "code",
   "execution_count": null,
   "id": "da6e6323",
   "metadata": {},
   "outputs": [],
   "source": []
  }
 ],
 "metadata": {
  "kernelspec": {
   "display_name": "Python 3 (ipykernel)",
   "language": "python",
   "name": "python3"
  },
  "language_info": {
   "codemirror_mode": {
    "name": "ipython",
    "version": 3
   },
   "file_extension": ".py",
   "mimetype": "text/x-python",
   "name": "python",
   "nbconvert_exporter": "python",
   "pygments_lexer": "ipython3",
   "version": "3.9.7"
  }
 },
 "nbformat": 4,
 "nbformat_minor": 5
}
