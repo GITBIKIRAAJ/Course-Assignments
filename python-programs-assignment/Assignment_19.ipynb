{
 "cells": [
  {
   "cell_type": "markdown",
   "id": "83eb50a9",
   "metadata": {},
   "source": [
    "# Assignemnt_19"
   ]
  },
  {
   "cell_type": "markdown",
   "id": "e0d0fc55",
   "metadata": {},
   "source": [
    "Q1. **Create a function that takes a string and returns a string in which each character is repeated once.**\n",
    "Examples:\n",
    "double_char(\"String\") ➞ \"SSttrriinngg\"\n",
    "double_char(\"Hello World!\") ➞ \"HHeelllloo WWoorrlldd!!\"\n",
    "doublechar(\"1234!_\") ➞ \"11223344!!__\""
   ]
  },
  {
   "cell_type": "code",
   "execution_count": 2,
   "id": "43e816eb",
   "metadata": {},
   "outputs": [
    {
     "name": "stdout",
     "output_type": "stream",
     "text": [
      "enter the string:Hello world\n"
     ]
    },
    {
     "data": {
      "text/plain": [
       "'HHeelllloo  wwoorrlldd'"
      ]
     },
     "execution_count": 2,
     "metadata": {},
     "output_type": "execute_result"
    }
   ],
   "source": [
    "def repetated_word():\n",
    "    in_string= input('enter the string:')\n",
    "    out_string=''\n",
    "    for i in in_string:\n",
    "        out_string+= i*2\n",
    "    return out_string\n",
    "repetated_word()"
   ]
  },
  {
   "cell_type": "code",
   "execution_count": 3,
   "id": "1dc7cce5",
   "metadata": {},
   "outputs": [
    {
     "name": "stdout",
     "output_type": "stream",
     "text": [
      "enter the string:1234!\n"
     ]
    },
    {
     "data": {
      "text/plain": [
       "'11223344!!'"
      ]
     },
     "execution_count": 3,
     "metadata": {},
     "output_type": "execute_result"
    }
   ],
   "source": [
    "repetated_word()"
   ]
  },
  {
   "cell_type": "markdown",
   "id": "618ffd66",
   "metadata": {},
   "source": [
    "Q2. **Create a function that reverses a boolean value and returns the string \"boolean expected\" if another variable type is given.**\n",
    "Examples: <br>\n",
    "reverse(True) ➞ False <br>\n",
    "reverse(False) ➞ True <br>\n",
    "reverse(0) ➞ \"boolean expected\" <br>\n",
    "reverse(None) ➞ \"boolean expected\""
   ]
  },
  {
   "cell_type": "code",
   "execution_count": 4,
   "id": "01d83815",
   "metadata": {},
   "outputs": [
    {
     "name": "stdout",
     "output_type": "stream",
     "text": [
      "reverse(True) ➞ False\n",
      "reverse(False) ➞ True\n",
      "reverse(0) ➞ Boolean Expected\n",
      "reverse(None) ➞ Boolean Expected\n"
     ]
    }
   ],
   "source": [
    "def reverse(in_bool):\n",
    "    if type(in_bool) == bool:\n",
    "        return not in_bool\n",
    "    else:\n",
    "        return \"Boolean Expected\"\n",
    "\n",
    "print(f'reverse(True) ➞ {reverse(True)}')\n",
    "print(f'reverse(False) ➞ {reverse(False)}')\n",
    "print(f'reverse(0) ➞ {reverse(0)}')\n",
    "print(f'reverse(None) ➞ {reverse(None)}')"
   ]
  },
  {
   "cell_type": "markdown",
   "id": "8557ae9b",
   "metadata": {},
   "source": [
    "Q3.  Create a function that returns the thickness (in meters) of a piece of paper after folding it n number of times. The paper starts off with a thickness of 0.5mm.\n",
    "Examples:\n",
    "`num_layers(1) ➞ \"0.001m\"\n",
    "\n",
    "Paper folded once is 1mm (equal to 0.001m)\n",
    "num_layers(4) ➞ \"0.008m\""
   ]
  },
  {
   "cell_type": "code",
   "execution_count": 5,
   "id": "c3c1d3c4",
   "metadata": {},
   "outputs": [
    {
     "name": "stdout",
     "output_type": "stream",
     "text": [
      "Output ➞ 0.001m\n",
      "Output ➞ 0.008m\n",
      "Output ➞ 1048.576m\n"
     ]
    }
   ],
   "source": [
    "def num_layers(in_num):\n",
    "    out_num = 0.5\n",
    "    for ele in range(in_num):\n",
    "        out_num *= 2\n",
    "    print(f'Output ➞ {out_num/1000}m')\n",
    "    \n",
    "num_layers(1)\n",
    "num_layers(4)\n",
    "num_layers(21)"
   ]
  },
  {
   "cell_type": "markdown",
   "id": "21191ac0",
   "metadata": {},
   "source": [
    "Q4. **Create a function that takes a single string as argument and returns an ordered list containing the indices of all capital letters in the string.**\n",
    "Examples: <br>\n",
    "index_of_caps(\"eDaBiT\") ➞ [1, 3, 5]  <br>\n",
    "index_of_caps(\"eQuINoX\") ➞ [1, 3, 4, 6]  <br>\n",
    "index_of_caps(\"determine\") ➞ []  <br>\n",
    "index_of_caps(\"STRIKE\") ➞ [0, 1, 2, 3, 4, 5]  <br>\n",
    "index_of_caps(\"sUn\") ➞ [1]"
   ]
  },
  {
   "cell_type": "code",
   "execution_count": 7,
   "id": "584dc941",
   "metadata": {},
   "outputs": [
    {
     "name": "stdout",
     "output_type": "stream",
     "text": [
      "eDaBiT ➞ [1, 3, 5]\n",
      "eQuINoX ➞ [1, 3, 4, 6]\n",
      "determine ➞ []\n",
      "STRIKE ➞ [0, 1, 2, 3, 4, 5]\n"
     ]
    }
   ],
   "source": [
    "def index_cap(s):\n",
    "    out_string = []\n",
    "    for ele in s:\n",
    "        if ele.isupper():\n",
    "            out_string.append(s.index(ele))\n",
    "    print(f'{s} ➞ {out_string}')\n",
    "\n",
    "index_cap(\"eDaBiT\")\n",
    "index_cap(\"eQuINoX\")\n",
    "index_cap(\"determine\")\n",
    "index_cap(\"STRIKE\")\n"
   ]
  },
  {
   "cell_type": "markdown",
   "id": "bc728ed1",
   "metadata": {},
   "source": [
    "Q5. **Using list comprehensions, create a function that finds all even numbers from 1 to the given number.**\n",
    "Examples: <br>\n",
    "find_even_nums(8) ➞ [2, 4, 6, 8] <br>\n",
    "find_even_nums(4) ➞ [2, 4] <br>\n",
    "find_even_nums(2) ➞ [2]"
   ]
  },
  {
   "cell_type": "code",
   "execution_count": 8,
   "id": "56738720",
   "metadata": {},
   "outputs": [
    {
     "data": {
      "text/plain": [
       "[0, 2, 4, 6]"
      ]
     },
     "execution_count": 8,
     "metadata": {},
     "output_type": "execute_result"
    }
   ],
   "source": [
    "def find_even_nums(num):\n",
    "    even=[ele for ele in range(num) if ele%2==0]\n",
    "    return even\n",
    "find_even_nums(8)"
   ]
  },
  {
   "cell_type": "code",
   "execution_count": 9,
   "id": "7deefaa0",
   "metadata": {},
   "outputs": [
    {
     "data": {
      "text/plain": [
       "[0, 2, 4, 6, 8, 10, 12, 14, 16, 18, 20, 22, 24, 26, 28]"
      ]
     },
     "execution_count": 9,
     "metadata": {},
     "output_type": "execute_result"
    }
   ],
   "source": [
    "find_even_nums(29)"
   ]
  },
  {
   "cell_type": "code",
   "execution_count": null,
   "id": "2c46b71a",
   "metadata": {},
   "outputs": [],
   "source": []
  }
 ],
 "metadata": {
  "kernelspec": {
   "display_name": "Python 3 (ipykernel)",
   "language": "python",
   "name": "python3"
  },
  "language_info": {
   "codemirror_mode": {
    "name": "ipython",
    "version": 3
   },
   "file_extension": ".py",
   "mimetype": "text/x-python",
   "name": "python",
   "nbconvert_exporter": "python",
   "pygments_lexer": "ipython3",
   "version": "3.9.7"
  }
 },
 "nbformat": 4,
 "nbformat_minor": 5
}
