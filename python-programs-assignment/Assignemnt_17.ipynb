{
 "cells": [
  {
   "cell_type": "markdown",
   "id": "2def630a",
   "metadata": {},
   "source": [
    "# Assigment_17"
   ]
  },
  {
   "cell_type": "markdown",
   "id": "f335590c",
   "metadata": {},
   "source": [
    "Q1. Create a function that takes three arguments a, b, c and returns the sum of the numbers that are evenly divided by c from the range a, b inclusive ?\n",
    "Examples:\n",
    "`evenly_divisible(1, 10, 20) ➞ 0\n",
    "\n",
    "No number between 1 and 10 can be evenly divided by 20.\n",
    "evenly_divisible(1, 10, 2) ➞ 30\n",
    "\n",
    "2 + 4 + 6 + 8 + 10 = 30\n",
    "evenly_divisible(1, 10, 3) ➞ 18\n",
    "\n",
    "3 + 6 + 9 = 18`"
   ]
  },
  {
   "cell_type": "code",
   "execution_count": 1,
   "id": "03de744a",
   "metadata": {},
   "outputs": [
    {
     "name": "stdout",
     "output_type": "stream",
     "text": [
      "(1, 10, 20) ➞ 0\n",
      "(1, 10, 2) ➞ 30\n",
      "(1, 20, 4) ➞ 60\n"
     ]
    }
   ],
   "source": [
    "def evenDivisible(a,b,c):\n",
    "    divList = []\n",
    "    for num in range(a,b+1):\n",
    "        if num%c == 0:\n",
    "            divList.append(num)\n",
    "    print(f'{a,b,c} ➞ {sum(divList)}')\n",
    "\n",
    "evenDivisible(1,10,20)\n",
    "evenDivisible(1,10,2)\n",
    "evenDivisible(1,20,4)"
   ]
  },
  {
   "cell_type": "markdown",
   "id": "8631339f",
   "metadata": {},
   "source": [
    "Q2. **Create a function that returns True if a given inequality expression is correct and False otherwise ?**<br>\n",
    "Examples:<br>\n",
    "correct_signs(\"3 < 7 < 11\") ➞ True <br>\n",
    "correct_signs(\"13 > 44 > 33 > 1\") ➞ False <br>\n",
    "correct_signs(\"1 < 2 < 6 < 9 > 3\") ➞ True"
   ]
  },
  {
   "cell_type": "code",
   "execution_count": 2,
   "id": "c3a5ea71",
   "metadata": {},
   "outputs": [
    {
     "name": "stdout",
     "output_type": "stream",
     "text": [
      "Enter the inequality: 3<7<10\n",
      "3<7<10 ➞ True\n",
      "Enter the inequality: 10>12>9\n",
      "10>12>9 ➞ False\n",
      "Enter the inequality: 5>7>9>11\n",
      "5>7>9>11 ➞ False\n"
     ]
    }
   ],
   "source": [
    "def checkoutput():\n",
    "    in_string = input('Enter the inequality: ')\n",
    "    out_bool = eval(in_string)\n",
    "    print(f'{in_string} ➞ {out_bool}')\n",
    "\n",
    "for x in range(3):\n",
    "    checkoutput()"
   ]
  },
  {
   "cell_type": "markdown",
   "id": "4b98dcec",
   "metadata": {},
   "source": [
    "Q3. **Create a function that replaces all the vowels in a string with a specified character ?** <br>\n",
    "Examples: <br>\n",
    "replace_vowels(\"the aardvark\", \"#\") ➞ \"th# ##rdv#rk\" <br>\n",
    "replace_vowels(\"minnie mouse\", \"?\") ➞ \"m?nn?? m??s?\" <br>\n",
    "replace_vowels(\"shakespeare\", \"*\") ➞ \"shksp**r\""
   ]
  },
  {
   "cell_type": "code",
   "execution_count": 3,
   "id": "d22979a8",
   "metadata": {},
   "outputs": [],
   "source": [
    "def replaceVowels():\n",
    "    vowels = ['a','e','i','o','u','A','E','I','O','U']\n",
    "    in_string=input('enter the string:')\n",
    "    replace_string=input('replacement character:')\n",
    "    for i in in_string:\n",
    "        if i in vowels:\n",
    "            final_string=in_string.replace(i,replace_string)\n",
    "    return f'{replace_string} is repalcing vowels in {in_string} and the final output is {final_string}'"
   ]
  },
  {
   "cell_type": "code",
   "execution_count": 4,
   "id": "e1eabca2",
   "metadata": {},
   "outputs": [
    {
     "name": "stdout",
     "output_type": "stream",
     "text": [
      "enter the string:the aardvark\n",
      "replacement character:@\n"
     ]
    },
    {
     "data": {
      "text/plain": [
       "'@ is repalcing vowels in the aardvark and the final output is the @@rdv@rk'"
      ]
     },
     "execution_count": 4,
     "metadata": {},
     "output_type": "execute_result"
    }
   ],
   "source": [
    "replaceVowels()"
   ]
  },
  {
   "cell_type": "code",
   "execution_count": 5,
   "id": "f859d7ef",
   "metadata": {},
   "outputs": [
    {
     "name": "stdout",
     "output_type": "stream",
     "text": [
      "enter the string:minnie mouse\n",
      "replacement character:#\n"
     ]
    },
    {
     "data": {
      "text/plain": [
       "'# is repalcing vowels in minnie mouse and the final output is minni# mous#'"
      ]
     },
     "execution_count": 5,
     "metadata": {},
     "output_type": "execute_result"
    }
   ],
   "source": [
    "replaceVowels()"
   ]
  },
  {
   "cell_type": "markdown",
   "id": "e692eb52",
   "metadata": {},
   "source": [
    "Q4. **Write a function that calculates the factorial of a number recursively ?**\n",
    "Examples: <br>\n",
    "factorial(5) ➞ 120 <br>\n",
    "factorial(3) ➞ 6   <br>\n",
    "factorial(1) ➞ 1 <br>\n",
    "factorial(0) ➞ 1 <br>"
   ]
  },
  {
   "cell_type": "code",
   "execution_count": 7,
   "id": "2caa6b02",
   "metadata": {},
   "outputs": [
    {
     "data": {
      "text/plain": [
       "120"
      ]
     },
     "execution_count": 7,
     "metadata": {},
     "output_type": "execute_result"
    }
   ],
   "source": [
    "def factorial(n):\n",
    "    if n==0:\n",
    "        return 1\n",
    "    return n * factorial(n-1)\n",
    "factorial(5)"
   ]
  },
  {
   "cell_type": "code",
   "execution_count": 8,
   "id": "55003c19",
   "metadata": {},
   "outputs": [
    {
     "data": {
      "text/plain": [
       "6"
      ]
     },
     "execution_count": 8,
     "metadata": {},
     "output_type": "execute_result"
    }
   ],
   "source": [
    "factorial(3)"
   ]
  },
  {
   "cell_type": "markdown",
   "id": "bc610b02",
   "metadata": {},
   "source": [
    "Q8. **Hamming distance is the number of characters that differ between two strings ?** <br>\n",
    "To illustrate: <br>\n",
    "String1: \"abcbba\" <br>\n",
    "String2: \"abcbda\" <br>\n",
    "Hamming Distance: 1 - \"b\" vs. \"d\" is the only difference. <br>\n",
    "Create a function that computes the hamming distance between two strings. <br>\n",
    "Examples: <br>\n",
    "hamming_distance(\"abcde\", \"bcdef\") ➞ 5 <br>\n",
    "hamming_distance(\"abcde\", \"abcde\") ➞ 0 <br>\n",
    "hamming_distance(\"strong\", \"strung\") ➞ 1"
   ]
  },
  {
   "cell_type": "code",
   "execution_count": 9,
   "id": "101ce1a4",
   "metadata": {},
   "outputs": [],
   "source": [
    "def HamDistance():\n",
    "    in_string_1 = input('Enter the String_1: ')\n",
    "    in_string_2 = input('Enter the String_2: ')\n",
    "    if len(in_string_1) == len(in_string_2):\n",
    "        count = 0\n",
    "        for i in range(len(in_string_1)):\n",
    "            if in_string_1[i] != in_string_2[i]:\n",
    "                count = count+1\n",
    "        print(f'Hamning Distance b/w {in_string_1} and {in_string_2} ➞ {count}')\n",
    "    else:\n",
    "        print('Both Strings Must be of Same Length')"
   ]
  },
  {
   "cell_type": "code",
   "execution_count": 10,
   "id": "c9e54f82",
   "metadata": {},
   "outputs": [
    {
     "name": "stdout",
     "output_type": "stream",
     "text": [
      "Enter the String_1: abcde\n",
      "Enter the String_2: bcdef\n",
      "Hamning Distance b/w abcde and bcdef ➞ 5\n"
     ]
    }
   ],
   "source": [
    "HamDistance()"
   ]
  },
  {
   "cell_type": "code",
   "execution_count": 11,
   "id": "a18e9db5",
   "metadata": {},
   "outputs": [
    {
     "name": "stdout",
     "output_type": "stream",
     "text": [
      "Enter the String_1: xyzc\n",
      "Enter the String_2: yzxb\n",
      "Hamning Distance b/w xyzc and yzxb ➞ 4\n"
     ]
    }
   ],
   "source": [
    "HamDistance()\n"
   ]
  },
  {
   "cell_type": "code",
   "execution_count": null,
   "id": "fcf5e682",
   "metadata": {},
   "outputs": [],
   "source": []
  }
 ],
 "metadata": {
  "kernelspec": {
   "display_name": "Python 3 (ipykernel)",
   "language": "python",
   "name": "python3"
  },
  "language_info": {
   "codemirror_mode": {
    "name": "ipython",
    "version": 3
   },
   "file_extension": ".py",
   "mimetype": "text/x-python",
   "name": "python",
   "nbconvert_exporter": "python",
   "pygments_lexer": "ipython3",
   "version": "3.9.7"
  }
 },
 "nbformat": 4,
 "nbformat_minor": 5
}
