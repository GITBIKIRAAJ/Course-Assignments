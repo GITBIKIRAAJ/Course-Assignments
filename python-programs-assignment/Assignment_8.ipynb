{
 "cells": [
  {
   "cell_type": "markdown",
   "id": "3a3d4f9e",
   "metadata": {},
   "source": [
    "Q. 1 **Write a Python Program to Add Two Matrices?**"
   ]
  },
  {
   "cell_type": "code",
   "execution_count": 4,
   "id": "79c71e56",
   "metadata": {},
   "outputs": [
    {
     "name": "stdout",
     "output_type": "stream",
     "text": [
      "[10, 3, 18]\n",
      "[4, 5, 11]\n",
      "[6, 15, 12]\n"
     ]
    }
   ],
   "source": [
    "def addMetrics(A,B):\n",
    "    result=[ [0,0,0],[0,0,0],[0,0,0] ]\n",
    "    #list comprehension\n",
    "    result= [[A[i][j] + B[i][j]  for j in range(len(A[0]))] for i in range(len(A))]\n",
    "\n",
    "    for k in result:\n",
    "              print(k)\n",
    "    return \n",
    "A=[ [3,2, 9], [1, 4, 3], [3, 7, 8] ]\n",
    "\n",
    "B=[ [7, 1, 9], [3, 1, 8], [3, 8, 4] ]\n",
    "\n",
    "\n",
    "addMetrics(A,B)"
   ]
  },
  {
   "cell_type": "markdown",
   "id": "82a088af",
   "metadata": {},
   "source": [
    "Q 2. **Write a Python Program to Multiply Two Matrices?**"
   ]
  },
  {
   "cell_type": "code",
   "execution_count": 5,
   "id": "3cb067b2",
   "metadata": {},
   "outputs": [
    {
     "name": "stdout",
     "output_type": "stream",
     "text": [
      "[21, 2, 81]\n",
      "[3, 4, 24]\n",
      "[9, 56, 32]\n"
     ]
    }
   ],
   "source": [
    "def multuplyMetrics(A,B):\n",
    "    result=[ [0,0,0],[0,0,0],[0,0,0] ]\n",
    "    #list comprehension\n",
    "    result= [[A[i][j] * B[i][j]  for j in range(len(A[0]))] for i in range(len(A))]\n",
    "\n",
    "    for k in result:\n",
    "              print(k)\n",
    "    return \n",
    "A=[ [3,2, 9], [1, 4, 3], [3, 7, 8] ]\n",
    "\n",
    "B=[ [7, 1, 9], [3, 1, 8], [3, 8, 4] ]\n",
    "\n",
    "\n",
    "multuplyMetrics(A,B)"
   ]
  },
  {
   "cell_type": "markdown",
   "id": "5efcf5e1",
   "metadata": {},
   "source": [
    "Q3. **Write a Python Program to Transpose a Matrix?**"
   ]
  },
  {
   "cell_type": "code",
   "execution_count": 7,
   "id": "2512e5d8",
   "metadata": {},
   "outputs": [
    {
     "name": "stdout",
     "output_type": "stream",
     "text": [
      "[1, 3, 5]\n",
      "[2, 4, 7]\n"
     ]
    }
   ],
   "source": [
    "x= [[1,2],[3,4],[5,7]]\n",
    "y= [[0,0,0],[0,0,0]]\n",
    "\n",
    "l= len(x)\n",
    "\n",
    "for i in range(l):\n",
    "    for j in range(len(x[0])):\n",
    "        y[j][i]=x[i][j]\n",
    "for k in y:\n",
    "    print(k)"
   ]
  },
  {
   "cell_type": "markdown",
   "id": "f1f288b0",
   "metadata": {},
   "source": [
    "Q4. **Write a Python Program to Sort Words in Alphabetic Order?**"
   ]
  },
  {
   "cell_type": "code",
   "execution_count": 8,
   "id": "6efc53eb",
   "metadata": {},
   "outputs": [
    {
     "name": "stdout",
     "output_type": "stream",
     "text": [
      "Enter the line:I am a Data scientist\n",
      "Data\n",
      "I\n",
      "a\n",
      "am\n",
      "scientist\n"
     ]
    }
   ],
   "source": [
    "string= input(\"Enter the line:\")\n",
    "words=string.split()\n",
    "\n",
    "words.sort()\n",
    "for i in words:\n",
    "    print(i)"
   ]
  },
  {
   "cell_type": "markdown",
   "id": "2d8af335",
   "metadata": {},
   "source": [
    "Q5. **Write a Python Program to Remove Punctuation From a String?**"
   ]
  },
  {
   "cell_type": "code",
   "execution_count": 10,
   "id": "f09e9ab6",
   "metadata": {},
   "outputs": [
    {
     "name": "stdout",
     "output_type": "stream",
     "text": [
      "Enter the lines:The Universe@ is# a Good Place to Saty!!\n",
      "The Universe is a Good Place to Saty"
     ]
    }
   ],
   "source": [
    "punctuations = '''!()-[]{};:'\"\\,<>./?@#$%^&*_~'''\n",
    "\n",
    "string= input(\"Enter the lines:\")\n",
    "for i in string:\n",
    "    if i not in punctuations:\n",
    "        print(i,end='')\n"
   ]
  },
  {
   "cell_type": "code",
   "execution_count": null,
   "id": "c530293a",
   "metadata": {},
   "outputs": [],
   "source": []
  }
 ],
 "metadata": {
  "kernelspec": {
   "display_name": "Python 3 (ipykernel)",
   "language": "python",
   "name": "python3"
  },
  "language_info": {
   "codemirror_mode": {
    "name": "ipython",
    "version": 3
   },
   "file_extension": ".py",
   "mimetype": "text/x-python",
   "name": "python",
   "nbconvert_exporter": "python",
   "pygments_lexer": "ipython3",
   "version": "3.9.7"
  }
 },
 "nbformat": 4,
 "nbformat_minor": 5
}
