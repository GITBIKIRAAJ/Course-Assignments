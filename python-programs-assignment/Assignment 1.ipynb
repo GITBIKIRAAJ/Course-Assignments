{
 "cells": [
  {
   "cell_type": "markdown",
   "id": "ce204e4a",
   "metadata": {},
   "source": [
    "# Python Programming \n",
    "\n",
    "## Assignment 1"
   ]
  },
  {
   "cell_type": "markdown",
   "id": "884cb228",
   "metadata": {},
   "source": [
    "Q.1- **Write a Python program to print &quot;Hello Python&quot;?**"
   ]
  },
  {
   "cell_type": "code",
   "execution_count": 1,
   "id": "1082c462",
   "metadata": {},
   "outputs": [
    {
     "name": "stdout",
     "output_type": "stream",
     "text": [
      "Hello Python\n"
     ]
    }
   ],
   "source": [
    "program= 'Hello Python'\n",
    "print(program)"
   ]
  },
  {
   "cell_type": "markdown",
   "id": "8902b036",
   "metadata": {},
   "source": [
    "Q.2- **Write a Python program to do arithmetical operations addition and division.?**"
   ]
  },
  {
   "cell_type": "code",
   "execution_count": 2,
   "id": "67f36326",
   "metadata": {},
   "outputs": [
    {
     "name": "stdout",
     "output_type": "stream",
     "text": [
      "Addition: 15\n",
      "Division 2.0\n"
     ]
    }
   ],
   "source": [
    "#example -1 \n",
    "a= 10\n",
    "b=5\n",
    "Add= a+b\n",
    "Div=a/b\n",
    "print('Addition:',Add)\n",
    "print('Division', Div)"
   ]
  },
  {
   "cell_type": "code",
   "execution_count": 4,
   "id": "f8b10c42",
   "metadata": {},
   "outputs": [
    {
     "name": "stdout",
     "output_type": "stream",
     "text": [
      "enter a valid operator sign+\n",
      "enter 1st number10\n",
      "enter 2nd number5\n",
      "10+5=15\n",
      "\n",
      "enter a valid operator sign/\n",
      "enter 1st number10\n",
      "enter 2nd number5\n",
      "10/5=2.0\n",
      "\n",
      "enter a valid operator signstop\n",
      "Programme stoped\n"
     ]
    }
   ],
   "source": [
    "#example 2\n",
    "\n",
    "import operator\n",
    "sign= {'+':operator.add, '-': operator.sub, '*': operator.mul, '/': operator.truediv }\n",
    "while True:\n",
    "    operator= input('enter a valid operator sign')\n",
    "    if operator == 'stop':\n",
    "        print('Programme stoped')\n",
    "        break\n",
    "    else:\n",
    "        number_1= int(input(\"enter 1st number\"))\n",
    "        number_2= int(input(\"enter 2nd number\"))\n",
    "        print('{}{}{}={}\\n'.format(number_1, operator, number_2,sign[operator](number_1,number_2)))"
   ]
  },
  {
   "cell_type": "markdown",
   "id": "b41330f6",
   "metadata": {},
   "source": [
    "Q.3- **Write a Python program to find the area of a triangle?**"
   ]
  },
  {
   "cell_type": "code",
   "execution_count": 5,
   "id": "ce709353",
   "metadata": {},
   "outputs": [
    {
     "name": "stdout",
     "output_type": "stream",
     "text": [
      "Enter height:10\n",
      "Enter base length:25\n",
      "125.0\n"
     ]
    }
   ],
   "source": [
    "Height= int(input('Enter height:'))\n",
    "Base= int(input('Enter base length:'))\n",
    "area= 0.5*(Height*Base)\n",
    "print(area)"
   ]
  },
  {
   "cell_type": "markdown",
   "id": "5ffd6643",
   "metadata": {},
   "source": [
    "Q.4- **Write a Python program to swap two variables?**"
   ]
  },
  {
   "cell_type": "code",
   "execution_count": 7,
   "id": "5d160086",
   "metadata": {},
   "outputs": [
    {
     "name": "stdout",
     "output_type": "stream",
     "text": [
      "Please enter value for P: 45\n",
      "Please enter value for Q: 54\n",
      "The Value of P after swapping:  54\n",
      "The Value of Q after swapping:  45\n"
     ]
    }
   ],
   "source": [
    "P = int( input(\"Please enter value for P: \"))  \n",
    "Q = int( input(\"Please enter value for Q: \"))  \n",
    "   \n",
    "# To Swap the values of two variables  \n",
    "P, Q = Q, P  \n",
    "   \n",
    "print (\"The Value of P after swapping: \", P)  \n",
    "print (\"The Value of Q after swapping: \", Q)"
   ]
  },
  {
   "cell_type": "markdown",
   "id": "18cfa897",
   "metadata": {},
   "source": [
    "Q.5- **Write a Python program to generate a random number?**"
   ]
  },
  {
   "cell_type": "code",
   "execution_count": 8,
   "id": "b0f87704",
   "metadata": {},
   "outputs": [
    {
     "data": {
      "text/plain": [
       "('random number is:', 5)"
      ]
     },
     "execution_count": 8,
     "metadata": {},
     "output_type": "execute_result"
    }
   ],
   "source": [
    "from random import randint\n",
    "\n",
    "def random_number(start,end):\n",
    "    return('random number is:', randint(start,end))\n",
    "random_number(0,10)"
   ]
  },
  {
   "cell_type": "code",
   "execution_count": 9,
   "id": "b9cc2b27",
   "metadata": {},
   "outputs": [
    {
     "data": {
      "text/plain": [
       "('random number is:', 997462)"
      ]
     },
     "execution_count": 9,
     "metadata": {},
     "output_type": "execute_result"
    }
   ],
   "source": [
    "random_number(273498,65773432)"
   ]
  },
  {
   "cell_type": "code",
   "execution_count": 10,
   "id": "874d57c6",
   "metadata": {},
   "outputs": [
    {
     "data": {
      "text/plain": [
       "('random number is:', 95)"
      ]
     },
     "execution_count": 10,
     "metadata": {},
     "output_type": "execute_result"
    }
   ],
   "source": [
    "random_number(78,98)"
   ]
  },
  {
   "cell_type": "code",
   "execution_count": 11,
   "id": "375bc6d3",
   "metadata": {},
   "outputs": [
    {
     "data": {
      "text/plain": [
       "('random number is:', 1074)"
      ]
     },
     "execution_count": 11,
     "metadata": {},
     "output_type": "execute_result"
    }
   ],
   "source": [
    "random_number(987,1132)"
   ]
  },
  {
   "cell_type": "code",
   "execution_count": 12,
   "id": "d69afd38",
   "metadata": {},
   "outputs": [
    {
     "data": {
      "text/plain": [
       "('random number is:', 991)"
      ]
     },
     "execution_count": 12,
     "metadata": {},
     "output_type": "execute_result"
    }
   ],
   "source": [
    "random_number(988,999)"
   ]
  },
  {
   "cell_type": "code",
   "execution_count": 13,
   "id": "8451f283",
   "metadata": {},
   "outputs": [
    {
     "data": {
      "text/plain": [
       "('random number is:', 990)"
      ]
     },
     "execution_count": 13,
     "metadata": {},
     "output_type": "execute_result"
    }
   ],
   "source": [
    "random_number(988,999)"
   ]
  },
  {
   "cell_type": "code",
   "execution_count": 14,
   "id": "2fdb6005",
   "metadata": {},
   "outputs": [
    {
     "data": {
      "text/plain": [
       "('random number is:', 990)"
      ]
     },
     "execution_count": 14,
     "metadata": {},
     "output_type": "execute_result"
    }
   ],
   "source": [
    "random_number(988,999)"
   ]
  },
  {
   "cell_type": "code",
   "execution_count": 15,
   "id": "dcf65a83",
   "metadata": {},
   "outputs": [
    {
     "data": {
      "text/plain": [
       "('random number is:', 978)"
      ]
     },
     "execution_count": 15,
     "metadata": {},
     "output_type": "execute_result"
    }
   ],
   "source": [
    "random_number(978,989)"
   ]
  },
  {
   "cell_type": "code",
   "execution_count": null,
   "id": "e74d1ccf",
   "metadata": {},
   "outputs": [],
   "source": []
  }
 ],
 "metadata": {
  "kernelspec": {
   "display_name": "Python 3 (ipykernel)",
   "language": "python",
   "name": "python3"
  },
  "language_info": {
   "codemirror_mode": {
    "name": "ipython",
    "version": 3
   },
   "file_extension": ".py",
   "mimetype": "text/x-python",
   "name": "python",
   "nbconvert_exporter": "python",
   "pygments_lexer": "ipython3",
   "version": "3.9.7"
  }
 },
 "nbformat": 4,
 "nbformat_minor": 5
}
