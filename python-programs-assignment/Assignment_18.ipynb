{
 "cells": [
  {
   "cell_type": "markdown",
   "id": "9f77874c",
   "metadata": {},
   "source": [
    "# Assignment_18"
   ]
  },
  {
   "cell_type": "markdown",
   "id": "ddb960c8",
   "metadata": {},
   "source": [
    "Q1. **Create a function that takes a list of non-negative integers and strings and return a new list without the strings ?** <br>\n",
    "Examples: <br>\n",
    "filter_list([1, 2, \"a\", \"b\"]) ➞ [1, 2] <br>\n",
    "filter_list([1, \"a\", \"b\", 0, 15]) ➞ [1, 0, 15] <br>\n",
    "filter_list([1, 2, \"aasf\", \"1\", \"123\", 123]) ➞ [1, 2, 123] <br>"
   ]
  },
  {
   "cell_type": "code",
   "execution_count": 1,
   "id": "642d9f4d",
   "metadata": {},
   "outputs": [
    {
     "data": {
      "text/plain": [
       "[1, 2, 0]"
      ]
     },
     "execution_count": 1,
     "metadata": {},
     "output_type": "execute_result"
    }
   ],
   "source": [
    "def filterlist(list):\n",
    "    output=[]\n",
    "    for ele in list:\n",
    "        if type(ele)!= str and ele>=0:\n",
    "            output.append(ele)\n",
    "    return output\n",
    "l=[1,2,'a','b',0,'data science']\n",
    "\n",
    "filterlist(l)"
   ]
  },
  {
   "cell_type": "markdown",
   "id": "2bc6fe26",
   "metadata": {},
   "source": [
    "Q2. **The \"Reverser\" takes a string as input and returns that string in reverse order, with the opposite case ?** <br>\n",
    "Examples: <br>\n",
    "reverse(\"Hello World\") ➞ \"DLROw OLLEh\" <br>\n",
    "reverse(\"ReVeRsE\") ➞ \"eSrEvEr\" <br>\n",
    "reverse(\"Radar\") ➞ \"RADAr\""
   ]
  },
  {
   "cell_type": "code",
   "execution_count": 2,
   "id": "1475633c",
   "metadata": {},
   "outputs": [
    {
     "data": {
      "text/plain": [
       "'DLROw OLLEh'"
      ]
     },
     "execution_count": 2,
     "metadata": {},
     "output_type": "execute_result"
    }
   ],
   "source": [
    "def reverse(s):\n",
    "    out_string=s[::-1].swapcase()\n",
    "    return out_string\n",
    "s= 'Hello World'\n",
    "reverse(s)"
   ]
  },
  {
   "cell_type": "markdown",
   "id": "72f581c7",
   "metadata": {},
   "source": [
    "Q3. **You can assign variables from lists like this:**\n",
    "lst = [1, 2, 3, 4, 5, 6] <br>\n",
    "first = lst[0] <br>\n",
    "middle = lst[1:-1] <br>\n",
    "last = lst[-1] <br>\n",
    "print(first) ➞ outputs 1 <br>\n",
    "print(middle) ➞ outputs [2, 3, 4, 5] <br>\n",
    "print(last) ➞ outputs 6 <br>\n",
    "With Python 3, you can assign variables from lists in a much more succinct way. Create variables first, middle and last from the given list using destructuring assignment\n",
    "(check the Resources tab for some examples), where: <br>\n",
    "first ➞ 1 <br>\n",
    "middle ➞ [2, 3, 4, 5] <br>\n",
    "last ➞ 6 <br>\n",
    "Your task is to unpack the list writeyourcodehere into three variables, being first, middle, and last, with middle being everything in between the first and last element. Then print all three variables."
   ]
  },
  {
   "cell_type": "code",
   "execution_count": 3,
   "id": "f5dd05d6",
   "metadata": {},
   "outputs": [
    {
     "name": "stdout",
     "output_type": "stream",
     "text": [
      "first -> 1,middle is [2, 3, 4, 5],last is 6\n"
     ]
    }
   ],
   "source": [
    "def seggregate(list):\n",
    "    first,*middle,last= list\n",
    "    print(f'first -> {first},middle is {middle},last is {last}')\n",
    "l=[1, 2, 3, 4, 5, 6]\n",
    "seggregate(l)"
   ]
  },
  {
   "cell_type": "markdown",
   "id": "e30069f3",
   "metadata": {},
   "source": [
    "Q4. **Write a function that calculates the factorial of a number recursively.**\n",
    "Examples: <br>\n",
    "factorial(5) ➞ 120 <br>\n",
    "factorial(3) ➞ 6 <br>\n",
    "factorial(1) ➞ 1 <br>\n",
    "factorial(0) ➞ 1"
   ]
  },
  {
   "cell_type": "code",
   "execution_count": 4,
   "id": "44d2ab94",
   "metadata": {},
   "outputs": [
    {
     "name": "stdout",
     "output_type": "stream",
     "text": [
      "factorial(5) ➞ 120\n",
      "factorial(3) ➞ 6\n",
      "factorial(1) ➞ 1\n",
      "factorial(0) ➞ 1\n"
     ]
    }
   ],
   "source": [
    "def factorial(n):\n",
    "    if n==0:\n",
    "        return 1\n",
    "    return n * factorial(n-1)\n",
    "\n",
    "print(f'factorial(5) ➞ {factorial(5)}')\n",
    "print(f'factorial(3) ➞ {factorial(3)}')\n",
    "print(f'factorial(1) ➞ {factorial(1)}')\n",
    "print(f'factorial(0) ➞ {factorial(0)}')"
   ]
  },
  {
   "cell_type": "markdown",
   "id": "b4c77690",
   "metadata": {},
   "source": [
    "Q.5 **Write a function that moves all elements of one type to the end of the list.**\n",
    "Examples:\n",
    "move_to_end([1, 3, 2, 4, 4, 1], 1) ➞ [3, 2, 4, 4, 1, 1]\n",
    "\n",
    " Move all the 1s to the end of the array.    \n",
    "move_to_end([7, 8, 9, 1, 2, 3, 4], 9) ➞ [7, 8, 1, 2, 3, 4, 9]\n",
    "move_to_end([\"a\", \"a\", \"a\", \"b\"], \"a\") ➞ [\"b\", \"a\", \"a\", \"a\"]"
   ]
  },
  {
   "cell_type": "code",
   "execution_count": 6,
   "id": "5f1a9d7d",
   "metadata": {},
   "outputs": [
    {
     "data": {
      "text/plain": [
       "[3, 2, 4, 4, 1, 1]"
      ]
     },
     "execution_count": 6,
     "metadata": {},
     "output_type": "execute_result"
    }
   ],
   "source": [
    "def move_to_end(list,num):\n",
    "    first_end = []\n",
    "    second_end = []\n",
    "    for i in list:\n",
    "        if i == num:\n",
    "            second_end.append(i)\n",
    "        else:\n",
    "            first_end.append(i)\n",
    "    first_end.extend(second_end)\n",
    "    return first_end\n",
    "l=[1, 3, 2, 4, 4, 1]\n",
    "move_to_end(l,1)"
   ]
  },
  {
   "cell_type": "code",
   "execution_count": 8,
   "id": "a8ca42d0",
   "metadata": {},
   "outputs": [
    {
     "data": {
      "text/plain": [
       "[7, 8, 1, 2, 3, 4, 9]"
      ]
     },
     "execution_count": 8,
     "metadata": {},
     "output_type": "execute_result"
    }
   ],
   "source": [
    "l1=[7, 8, 9, 1, 2, 3, 4]\n",
    "move_to_end(l1,9)"
   ]
  },
  {
   "cell_type": "code",
   "execution_count": null,
   "id": "5e514df5",
   "metadata": {},
   "outputs": [],
   "source": []
  }
 ],
 "metadata": {
  "kernelspec": {
   "display_name": "Python 3 (ipykernel)",
   "language": "python",
   "name": "python3"
  },
  "language_info": {
   "codemirror_mode": {
    "name": "ipython",
    "version": 3
   },
   "file_extension": ".py",
   "mimetype": "text/x-python",
   "name": "python",
   "nbconvert_exporter": "python",
   "pygments_lexer": "ipython3",
   "version": "3.9.7"
  }
 },
 "nbformat": 4,
 "nbformat_minor": 5
}
