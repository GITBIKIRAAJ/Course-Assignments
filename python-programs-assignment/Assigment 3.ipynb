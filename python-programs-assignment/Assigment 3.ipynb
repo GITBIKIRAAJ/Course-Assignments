{
 "cells": [
  {
   "cell_type": "markdown",
   "id": "c71b494a",
   "metadata": {},
   "source": [
    "# Assigment 3"
   ]
  },
  {
   "cell_type": "markdown",
   "id": "7734d1c6",
   "metadata": {},
   "source": [
    "Q1. **Write a Python Program to Check if a Number is Positive, Negative or Zero?**"
   ]
  },
  {
   "cell_type": "code",
   "execution_count": 2,
   "id": "84f98151",
   "metadata": {},
   "outputs": [],
   "source": [
    "def check_number(x):\n",
    "    x= int(input('Enter the Number'))\n",
    "    if x ==0:\n",
    "        print(\"Entered Number is Zero\")\n",
    "    elif x>0:\n",
    "        print(f\"{x} is a Positive Number\")\n",
    "    else:\n",
    "        print(f\"{x} is a Negative Number\")"
   ]
  },
  {
   "cell_type": "code",
   "execution_count": 3,
   "id": "e6784b53",
   "metadata": {},
   "outputs": [
    {
     "name": "stdout",
     "output_type": "stream",
     "text": [
      "Enter the Number2\n",
      "2 is a Positive Number\n"
     ]
    }
   ],
   "source": [
    "check_number(x)"
   ]
  },
  {
   "cell_type": "code",
   "execution_count": 4,
   "id": "31969083",
   "metadata": {},
   "outputs": [
    {
     "name": "stdout",
     "output_type": "stream",
     "text": [
      "Enter the Number-2\n",
      "-2 is a Negative Number\n"
     ]
    }
   ],
   "source": [
    "check_number(x)"
   ]
  },
  {
   "cell_type": "code",
   "execution_count": 5,
   "id": "cfa400d3",
   "metadata": {},
   "outputs": [
    {
     "name": "stdout",
     "output_type": "stream",
     "text": [
      "Enter the Number0\n",
      "Entered Number is Zero\n"
     ]
    }
   ],
   "source": [
    "check_number(x)"
   ]
  },
  {
   "cell_type": "markdown",
   "id": "8485ebdf",
   "metadata": {},
   "source": [
    "Q2. **Write a Python program to check if a Number is Odd or Even ?**"
   ]
  },
  {
   "cell_type": "code",
   "execution_count": 12,
   "id": "b33fa1c1",
   "metadata": {},
   "outputs": [
    {
     "name": "stdout",
     "output_type": "stream",
     "text": [
      "Enter a number: 5\n",
      "5 is a Odd number\n"
     ]
    }
   ],
   "source": [
    "def checkNumber(num):\n",
    "    if num%2 == 0:\n",
    "        print('{} is a Even number'.format(num))\n",
    "    else:\n",
    "        print('{} is a Odd number'.format(num))\n",
    "        \n",
    "num = int(input(\"Enter a number: \"))\n",
    "checkNumber(num)"
   ]
  },
  {
   "cell_type": "markdown",
   "id": "c11a7eca",
   "metadata": {},
   "source": [
    "Q3. **Write a Python program to check Leap Year ?**"
   ]
  },
  {
   "cell_type": "code",
   "execution_count": 14,
   "id": "5fbae735",
   "metadata": {},
   "outputs": [],
   "source": [
    "def leapyear(year):\n",
    "    if (year%400==0 and year%100 !=0 or year%4==0):\n",
    "        print(f\"{year} is a leap year\")\n",
    "    else:\n",
    "        print(f\"{year} isn't a leap year\")"
   ]
  },
  {
   "cell_type": "code",
   "execution_count": 15,
   "id": "cc94c8eb",
   "metadata": {},
   "outputs": [
    {
     "name": "stdout",
     "output_type": "stream",
     "text": [
      "2016 is a leap year\n"
     ]
    }
   ],
   "source": [
    "leapyear(2016)"
   ]
  },
  {
   "cell_type": "code",
   "execution_count": 16,
   "id": "c8fe4cd2",
   "metadata": {},
   "outputs": [
    {
     "name": "stdout",
     "output_type": "stream",
     "text": [
      "2019 isn't a leap year\n"
     ]
    }
   ],
   "source": [
    "leapyear(2019)"
   ]
  },
  {
   "cell_type": "markdown",
   "id": "0d1a1ef2",
   "metadata": {},
   "source": [
    "Q4. **Write a Python program to check Prime Number ?**"
   ]
  },
  {
   "cell_type": "code",
   "execution_count": 17,
   "id": "d1769949",
   "metadata": {},
   "outputs": [
    {
     "name": "stdout",
     "output_type": "stream",
     "text": [
      "Enter a number: 20\n",
      "5 is a prime number\n"
     ]
    }
   ],
   "source": [
    "def checkprime(num):\n",
    "    flag = False\n",
    "    for i in range(2,num):\n",
    "        if num%i ==0:\n",
    "            flag= True\n",
    "            break\n",
    "    if(not flag):\n",
    "        print(f'{num} is a prime number')\n",
    "    else:\n",
    "        print(f'{num} is not a prime number')\n",
    "        \n",
    "number = int(input(\"Enter a number: \"))\n",
    "checkprime(num)"
   ]
  },
  {
   "cell_type": "code",
   "execution_count": 19,
   "id": "bc8ba7ff",
   "metadata": {},
   "outputs": [
    {
     "name": "stdout",
     "output_type": "stream",
     "text": [
      "13 is a prime number\n"
     ]
    }
   ],
   "source": [
    "checkprime(13)"
   ]
  },
  {
   "cell_type": "code",
   "execution_count": 20,
   "id": "328ace5b",
   "metadata": {},
   "outputs": [
    {
     "name": "stdout",
     "output_type": "stream",
     "text": [
      "33 is not a prime number\n"
     ]
    }
   ],
   "source": [
    "checkprime(33)"
   ]
  },
  {
   "cell_type": "markdown",
   "id": "2270eb0a",
   "metadata": {},
   "source": [
    "Q.5 **Write a Python program to print all Prime Numbers in an interval of 1-10000 ?**"
   ]
  },
  {
   "cell_type": "code",
   "execution_count": 25,
   "id": "4a6c3316",
   "metadata": {},
   "outputs": [
    {
     "name": "stdout",
     "output_type": "stream",
     "text": [
      "Enter the number till you want to check: 1000\n",
      "[2, 3, 5, 7, 11, 13, 17, 19, 23, 29, 31, 37, 41, 43, 47, 53, 59, 61, 67, 71, 73, 79, 83, 89, 97, 101, 103, 107, 109, 113, 127, 131, 137, 139, 149, 151, 157, 163, 167, 173, 179, 181, 191, 193, 197, 199, 211, 223, 227, 229, 233, 239, 241, 251, 257, 263, 269, 271, 277, 281, 283, 293, 307, 311, 313, 317, 331, 337, 347, 349, 353, 359, 367, 373, 379, 383, 389, 397, 401, 409, 419, 421, 431, 433, 439, 443, 449, 457, 461, 463, 467, 479, 487, 491, 499, 503, 509, 521, 523, 541, 547, 557, 563, 569, 571, 577, 587, 593, 599, 601, 607, 613, 617, 619, 631, 641, 643, 647, 653, 659, 661, 673, 677, 683, 691, 701, 709, 719, 727, 733, 739, 743, 751, 757, 761, 769, 773, 787, 797, 809, 811, 821, 823, 827, 829, 839, 853, 857, 859, 863, 877, 881, 883, 887, 907, 911, 919, 929, 937, 941, 947, 953, 967, 971, 977, 983, 991, 997]\n"
     ]
    }
   ],
   "source": [
    "n=int(input(\"Enter the number till you want to check: \"))\n",
    "primenumbers = []\n",
    "for i in range (2, n+1):\n",
    "    for j in range(2, i):\n",
    "        if i%j == 0:\n",
    "            break\n",
    "    else:\n",
    "        primenumbers.append(i)\n",
    "print(primenumbers)"
   ]
  },
  {
   "cell_type": "code",
   "execution_count": null,
   "id": "e4afffbc",
   "metadata": {},
   "outputs": [],
   "source": []
  }
 ],
 "metadata": {
  "kernelspec": {
   "display_name": "Python 3 (ipykernel)",
   "language": "python",
   "name": "python3"
  },
  "language_info": {
   "codemirror_mode": {
    "name": "ipython",
    "version": 3
   },
   "file_extension": ".py",
   "mimetype": "text/x-python",
   "name": "python",
   "nbconvert_exporter": "python",
   "pygments_lexer": "ipython3",
   "version": "3.9.7"
  }
 },
 "nbformat": 4,
 "nbformat_minor": 5
}
