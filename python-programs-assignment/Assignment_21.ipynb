{
 "cells": [
  {
   "cell_type": "markdown",
   "id": "4ac8483f",
   "metadata": {},
   "source": [
    "Q 1. **1.Write a function that takes a list and a number as arguments. Add the number to the end of the list, then remove the first element of the list. The function should then return the updated list** <br>\n",
    "Examples:<br>\n",
    "next_in_line([5, 6, 7, 8, 9], 1) ➞ [6, 7, 8, 9, 1] <br>\n",
    "next_in_line([7, 6, 3, 23, 17], 10) ➞ [6, 3, 23, 17, 10] <br>\n",
    "next_in_line([1, 10, 20, 42 ], 6) ➞ [10, 20, 42, 6] <br>\n",
    "next_in_line([], 6) ➞ \"No list has been selected\" <br>"
   ]
  },
  {
   "cell_type": "code",
   "execution_count": 11,
   "id": "10fda728",
   "metadata": {},
   "outputs": [
    {
     "name": "stdout",
     "output_type": "stream",
     "text": [
      "[6, 7, 8, 9, 1]\n",
      "None\n",
      "[6, 3, 23, 17, 10]\n",
      "None\n",
      "No list has been selected\n",
      "None\n"
     ]
    }
   ],
   "source": [
    "def newlinefun(list,num):\n",
    "    if len(list)>1:\n",
    "        list.append(num)\n",
    "        list.remove(list[0])\n",
    "        print(list)\n",
    "    else:\n",
    "        print('No list has been selected')\n",
    "print(newlinefun([5, 6, 7, 8, 9], 1))\n",
    "print(newlinefun([7, 6, 3, 23, 17], 10))\n",
    "print(newlinefun([], 6))"
   ]
  },
  {
   "cell_type": "markdown",
   "id": "e2b20736",
   "metadata": {},
   "source": [
    "Q2. **Create the function that takes a list of dictionaries and returns the sum of people's budgets.**"
   ]
  },
  {
   "cell_type": "code",
   "execution_count": 12,
   "id": "4c703cec",
   "metadata": {},
   "outputs": [],
   "source": [
    "def peoples_budgets(in_list):\n",
    "    sum = 0\n",
    "    for value in in_list:\n",
    "        sum += value[\"budget\"]\n",
    "    print(f'sum of budgets ➞ {sum}')"
   ]
  },
  {
   "cell_type": "code",
   "execution_count": 13,
   "id": "cfade0c2",
   "metadata": {},
   "outputs": [
    {
     "name": "stdout",
     "output_type": "stream",
     "text": [
      "sum of budgets ➞ 65700\n"
     ]
    }
   ],
   "source": [
    "peoples_budgets([\n",
    "{ \"name\": \"John\", \"age\": 21, \"budget\": 23000 },\n",
    "{ \"name\": \"Steve\", \"age\": 32, \"budget\": 40000 },\n",
    "{ \"name\": \"Martin\", \"age\": 16, \"budget\": 2700 }\n",
    "])"
   ]
  },
  {
   "cell_type": "code",
   "execution_count": 14,
   "id": "88546011",
   "metadata": {},
   "outputs": [
    {
     "name": "stdout",
     "output_type": "stream",
     "text": [
      "sum of budgets ➞ 62600\n"
     ]
    }
   ],
   "source": [
    "peoples_budgets([\n",
    "{ \"name\": \"John\", \"age\": 21, \"budget\": 29000 },\n",
    "{ \"name\": \"Steve\", \"age\": 32, \"budget\": 32000 },\n",
    "{ \"name\": \"Martin\", \"age\": 16, \"budget\": 1600 }\n",
    "])"
   ]
  },
  {
   "cell_type": "markdown",
   "id": "601d183d",
   "metadata": {},
   "source": [
    "Q3. **Create a function that takes a string and returns a string with its letters in alphabetical order**"
   ]
  },
  {
   "cell_type": "code",
   "execution_count": 15,
   "id": "ddd6979d",
   "metadata": {},
   "outputs": [
    {
     "name": "stdout",
     "output_type": "stream",
     "text": [
      "hello ➞ ehllo\n",
      "edabit ➞ abdeit\n",
      "hacker ➞ acehkr\n",
      "geek ➞ eegk\n",
      "javascript ➞ aacijprstv\n"
     ]
    }
   ],
   "source": [
    "def alphabet_soup(in_string):\n",
    "    new_string=sorted(in_string)\n",
    "    out_string=''.join(new_string)\n",
    "    print(f'{in_string} ➞ {out_string}')\n",
    "\n",
    "alphabet_soup(\"hello\")\n",
    "alphabet_soup(\"edabit\")\n",
    "alphabet_soup(\"hacker\")\n",
    "alphabet_soup(\"geek\")\n",
    "alphabet_soup(\"javascript\")"
   ]
  },
  {
   "cell_type": "markdown",
   "id": "d84c69ef",
   "metadata": {},
   "source": [
    "Q4. **What will be the value of your investment at the end of the 10 year period?**"
   ]
  },
  {
   "cell_type": "markdown",
   "id": "3c68a68b",
   "metadata": {},
   "source": [
    "Create a function that accepts the principal p, the term in years t, the interest rate r, and the number of compounding periods per year n. The function returns the value at the end of term rounded to the nearest cent. <br>\n",
    "\n",
    "For the example above: <br>\n",
    "compound_interest(10000, 10, 0.06, 12) ➞ 18193.97 <br>\n",
    "Note that the interest rate is given as a decimal and n=12 because with monthly compounding there are 12 periods per year.<br> Compounding can also be done annually, quarterly, weekly, or daily.<br>\n",
    "\n",
    "Examples:<br>\n",
    "compound_interest(100, 1, 0.05, 1) ➞ 105.0<br>\n",
    "compound_interest(3500, 15, 0.1, 4) ➞ 15399.26<br>\n",
    "compound_interest(100000, 20, 0.15, 365) ➞ 2007316.26<br>"
   ]
  },
  {
   "cell_type": "code",
   "execution_count": 16,
   "id": "6d5e638b",
   "metadata": {},
   "outputs": [
    {
     "name": "stdout",
     "output_type": "stream",
     "text": [
      "Output ➞ 105.00\n",
      "Output ➞ 15399.26\n",
      "Output ➞ 2007316.26\n"
     ]
    }
   ],
   "source": [
    "def compound_interest(principal,years,interest,period):\n",
    "    Ci = principal*(1+(interest/period))**(period*years)\n",
    "    print(f'Output ➞ {Ci:.2f}')\n",
    "\n",
    "compound_interest(100, 1, 0.05, 1)\n",
    "compound_interest(3500, 15, 0.1, 4)\n",
    "compound_interest(100000, 20, 0.15, 365)"
   ]
  },
  {
   "cell_type": "markdown",
   "id": "e02e255e",
   "metadata": {},
   "source": [
    "Q5. **Write a function that takes a list of elements and returns only the integers.**"
   ]
  },
  {
   "cell_type": "code",
   "execution_count": 17,
   "id": "5c1d8ac4",
   "metadata": {},
   "outputs": [
    {
     "name": "stdout",
     "output_type": "stream",
     "text": [
      "[9, 2, 'space', 'car', 'lion', 16] ➞ [9, 2, 16]\n",
      "['hello', 81, 'basketball', 123, 'fox'] ➞ [81, 123]\n",
      "[10, '121', 56, 20, 'car', 3, 'lion'] ➞ [10, 56, 20, 3]\n",
      "['String', True, 3.3, 1] ➞ [1]\n"
     ]
    }
   ],
   "source": [
    "def only_integer(in_list):\n",
    "    out_list = []\n",
    "    for ele in in_list:\n",
    "        if type(ele) == int:\n",
    "            out_list.append(ele)\n",
    "    print(f'{in_list} ➞ {out_list}')\n",
    "\n",
    "only_integer([9, 2, \"space\", \"car\", \"lion\", 16])\n",
    "only_integer([\"hello\", 81, \"basketball\", 123, \"fox\"])\n",
    "only_integer([10, \"121\", 56, 20, \"car\", 3, \"lion\"]) \n",
    "only_integer([\"String\", True, 3.3, 1])"
   ]
  },
  {
   "cell_type": "code",
   "execution_count": null,
   "id": "b1429a30",
   "metadata": {},
   "outputs": [],
   "source": []
  }
 ],
 "metadata": {
  "kernelspec": {
   "display_name": "Python 3 (ipykernel)",
   "language": "python",
   "name": "python3"
  },
  "language_info": {
   "codemirror_mode": {
    "name": "ipython",
    "version": 3
   },
   "file_extension": ".py",
   "mimetype": "text/x-python",
   "name": "python",
   "nbconvert_exporter": "python",
   "pygments_lexer": "ipython3",
   "version": "3.9.7"
  }
 },
 "nbformat": 4,
 "nbformat_minor": 5
}
