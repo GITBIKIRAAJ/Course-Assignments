{
 "cells": [
  {
   "cell_type": "markdown",
   "id": "0b7a9a4b",
   "metadata": {},
   "source": [
    "Q1. \n",
    "Write a program that calculates and prints the value according to the given formula:<br>\n",
    "Q = Square root of [(2 * C * D)/H] <br>\n",
    "Following are the fixed values of C and H:<br>\n",
    "C is 50. H is 30.<br>\n",
    "D is the variable whose values should be input to your program in a comma-separated sequence.<br>\n",
    "Example<br>\n",
    "Let us assume the following comma separated input sequence is given to the program:<br>\n",
    "100,150,180<br>\n",
    "The output of the program should be:<br>\n",
    "18,22,24<br>"
   ]
  },
  {
   "cell_type": "code",
   "execution_count": 1,
   "id": "83845f1b",
   "metadata": {},
   "outputs": [
    {
     "name": "stdout",
     "output_type": "stream",
     "text": [
      "100,150,180\n",
      "18,22,24\n"
     ]
    }
   ],
   "source": [
    "import math\n",
    "c=50\n",
    "h=30\n",
    "value = []\n",
    "items=[x for x in input().split(',')]\n",
    "for D in items:\n",
    "    value.append(str(int(round(math.sqrt(2*c*int(D)/h)))))\n",
    "\n",
    "print(','.join(value))"
   ]
  },
  {
   "cell_type": "markdown",
   "id": "bbd6e604",
   "metadata": {},
   "source": [
    "**Question 2** <br>\n",
    "Write a program which takes 2 digits, X,Y as input and generates a 2-dimensional array. The element value in the i-th row and j-th column of the array should be i*j.\n",
    "\n",
    "Note: i=0,1.., X-1; j=0,1,¡Y-1.\n",
    "\n",
    "Example\n",
    "\n",
    "Suppose the following inputs are given to the program:\n",
    "\n",
    "3,5\n",
    "\n",
    "Then, the output of the program should be:\n",
    "\n",
    "[[0, 0, 0, 0, 0], [0, 1, 2, 3, 4], [0, 2, 4, 6, 8]]"
   ]
  },
  {
   "cell_type": "code",
   "execution_count": 5,
   "id": "10d37cce",
   "metadata": {},
   "outputs": [
    {
     "name": "stdout",
     "output_type": "stream",
     "text": [
      "Input number of rows: 3\n",
      "Input number of columns: 5\n",
      "[[0, 0, 0, 0, 0], [0, 1, 2, 3, 4], [0, 2, 4, 6, 8]]\n"
     ]
    }
   ],
   "source": [
    "row_num = int(input(\"Input number of rows: \"))\n",
    "col_num = int(input(\"Input number of columns: \"))\n",
    "multi_list = [[0 for col in range(col_num)] for row in range(row_num)]\n",
    "\n",
    "for row in range(row_num):\n",
    "    \n",
    "    for col in range(col_num):\n",
    "        \n",
    "        multi_list[row][col]= row*col\n",
    "print(multi_list)"
   ]
  },
  {
   "cell_type": "markdown",
   "id": "4f6bbe6f",
   "metadata": {},
   "source": [
    "**Q3.** <br>\n",
    "Write a program that accepts a comma separated sequence of words as input and prints the words in a comma-separated sequence after sorting them alphabetically.\n",
    "\n",
    "Suppose the following input is supplied to the program:\n",
    "\n",
    "without,hello,bag,world\n",
    "\n",
    "Then, the output should be\n",
    "\n",
    "bag,hello,without,world"
   ]
  },
  {
   "cell_type": "code",
   "execution_count": 7,
   "id": "914b405f",
   "metadata": {},
   "outputs": [
    {
     "name": "stdout",
     "output_type": "stream",
     "text": [
      "Enter the Comma separeted Text :without,hello,bag,world\n",
      "The output words are  bag,hello,without,world\n"
     ]
    }
   ],
   "source": [
    "input_string=input(\"Enter the Comma separeted Text :\")\n",
    "print(\"The output words are \",\",\".join(sorted(input_string.split(\",\"))))"
   ]
  },
  {
   "cell_type": "markdown",
   "id": "5d93335a",
   "metadata": {},
   "source": [
    "**Q4.**\n",
    "Write a program that accepts a sequence of whitespace separated words as input and prints the words after removing all duplicate words and sorting them alphanumerically.\n",
    "\n",
    "Suppose the following input is supplied to the program:\n",
    "\n",
    "hello world and practice makes perfect and hello world again\n",
    "\n",
    "Then, the output should be:\n",
    "\n",
    "again and hello makes perfect practice world"
   ]
  },
  {
   "cell_type": "code",
   "execution_count": 13,
   "id": "6d831e7d",
   "metadata": {},
   "outputs": [
    {
     "name": "stdout",
     "output_type": "stream",
     "text": [
      "Enter the Comma separeted Text :hello world and practice makes perfect and hello world again\n",
      "------------------------------------\n",
      "again and hello makes perfect practice world\n"
     ]
    }
   ],
   "source": [
    "input_string=input(\"Enter the Comma separeted Text :\")\n",
    "print('------------------------------------')\n",
    "print(\" \".join(sorted(set(input_string.split(' ')))))"
   ]
  },
  {
   "cell_type": "markdown",
   "id": "eb7ab683",
   "metadata": {},
   "source": [
    "**Q4**<br>\n",
    "Write a program that accepts a sentence and calculate the number of letters and digits.\n",
    "\n",
    "Suppose the following input is supplied to the program:\n",
    "\n",
    "hello world! 123\n",
    "\n",
    "Then, the output should be:\n",
    "\n",
    "LETTERS 10\n",
    "\n",
    "DIGITS 3"
   ]
  },
  {
   "cell_type": "code",
   "execution_count": 16,
   "id": "8bc231e3",
   "metadata": {},
   "outputs": [],
   "source": [
    "def cal_letter_digit():\n",
    "    input_string=input(\"Enter the Comma separeted Text :\")\n",
    "    letter=0\n",
    "    digit=0\n",
    "    for i in input_string:\n",
    "        if i.isdigit():\n",
    "            digit+=1\n",
    "        elif i.isalpha():\n",
    "            letter+=1\n",
    "        else:\n",
    "            pass\n",
    "    return letter ,digit\n",
    "    "
   ]
  },
  {
   "cell_type": "code",
   "execution_count": 17,
   "id": "c3fe6848",
   "metadata": {},
   "outputs": [
    {
     "name": "stdout",
     "output_type": "stream",
     "text": [
      "Enter the Comma separeted Text :hello world! 123\n"
     ]
    },
    {
     "data": {
      "text/plain": [
       "(10, 3)"
      ]
     },
     "execution_count": 17,
     "metadata": {},
     "output_type": "execute_result"
    }
   ],
   "source": [
    "cal_letter_digit()"
   ]
  },
  {
   "cell_type": "markdown",
   "id": "c8b01d60",
   "metadata": {},
   "source": [
    "**Q6**<br>\n",
    "A website requires the users to input username and password to register. Write a program to check the validity of password input by users.\n",
    "\n",
    "Following are the criteria for checking the password:\n",
    "\n",
    "At least 1 letter between [a-z]\n",
    "\n",
    "At least 1 number between [0-9]\n",
    "\n",
    "At least 1 letter between [A-Z]\n",
    "\n",
    "At least 1 character from [$#@]\n",
    "\n",
    "Minimum length of transaction password: 6\n",
    "\n",
    "Maximum length of transaction password: 12\n",
    "\n",
    "Your program should accept a sequence of comma separated passwords and will check them according to the above criteria. Passwords that match the criteria are to be printed, each separated by a comma.\n",
    "\n",
    "Example\n",
    "\n",
    "If the following passwords are given as input to the program:\n",
    "\n",
    "ABd1234@1,a F1#,2w3E*,2We3345\n",
    "\n",
    "Then, the output of the program should be:\n",
    "\n",
    "ABd1234@1"
   ]
  },
  {
   "cell_type": "code",
   "execution_count": 18,
   "id": "1829f9a7",
   "metadata": {},
   "outputs": [
    {
     "name": "stdout",
     "output_type": "stream",
     "text": [
      "Enter the Input String: Biki@123\n",
      "Biki@123\n"
     ]
    }
   ],
   "source": [
    "def checkPassword():\n",
    "    in_string = input(\"Enter the Input String: \")\n",
    "    small_list = \"abcdefghijklmnopqrstuvwxyz\"\n",
    "    cap_list = \"ABCDEFGHIJKLMNOPQRSTUVWXYZ\"\n",
    "    num_list = \"0123456789\"\n",
    "    special_list = \"$#@\"\n",
    "    for ele in in_string.split(\",\"):\n",
    "        if len(ele) <= 12 and len(ele) >=6 :\n",
    "            if any(i.isupper() for i in ele):\n",
    "                if any(i.islower() for i in ele):\n",
    "                    if any(i for i in ele if i in special_list):\n",
    "                        print(ele)\n",
    "                               \n",
    "checkPassword() "
   ]
  },
  {
   "cell_type": "code",
   "execution_count": 19,
   "id": "f1ea41ed",
   "metadata": {},
   "outputs": [
    {
     "name": "stdout",
     "output_type": "stream",
     "text": [
      "Enter the Input String: biki123@\n"
     ]
    }
   ],
   "source": [
    "checkPassword()"
   ]
  },
  {
   "cell_type": "code",
   "execution_count": 20,
   "id": "f733d626",
   "metadata": {},
   "outputs": [
    {
     "name": "stdout",
     "output_type": "stream",
     "text": [
      "Enter the Input String: ABd1234@1\n",
      "ABd1234@1\n"
     ]
    }
   ],
   "source": [
    "checkPassword()"
   ]
  },
  {
   "cell_type": "code",
   "execution_count": null,
   "id": "249810e1",
   "metadata": {},
   "outputs": [],
   "source": []
  }
 ],
 "metadata": {
  "kernelspec": {
   "display_name": "Python 3 (ipykernel)",
   "language": "python",
   "name": "python3"
  },
  "language_info": {
   "codemirror_mode": {
    "name": "ipython",
    "version": 3
   },
   "file_extension": ".py",
   "mimetype": "text/x-python",
   "name": "python",
   "nbconvert_exporter": "python",
   "pygments_lexer": "ipython3",
   "version": "3.9.7"
  }
 },
 "nbformat": 4,
 "nbformat_minor": 5
}
