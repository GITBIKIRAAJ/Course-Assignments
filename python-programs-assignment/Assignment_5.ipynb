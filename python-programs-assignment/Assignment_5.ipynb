{
 "cells": [
  {
   "cell_type": "markdown",
   "id": "766fbb71",
   "metadata": {},
   "source": [
    "Q.1 **Write a Python Program to find LCM ?**"
   ]
  },
  {
   "cell_type": "code",
   "execution_count": 3,
   "id": "67845b27",
   "metadata": {},
   "outputs": [
    {
     "name": "stdout",
     "output_type": "stream",
     "text": [
      "The L.C.M. is 315\n"
     ]
    }
   ],
   "source": [
    "\n",
    "def compute_lcm(x, y):\n",
    "    \n",
    "\n",
    "   # choose the greater number\n",
    "    if x > y:\n",
    "         greater = x\n",
    "\n",
    "    else:\n",
    "        greater = y\n",
    "\n",
    "    while(True):\n",
    "        if((greater % x == 0) and (greater % y == 0)):\n",
    "            lcm = greater\n",
    "            break\n",
    "        greater += 1\n",
    "\n",
    "    return lcm\n",
    "\n",
    "num1 = 45\n",
    "num2 = 63\n",
    "\n",
    "print(\"The L.C.M. is\", compute_lcm(num1, num2))"
   ]
  },
  {
   "cell_type": "code",
   "execution_count": 4,
   "id": "1ff123d3",
   "metadata": {},
   "outputs": [
    {
     "data": {
      "text/plain": [
       "50"
      ]
     },
     "execution_count": 4,
     "metadata": {},
     "output_type": "execute_result"
    }
   ],
   "source": [
    "compute_lcm(10,25)"
   ]
  },
  {
   "cell_type": "markdown",
   "id": "4111be0a",
   "metadata": {},
   "source": [
    "Q2.**Write a Python Program to find HCF ?**"
   ]
  },
  {
   "cell_type": "code",
   "execution_count": 5,
   "id": "b01e776e",
   "metadata": {},
   "outputs": [
    {
     "name": "stdout",
     "output_type": "stream",
     "text": [
      "Enter first number: 12\n",
      "Enter second number: 24\n",
      "The H.C.F. of 12 and 24 is 12 \n"
     ]
    }
   ],
   "source": [
    "num1 = int(input(\"Enter first number: \"))  \n",
    "num2 = int(input(\"Enter second number: \"))\n",
    " \n",
    "i = 1\n",
    "while(i <= num1 and i <= num2):\n",
    "    if(num1 % i == 0 and num2 % i == 0):\n",
    "        gcd = i\n",
    "    i = i + 1\n",
    " \n",
    "print(\"The H.C.F. of\", num1,\"and\", num2,\"is\", gcd, \"\".format(num1, num2, gcd))"
   ]
  },
  {
   "cell_type": "markdown",
   "id": "51cbe8db",
   "metadata": {},
   "source": [
    "Q3. **Write a Python Program to Convert Decimal to Binary, Octal and Hexadecimal ?**"
   ]
  },
  {
   "cell_type": "code",
   "execution_count": 7,
   "id": "561bb45f",
   "metadata": {},
   "outputs": [
    {
     "name": "stdout",
     "output_type": "stream",
     "text": [
      "Enter a Number: 35\n",
      "Binary Number -> 0b100011\n",
      "Octal Number -> 0o43\n",
      "Hexadecimal Number -> 0x23\n"
     ]
    }
   ],
   "source": [
    "def convertdecimalto():\n",
    "    num = int(input('Enter a Number: '))\n",
    "    print(f'Binary Number -> {bin(num)}')\n",
    "    print(f'Octal Number -> {oct(num)}')    \n",
    "    print(f'Hexadecimal Number -> {hex(num)}')    \n",
    "\n",
    "convertdecimalto()"
   ]
  },
  {
   "cell_type": "markdown",
   "id": "619496dd",
   "metadata": {},
   "source": [
    "Q4. **Write a Python Program to Find the ASCII value of a Character ?**\n"
   ]
  },
  {
   "cell_type": "code",
   "execution_count": 14,
   "id": "72a2d2c3",
   "metadata": {},
   "outputs": [],
   "source": [
    "def ASCIIvaluechar():\n",
    "    Ascii= input(\"Enter the character:->\")\n",
    "    if len(Ascii)>1:\n",
    "        print('Put a single character')\n",
    "    else:\n",
    "        print(f'ASCII value of a Character of {Ascii} is {ord(Ascii)}' )\n",
    "\n"
   ]
  },
  {
   "cell_type": "code",
   "execution_count": 15,
   "id": "ce471be7",
   "metadata": {},
   "outputs": [
    {
     "name": "stdout",
     "output_type": "stream",
     "text": [
      "Enter the character:->m\n",
      "ASCII value of a Character of m is 109\n"
     ]
    }
   ],
   "source": [
    "ASCIIvaluechar()"
   ]
  },
  {
   "cell_type": "code",
   "execution_count": 16,
   "id": "1050bdfe",
   "metadata": {},
   "outputs": [
    {
     "name": "stdout",
     "output_type": "stream",
     "text": [
      "Enter the character:->g\n",
      "ASCII value of a Character of g is 103\n"
     ]
    }
   ],
   "source": [
    "ASCIIvaluechar()"
   ]
  },
  {
   "cell_type": "markdown",
   "id": "9915374f",
   "metadata": {},
   "source": [
    "Q5. **Write a Python Program to Make a Simple Calculator with 4 Basic Mathematical operations ?**"
   ]
  },
  {
   "cell_type": "code",
   "execution_count": 17,
   "id": "88902dd3",
   "metadata": {},
   "outputs": [
    {
     "name": "stdout",
     "output_type": "stream",
     "text": [
      "Select a Arithmetic Operation:         \n",
      "1.Addition(+)        \n",
      "2.Division(-)        \n",
      "2.Multiplication(*)        \n",
      "4.Division(/)        \n",
      "3.Stop(0)\n",
      "\n",
      "Enter a arithmetic operation -> *\n",
      "\n",
      "Enter 1st Number: 12\n",
      "Enter 2nd Number: 3\n",
      "12*3=36\n",
      "\n",
      "Enter a arithmetic operation -> 0\n",
      "Program Stopped successfully\n"
     ]
    }
   ],
   "source": [
    "import operator\n",
    "\n",
    "ops = { \"+\": operator.add, \"-\": operator.sub, \"*\":operator.mul, \"/\":operator.truediv } \n",
    "\n",
    "print('Select a Arithmetic Operation: \\\n",
    "        \\n1.Addition(+)\\\n",
    "        \\n2.Division(-)\\\n",
    "        \\n2.Multiplication(*)\\\n",
    "        \\n4.Division(/)\\\n",
    "        \\n3.Stop(0)\\n')\n",
    "   \n",
    "\n",
    "while True:\n",
    "    operator = input('Enter a arithmetic operation -> ')\n",
    "    if operator == '0':\n",
    "        print(\"Program Stopped successfully\")\n",
    "        break\n",
    "    elif operator not in ['+','-','*','/']:\n",
    "        print(\"Please enter a valid operator\")\n",
    "    else:\n",
    "        num_1 = int(input('\\nEnter 1st Number: '))\n",
    "        num_2 = int(input('Enter 2nd Number: '))\n",
    "        print(f'{num_1}{operator}{num_2}={ops[operator](num_1,num_2)}\\n')"
   ]
  },
  {
   "cell_type": "code",
   "execution_count": null,
   "id": "7a46f0cc",
   "metadata": {},
   "outputs": [],
   "source": []
  }
 ],
 "metadata": {
  "kernelspec": {
   "display_name": "Python 3 (ipykernel)",
   "language": "python",
   "name": "python3"
  },
  "language_info": {
   "codemirror_mode": {
    "name": "ipython",
    "version": 3
   },
   "file_extension": ".py",
   "mimetype": "text/x-python",
   "name": "python",
   "nbconvert_exporter": "python",
   "pygments_lexer": "ipython3",
   "version": "3.9.7"
  }
 },
 "nbformat": 4,
 "nbformat_minor": 5
}
