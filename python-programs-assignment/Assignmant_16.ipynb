{
 "cells": [
  {
   "cell_type": "markdown",
   "id": "21f5c852",
   "metadata": {},
   "source": [
    "# Assigment_16"
   ]
  },
  {
   "cell_type": "markdown",
   "id": "a8c22089",
   "metadata": {},
   "source": [
    "#### Q1. Write a function that stutters a word as if someone is struggling to read it. The first two letters are repeated twice with an ellipsis ... and space after each, and then the word is pronounced with a question mark ?. <br>\n",
    "Examples <br>\n",
    "stutter(&quot;incredible&quot;) ➞ &quot;in... in... incredible?&quot; <br>\n",
    "stutter(&quot;enthusiastic&quot;) ➞ &quot;en... en... enthusiastic?&quot; <br>\n",
    "stutter(&quot;outstanding&quot;) ➞ &quot;ou... ou... outstanding?&quot; <br>\n",
    "\n",
    "Hint :- Assume all input is in lower case and at least two characters long. <br>"
   ]
  },
  {
   "cell_type": "code",
   "execution_count": 1,
   "id": "98ac1fff",
   "metadata": {},
   "outputs": [
    {
     "name": "stdout",
     "output_type": "stream",
     "text": [
      "incredible\n"
     ]
    },
    {
     "data": {
      "text/plain": [
       "'in.....in.....incredible?'"
      ]
     },
     "execution_count": 1,
     "metadata": {},
     "output_type": "execute_result"
    }
   ],
   "source": [
    "def shutterword():\n",
    "    string= input()\n",
    "    out=(string[:2]+('.....'))*2 + string +'?'\n",
    "    return str(out)\n",
    "\n",
    "shutterword()"
   ]
  },
  {
   "cell_type": "code",
   "execution_count": 2,
   "id": "90e06b73",
   "metadata": {},
   "outputs": [
    {
     "name": "stdout",
     "output_type": "stream",
     "text": [
      "enthusiastic\n"
     ]
    },
    {
     "data": {
      "text/plain": [
       "'en.....en.....enthusiastic?'"
      ]
     },
     "execution_count": 2,
     "metadata": {},
     "output_type": "execute_result"
    }
   ],
   "source": [
    "shutterword()"
   ]
  },
  {
   "cell_type": "markdown",
   "id": "346325b7",
   "metadata": {},
   "source": [
    "#### Q2. Create a function that takes an angle in radians and returns the corresponding angle in degrees rounded to one decimal place ? <br>\n",
    "Examples: radians_to_degrees(1) ➞ 57.3 <br>\n",
    "radians_to_degrees(20) ➞ 1145.9 <br>\n",
    "radians_to_degrees(50) ➞ 2864.8 <br>"
   ]
  },
  {
   "cell_type": "code",
   "execution_count": 4,
   "id": "5d64ba6b",
   "metadata": {},
   "outputs": [
    {
     "name": "stdout",
     "output_type": "stream",
     "text": [
      "Enter the angle in Radians: 10\n",
      "10 radian(s) ➞ 573.0 degrees\n",
      "Enter the angle in Radians: 1\n",
      "1 radian(s) ➞ 57.3 degrees\n",
      "Enter the angle in Radians: 2\n",
      "2 radian(s) ➞ 114.6 degrees\n"
     ]
    }
   ],
   "source": [
    "import math\n",
    "def radians_Degree():\n",
    "    in_num = int(input('Enter the angle in Radians: '))\n",
    "    out_num = (180/math.pi)*in_num\n",
    "    print(f'{in_num} radian(s) ➞ {out_num:.1f} degrees')\n",
    "\n",
    "for x in range(3):\n",
    "    radians_Degree()"
   ]
  },
  {
   "cell_type": "markdown",
   "id": "9b79f9fa",
   "metadata": {},
   "source": [
    "##### Q3. In this challenge, establish if a given integer num is a Curzon number. If 1 plus 2 elevated to num is exactly divisible by 1 plus 2 multiplied by num, then num is a Curzon number. Given a non-negative integer num, implement a function that returns True if num is a Curzon number, or False otherwise.\n",
    "Examples: `is_curzon(5) ➞ True\n",
    "\n",
    " 2 ** 5 + 1 = 33\n",
    " 2 * 5 + 1 = 11\n",
    " 33 is a multiple of 11\n",
    "is_curzon(10) ➞ False\n",
    "\n",
    " 2 ** 10 + 1 = 1025\n",
    " 2 * 10 + 1 = 21\n",
    " 1025 is not a multiple of 21\n",
    "is_curzon(14) ➞ True\n",
    "\n",
    " 2 ** 14 + 1 = 16385\n",
    " 2 * 14 + 1 = 29\n",
    " 16385 is a multiple of 29` "
   ]
  },
  {
   "cell_type": "code",
   "execution_count": 5,
   "id": "dbe05022",
   "metadata": {},
   "outputs": [
    {
     "name": "stdout",
     "output_type": "stream",
     "text": [
      "Enter a number: 5\n",
      "5 is a Curzon Number\n",
      "Enter a number: 10\n",
      "10 is Not a Curzon Number\n"
     ]
    }
   ],
   "source": [
    "def checkCurzon():\n",
    "    in_num = int(input(\"Enter a number: \"))\n",
    "    if (pow(2,in_num)+1)%((2*in_num)+1) == 0:\n",
    "        print(f'{in_num} is a Curzon Number')\n",
    "    else:\n",
    "        print(f'{in_num} is Not a Curzon Number')\n",
    "\n",
    "for x in range(2):\n",
    "    checkCurzon()\n",
    "    "
   ]
  },
  {
   "cell_type": "markdown",
   "id": "1b199176",
   "metadata": {},
   "source": [
    "### Q4.Given the side length x find the area of a hexagon ?\n",
    "Examples: area_of_hexagon(1) ➞ 2.6\n",
    "area_of_hexagon(2) ➞ 10.4\n",
    "area_of_hexagon(3) ➞ 23.4"
   ]
  },
  {
   "cell_type": "code",
   "execution_count": 6,
   "id": "526cf064",
   "metadata": {},
   "outputs": [
    {
     "name": "stdout",
     "output_type": "stream",
     "text": [
      "Enter the side length of a Hexagon: 1\n",
      "Area for Hexagon of sidelength 1 ➞ 2.6\n",
      "Enter the side length of a Hexagon: 2\n",
      "Area for Hexagon of sidelength 2 ➞ 10.4\n",
      "Enter the side length of a Hexagon: 3\n",
      "Area for Hexagon of sidelength 3 ➞ 23.4\n"
     ]
    }
   ],
   "source": [
    "from math import sqrt\n",
    "def areaOfHexagon():\n",
    "    in_num = int(input('Enter the side length of a Hexagon: '))\n",
    "    out_num = ((3*sqrt(3))/2)*(pow(in_num,2))\n",
    "    print(f'Area for Hexagon of sidelength {in_num} ➞ {out_num:.1f}')\n",
    "    \n",
    "for x in range(3):\n",
    "    areaOfHexagon()"
   ]
  },
  {
   "cell_type": "markdown",
   "id": "37a431c9",
   "metadata": {},
   "source": [
    "### Q5. Create a function that returns a base-2 (binary) representation of a base-10 (decimal) string number. To convert is simple:\n",
    "((2) means base-2 and (10) means base-10)\n",
    "010101001(2) = 1 + 8 + 32 + 128.\n",
    "Going from right to left, the value of the most right bit is 1, now from that every bit to the left will be x2 the value, value of an 8 bit binary numbers are (256, 128, 64, 32, 16, 8, 4, 2, 1).\n",
    "Examples:\n",
    "`binary(1) ➞ \"1\"\n",
    "\n",
    " 1* 1 = 1\n",
    "binary(5) ➞ \"101\"\n",
    "\n",
    "1 1 + 1 4 = 5\n",
    "binary(10) ➞ \"1010\"\n",
    "\n",
    " 1 2 + 1 8 = 10`"
   ]
  },
  {
   "cell_type": "code",
   "execution_count": 7,
   "id": "452924d4",
   "metadata": {},
   "outputs": [],
   "source": [
    "def binary():\n",
    "    num=int(input('Enter the number:'))\n",
    "    l=[]\n",
    "    for i in range(num,0,-1):\n",
    "        l.append(str(num%2))\n",
    "        num=num//2\n",
    "    return str(int(\"\".join(l[::-1])))"
   ]
  },
  {
   "cell_type": "code",
   "execution_count": 8,
   "id": "0616cb16",
   "metadata": {},
   "outputs": [
    {
     "name": "stdout",
     "output_type": "stream",
     "text": [
      "Enter the number:1\n"
     ]
    },
    {
     "data": {
      "text/plain": [
       "'1'"
      ]
     },
     "execution_count": 8,
     "metadata": {},
     "output_type": "execute_result"
    }
   ],
   "source": [
    "binary()"
   ]
  },
  {
   "cell_type": "code",
   "execution_count": 10,
   "id": "5b48fac0",
   "metadata": {},
   "outputs": [
    {
     "name": "stdout",
     "output_type": "stream",
     "text": [
      "Enter the number:5\n"
     ]
    },
    {
     "data": {
      "text/plain": [
       "'101'"
      ]
     },
     "execution_count": 10,
     "metadata": {},
     "output_type": "execute_result"
    }
   ],
   "source": [
    "binary()"
   ]
  },
  {
   "cell_type": "code",
   "execution_count": 11,
   "id": "3e56dfa1",
   "metadata": {},
   "outputs": [
    {
     "name": "stdout",
     "output_type": "stream",
     "text": [
      "Enter the number:10\n"
     ]
    },
    {
     "data": {
      "text/plain": [
       "'1010'"
      ]
     },
     "execution_count": 11,
     "metadata": {},
     "output_type": "execute_result"
    }
   ],
   "source": [
    "binary()"
   ]
  },
  {
   "cell_type": "code",
   "execution_count": null,
   "id": "de31045c",
   "metadata": {},
   "outputs": [],
   "source": []
  }
 ],
 "metadata": {
  "kernelspec": {
   "display_name": "Python 3 (ipykernel)",
   "language": "python",
   "name": "python3"
  },
  "language_info": {
   "codemirror_mode": {
    "name": "ipython",
    "version": 3
   },
   "file_extension": ".py",
   "mimetype": "text/x-python",
   "name": "python",
   "nbconvert_exporter": "python",
   "pygments_lexer": "ipython3",
   "version": "3.9.7"
  }
 },
 "nbformat": 4,
 "nbformat_minor": 5
}
