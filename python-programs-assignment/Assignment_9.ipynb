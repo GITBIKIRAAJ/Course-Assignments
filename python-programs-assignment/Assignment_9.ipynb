{
 "cells": [
  {
   "cell_type": "markdown",
   "id": "a9585629",
   "metadata": {},
   "source": [
    "Q1. **Write a Python program to check if the given number is a Disarium Number?**"
   ]
  },
  {
   "cell_type": "code",
   "execution_count": 1,
   "id": "11299950",
   "metadata": {},
   "outputs": [],
   "source": [
    "def disarium_num():\n",
    "    n= input(\"number:\")\n",
    "    sum=0\n",
    "    for digit in range(len(n)):\n",
    "        sum+= int(n[digit])**int(digit+1)\n",
    "    if sum== int(n):\n",
    "        print(f'{n} is a Disarium number')\n",
    "    else:\n",
    "        print(f'{n} is not a Disarium number')"
   ]
  },
  {
   "cell_type": "code",
   "execution_count": 2,
   "id": "c1cfba95",
   "metadata": {},
   "outputs": [
    {
     "name": "stdout",
     "output_type": "stream",
     "text": [
      "number:178\n",
      "178 is not a Disarium number\n"
     ]
    }
   ],
   "source": [
    "disarium_num()"
   ]
  },
  {
   "cell_type": "code",
   "execution_count": 3,
   "id": "093e9dc2",
   "metadata": {},
   "outputs": [
    {
     "name": "stdout",
     "output_type": "stream",
     "text": [
      "number:534\n",
      "534 is not a Disarium number\n"
     ]
    }
   ],
   "source": [
    "disarium_num()"
   ]
  },
  {
   "cell_type": "code",
   "execution_count": 4,
   "id": "e6a9bd09",
   "metadata": {},
   "outputs": [
    {
     "name": "stdout",
     "output_type": "stream",
     "text": [
      "number:518\n",
      "518 is a Disarium number\n"
     ]
    }
   ],
   "source": [
    "disarium_num()"
   ]
  },
  {
   "cell_type": "markdown",
   "id": "0cb89e12",
   "metadata": {},
   "source": [
    "Q2. **Write a Python Program to print all Disarium numbers between 1 to 100 ?**"
   ]
  },
  {
   "cell_type": "code",
   "execution_count": 6,
   "id": "17b35fc8",
   "metadata": {},
   "outputs": [],
   "source": [
    "def alldisarium_num(start,end):\n",
    "    All_disariumnum_list=[]\n",
    "    for num in range(start, end+1):\n",
    "        sum=0\n",
    "        for digit in range(len(str(num))):\n",
    "            sum+= int(str(num)[digit])**(digit+1)           \n",
    "        if sum==num:\n",
    "            All_disariumnum_list.append(num)\n",
    "    return All_disariumnum_list"
   ]
  },
  {
   "cell_type": "code",
   "execution_count": 7,
   "id": "44ad96c4",
   "metadata": {},
   "outputs": [
    {
     "data": {
      "text/plain": [
       "[1, 2, 3, 4, 5, 6, 7, 8, 9, 89]"
      ]
     },
     "execution_count": 7,
     "metadata": {},
     "output_type": "execute_result"
    }
   ],
   "source": [
    "alldisarium_num(1,100)"
   ]
  },
  {
   "cell_type": "markdown",
   "id": "ea51c66f",
   "metadata": {},
   "source": [
    "Q3. **Write a Python program to check if the given number is Happy Number?**"
   ]
  },
  {
   "cell_type": "code",
   "execution_count": 11,
   "id": "e0c71e73",
   "metadata": {},
   "outputs": [
    {
     "name": "stdout",
     "output_type": "stream",
     "text": [
      "False\n",
      "True\n"
     ]
    }
   ],
   "source": [
    "def Happy_num(n):\n",
    "    record = set()\n",
    "    while n != 1:\n",
    "        n = sum(int(i)**2 for i in str(n))\n",
    "        if n in record:\n",
    "            return False\n",
    "        record.add(n)\n",
    "    return True\n",
    "print(Happy_num(11))\n",
    "print(Happy_num(82))"
   ]
  },
  {
   "cell_type": "markdown",
   "id": "05e53263",
   "metadata": {},
   "source": [
    "Q4. **Write a Python program to print all happy numbers between 1 and 100?**"
   ]
  },
  {
   "cell_type": "code",
   "execution_count": 13,
   "id": "53126069",
   "metadata": {},
   "outputs": [
    {
     "name": "stdout",
     "output_type": "stream",
     "text": [
      "All the Happy number between 1 and 100\n",
      "1 7 10 13 19 23 28 31 32 44 49 68 70 79 82 86 91 94 97 100 "
     ]
    }
   ],
   "source": [
    "def happy_list(start,end):\n",
    "    print('All the Happy number between 1 and 100')\n",
    "    \n",
    "    for happy_num in range(start,end+1):\n",
    "        if Happy_num(happy_num)== True:    \n",
    "            print(happy_num, end=' ')\n",
    "happy_list(1,100)"
   ]
  },
  {
   "cell_type": "markdown",
   "id": "ce5170a6",
   "metadata": {},
   "source": [
    "Q5. **Write a Python program to determine whether the given number is a Harshad Number?**"
   ]
  },
  {
   "cell_type": "code",
   "execution_count": 15,
   "id": "b564a22f",
   "metadata": {},
   "outputs": [],
   "source": [
    "def is_Harshad_num(num):\n",
    "    Sum=0        \n",
    "    #Calculates sum of digits    \n",
    "    for i in str(num):\n",
    "        Sum=Sum+int(i)\n",
    "        \n",
    "    if num % Sum==0:\n",
    "        print(str(num) + \" is a harshad number\")    \n",
    "    else:    \n",
    "        print(str(num) + \" is not a harshad number\")"
   ]
  },
  {
   "cell_type": "code",
   "execution_count": 16,
   "id": "427efc39",
   "metadata": {},
   "outputs": [
    {
     "name": "stdout",
     "output_type": "stream",
     "text": [
      "234 is a harshad number\n",
      "69 is not a harshad number\n",
      "156 is a harshad number\n"
     ]
    }
   ],
   "source": [
    "is_Harshad_num(234)\n",
    "is_Harshad_num(69)\n",
    "is_Harshad_num(156)"
   ]
  },
  {
   "cell_type": "markdown",
   "id": "bc9821b8",
   "metadata": {},
   "source": [
    "Q6. **Write a Python program to print all pronic numbers between 1 and 100?**"
   ]
  },
  {
   "cell_type": "code",
   "execution_count": 17,
   "id": "5c05c8f2",
   "metadata": {},
   "outputs": [
    {
     "name": "stdout",
     "output_type": "stream",
     "text": [
      "All pronic numbers between 1 to 100 :\n",
      "\n",
      "2 6 12 20 30 42 56 72 90 "
     ]
    }
   ],
   "source": [
    "print(\"All pronic numbers between 1 to 100 :\\n\")\n",
    "for Number in range(1,101):\n",
    "    for i in range(Number):\n",
    "        if i * (i + 1) == Number:\n",
    "            print(Number,end= \" \")\n",
    "            break"
   ]
  },
  {
   "cell_type": "code",
   "execution_count": null,
   "id": "5ea56a6b",
   "metadata": {},
   "outputs": [],
   "source": []
  }
 ],
 "metadata": {
  "kernelspec": {
   "display_name": "Python 3 (ipykernel)",
   "language": "python",
   "name": "python3"
  },
  "language_info": {
   "codemirror_mode": {
    "name": "ipython",
    "version": 3
   },
   "file_extension": ".py",
   "mimetype": "text/x-python",
   "name": "python",
   "nbconvert_exporter": "python",
   "pygments_lexer": "ipython3",
   "version": "3.9.7"
  }
 },
 "nbformat": 4,
 "nbformat_minor": 5
}
