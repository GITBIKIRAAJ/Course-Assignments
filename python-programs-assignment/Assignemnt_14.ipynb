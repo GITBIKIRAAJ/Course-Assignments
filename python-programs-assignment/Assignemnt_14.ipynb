{
 "cells": [
  {
   "cell_type": "markdown",
   "id": "2e4508ad",
   "metadata": {},
   "source": [
    "# Assignemnt_14"
   ]
  },
  {
   "cell_type": "markdown",
   "id": "d19849ec",
   "metadata": {},
   "source": [
    "Q.1 **Define a class with a generator which can iterate the numbers, which are divisible by 7, between a given range 0 and n?**"
   ]
  },
  {
   "cell_type": "code",
   "execution_count": 3,
   "id": "a3b485e8",
   "metadata": {},
   "outputs": [
    {
     "name": "stdout",
     "output_type": "stream",
     "text": [
      "0 7 14 21 28 35 42 49 56 63 70 77 84 91 98 105 112 119 126 133 140 147 "
     ]
    }
   ],
   "source": [
    "class generator:\n",
    "    def __init__(self,num):\n",
    "        self.num= num\n",
    "    def num_iterator(self):\n",
    "        for i in range(0,self.num+1):\n",
    "            if i%7 ==0:\n",
    "                yield i\n",
    "Generator=generator(150)\n",
    "for element in Generator.num_iterator():\n",
    "    print(element, end=\" \")\n",
    "        "
   ]
  },
  {
   "cell_type": "markdown",
   "id": "c6fcf17a",
   "metadata": {},
   "source": [
    "Q2. **Write a program to compute the frequency of the words from the input. The output should output after sorting the key alphanumerically**"
   ]
  },
  {
   "cell_type": "markdown",
   "id": "33f543ab",
   "metadata": {},
   "source": [
    "Suppose the following input is supplied to the program:<br>\n",
    "\n",
    "New to Python or choosing between Python 2 and Python 3? Read Python 2 or Python 3. <br>\n",
    "Then, the output should be: **2:2 3.:1 3?:1 New:1 Python:5 Read:1 and:1 between:1 choosing:1 or:2 to:1**"
   ]
  },
  {
   "cell_type": "code",
   "execution_count": 4,
   "id": "49b76c0a",
   "metadata": {},
   "outputs": [
    {
     "name": "stdout",
     "output_type": "stream",
     "text": [
      "Enter the Input String: New to Python or choosing between Python 2 and Python 3? Read Python 2 or Python 3\n",
      "2:2 3:1 3?:1 New:1 Python:5 Read:1 and:1 between:1 choosing:1 or:2 to:1 "
     ]
    }
   ],
   "source": [
    "def ComputeFrequency():\n",
    "    string = input(\"Enter the Input String: \")\n",
    "    frequency = {}\n",
    "    for ele in string.split(\" \"):\n",
    "        if(frequency.get(ele) == None):\n",
    "            frequency[ele] = 1\n",
    "        else:\n",
    "            frequency[ele] += 1 \n",
    "    for ele in sorted(frequency):\n",
    "        print(f'{ele}:{frequency[ele]}',end=\" \")\n",
    "        \n",
    "ComputeFrequency()"
   ]
  },
  {
   "cell_type": "markdown",
   "id": "3503d507",
   "metadata": {},
   "source": [
    "Q3. **Define a class Person and its two child classes: Male and Female. All classes have a method \"getGender\" which can print \"Male\" for Male class and \"Female\" for Female class?**"
   ]
  },
  {
   "cell_type": "code",
   "execution_count": 9,
   "id": "a0da5b38",
   "metadata": {},
   "outputs": [
    {
     "name": "stdout",
     "output_type": "stream",
     "text": [
      "male\n",
      "female\n"
     ]
    }
   ],
   "source": [
    "class Person:\n",
    "    def getGender():\n",
    "        pass\n",
    "class Male(Person):\n",
    "    def getGender(self):\n",
    "        return 'male'\n",
    "    \n",
    "class Female(Person):\n",
    "    def getGender(self):\n",
    "        return 'female'\n",
    "male= Male()\n",
    "female=Female()\n",
    "\n",
    "print(male.getGender())\n",
    "print(female.getGender())"
   ]
  },
  {
   "cell_type": "markdown",
   "id": "ec0d8787",
   "metadata": {},
   "source": [
    "Q4. **Please write a program to generate all sentences where subject is in [\"I\", \"You\"] and verb is in [\"Play\", \"Love\"] and the object is in [\"Hockey\",\"Football\"] ?**"
   ]
  },
  {
   "cell_type": "code",
   "execution_count": 10,
   "id": "f335da8f",
   "metadata": {},
   "outputs": [
    {
     "name": "stdout",
     "output_type": "stream",
     "text": [
      "I Play Hockey\n",
      "I Play Football\n",
      "I Love Hockey\n",
      "I Love Football\n",
      "You Play Hockey\n",
      "You Play Football\n",
      "You Love Hockey\n",
      "You Love Football\n"
     ]
    }
   ],
   "source": [
    "subjects=[\"I\", \"You\"]\n",
    "verbs=[\"Play\", \"Love\"]\n",
    "objects=[\"Hockey\",\"Football\"]\n",
    "\n",
    "program= [[i,j,k] for i in subjects for j in verbs for k in objects]\n",
    "\n",
    "for ele in program:\n",
    "    final=' '.join(ele)\n",
    "    print(final)"
   ]
  },
  {
   "cell_type": "markdown",
   "id": "9a9e0dd8",
   "metadata": {},
   "source": [
    "Q5.**Please write a program to compress and decompress the string \"hello world!hello world!hello world!hello world!\" ?**"
   ]
  },
  {
   "cell_type": "code",
   "execution_count": 12,
   "id": "44938e0f",
   "metadata": {},
   "outputs": [
    {
     "name": "stdout",
     "output_type": "stream",
     "text": [
      "helo world!helo world!helo world!helo world!\n",
      "hello world!hello world!hello world!hello world!\n"
     ]
    }
   ],
   "source": [
    "string= \"hello world!hello world!hello world!hello world!\"\n",
    "def compress(in_string):\n",
    "    output = in_string[0]\n",
    "    count = 1\n",
    "    for ele in range(len(in_string)-1):\n",
    "        if in_string[ele] == in_string[ele+1]:\n",
    "            count +=1\n",
    "        else:\n",
    "            if count > 1:\n",
    "                output += str(count)\n",
    "            output += in_string[ele+1]\n",
    "            count = 0\n",
    "    if count > 0:\n",
    "        output += str(count)            \n",
    "    print(output)\n",
    "\n",
    "\n",
    "def decompress(in_string):\n",
    "    output = ''\n",
    "    for ele in range(len(in_string)):\n",
    "        if in_string[ele].isdigit():\n",
    "            output += output[1]*(int(in_string[ele])-1)\n",
    "        else:\n",
    "            output += in_string[ele]\n",
    "    print(output)\n",
    "    \n",
    "        \n",
    "compress(string)\n",
    "decompress(string)"
   ]
  },
  {
   "cell_type": "markdown",
   "id": "ad8d9000",
   "metadata": {},
   "source": [
    "Q6. **Please write a binary search function which searches an item in a sorted list. The function should return the index of element to be searched in the list ?**"
   ]
  },
  {
   "cell_type": "code",
   "execution_count": 14,
   "id": "5cac15c5",
   "metadata": {},
   "outputs": [
    {
     "name": "stdout",
     "output_type": "stream",
     "text": [
      "10\n",
      "Input Element not in the list\n"
     ]
    }
   ],
   "source": [
    "sorted_list = [1,2,3,4,5,6,7,8,9,10,12,24,29,34]\n",
    "def binary_search(in_list,in_num):\n",
    "    low = 0\n",
    "    high = len(in_list)-1\n",
    "    while low <= high:\n",
    "        mid = high+low//2\n",
    "        if in_list[mid] < in_num:\n",
    "            low = mid+1\n",
    "        elif in_list[mid] > in_num:\n",
    "            high = mid-1\n",
    "        else:\n",
    "            return mid\n",
    "    else:\n",
    "        return 'Input Element not in the list'\n",
    "    \n",
    "print(binary_search(sorted_list,12))\n",
    "print(binary_search(sorted_list,100))"
   ]
  },
  {
   "cell_type": "code",
   "execution_count": null,
   "id": "bc82f54f",
   "metadata": {},
   "outputs": [],
   "source": []
  }
 ],
 "metadata": {
  "kernelspec": {
   "display_name": "Python 3 (ipykernel)",
   "language": "python",
   "name": "python3"
  },
  "language_info": {
   "codemirror_mode": {
    "name": "ipython",
    "version": 3
   },
   "file_extension": ".py",
   "mimetype": "text/x-python",
   "name": "python",
   "nbconvert_exporter": "python",
   "pygments_lexer": "ipython3",
   "version": "3.9.7"
  }
 },
 "nbformat": 4,
 "nbformat_minor": 5
}
