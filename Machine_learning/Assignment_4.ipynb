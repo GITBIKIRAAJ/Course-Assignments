{
 "cells": [
  {
   "cell_type": "markdown",
   "id": "2647a459",
   "metadata": {},
   "source": [
    "Q1.**What are the key tasks involved in getting ready to work with machine learning modeling ?**"
   ]
  },
  {
   "cell_type": "markdown",
   "id": "5c5c1064",
   "metadata": {},
   "source": [
    "**Answer:**\n",
    "The Key Tasks involved in getting ready to work with Machine learning Modelling are:\n",
    "\n",
    "- Data collection: Defining the problem and assembling a dataset.\n",
    "- Data preparation: Preparing your data.\n",
    "- Model Selection\n",
    "- Training the Model: Developing a model that does better than a baseline.\n",
    "- Evaluating the Model: Choosing a measure of success. Deciding on an evaluation protocol.\n",
    "- Parameter tuning: Scaling up: developing a model that overfits.Regularizing your model and tuning your parameters.\n",
    "- Prediction or Inference.\n",
    "   "
   ]
  },
  {
   "cell_type": "markdown",
   "id": "110bd479",
   "metadata": {},
   "source": [
    "Q2.  **What are the different forms of data used in machine learning ? Give a specific example for each of them ?**"
   ]
  },
  {
   "cell_type": "markdown",
   "id": "8fc56e5e",
   "metadata": {},
   "source": [
    "**Answer**: There are several types of data that can be used in machine learning, including:\n",
    "\n",
    "**Structured data**: Structured data is organized into a fixed number of fields or columns, and it can be stored in a database or spreadsheet. Examples of structured data include tabular data, such as a spreadsheet of customer records, and time series data, such as a series of stock prices.\n",
    "\n",
    "**Unstructured data**: Unstructured data does not have a fixed number of fields, and it is often unorganized and difficult to process using traditional techniques. Examples of unstructured data include text documents, images, and audio and video recordings.\n",
    "\n",
    "**Semi-structured data:** Semi-structured data has a partially defined structure, and it may include both structured and unstructured elements. Examples of semi-structured data include emails, which have a defined structure (e.g., subject, sender, recipient, etc.) but may also include unstructured text, and HTML documents, which have a defined structure (e.g., headings, paragraphs, links, etc.) but may also include unstructured content.\n",
    "\n",
    "**Continuous data**: Continuous data is data that can take on any value within a range. Examples of continuous data include temperature, height, and weight.\n",
    "\n",
    "**Discrete data**: Discrete data is data that can only take on a limited number of values. Examples of discrete data include categorical data, such as gender or product category, and ordinal data, such as rating scales or rankings.\n",
    "\n",
    "**Multivariate data**: Multivariate data is data that consists of multiple variables or features. Examples of multivariate data include datasets with multiple columns, such as a dataset of customer records with columns for name, age, address, etc.\n",
    "\n",
    "**Time series data**: Time series data is data that is collected at regular intervals over a period of time. Examples of time series data include stock prices, weather data, and traffic data."
   ]
  },
  {
   "cell_type": "markdown",
   "id": "b3ce64d6",
   "metadata": {},
   "source": [
    "Q3. **Distinguish between :**\n",
    "- Numeric vs. categorical attributes\n",
    "- Feature selection vs. dimensionality reduction"
   ]
  },
  {
   "cell_type": "markdown",
   "id": "c4b531f5",
   "metadata": {},
   "source": [
    "**Answer**:\n",
    "**Numeric vs. categorical attributes:**\n",
    "\n",
    "- Numerical data are values obtained for quantitative variable, and carries a sense of magnitude related to the context of the  variable (hence, they are always numbers or symbols carrying a numerical value).\n",
    "- Categorical data are values obtained for a qualitative variable. categorical data numbers do not carry a sense of magnitude.\n",
    "- Numerical data always belong to either ordinal, ratio, or interval type, whereas categorical data belong to nominal type. - - Methods used to analyse quantitative data are different from the methods used for categorical data, even if the principles are the same at least the application has significant differences.\n",
    "- Numerical data are analysed using statistical methods in descriptive statistics, regression, time series and many more.For categorical data usually descriptive methods and graphical methods are employed. Some non-parametric tests are also used."
   ]
  },
  {
   "cell_type": "markdown",
   "id": "bfbbe2fe",
   "metadata": {},
   "source": [
    "***Feature selection vs dimensionality reduction***\n",
    "\n",
    "Feature selection and dimensionality reduction are two techniques that can be used to reduce the complexity of a machine learning model and improve its performance.\n",
    "\n",
    "**Feature selection** is the process of selecting a subset of the most relevant features from a larger set of features for use in model construction. The goal of feature selection is to identify the features that are most relevant to the target variable and eliminate the rest. This can help improve the interpretability of the model, reduce overfitting, and improve the generalization of the model to unseen data.\n",
    "\n",
    "**Dimensionality reduction**, on the other hand, is the process of reducing the number of features in the dataset by combining or transforming them in some way. The goal of dimensionality reduction is to capture the most important information in the data using a smaller number of features. This can help improve the efficiency of the model and reduce the risk of overfitting, as well as make it easier to visualize and understand the data.\n",
    "\n",
    "In summary, feature selection involves selecting a subset of the original features, whereas dimensionality reduction involves transforming or combining the features to create a new set of features with reduced dimensionality."
   ]
  },
  {
   "cell_type": "markdown",
   "id": "6016e2b1",
   "metadata": {},
   "source": [
    "Q4. **Make quick notes on any two of the following ?**\n",
    "1. The histogram\n",
    "2. Use a scatter plot\n",
    "3. PCA (Personal Computer Aid)"
   ]
  },
  {
   "cell_type": "markdown",
   "id": "f7cd430a",
   "metadata": {},
   "source": [
    "**Answers**:\n",
    "\n",
    "**The histogram**: A Histogram is a graphical representation that organizes a group of data points into user-specified ranges. Similar in appearance to a bar graph, the histogram condenses a data series into an easily interpreted visual by taking many data points and grouping them into logical ranges or bins.\n",
    "\n",
    "**Use a scatter plot**: A scatter plot (aka scatter chart, scatter graph) uses dots to represent values for two different numeric variables. The position of each dot on the horizontal and vertical axis indicates values for an individual data point. Scatter plots are used to observe relationships between variables.\n",
    "\n",
    "**PCA (Personal Computer Aid)**: Principal Component Analysis or PCA is a widely used technique for dimensionality reduction of the large data set. Reducing the number of components or features costs some accuracy and on the other hand, it makes the large data set simpler, easy to explore and visualize."
   ]
  },
  {
   "cell_type": "markdown",
   "id": "7d8e58d6",
   "metadata": {},
   "source": [
    "Q5. **Why is it necessary to investigate data? Is there a discrepancy in how qualitative and quantitative data are explored ?**"
   ]
  },
  {
   "cell_type": "markdown",
   "id": "387db9bd",
   "metadata": {},
   "source": [
    "**Answer**:\n",
    "If your data set is messy, building models will not help you to solve your problem. What will happen is Garbage In, Garbage Out. In order to build a powerful machine learning algorithm. We need to explore and understand our data set before we define a predictive task and solve it."
   ]
  },
  {
   "cell_type": "markdown",
   "id": "23d449ff",
   "metadata": {},
   "source": [
    "Q6.  **What are the various histogram shapes? What exactly are ‘bins' ?**"
   ]
  },
  {
   "cell_type": "markdown",
   "id": "b475819d",
   "metadata": {},
   "source": [
    "A histogram is a graph that represents the distribution of a continuous or discrete variable by dividing the range of the variable into a set of bins and displaying the frequency or density of observations within each bin as a bar. The shape of a histogram can vary depending on the distribution of the data. \n",
    "\n",
    "Some common histogram shapes are:\n",
    "\n",
    "**Symmetrical**: A histogram is symmetrical if the shape is the same on both sides of the center. This indicates that the data is evenly distributed around the center.\n",
    "\n",
    "**Skewed left**: A histogram is skewed left if the shape is longer on the left side and shorter on the right side. This indicates that the data is concentrated on the right side and there are fewer values on the left side.\n",
    "\n",
    "**Skewed right**: A histogram is skewed right if the shape is longer on the right side and shorter on the left side. This indicates that the data is concentrated on the left side and there are fewer values on the right side.\n",
    "\n",
    "**Unimodal**: A histogram is unimodal if it has one peak or mode, which is the value that occurs most frequently in the data.\n",
    "\n",
    "**Bimodal**: A histogram is bimodal if it has two peaks or modes. This indicates that the data is composed of two distinct groups.\n",
    "\n",
    "**`Bins`** are the intervals or ranges into which the data is divided for the purpose of constructing the histogram. The width of the bins can be chosen based on the characteristics of the data, such as the range and the number of observations. Too few bins can result in a histogram that is too coarse, while too many bins can result in a histogram that is too detailed. The choice of bin width can have a significant impact on the shape of the histogram."
   ]
  },
  {
   "cell_type": "markdown",
   "id": "fbad8a92",
   "metadata": {},
   "source": [
    "Q7. **How do we deal with data outliers ?**"
   ]
  },
  {
   "cell_type": "markdown",
   "id": "e62ae2e0",
   "metadata": {},
   "source": [
    "Outliers are observations in a dataset that are significantly different from the majority of the data. They can have a significant impact on the results of statistical analyses and machine learning models, and it is often necessary to identify and deal with them in order to obtain accurate and meaningful results.\n",
    "\n",
    "There are several ways to deal with outliers in a dataset:\n",
    "\n",
    "**Ignore them**: In some cases, it may be appropriate to simply ignore the outliers and proceed with the analysis. This is usually the case if the outliers are a small portion of the data and do not significantly impact the results.\n",
    "\n",
    "**Trim them**: Trimming involves removing the outliers from the dataset. This can be done by setting a threshold and removing all observations above or below the threshold.\n",
    "\n",
    "**Winsorize them**: Winsorizing involves replacing the outliers with a value that is closer to the majority of the data. For example, if the data is skewed right, the right tail of the distribution can be trimmed and replaced with the value of the next highest observation.\n",
    "\n",
    "**Transform them**: Outliers can also be transformed using a mathematical function that reduces the impact of the extreme values. For example, the logarithm or square root of the data can be taken to reduce the impact of the outliers.\n",
    "\n",
    "**Use robust methods**: There are also statistical methods that are designed to be more robust to outliers, such as the median and interquartile range, which are less sensitive to extreme values than the mean and standard deviation.\n",
    "\n",
    "**Z-Score**: This can be done with just one line code as we have already calculated the Z-score.\n",
    "\n",
    "**IQR Score**: Calculate IQR score to filter out the outliers by keeping only valid values.\n",
    "\n",
    "It is important to carefully consider the nature of the outliers and the goals of the analysis before deciding how to deal with them. In some cases, it may be necessary to keep the outliers in the dataset, while in other cases it may be appropriate to remove or transform them."
   ]
  },
  {
   "cell_type": "markdown",
   "id": "6ca3a2b2",
   "metadata": {},
   "source": [
    "Q8. **What are the various central inclination measures? Why does mean vary too much from median in certain data sets ?**"
   ]
  },
  {
   "cell_type": "markdown",
   "id": "e0586970",
   "metadata": {},
   "source": [
    "**Answers**:\n",
    "\n",
    "Mean, Median and Mode are Central Inclination Measures. Mean varies more than Median due to presence of outliers, as mean is averaging all points while median in like finding a middle number."
   ]
  },
  {
   "cell_type": "markdown",
   "id": "e9733435",
   "metadata": {},
   "source": [
    "Q9. **Describe how a scatter plot can be used to investigate bivariate relationships. Is it possible to find outliers using a scatter plot ?**"
   ]
  },
  {
   "cell_type": "markdown",
   "id": "1693b18a",
   "metadata": {},
   "source": [
    "**Answer**:\n",
    "A `scatter plot` is a graphical representation of the relationship between two variables. It is used to visualize the relationship between two continuous variables by plotting their values on a graph. A scatter plot can be used to investigate bivariate relationships, which are relationships between two variables.\n",
    "\n",
    "To create a scatter plot, the values of one variable are plotted on the **x-axis** and the values of the other variable are plotted on the **y-axis**. The resulting plot shows the distribution of the data points in the form of individual dots or markers.\n",
    "\n",
    "By examining the pattern of the data points on the scatter plot, it is possible to investigate the relationship between the two variables. A strong positive relationship between the two variables is indicated by a cluster of data points that slope upwards from left to right. A strong negative relationship is indicated by a cluster of data points that slope downward from left to right. A weak or nonexistent relationship is indicated by a random or dispersed pattern of data points.\n",
    "\n",
    "`Scatter plots` can also be used to identify potential **`outliers`** in the data, which are observations that are significantly different from the majority of the data points. Outliers can be indicative of errors in the data or underlying trends that are not captured by the other data points.\n",
    "\n",
    "In summary, scatter plots are useful for visualizing the relationship between two continuous variables and identifying trends, patterns, and outliers in the data."
   ]
  },
  {
   "cell_type": "markdown",
   "id": "690bf664",
   "metadata": {},
   "source": [
    "Q10. **Describe how cross-tabs can be used to figure out how two variables are related ?**"
   ]
  },
  {
   "cell_type": "markdown",
   "id": "73ae3e75",
   "metadata": {},
   "source": [
    "**Ans**: **`Cross tabulation`** is a method to quantitatively analyze the relationship between multiple variables. Also known as contingency tables or cross tabs, cross tabulation groups variables to understand the correlation between different variables. It also shows how correlations change from one variable grouping to another."
   ]
  },
  {
   "cell_type": "code",
   "execution_count": null,
   "id": "9e60a1f1",
   "metadata": {},
   "outputs": [],
   "source": []
  }
 ],
 "metadata": {
  "kernelspec": {
   "display_name": "Python 3 (ipykernel)",
   "language": "python",
   "name": "python3"
  },
  "language_info": {
   "codemirror_mode": {
    "name": "ipython",
    "version": 3
   },
   "file_extension": ".py",
   "mimetype": "text/x-python",
   "name": "python",
   "nbconvert_exporter": "python",
   "pygments_lexer": "ipython3",
   "version": "3.9.7"
  }
 },
 "nbformat": 4,
 "nbformat_minor": 5
}
