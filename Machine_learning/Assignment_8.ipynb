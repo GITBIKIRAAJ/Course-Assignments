{
 "cells": [
  {
   "cell_type": "markdown",
   "id": "49e1bfe7",
   "metadata": {},
   "source": [
    "Q1. **What exactly is a feature? Give an example to illustrate your point ?**"
   ]
  },
  {
   "cell_type": "markdown",
   "id": "3ecf6d7c",
   "metadata": {},
   "source": [
    "**Ans**:\n",
    "In the context of machine learning, a feature is an input variable that is used to predict an output variable. Features are also known as `\"predictors,\"` `\"independent variables,\"` or `\"input variables\"`\n",
    "\n",
    "In a machine learning model, the goal is to learn a function that can accurately predict the output variable (also known as the \"target\" or \"dependent variable\") given a set of input variables (the features). The quality and relevance of the features is an important factor in the performance of the model, as the model will rely on the features to learn patterns and relationships in the data.\n",
    "\n",
    "**For example**, imagine that we are building a machine learning model to predict the price of a house given a set of features such as the size of the house, the number of bedrooms, the location, and the age of the house. In this case, the size of the house, the number of bedrooms, the location, and the age of the house would all be features of the model. The model would use these features to learn the relationship between the input variables and the target variable (the price of the house) and make predictions on new data."
   ]
  },
  {
   "cell_type": "markdown",
   "id": "dd10841a",
   "metadata": {},
   "source": [
    "Q2. **What are the various circumstances in which feature construction is required ?**"
   ]
  },
  {
   "cell_type": "markdown",
   "id": "f8c8d538",
   "metadata": {},
   "source": [
    "**Ans**: The features in your data will directly influence the predictive models you use and the results you can achieve. Our results are dependent on many inter-dependent properties. We need great features that describe the structures inherent in your data. Better features means flexibility. The process of generating new variables (features) based on already existing variables is known as feature construction.\n",
    "\n",
    "**Feature Construction** is a useful process as it can add more information and give more insights of the data we are dealing with. It is done by transforming the numerical features into categorical features which is done while performing Binning. Also, feature construction is done by decomposing variables so that these new variables can be used in various machine learning algorithms such as the creation of Dummy Variables by performing Encoding. Other ways of constructing include deriving features from the pre-existing features and coming up with more meaningful features."
   ]
  },
  {
   "cell_type": "markdown",
   "id": "1d6f6116",
   "metadata": {},
   "source": [
    "Q3. **Describe how nominal variables are encoded ?**"
   ]
  },
  {
   "cell_type": "markdown",
   "id": "a6e7f77d",
   "metadata": {},
   "source": [
    "**Ans**: Nominal data is made of discrete values with no numerical relationship between the different categories — mean and median are meaningless. Animal species is one example. For example, pig is not higher than bird and lower than fish. Ordinal or Label Encoding can be used to transform non-numerical labels into numerical labels (or nominal categorical variables). Numerical labels are always between 1 and the number of classes. The labels chosen for the categories have no relationship. So categories that have some ties or are close to each other lose such information after encoding. The first unique value in your column becomes 1, the second becomes 2, the third becomes 3, and so on."
   ]
  },
  {
   "cell_type": "markdown",
   "id": "7cead36f",
   "metadata": {},
   "source": [
    "Q4. **Describe how numeric features are converted to categorical features ?**"
   ]
  },
  {
   "cell_type": "markdown",
   "id": "1d677fe5",
   "metadata": {},
   "source": [
    "**Numeric features** are converted to categorical features by creating bins or ranges for the numeric values and then assigning a categorical label to each bin or range. This process is known as binning or discretization.\n",
    "\n",
    "For example, suppose we have a numeric feature representing the age of a person. We can create bins for different age ranges such as (0-20), (21-40), (41-60), and (61-80) and assign a categorical label to each bin. The resulting feature would be a categorical feature with four categories: \"0-20\", \"21-40\", \"41-60\", and \"61-80\".\n",
    "\n",
    "There are several methods that can be used to create the bins, including equal-width binning, equal-frequency binning, and decision tree-based binning. The choice of method will depend on the specific characteristics of the data and the goals of the analysis.\n",
    "\n",
    "It is important to carefully consider the choice of bins and labels when converting numeric features to categorical features, as the resulting categorical feature can have a significant impact on the results of any subsequent analysis"
   ]
  },
  {
   "cell_type": "markdown",
   "id": "7051c06e",
   "metadata": {},
   "source": [
    "Q5. **Describe the feature selection wrapper approach. State the advantages and disadvantages of this approach ?**"
   ]
  },
  {
   "cell_type": "markdown",
   "id": "6a156913",
   "metadata": {},
   "source": [
    "**Ans**: Wrapper methods measure the “usefulness” of features based on the classifier performance. In contrast, the filter methods pick up the intrinsic properties of the features (i.e., the “relevance” of the features) measured via univariate statistics instead of cross-validation performance.\n",
    "\n",
    "The wrapper classification algorithms with joint dimensionality reduction and classification can also be used but these methods have high computation cost, lower discriminative power. Moreover, these methods depend on the efficient selection of classifiers for obtaining high accuracy.\n",
    "\n",
    "**Most commonly used techniques under wrapper methods are:**\n",
    "\n",
    "1.**Forward selection**: In forward selection, we start with a null model and then start fitting the model with each individual feature one at a time and select the feature with the minimum p-value. Now fit a model with two features by trying combinations of the earlier selected feature with all other remaining features. Again select the feature with the minimum p-value. Now fit a model with three features by trying combinations of two previously selected features with other remaining features. Repeat this process until we have a set of selected features with a p-value of individual features less than the significance level.\n",
    "\n",
    "2.**Backward elimination**: In backward elimination, we start with the full model (including all the independent variables) and then remove the insignificant feature with the highest p-value(> significance level). This process repeats again and again until we have the final set of significant features\n",
    "\n",
    "3.**Bi-directional elimination(Stepwise Selection)**: It is similar to forward selection but the difference is while adding a new feature it also checks the significance of already added features and if it finds any of the already selected features insignificant then it simply removes that particular feature through backward elimination. Hence, It is a combination of forward selection and backward elimination."
   ]
  },
  {
   "cell_type": "markdown",
   "id": "63aac427",
   "metadata": {},
   "source": [
    "Q6. **When is a feature considered irrelevant? What can be said to quantify it ?**"
   ]
  },
  {
   "cell_type": "markdown",
   "id": "df16d374",
   "metadata": {},
   "source": [
    "**Answer**:\n",
    "\n",
    "A **feature is considered irrelevant** when it does not contribute to the prediction of the target variable. In other words, the presence or absence of the feature does not significantly affect the accuracy of the model.\n",
    "\n",
    "There are several ways to quantify the relevance of a feature. One approach is to use statistical tests to determine the statistical significance of the feature. For example, a t-test can be used to compare the means of the feature values between two groups, and a chi-squared test can be used to test for statistical independence between the feature and the target variable.\n",
    "\n",
    "Another approach is to use feature selection algorithms, which are machine learning algorithms that automatically select a subset of the most relevant features for use in a model. These algorithms can be used to identify the features that are most correlated with the target variable and eliminate the features that are not.\n",
    "\n",
    "Irrelevant features can never contribute to prediction accuracy, by definition. Also to quantify it we need to first check the list of features, There are three types of feature selection:\n",
    "\n",
    "- Wrapper methods (forward, backward, and stepwise selection)\n",
    "- Filter methods (ANOVA, Pearson correlation, variance thresholding)\n",
    "- Embedded methods (Lasso, Ridge, Decision Tree).\n",
    "\n",
    "Finally, feature importance measures can be used to quantify the relevance of a feature. These measures, which are often calculated as part of the training process for a machine learning model, assign a score to each feature based on its contribution to the accuracy of the model. Features with high importance scores are more likely to be relevant, while features with low importance scores are less likely to be relevant."
   ]
  },
  {
   "cell_type": "markdown",
   "id": "495469c5",
   "metadata": {},
   "source": [
    "Q7. **When is a function considered redundant? What criteria are used to identify features that could be redundant ?**\n",
    "\n",
    "**Ans**: If two features {X1, X2} are highly correlated, then the two features become redundant features since they have same information in terms of correlation measure. In other words, the correlation measure provides statistical association between any given a pair of features.\n",
    "\n",
    "_Minimum redundancy_ feature selection is an algorithm frequently used in a method to accurately identify characteristics of genes and phenotypes"
   ]
  },
  {
   "cell_type": "markdown",
   "id": "14130197",
   "metadata": {},
   "source": [
    "Q8. **What are the various distance measurements used to determine feature similarity ?**"
   ]
  },
  {
   "cell_type": "markdown",
   "id": "7327f580",
   "metadata": {},
   "source": [
    "**Ans**: Four of the most commonly used distance measures in machine learning are as follows:\n",
    "\n",
    "**Hamming Distance**: Hamming distance calculates the distance between two binary vectors, also referred to as binary strings or bitstrings for short.\n",
    "\n",
    "**Euclidean Distance**: Calculates the distance between two real-valued vectors.\n",
    "\n",
    "**Manhattan Distance**: Also called the Taxicab distance or the City Block distance, calculates the distance between two real-valued vectors.\n",
    "\n",
    "**Minkowski Distance**: Minkowski distance calculates the distance between two real-valued vectors. It is a generalization of the Euclidean and Manhattan distance measures and adds a parameter, called the “order” or “p“, that allows different distance measures to be calculated."
   ]
  },
  {
   "cell_type": "markdown",
   "id": "cafaed2f",
   "metadata": {},
   "source": [
    "Q9. **State difference between Euclidean and Manhattan distances ?**\n",
    "\n",
    "**Ans**: Euclidean distance and Manhattan distance are two types of distances that can be used to measure the distance between two points in a plane or in a multi-dimensional space.\n",
    "\n",
    "The **Euclidean distance** between two points, p and q, is the length of the shortest path between them, which is a straight line. It is calculated using the Pythagorean theorem, which states that the square of the distance between two points is equal to the sum of the squares of the differences in their coordinates. The Euclidean distance between two points can be calculated using the following formula:\n",
    "\n",
    "**`d(p,q) = √((q1 - p1)^2 + (q2 - p2)^2 + ... + (qn - pn)^2)`**\n",
    "\n",
    "where p and q are the coordinates of the two points, and n is the number of dimensions.\n",
    "\n",
    "On the other hand, the **Manhattan distance**, also known as the \"taxi cab\" distance, is the distance between two points measured along the axes at right angles. It is calculated by summing the absolute differences of their coordinates. The Manhattan distance between two points can be calculated using the following formula:\n",
    "\n",
    "**`d(p,q) = |q1 - p1| + |q2 - p2| + ... + |qn - pn|`**\n",
    "\n",
    "In general, the Euclidean distance is more commonly used because it is easier to calculate and it corresponds to the actual distance that one would travel if they were to go from one point to the other. The Manhattan distance, on the other hand, is useful in cases where the distance is measured along a grid, such as in a city where the streets are laid out in a grid pattern."
   ]
  },
  {
   "attachments": {
    "manhattan_distance.jpg": {
     "image/jpeg": "[encoded data removed]"
    }
   },
   "cell_type": "markdown",
   "id": "ed4d4e5d",
   "metadata": {},
   "source": [
    "![manhattan_distance.jpg](attachment:manhattan_distance.jpg)"
   ]
  },
  {
   "cell_type": "markdown",
   "id": "fba57f63",
   "metadata": {},
   "source": [
    "Q10. **Distinguish between feature transformation and feature selection ?**"
   ]
  },
  {
   "cell_type": "markdown",
   "id": "dd2c831f",
   "metadata": {},
   "source": [
    "**Answer**:\n",
    "**Feature transformation** and **feature selection** are two techniques that can be used to preprocess and improve the quality of data in machine learning models.\n",
    "\n",
    "`Feature transformation` is the process of applying mathematical transformations to the features (also known as independent variables or predictors) of a dataset in order to change their scale or distribution. The goal of feature transformation is to improve the performance of the model by making the data more amenable to modeling. Some common types of feature transformations include standardization, normalization, and log transformation.\n",
    "\n",
    "`Feature selection`, on the other hand, is the process of selecting a subset of relevant features from the dataset to use in the model. The goal of feature selection is to reduce the dimensionality of the dataset and remove irrelevant or redundant features that do not contribute to the prediction task. Feature selection can be done using various methods, such as filter methods, wrapper methods, and embedded methods.\n",
    "\n",
    "In summary, feature transformation is a technique that is used to transform the features of a dataset in order to improve the performance of the model, while feature selection is a technique that is used to select a subset of relevant features from the dataset in order to reduce the dimensionality and improve the performance of the model."
   ]
  },
  {
   "cell_type": "code",
   "execution_count": null,
   "id": "78d28fe5",
   "metadata": {},
   "outputs": [],
   "source": []
  }
 ],
 "metadata": {
  "kernelspec": {
   "display_name": "Python 3 (ipykernel)",
   "language": "python",
   "name": "python3"
  },
  "language_info": {
   "codemirror_mode": {
    "name": "ipython",
    "version": 3
   },
   "file_extension": ".py",
   "mimetype": "text/x-python",
   "name": "python",
   "nbconvert_exporter": "python",
   "pygments_lexer": "ipython3",
   "version": "3.9.7"
  }
 },
 "nbformat": 4,
 "nbformat_minor": 5
}
