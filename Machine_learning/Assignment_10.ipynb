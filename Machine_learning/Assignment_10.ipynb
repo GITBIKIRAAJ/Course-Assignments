{
 "cells": [
  {
   "cell_type": "markdown",
   "id": "cd6639ae",
   "metadata": {},
   "source": [
    "Q1. **Define the Bayesian interpretation of probability**"
   ]
  },
  {
   "cell_type": "markdown",
   "id": "6e4559a6",
   "metadata": {},
   "source": [
    "**Ans**: **Bayesian probability** is the study of subjective probabilities or belief in an outcome, compared to the frequentist approach where probabilities are based purely on the past occurrence of the event. A Bayesian Network captures the joint probabilities of the events represented by the model."
   ]
  },
  {
   "cell_type": "markdown",
   "id": "5e8eb8af",
   "metadata": {},
   "source": [
    "Q2. **Define probability of a union of two events with equation**"
   ]
  },
  {
   "cell_type": "markdown",
   "id": "d99fa9b3",
   "metadata": {},
   "source": [
    "**Ans**\n",
    "\n",
    "The probability of a union of two events, A and B, is the probability that at least one of the events will occur. It can be calculated using the following equation:\n",
    "\n",
    "***`P(A ∪ B) = P(A) + P(B) - P(A ∩ B)`***\n",
    "\n",
    "where P(A) and P(B) are the probabilities of events A and B, respectively, and P(A ∩ B) is the probability of the intersection of the two events (i.e., the probability that both events will occur)."
   ]
  },
  {
   "cell_type": "markdown",
   "id": "ff44a8c6",
   "metadata": {},
   "source": [
    "Q3. **What is joint probability? What is its formula?**"
   ]
  },
  {
   "cell_type": "markdown",
   "id": "fd710ebe",
   "metadata": {},
   "source": [
    "**Ans**: Probabilities are combined using multiplication, therefore the joint probability of independent events is calculated as the probability of event A multiplied by the probability of event B. This can be stated formally as follows:\n",
    "\n",
    "Joint Probability: `P(A and B) = P(A)*P(B)`"
   ]
  },
  {
   "cell_type": "markdown",
   "id": "30a563df",
   "metadata": {},
   "source": [
    "Q4. **What is chain rule of probability?**"
   ]
  },
  {
   "cell_type": "markdown",
   "id": "98965437",
   "metadata": {},
   "source": [
    "**Ans**: The chain rule, or general product rule, calculates any component of the joint distribution of a set of random variables using only conditional probabilities. This probability theory is used as a foundation for backpropagation and in creating Bayesian networks.\n",
    "\n",
    "The chain rule is useful in situations where the probability of an event depends on the occurrence of one or more previous events. It allows you to calculate the probability of the sequence of events occurring by multiplying the probabilities of the individual events, taking into account their dependencies on one another.\n",
    "\n",
    "For example, consider the following sequence of events:\n",
    "\n",
    "- A: It will rain today.\n",
    "- B: If it rains today, you will bring an umbrella.\n",
    "- C: If you bring an umbrella, you will get wet.\n",
    "\n",
    "The probability of all three events occurring can be calculated using the chain rule as follows:\n",
    "\n",
    "P(A ∩ B ∩ C) = P(A) * P(B|A) * P(C|A ∩ B)\n",
    "= P(A) * P(B|A) * P(C|B)\n",
    "= P(A) * P(B|A) * (1 - P(C|¬B))\n",
    "\n",
    "where P(A) is the probability of it raining today, P(B|A) is the probability of bringing an umbrella if it rains, and P(C|B) is the probability of getting wet if you bring an umbrella."
   ]
  },
  {
   "cell_type": "markdown",
   "id": "d252e3b4",
   "metadata": {},
   "source": [
    "Q5.**What is conditional probability means? What is the formula of it?**"
   ]
  },
  {
   "cell_type": "markdown",
   "id": "63f78411",
   "metadata": {},
   "source": [
    "**Answer**:\n",
    "Conditional probability is the probability of an event occurring given that another event has occurred. It is a measure of the probability of an event, A, given that another event, B, has already occurred.\n",
    "\n",
    "The formula for calculating conditional probability is:\n",
    "\n",
    "**`P(A|B) = P(A ∩ B) / P(B)`**\n",
    "\n",
    "where P(A|B) is the conditional probability of event A occurring given that event B has occurred, P(A ∩ B) is the probability of the intersection of events A and B (i.e., the probability that both events will occur), and P(B) is the probability of event B occurring.\n",
    "\n",
    "For example, consider the following events:\n",
    "\n",
    "- A: It will rain today.\n",
    "- B: You will bring an umbrella.\n",
    "\n",
    "The conditional probability of bringing an umbrella given that it will rain can be calculated as follows:\n",
    "\n",
    "P(B|A) = P(A ∩ B) / P(A)\n",
    "= P(A ∩ B) / (P(A) + P(¬A))\n",
    "\n",
    "where P(A) is the probability of it raining today, P(B) is the probability of bringing an umbrella, and P(¬A) is the probability of it not raining today.\n",
    "\n",
    "Conditional probability is useful in situations where the probability of an event depends on the occurrence of another event. It allows you to calculate the probability of an event occurring given that another event has occurred, taking into account the dependence between the two events."
   ]
  },
  {
   "cell_type": "markdown",
   "id": "09df57d3",
   "metadata": {},
   "source": [
    "Q6. **What are continuous random variables?**"
   ]
  },
  {
   "cell_type": "markdown",
   "id": "c8cb995b",
   "metadata": {},
   "source": [
    "**Answer**:\n",
    "A continuous random variable is a type of random variable that can take on any value within a given range. In contrast to discrete random variables, which can only take on a finite or countable number of values, continuous random variables can take on an infinite number of values within a given range.\n",
    "\n",
    "Examples of continuous random variables include:\n",
    "\n",
    "1. The height of a person, which can take on any value within the range of human heights.\n",
    "2. The temperature of a room, which can take on any value within the range of temperatures that are comfortable for humans.\n",
    "3. The time it takes to complete a task, which can take on any value within the range of possible completion times.\n",
    "\n",
    "Continuous random variables are usually represented by a continuous probability distribution, such as the normal distribution or the uniform distribution. The probability distribution of a continuous random variable describes the probability of the variable taking on different values within its range.\n",
    "\n",
    "- For example, the probability distribution of the height of a person might be described by a normal distribution, with the mean and standard deviation representing the average height and the variability in height, respectively. The probability of a particular height occurring would be given by the value of the probability distribution at that height.\n",
    "\n",
    "In summary, a continuous random variable is a type of random variable that can take on any value within a given range, and is usually represented by a continuous probability distribution."
   ]
  },
  {
   "cell_type": "markdown",
   "id": "b88dc7e2",
   "metadata": {},
   "source": [
    "Q7. **What are Bernoulli distributions? What is the formula of it?**"
   ]
  },
  {
   "cell_type": "markdown",
   "id": "7a033191",
   "metadata": {},
   "source": [
    "**Ans**:The **Bernoulli distribution** is a discrete probability distribution that describes the outcome of a binary event, such as the result of a coin flip or the occurrence of a success or failure. The Bernoulli distribution has only two possible outcomes, which are labeled \"success\" and \"failure,\" and the probability of each outcome is represented by a parameter p.\n",
    "\n",
    "The formula for the Bernoulli distribution is:\n",
    "\n",
    "**`P(x) = p^x * (1 - p)^(1 - x)`**\n",
    "\n",
    "where x is the outcome of the event (0 for failure and 1 for success), and p is the probability of success.\n",
    "\n",
    "For example, consider the following Bernoulli distribution:\n",
    "\n",
    "`P(x) = 0.6^x * (1 - 0.6)^(1 - x)`\n",
    "\n",
    "This Bernoulli distribution represents the probability of a success (x = 1) occurring, given that the probability of success is 0.6. The probability of a failure (x = 0) occurring can be calculated as 1 - P(x = 1) = 1 - 0.6 = 0.4.\n",
    "\n",
    "In summary, the Bernoulli distribution is a discrete probability distribution that describes the outcome of a binary event, with two possible outcomes (success and failure) and a probability parameter (p) that represents the probability of success."
   ]
  },
  {
   "cell_type": "markdown",
   "id": "daeabc58",
   "metadata": {},
   "source": [
    "Q8. **What is binomial distribution? What is the formula?**"
   ]
  },
  {
   "cell_type": "markdown",
   "id": "52f86e3f",
   "metadata": {},
   "source": [
    "**Answer**:\n",
    "\n",
    "The binomial distribution is a discrete probability distribution that describes the number of successes in a fixed number of independent Bernoulli trials, where each trial has only two possible outcomes (success or failure) and the probability of success is constant.\n",
    "\n",
    "The formula for the binomial distribution is:\n",
    "\n",
    "**`P(x) = (n! / (x! * (n - x)!) ) * p^x * (1 - p)^(n - x)`**\n",
    "\n",
    "where x is the number of successes, n is the total number of trials, p is the probability of success in each trial, and ! represents the factorial function (the product of all positive integers less than or equal to a given number).\n",
    "\n",
    "For example, consider the following binomial distribution:\n",
    "\n",
    "P(x) = (10! / (x! * (10 - x)!) ) * 0.6^x * (1 - 0.6)^(10 - x)\n",
    "\n",
    "This binomial distribution represents the probability of x successes occurring in 10 independent Bernoulli trials, where the probability of success in each trial is 0.6.\n",
    "\n",
    "In summary, the binomial distribution is a discrete probability distribution that describes the number of successes in a fixed number of independent Bernoulli trials, where each trial has only two possible outcomes (success or failure) and the probability of success is constant."
   ]
  },
  {
   "cell_type": "markdown",
   "id": "963450ab",
   "metadata": {},
   "source": [
    "Q9.**What is Poisson distribution? What is the formula?**"
   ]
  },
  {
   "cell_type": "markdown",
   "id": "668e4429",
   "metadata": {},
   "source": [
    "**Ans**:\n",
    "The Poisson distribution is a discrete probability distribution that describes the number of times an event will occur in a given time period, given the average rate at which the event occurs. The Poisson distribution is often used to model the number of times an event occurs in a given time period when the event is rare and the probability of multiple events occurring is small.\n",
    "\n",
    "The formula for the Poisson distribution is:`P(x) = (e^-λ * λ^x) / x!`"
   ]
  },
  {
   "cell_type": "markdown",
   "id": "b7f734a1",
   "metadata": {},
   "source": [
    "Q10. **Define covariance ?**"
   ]
  },
  {
   "cell_type": "markdown",
   "id": "45037b4f",
   "metadata": {},
   "source": [
    "**Answer**: **Covariance** is a measure of the relationship between two random variables. It quantifies the degree to which the two variables vary together, and can be either positive (indicating that the variables tend to increase or decrease together) or negative (indicating that one variable tends to increase as the other decreases).\n",
    "\n",
    "The formula for calculating the covariance between two random variables X and Y is:\n",
    "\n",
    "**`Cov(X,Y) = Σ( (x_i - mean(X)) * (y_i - mean(Y)) ) / (n - 1)`**\n",
    "\n",
    "where x_i and y_i are the values of the two variables for the i-th observation, mean(X) and mean(Y) are the means of the two variables, and n is the number of observations. The sum is taken over all the observations in the dataset.\n",
    "\n",
    "For example, consider the following dataset of two random variables X and Y:\n",
    "\n",
    "X= 1,2,3,4\n",
    "Y= 3,4,5,6\n",
    "The covariance between X and Y can be calculated as follows:\n",
    "\n",
    "Cov(X,Y) = ((1 - 2.5) * (3 - 4.5)) + ((2 - 2.5) * (4 - 4.5)) + ((3 - 2.5) * (5 - 4.5)) + ((4 - 2.5) * (6 - 4.5)) / (4 - 1)\n",
    "= -1.25 + (-0.5) + (0.5) + (1.5) / 3\n",
    "= 0.5 / 3\n",
    "= 0.17\n",
    "\n",
    "This indicates that there is a positive relationship between the two variables, as they tend to increase or decrease together.\n",
    "\n",
    "In summary, covariance is a measure of the relationship between two random variables that quantifies the degree to which they vary together."
   ]
  },
  {
   "cell_type": "markdown",
   "id": "f63591a1",
   "metadata": {},
   "source": [
    "Q11. **Define correlation ?**"
   ]
  },
  {
   "cell_type": "markdown",
   "id": "904c2978",
   "metadata": {},
   "source": [
    "**Answer**:\n",
    "Correlation is a measure of the strength and direction of the linear relationship between two variables. It quantifies the degree to which the two variables are related, and can range from -1 (indicating a strong negative relationship) to +1 (indicating a strong positive relationship).\n",
    "\n",
    "There are several different measures of correlation, including Pearson's correlation coefficient, Spearman's rank correlation coefficient, and Kendall's tau. The most commonly used measure is Pearson's correlation coefficient, which is defined as:\n",
    "\n",
    "**`r = Cov(X,Y) / (std(X) * std(Y))`**\n",
    "\n",
    "where Cov(X,Y) is the covariance between the two variables X and Y, std(X) and std(Y) are the standard deviations of the two variables, and r is the Pearson's correlation coefficient"
   ]
  },
  {
   "cell_type": "markdown",
   "id": "6192348a",
   "metadata": {},
   "source": [
    "Q12. **Define sampling with replacement. Give example.**\n",
    "\n",
    "**Ans**: If you sample with replacement, you would choose one person's name, put that person's name back in the hat, and then choose another name. The possibilities for your two-name sample are: John, John. John, Jack."
   ]
  },
  {
   "cell_type": "markdown",
   "id": "5d66dd6d",
   "metadata": {},
   "source": [
    "Q13. **What is sampling without replacement? Give example.**\n",
    "\n",
    "\n",
    "**Ans**: In sampling without replacement, each sample unit of the population has only one chance to be selected in the sample. For example, if one draws a simple random sample such that no unit occurs more than one time in the sample, the sample is drawn without replacement."
   ]
  },
  {
   "cell_type": "markdown",
   "id": "4ab9ad97",
   "metadata": {},
   "source": [
    "Q14. **What is hypothesis? Give example.**\n",
    "\n",
    "**Ans**: A hypothesis (plural hypotheses) is a proposed explanation for a phenomenon. For a hypothesis to be a scientific hypothesis, the scientific method requires that one can test it. ... Even though the words \"hypothesis\" and \"theory\" are often used synonymously, a scientific hypothesis is not the same as a scientific theory.\n",
    "\n",
    "**Examples** of hypothesis statements: If garlic repels fleas, then a dog that is given garlic every day will not get fleas. Bacterial growth may be affected by moisture levels in the air. If sugar causes cavities, then people who eat a lot of candy may be more prone to cavities."
   ]
  },
  {
   "cell_type": "code",
   "execution_count": null,
   "id": "16df5fb7",
   "metadata": {},
   "outputs": [],
   "source": []
  }
 ],
 "metadata": {
  "kernelspec": {
   "display_name": "Python 3 (ipykernel)",
   "language": "python",
   "name": "python3"
  },
  "language_info": {
   "codemirror_mode": {
    "name": "ipython",
    "version": 3
   },
   "file_extension": ".py",
   "mimetype": "text/x-python",
   "name": "python",
   "nbconvert_exporter": "python",
   "pygments_lexer": "ipython3",
   "version": "3.9.7"
  }
 },
 "nbformat": 4,
 "nbformat_minor": 5
}
