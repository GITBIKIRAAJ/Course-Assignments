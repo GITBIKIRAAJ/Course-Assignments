{
 "cells": [
  {
   "cell_type": "markdown",
   "id": "efb5c686",
   "metadata": {},
   "source": [
    "# Assignment: 3"
   ]
  },
  {
   "cell_type": "markdown",
   "id": "1780dbdc",
   "metadata": {},
   "source": [
    "Q.1- **Why are functions advantageous to have in your programs?**"
   ]
  },
  {
   "cell_type": "markdown",
   "id": "37302f78",
   "metadata": {},
   "source": [
    "Answer- There are various reason behind it\n",
    "- A function can be call any time any where on the same file once it written/define, so it reduces the extra codes for a   particular programs\n",
    "- Functions allow the divide and conquer strategy to be used for the development of programs\n",
    "- It reduces program development time, cost and storage\n",
    "- Reduces error,increase readability and make the development clean"
   ]
  },
  {
   "cell_type": "markdown",
   "id": "8b4615d9",
   "metadata": {},
   "source": [
    "Q.2-**When does the code in a function run: when it's specified or when it's called?**"
   ]
  },
  {
   "cell_type": "markdown",
   "id": "643f5209",
   "metadata": {},
   "source": [
    "Answer\n",
    "-The function is perform when it's called only"
   ]
  },
  {
   "cell_type": "markdown",
   "id": "0f96a312",
   "metadata": {},
   "source": [
    "Q.3- **What statement creates a function?**"
   ]
  },
  {
   "cell_type": "markdown",
   "id": "540c88d2",
   "metadata": {},
   "source": [
    "Answer:\n",
    "- with the help of the word **def** a function build up.\n",
    "- Here is one example"
   ]
  },
  {
   "cell_type": "code",
   "execution_count": 2,
   "id": "7c4c856b",
   "metadata": {},
   "outputs": [
    {
     "data": {
      "text/plain": [
       "'my name is Biki'"
      ]
     },
     "execution_count": 2,
     "metadata": {},
     "output_type": "execute_result"
    }
   ],
   "source": [
    "def name(str):\n",
    "    return (f'my name is {str}')\n",
    "name('Biki')"
   ]
  },
  {
   "cell_type": "markdown",
   "id": "2e61ac12",
   "metadata": {},
   "source": [
    "Q.4- **What is the difference between a function and a function call?**"
   ]
  },
  {
   "cell_type": "code",
   "execution_count": 3,
   "id": "dd8946c8",
   "metadata": {},
   "outputs": [
    {
     "data": {
      "text/plain": [
       "70"
      ]
     },
     "execution_count": 3,
     "metadata": {},
     "output_type": "execute_result"
    }
   ],
   "source": [
    "#Function is a block of code, which will execute when it will call. Here is one example\n",
    "def sum(a,b):\n",
    "    return a+b #This is function only\n",
    "#Now we will call the function 'sum' which require 2 input\n",
    "\n",
    "sum(23,47)\n",
    "#70 is the result of the function 'sum' when it calls"
   ]
  },
  {
   "cell_type": "markdown",
   "id": "b0df0d1d",
   "metadata": {},
   "source": [
    "Q.5- **How many global scopes are there in a Python program? How many local scopes?**"
   ]
  },
  {
   "cell_type": "markdown",
   "id": "3bfd2bfd",
   "metadata": {},
   "source": [
    "**Answer:-**\n",
    "There is 1 Global scope which is available outside of function and can be used anywhwre where as Local scope variables you create within a function are only available within the function. "
   ]
  },
  {
   "cell_type": "code",
   "execution_count": null,
   "id": "65decb76",
   "metadata": {},
   "outputs": [],
   "source": [
    "#Example-\n",
    "def myfunc():\n",
    "    x = 23\n",
    "    return x*2\n",
    "myfunc() # x is local variable\n",
    "\n",
    "x=198\n",
    "def myfuncs():\n",
    "    return x\n",
    "myfuncs() # x is Global variable"
   ]
  },
  {
   "cell_type": "markdown",
   "id": "d17d3904",
   "metadata": {},
   "source": [
    "Q.6-**What happens to variables in a local scope when the function call returns?**"
   ]
  },
  {
   "cell_type": "markdown",
   "id": "28a111b0",
   "metadata": {},
   "source": [
    "**Answer:-**\n",
    "When a function executed, the local scope is destroyed"
   ]
  },
  {
   "cell_type": "markdown",
   "id": "03cb7a99",
   "metadata": {},
   "source": [
    "Q.7- **What is the concept of a return value? Is it possible to have a return value in an expression?**"
   ]
  },
  {
   "cell_type": "markdown",
   "id": "3881a49b",
   "metadata": {},
   "source": [
    "- Return values are the object which is programised to give some value and that values returns when object performed in backend\n",
    "- Expressions are part of Return values but expressions not"
   ]
  },
  {
   "cell_type": "markdown",
   "id": "2bd476e4",
   "metadata": {},
   "source": [
    "Q.8- **If a function does not have a return statement, what is the return value of a call to that function?**\n",
    "\n",
    "**Answer:-** The function always returns None if there is no return statement and the type of function would be 'NoneType'"
   ]
  },
  {
   "cell_type": "markdown",
   "id": "a919b34c",
   "metadata": {},
   "source": [
    "Q.9- **How do you make a function variable refer to the global variable?**"
   ]
  },
  {
   "cell_type": "markdown",
   "id": "31f7bf93",
   "metadata": {},
   "source": [
    "Answer- A global statement will force a variable in a function to refer to the global variable. If you want to refer to a global variable in a function, you can use the global keyword to declare which variables are global."
   ]
  },
  {
   "cell_type": "markdown",
   "id": "793017d4",
   "metadata": {},
   "source": [
    "Q.10- **What is the data type of None?**\n",
    "\n",
    "Answer:- It is NoneType"
   ]
  },
  {
   "cell_type": "code",
   "execution_count": 4,
   "id": "0906639a",
   "metadata": {},
   "outputs": [
    {
     "name": "stdout",
     "output_type": "stream",
     "text": [
      "<class 'NoneType'>\n"
     ]
    }
   ],
   "source": [
    "x=None\n",
    "print(type(x))"
   ]
  },
  {
   "cell_type": "markdown",
   "id": "be82b0cc",
   "metadata": {},
   "source": [
    "Q.11- **What does the sentence import areallyourpetsnamederic do?**"
   ]
  },
  {
   "cell_type": "markdown",
   "id": "de36659e",
   "metadata": {},
   "source": [
    "Answer:- That import statement imports a module named areallyourpetsnamederic."
   ]
  },
  {
   "cell_type": "markdown",
   "id": "14fa4692",
   "metadata": {},
   "source": [
    "Q.12- **If you had a bacon() feature in a spam module, what would you call it after importing spam?**\n",
    "\n",
    "Answer:- This function would be called as spam.bacon()"
   ]
  },
  {
   "cell_type": "markdown",
   "id": "2263c925",
   "metadata": {},
   "source": [
    "Q.13- **What can you do to save a programme from crashing if it encounters an error?**"
   ]
  },
  {
   "cell_type": "markdown",
   "id": "b9383484",
   "metadata": {},
   "source": [
    "We can use *try and except , logging* concept to save the crash/error"
   ]
  },
  {
   "cell_type": "code",
   "execution_count": 5,
   "id": "78338eb5",
   "metadata": {},
   "outputs": [],
   "source": [
    "def math(a,b):\n",
    "    try:\n",
    "        div= a/b\n",
    "    except Exception as e:\n",
    "        print(f'Error occured {e}')\n",
    "    "
   ]
  },
  {
   "cell_type": "code",
   "execution_count": 6,
   "id": "e057744b",
   "metadata": {},
   "outputs": [
    {
     "name": "stdout",
     "output_type": "stream",
     "text": [
      "Error occured division by zero\n"
     ]
    }
   ],
   "source": [
    "math(2,0)"
   ]
  },
  {
   "cell_type": "markdown",
   "id": "f74032e6",
   "metadata": {},
   "source": [
    "Q.14- **What is the purpose of the try clause? What is the purpose of the except clause?**"
   ]
  },
  {
   "cell_type": "markdown",
   "id": "80cb3168",
   "metadata": {},
   "source": [
    "**Answer:-** The try block is used to check some code for errors i.e the code inside the try block will execute when there is no error in the program. Whereas the code inside the except block will execute whenever the program encounters some error in the preceding try block.\n",
    "\n",
    "In question no. 13 I have used an example, please refer that.( the except block handled the error as the try block could not solve the programme)"
   ]
  },
  {
   "cell_type": "code",
   "execution_count": null,
   "id": "b7b58487",
   "metadata": {},
   "outputs": [],
   "source": []
  }
 ],
 "metadata": {
  "kernelspec": {
   "display_name": "Python 3 (ipykernel)",
   "language": "python",
   "name": "python3"
  },
  "language_info": {
   "codemirror_mode": {
    "name": "ipython",
    "version": 3
   },
   "file_extension": ".py",
   "mimetype": "text/x-python",
   "name": "python",
   "nbconvert_exporter": "python",
   "pygments_lexer": "ipython3",
   "version": "3.9.7"
  }
 },
 "nbformat": 4,
 "nbformat_minor": 5
}
